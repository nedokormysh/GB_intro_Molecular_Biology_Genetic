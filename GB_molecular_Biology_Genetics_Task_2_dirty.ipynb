{
  "nbformat": 4,
  "nbformat_minor": 0,
  "metadata": {
    "colab": {
      "provenance": [],
      "authorship_tag": "ABX9TyPPAHEy0LsUkRJaQpdGEjko",
      "include_colab_link": true
    },
    "kernelspec": {
      "name": "python3",
      "display_name": "Python 3"
    },
    "language_info": {
      "name": "python"
    }
  },
  "cells": [
    {
      "cell_type": "markdown",
      "metadata": {
        "id": "view-in-github",
        "colab_type": "text"
      },
      "source": [
        "<a href=\"https://colab.research.google.com/github/nedokormysh/GB_intro_Molecular_Biology_Genetic/blob/lesson2/GB_molecular_Biology_Genetics_Task_2_dirty.ipynb\" target=\"_parent\"><img src=\"https://colab.research.google.com/assets/colab-badge.svg\" alt=\"Open In Colab\"/></a>"
      ]
    },
    {
      "cell_type": "markdown",
      "source": [
        "# Урок 2. От гена до белка\n",
        "В таблицу гена, полученную по итогам практического задания первого урока, добавьте следующую информацию: аминокислотную последовательность, количество транскриптов, количество аминокислот для самой длинной изоформы белка.\n",
        "\n",
        "Сделанное практическое задание предоставляется в формате .ipynb.\n",
        "\n",
        "https://colab.research.google.com/drive/1YF3b8bJ-3-Wjso2KOtvmj-QB2UhEZNJQ"
      ],
      "metadata": {
        "id": "52cIMdsBvnRL"
      }
    },
    {
      "cell_type": "code",
      "source": [
        "!pip install biopython -q"
      ],
      "metadata": {
        "id": "jk0_RjtBxGvi",
        "colab": {
          "base_uri": "https://localhost:8080/"
        },
        "outputId": "03797992-b047-4c09-b6b3-ab488c9a97d5"
      },
      "execution_count": null,
      "outputs": [
        {
          "output_type": "stream",
          "name": "stdout",
          "text": [
            "\u001b[?25l     \u001b[90m━━━━━━━━━━━━━━━━━━━━━━━━━━━━━━━━━━━━━━━━\u001b[0m \u001b[32m0.0/3.1 MB\u001b[0m \u001b[31m?\u001b[0m eta \u001b[36m-:--:--\u001b[0m\r\u001b[2K     \u001b[91m━━━\u001b[0m\u001b[91m╸\u001b[0m\u001b[90m━━━━━━━━━━━━━━━━━━━━━━━━━━━━━━━━━━━━\u001b[0m \u001b[32m0.3/3.1 MB\u001b[0m \u001b[31m8.3 MB/s\u001b[0m eta \u001b[36m0:00:01\u001b[0m\r\u001b[2K     \u001b[91m━━━━━━━━━━━━━━━━━━━━━━━━━━\u001b[0m\u001b[91m╸\u001b[0m\u001b[90m━━━━━━━━━━━━━\u001b[0m \u001b[32m2.0/3.1 MB\u001b[0m \u001b[31m29.5 MB/s\u001b[0m eta \u001b[36m0:00:01\u001b[0m\r\u001b[2K     \u001b[90m━━━━━━━━━━━━━━━━━━━━━━━━━━━━━━━━━━━━━━━━\u001b[0m \u001b[32m3.1/3.1 MB\u001b[0m \u001b[31m31.3 MB/s\u001b[0m eta \u001b[36m0:00:00\u001b[0m\n",
            "\u001b[?25h"
          ]
        }
      ]
    },
    {
      "cell_type": "code",
      "execution_count": null,
      "metadata": {
        "id": "cuZ0fjv5vO2j"
      },
      "outputs": [],
      "source": [
        "import pandas as pd\n",
        "from Bio import Entrez\n",
        "from Bio import SeqIO\n",
        "from Bio.Seq import MutableSeq\n",
        "from Bio.Seq import Seq\n",
        "from Bio.SeqRecord import SeqRecord"
      ]
    },
    {
      "cell_type": "code",
      "source": [
        "# dis = pd.read_table('https://github.com/nedokormysh/GB_intro_Molecular_Biology_Genetic/raw/lesson1/curated_gene_disease_associations_june_4_2020.tsv.gz')\n",
        "# # dis = dis[['geneId',\t'geneSymbol',\t'DSI',\t'DPI',\t'diseaseId',\t'diseaseName',\t'diseaseType',\t'diseaseClass']]\n",
        "# dis.head()"
      ],
      "metadata": {
        "id": "A5ZSB-2AtHs3"
      },
      "execution_count": null,
      "outputs": []
    },
    {
      "cell_type": "markdown",
      "source": [
        "Загрузим таблицу для всех генов, которую получили на прошлом занятии."
      ],
      "metadata": {
        "id": "PLcgBNHFvq-T"
      }
    },
    {
      "cell_type": "code",
      "source": [
        "df = pd.read_csv('https://raw.githubusercontent.com/nedokormysh/GB_intro_Molecular_Biology_Genetic/lesson1/gene_info.csv')\n",
        "df.head()"
      ],
      "metadata": {
        "colab": {
          "base_uri": "https://localhost:8080/",
          "height": 206
        },
        "id": "CzlVmtNQwa7K",
        "outputId": "73c4da18-b71d-47b7-c0ba-1d44f5d90571"
      },
      "execution_count": null,
      "outputs": [
        {
          "output_type": "execute_result",
          "data": {
            "text/plain": [
              "   geneId geneSymbol      start        end      gi_id strand  chrom_num  \\\n",
              "0     790        CAD   27217369   27243943  568815596   plus          2   \n",
              "1    1723      DHODH   72008744   72027659  568815582   plus         16   \n",
              "2    2056        EPO  100720468  100723700  568815591   plus          7   \n",
              "3    3040       HBA2     172876     173710  568815582   plus         16   \n",
              "4    3043        HBB    5225464    5227071  568815587  minus         11   \n",
              "\n",
              "    mapLoc ID chromosome  gene lenght  \\\n",
              "0   2p23.3  NC_000002.12        26574   \n",
              "1  16q22.2  NC_000016.10        18915   \n",
              "2   7q22.1  NC_000007.14         3232   \n",
              "3  16p13.3  NC_000016.10          834   \n",
              "4  11p15.4  NC_000011.10         1607   \n",
              "\n",
              "                                                gene  \n",
              "0  GTCTCTGCTGCTGCCGCCAAGCGCGCCCGAGGCTCCTACGCTGCCG...  \n",
              "1  GGCTTAATGACGGAAGGAGCATGGCGTGGAGACACCTGAAAGTGAG...  \n",
              "2  CTTTCCCAGATAGCACGCTCCGCCAGTCCCAAGGGTGCGCAACCGG...  \n",
              "3  CTCTTCTGGTCCCCACAGACTCAGAGAGAACCCACCATGGTGCTGT...  \n",
              "4  TGCAATGAAAATAAATGTTTTTTATTAGGCAGAATCCAGATGCTCA...  "
            ],
            "text/html": [
              "\n",
              "  <div id=\"df-8654ce4f-bb8f-4486-aa44-a81de5f795ee\">\n",
              "    <div class=\"colab-df-container\">\n",
              "      <div>\n",
              "<style scoped>\n",
              "    .dataframe tbody tr th:only-of-type {\n",
              "        vertical-align: middle;\n",
              "    }\n",
              "\n",
              "    .dataframe tbody tr th {\n",
              "        vertical-align: top;\n",
              "    }\n",
              "\n",
              "    .dataframe thead th {\n",
              "        text-align: right;\n",
              "    }\n",
              "</style>\n",
              "<table border=\"1\" class=\"dataframe\">\n",
              "  <thead>\n",
              "    <tr style=\"text-align: right;\">\n",
              "      <th></th>\n",
              "      <th>geneId</th>\n",
              "      <th>geneSymbol</th>\n",
              "      <th>start</th>\n",
              "      <th>end</th>\n",
              "      <th>gi_id</th>\n",
              "      <th>strand</th>\n",
              "      <th>chrom_num</th>\n",
              "      <th>mapLoc</th>\n",
              "      <th>ID chromosome</th>\n",
              "      <th>gene lenght</th>\n",
              "      <th>gene</th>\n",
              "    </tr>\n",
              "  </thead>\n",
              "  <tbody>\n",
              "    <tr>\n",
              "      <th>0</th>\n",
              "      <td>790</td>\n",
              "      <td>CAD</td>\n",
              "      <td>27217369</td>\n",
              "      <td>27243943</td>\n",
              "      <td>568815596</td>\n",
              "      <td>plus</td>\n",
              "      <td>2</td>\n",
              "      <td>2p23.3</td>\n",
              "      <td>NC_000002.12</td>\n",
              "      <td>26574</td>\n",
              "      <td>GTCTCTGCTGCTGCCGCCAAGCGCGCCCGAGGCTCCTACGCTGCCG...</td>\n",
              "    </tr>\n",
              "    <tr>\n",
              "      <th>1</th>\n",
              "      <td>1723</td>\n",
              "      <td>DHODH</td>\n",
              "      <td>72008744</td>\n",
              "      <td>72027659</td>\n",
              "      <td>568815582</td>\n",
              "      <td>plus</td>\n",
              "      <td>16</td>\n",
              "      <td>16q22.2</td>\n",
              "      <td>NC_000016.10</td>\n",
              "      <td>18915</td>\n",
              "      <td>GGCTTAATGACGGAAGGAGCATGGCGTGGAGACACCTGAAAGTGAG...</td>\n",
              "    </tr>\n",
              "    <tr>\n",
              "      <th>2</th>\n",
              "      <td>2056</td>\n",
              "      <td>EPO</td>\n",
              "      <td>100720468</td>\n",
              "      <td>100723700</td>\n",
              "      <td>568815591</td>\n",
              "      <td>plus</td>\n",
              "      <td>7</td>\n",
              "      <td>7q22.1</td>\n",
              "      <td>NC_000007.14</td>\n",
              "      <td>3232</td>\n",
              "      <td>CTTTCCCAGATAGCACGCTCCGCCAGTCCCAAGGGTGCGCAACCGG...</td>\n",
              "    </tr>\n",
              "    <tr>\n",
              "      <th>3</th>\n",
              "      <td>3040</td>\n",
              "      <td>HBA2</td>\n",
              "      <td>172876</td>\n",
              "      <td>173710</td>\n",
              "      <td>568815582</td>\n",
              "      <td>plus</td>\n",
              "      <td>16</td>\n",
              "      <td>16p13.3</td>\n",
              "      <td>NC_000016.10</td>\n",
              "      <td>834</td>\n",
              "      <td>CTCTTCTGGTCCCCACAGACTCAGAGAGAACCCACCATGGTGCTGT...</td>\n",
              "    </tr>\n",
              "    <tr>\n",
              "      <th>4</th>\n",
              "      <td>3043</td>\n",
              "      <td>HBB</td>\n",
              "      <td>5225464</td>\n",
              "      <td>5227071</td>\n",
              "      <td>568815587</td>\n",
              "      <td>minus</td>\n",
              "      <td>11</td>\n",
              "      <td>11p15.4</td>\n",
              "      <td>NC_000011.10</td>\n",
              "      <td>1607</td>\n",
              "      <td>TGCAATGAAAATAAATGTTTTTTATTAGGCAGAATCCAGATGCTCA...</td>\n",
              "    </tr>\n",
              "  </tbody>\n",
              "</table>\n",
              "</div>\n",
              "      <button class=\"colab-df-convert\" onclick=\"convertToInteractive('df-8654ce4f-bb8f-4486-aa44-a81de5f795ee')\"\n",
              "              title=\"Convert this dataframe to an interactive table.\"\n",
              "              style=\"display:none;\">\n",
              "        \n",
              "  <svg xmlns=\"http://www.w3.org/2000/svg\" height=\"24px\"viewBox=\"0 0 24 24\"\n",
              "       width=\"24px\">\n",
              "    <path d=\"M0 0h24v24H0V0z\" fill=\"none\"/>\n",
              "    <path d=\"M18.56 5.44l.94 2.06.94-2.06 2.06-.94-2.06-.94-.94-2.06-.94 2.06-2.06.94zm-11 1L8.5 8.5l.94-2.06 2.06-.94-2.06-.94L8.5 2.5l-.94 2.06-2.06.94zm10 10l.94 2.06.94-2.06 2.06-.94-2.06-.94-.94-2.06-.94 2.06-2.06.94z\"/><path d=\"M17.41 7.96l-1.37-1.37c-.4-.4-.92-.59-1.43-.59-.52 0-1.04.2-1.43.59L10.3 9.45l-7.72 7.72c-.78.78-.78 2.05 0 2.83L4 21.41c.39.39.9.59 1.41.59.51 0 1.02-.2 1.41-.59l7.78-7.78 2.81-2.81c.8-.78.8-2.07 0-2.86zM5.41 20L4 18.59l7.72-7.72 1.47 1.35L5.41 20z\"/>\n",
              "  </svg>\n",
              "      </button>\n",
              "      \n",
              "  <style>\n",
              "    .colab-df-container {\n",
              "      display:flex;\n",
              "      flex-wrap:wrap;\n",
              "      gap: 12px;\n",
              "    }\n",
              "\n",
              "    .colab-df-convert {\n",
              "      background-color: #E8F0FE;\n",
              "      border: none;\n",
              "      border-radius: 50%;\n",
              "      cursor: pointer;\n",
              "      display: none;\n",
              "      fill: #1967D2;\n",
              "      height: 32px;\n",
              "      padding: 0 0 0 0;\n",
              "      width: 32px;\n",
              "    }\n",
              "\n",
              "    .colab-df-convert:hover {\n",
              "      background-color: #E2EBFA;\n",
              "      box-shadow: 0px 1px 2px rgba(60, 64, 67, 0.3), 0px 1px 3px 1px rgba(60, 64, 67, 0.15);\n",
              "      fill: #174EA6;\n",
              "    }\n",
              "\n",
              "    [theme=dark] .colab-df-convert {\n",
              "      background-color: #3B4455;\n",
              "      fill: #D2E3FC;\n",
              "    }\n",
              "\n",
              "    [theme=dark] .colab-df-convert:hover {\n",
              "      background-color: #434B5C;\n",
              "      box-shadow: 0px 1px 3px 1px rgba(0, 0, 0, 0.15);\n",
              "      filter: drop-shadow(0px 1px 2px rgba(0, 0, 0, 0.3));\n",
              "      fill: #FFFFFF;\n",
              "    }\n",
              "  </style>\n",
              "\n",
              "      <script>\n",
              "        const buttonEl =\n",
              "          document.querySelector('#df-8654ce4f-bb8f-4486-aa44-a81de5f795ee button.colab-df-convert');\n",
              "        buttonEl.style.display =\n",
              "          google.colab.kernel.accessAllowed ? 'block' : 'none';\n",
              "\n",
              "        async function convertToInteractive(key) {\n",
              "          const element = document.querySelector('#df-8654ce4f-bb8f-4486-aa44-a81de5f795ee');\n",
              "          const dataTable =\n",
              "            await google.colab.kernel.invokeFunction('convertToInteractive',\n",
              "                                                     [key], {});\n",
              "          if (!dataTable) return;\n",
              "\n",
              "          const docLinkHtml = 'Like what you see? Visit the ' +\n",
              "            '<a target=\"_blank\" href=https://colab.research.google.com/notebooks/data_table.ipynb>data table notebook</a>'\n",
              "            + ' to learn more about interactive tables.';\n",
              "          element.innerHTML = '';\n",
              "          dataTable['output_type'] = 'display_data';\n",
              "          await google.colab.output.renderOutput(dataTable, element);\n",
              "          const docLink = document.createElement('div');\n",
              "          docLink.innerHTML = docLinkHtml;\n",
              "          element.appendChild(docLink);\n",
              "        }\n",
              "      </script>\n",
              "    </div>\n",
              "  </div>\n",
              "  "
            ]
          },
          "metadata": {},
          "execution_count": 5
        }
      ]
    },
    {
      "cell_type": "markdown",
      "source": [
        "Требуется работать только с одним геном. Оставим одну запись в таблице."
      ],
      "metadata": {
        "id": "zNuhFZvWqAYN"
      }
    },
    {
      "cell_type": "code",
      "source": [
        "df = df.iloc[[0]]\n",
        "# df = df.iloc[0]\n",
        "# df = df.reset_index(drop=True)\n",
        "df.T"
      ],
      "metadata": {
        "colab": {
          "base_uri": "https://localhost:8080/",
          "height": 394
        },
        "id": "c_zMBymEwmo5",
        "outputId": "a52e87c0-f52f-4ac8-dfa3-09c78e8ebd96"
      },
      "execution_count": null,
      "outputs": [
        {
          "output_type": "execute_result",
          "data": {
            "text/plain": [
              "                                                               0\n",
              "geneId                                                       790\n",
              "geneSymbol                                                   CAD\n",
              "start                                                   27217369\n",
              "end                                                     27243943\n",
              "gi_id                                                  568815596\n",
              "strand                                                      plus\n",
              "chrom_num                                                      2\n",
              "mapLoc                                                    2p23.3\n",
              "ID chromosome                                       NC_000002.12\n",
              "gene lenght                                                26574\n",
              "gene           GTCTCTGCTGCTGCCGCCAAGCGCGCCCGAGGCTCCTACGCTGCCG..."
            ],
            "text/html": [
              "\n",
              "  <div id=\"df-25a71ccc-c1e2-46d1-a1b8-081c69e236ac\">\n",
              "    <div class=\"colab-df-container\">\n",
              "      <div>\n",
              "<style scoped>\n",
              "    .dataframe tbody tr th:only-of-type {\n",
              "        vertical-align: middle;\n",
              "    }\n",
              "\n",
              "    .dataframe tbody tr th {\n",
              "        vertical-align: top;\n",
              "    }\n",
              "\n",
              "    .dataframe thead th {\n",
              "        text-align: right;\n",
              "    }\n",
              "</style>\n",
              "<table border=\"1\" class=\"dataframe\">\n",
              "  <thead>\n",
              "    <tr style=\"text-align: right;\">\n",
              "      <th></th>\n",
              "      <th>0</th>\n",
              "    </tr>\n",
              "  </thead>\n",
              "  <tbody>\n",
              "    <tr>\n",
              "      <th>geneId</th>\n",
              "      <td>790</td>\n",
              "    </tr>\n",
              "    <tr>\n",
              "      <th>geneSymbol</th>\n",
              "      <td>CAD</td>\n",
              "    </tr>\n",
              "    <tr>\n",
              "      <th>start</th>\n",
              "      <td>27217369</td>\n",
              "    </tr>\n",
              "    <tr>\n",
              "      <th>end</th>\n",
              "      <td>27243943</td>\n",
              "    </tr>\n",
              "    <tr>\n",
              "      <th>gi_id</th>\n",
              "      <td>568815596</td>\n",
              "    </tr>\n",
              "    <tr>\n",
              "      <th>strand</th>\n",
              "      <td>plus</td>\n",
              "    </tr>\n",
              "    <tr>\n",
              "      <th>chrom_num</th>\n",
              "      <td>2</td>\n",
              "    </tr>\n",
              "    <tr>\n",
              "      <th>mapLoc</th>\n",
              "      <td>2p23.3</td>\n",
              "    </tr>\n",
              "    <tr>\n",
              "      <th>ID chromosome</th>\n",
              "      <td>NC_000002.12</td>\n",
              "    </tr>\n",
              "    <tr>\n",
              "      <th>gene lenght</th>\n",
              "      <td>26574</td>\n",
              "    </tr>\n",
              "    <tr>\n",
              "      <th>gene</th>\n",
              "      <td>GTCTCTGCTGCTGCCGCCAAGCGCGCCCGAGGCTCCTACGCTGCCG...</td>\n",
              "    </tr>\n",
              "  </tbody>\n",
              "</table>\n",
              "</div>\n",
              "      <button class=\"colab-df-convert\" onclick=\"convertToInteractive('df-25a71ccc-c1e2-46d1-a1b8-081c69e236ac')\"\n",
              "              title=\"Convert this dataframe to an interactive table.\"\n",
              "              style=\"display:none;\">\n",
              "        \n",
              "  <svg xmlns=\"http://www.w3.org/2000/svg\" height=\"24px\"viewBox=\"0 0 24 24\"\n",
              "       width=\"24px\">\n",
              "    <path d=\"M0 0h24v24H0V0z\" fill=\"none\"/>\n",
              "    <path d=\"M18.56 5.44l.94 2.06.94-2.06 2.06-.94-2.06-.94-.94-2.06-.94 2.06-2.06.94zm-11 1L8.5 8.5l.94-2.06 2.06-.94-2.06-.94L8.5 2.5l-.94 2.06-2.06.94zm10 10l.94 2.06.94-2.06 2.06-.94-2.06-.94-.94-2.06-.94 2.06-2.06.94z\"/><path d=\"M17.41 7.96l-1.37-1.37c-.4-.4-.92-.59-1.43-.59-.52 0-1.04.2-1.43.59L10.3 9.45l-7.72 7.72c-.78.78-.78 2.05 0 2.83L4 21.41c.39.39.9.59 1.41.59.51 0 1.02-.2 1.41-.59l7.78-7.78 2.81-2.81c.8-.78.8-2.07 0-2.86zM5.41 20L4 18.59l7.72-7.72 1.47 1.35L5.41 20z\"/>\n",
              "  </svg>\n",
              "      </button>\n",
              "      \n",
              "  <style>\n",
              "    .colab-df-container {\n",
              "      display:flex;\n",
              "      flex-wrap:wrap;\n",
              "      gap: 12px;\n",
              "    }\n",
              "\n",
              "    .colab-df-convert {\n",
              "      background-color: #E8F0FE;\n",
              "      border: none;\n",
              "      border-radius: 50%;\n",
              "      cursor: pointer;\n",
              "      display: none;\n",
              "      fill: #1967D2;\n",
              "      height: 32px;\n",
              "      padding: 0 0 0 0;\n",
              "      width: 32px;\n",
              "    }\n",
              "\n",
              "    .colab-df-convert:hover {\n",
              "      background-color: #E2EBFA;\n",
              "      box-shadow: 0px 1px 2px rgba(60, 64, 67, 0.3), 0px 1px 3px 1px rgba(60, 64, 67, 0.15);\n",
              "      fill: #174EA6;\n",
              "    }\n",
              "\n",
              "    [theme=dark] .colab-df-convert {\n",
              "      background-color: #3B4455;\n",
              "      fill: #D2E3FC;\n",
              "    }\n",
              "\n",
              "    [theme=dark] .colab-df-convert:hover {\n",
              "      background-color: #434B5C;\n",
              "      box-shadow: 0px 1px 3px 1px rgba(0, 0, 0, 0.15);\n",
              "      filter: drop-shadow(0px 1px 2px rgba(0, 0, 0, 0.3));\n",
              "      fill: #FFFFFF;\n",
              "    }\n",
              "  </style>\n",
              "\n",
              "      <script>\n",
              "        const buttonEl =\n",
              "          document.querySelector('#df-25a71ccc-c1e2-46d1-a1b8-081c69e236ac button.colab-df-convert');\n",
              "        buttonEl.style.display =\n",
              "          google.colab.kernel.accessAllowed ? 'block' : 'none';\n",
              "\n",
              "        async function convertToInteractive(key) {\n",
              "          const element = document.querySelector('#df-25a71ccc-c1e2-46d1-a1b8-081c69e236ac');\n",
              "          const dataTable =\n",
              "            await google.colab.kernel.invokeFunction('convertToInteractive',\n",
              "                                                     [key], {});\n",
              "          if (!dataTable) return;\n",
              "\n",
              "          const docLinkHtml = 'Like what you see? Visit the ' +\n",
              "            '<a target=\"_blank\" href=https://colab.research.google.com/notebooks/data_table.ipynb>data table notebook</a>'\n",
              "            + ' to learn more about interactive tables.';\n",
              "          element.innerHTML = '';\n",
              "          dataTable['output_type'] = 'display_data';\n",
              "          await google.colab.output.renderOutput(dataTable, element);\n",
              "          const docLink = document.createElement('div');\n",
              "          docLink.innerHTML = docLinkHtml;\n",
              "          element.appendChild(docLink);\n",
              "        }\n",
              "      </script>\n",
              "    </div>\n",
              "  </div>\n",
              "  "
            ]
          },
          "metadata": {},
          "execution_count": 62
        }
      ]
    },
    {
      "cell_type": "code",
      "source": [
        "df['gene'][0]"
      ],
      "metadata": {
        "colab": {
          "base_uri": "https://localhost:8080/",
          "height": 105
        },
        "id": "gJExi1ifvbul",
        "outputId": "c7089160-1cd3-48a6-e04f-e15ecdfea819"
      },
      "execution_count": null,
      "outputs": [
        {
          "output_type": "execute_result",
          "data": {
            "text/plain": [
              "'GTCTCTGCTGCTGCCGCCAAGCGCGCCCGAGGCTCCTACGCTGCCGCGCCCGGCTTCTCTCCAGCGCCCCGCGCCGTTAGCCACGTGGACCGACTCCGGCGCGCCGTCCTCACGTGGTTCCAGTGGAGTTTGCAGTCCTTCCCGCTTCTCCGTACTCGCCCCCGCCTCTGAGCTCCCTTCCCATGGCGGCCCTAGTGTTGGAGGACGGGTCGGTCCTGCGGGGCCAGCCCTTTGGGGCCGCCGTGTCGACTGCCGGGGAAGTGGGTAAGCAAGCCCGGTTAGGCTGCAGACCTTATCCCACTCTGTGATGCGCCTCTCCTCCCAACCTTCCCCGTCCAGACCCCGCCATTTTCCCGCCAGCGTACCCCCTTCCCCCATTCGGTGCCCATGGGCCCCAGCGCCATAAACCCCTCGCGACCAAGGCAGCCTCCACTGGGGCGTGCTCATCGCGCGGGGAGTGTTCCGAAGGGTGCCCTACCGGAGCCCAGCCCTGCTTCTTTCTTGCAGTGTTTCAAACCGGCATGGTCGGCTACCCCGAGGCCCTCACTGATCCCTCCTACAAGGCACAGATCTTAGTGCTCACCTATCCTCTGATCGGCAACTATGGCATCCCCCCAGATGAAATGGATGAGTTCGGTCTCTGCAAGGTAGCCACACCCAGTGCTTTCTCTACATTCCTTTTCAAGTCAGTAATTGTTAACTATTAGTGAAGTAGGAGACGTTGACACCCTGCTGGGCATCCTGCAGAAAACATACCCACTGAAGTAGTAAAGTCAAGGACTAAGATCACTAGTAACTGTAGTTAGGGGTTGTTAAGTGCCTTGGGAGGCACAGAGTGTTGGAGGCCTCAGGAAAAAGCTACCGCCTTTGTTAAGGGCATCAAGGCTCCAGGTATAGCTGAAAGCATTCTGTATGTAGTGAAGGCATGGATCAAGGAAAAGTAAAAGAGGTGTAAGGGAACAGCCTTGTCCAACTTGTTAGGCATGCAGAAGTCAGGAGAAAAAAGCCTGCAGATAAGTTAAATCCGGTGGGCATGGAGGGACCTGAAGCCAAAGCAGAGTCAGCTTAGTTTGGTAAAGGATCCATTGAAGGTTTTTTTTTAGCAGCAGAGTCAGATGGGAGCAGTGCTTTTTAGGACTACATAAATTAGTGGAAAGAGACTGGAAACTAGGGTCACATACTTCTCTGTGACAGTGAGTGCCAGTTTACCTACAAAACCAGTGACATTATCTTCTAGACCTACTGACATGGCCTCGTCTGATTCTCTGCTTTTCAGTTGTGTTCTTACCTCTAGGTGAGAAAACTGAGTTTCTTCCTACAGTGAGGTTTCCCCTATTCCTTCACCTCTGAAATTTGGAAACTAAGTTGCCCTCTGACAGTTCAAGCATTAAAAAAAACCCAACATATAGTAATTAAGGTAATAGAGGAAGTCAATCTGGCCTAGAGTAGTATCTCTCAAAATTTGTTTGGCCTCACTGCAGGTGTAAGCCTTTAATTCTTAATTTGCCTTCCCAGCCACCCTGACGCTGGGGAGAGTGAGCTCCGGATAAAGGACGTACATGTTGTTCTTCCTGGAAAAGAATTTCTAGGTTCATCACAAACCTACAAATACACTGCATTCTAGTTGATAGTGAATTCTTGTGAATTTGGTTAACCTTTGTCAGTCATCACCTTTGTCAACTCTAGACACACTGACTAAATTGAGTTTATAAAACTACAAAATTGAGGCCTGATTAGGATCAGGGTGGGAAAGGCCTCTTGGAGCCACTCGCACATATAAATGGATTACTCCACCTGGCCAGGGAGGGTTCTGCCAAACTATCCTTCAGATCCCTGGACAGTCTCAGAATGCAGGTTCCTTAAACTGTTCATCACCCAGCTGAATGCAGTTTAAATATGCTGATCCCTCCCACATAAACTTTCTGTTTCTATGTAGCTATTAAACGCTTATCTATTGAGTAACAAGTTTATGGTTTTTGTTTTTTTTTTGGGGACAAGGTCTCACTTTGTCACCCAGGCTGGAGTGCAGTGGCATAATCATGGCTCACTTGCAGCCTCTGCCACCTGAGCTCAAGTAGTCCTCCCACCTCAACCCCCCAAGTAGCTGGGACTACAGGCACCTGCCGCCATGCCTGGCTACTTTTTTTGTATTTTTTGTAGAGACCGGGTATTGTCACATTGCCCAGGCTTGTATGTTATCTTTTTTTATTTAATTTTTTTTTATTTTTATTTTGCTTTGAGGTAGAGTTTCTTTCTTGTTGCTCAGGTTGGAGTGCAATGGGCAACCTTGGCTCACTGCAACCTCCGCCTCCCGGGTTCAAGCTATTCTCCCACCTCAGCCTCCCGAGTAGCTGGGATTACAGGCATGGGCTACCATTCCCAGCTAATTTTGTATTTTTAGTAGAGACAGGGTTTCTCCATGTTGGTCAGGCTGGTTTTGAACTCCCGATCACAGGTGATCTGCCCACCTCGGCCTCCCAAAGCGCTGGGATTACAGGCGTGAGCCACCGCGCCTGGCCTTTTCTTTTTTAAATAATCCCAAATGAAGTTTGGGAGGCATGCTTAGTATTGTGCCCTGAACCTTTGTTTTTTATTTGGTAATGGGGTATTTTGTACCTCCCTATCTTACTCAGTTTTTAATCACACTCTATAATTAATATTTATATGGGTGTTACCTTGTTTTCTAGCTCCCTAAGTCAGAAATAAACATCATGAAGACAGGAACCTCATCTTTTTTTGCTCATTGCTCTTTTCTCAGCATCTTTTGCAATGCCTGCACCTCAATAAATGTCTGACTGACACCATGTGCCTTGCTCTTGAGTTCTCTGTTTCGTGACAAAGACACAAATACATATTCATCATATGACGTAAATAGCAAGAGAGGAAATAAAGTATTAAAACAGCTCTAAGATGGAGGCACAAGCTGTATTGGGTGAGTGGGAGGGGCTTCACAGAGAAAGGATTTGTGATTTCAGTTTTAGATAAAGGAAGAAAGAGGCGGGGCGCGGTAGCTCATGACTTGTAATCCCAGCACTTTGGAAGGCTGAGGTGGGGGGATCGCTTGAGCCCAGGAAGTTTGAGAGCAGCCTGGCAACATGGTGAGACGCTGTCACTACAAAAAATTCAAAAAATTAGCCAGGTGTGATGATCCACACCTGTGGTCCCAACTACTCAGGAGTCTGAGGTGGGAGAATCACTTGAGCCCAGGAGATTGAGGCTGTAGTGAACCGTGTATTTGTGCCACTGTACTCTGCACTCCAGCCTGGATAACAGCAAGACCCTGTCTCAAAAAAAAAAAAAAGGAATGGCTAGGTGCGATGGCTCACTCCTGTAATCCCAGCACTTTGGGAGGCTGAGGTGGGCAGATCACAAGGTCAGGAGATCTGAGACCATCCTGGCTAACATGGTGAAACCCCGTCTCTACTAAAAATACAAAAAATTAGCCGGGTGTGGTGGCGGGCGCCTGTAGTCCCAGCTACTCGGGAGGCTAAAGCAAGAGAATTGCTTGAATCCGGGAGGCAGAGGTTGCAGTGAGCTTAGATGTCGCCACTGCATTGCAGCCTGGGTGACAGAGTGAGACTCTGTCTCAAAAAAAATAAATAATAAATAAATAAAAAGGAAAATGTCATTTTCAGTGATCATCGGGGCACCCTGGGCCTGTGGGTTGTGTTTCGTATAGGAGAGAGCGTTGTTGGTAAATGGAAATACCTATGCAAAAGCACCAAAAGTTTGGTATATTGAAGGCCATTCAATGTGGCTGAATATAGGGTCTGTGGCCACACAATCGGGAAAATGCTGCAAAGAAATAACTTGGCCTGAGGCTTCTCACAATCTCTTTCCATCTACAGTGGTTTGAATCCTCGGGCATCCACGTAGCAGCACTGGTAGTGGGAGAGTGCTGTCCTACTCCCAGCCACTGGAGTGCCACCCGCACCCTGCATGAGTGGCTGCAGCAGCATGGCATCCCTGGCTTGCAAGGTATGGTGGCAAGCAGGGGCATATTTGGGCAGAGCACAGCATGCCTGGATGGAAAGAATCAAGGTTTCTGTAATCTGCTGGGACCTGACTCTAAGATTGTGATAGTTGGAAGGTTTAGATTGGAGTTGGGCTGGGAGAAAGAATTGAACTATCACTCAGAAAGAAAATTTCCAACACAGGAAGGAACTCCCACCTTCCATAATCATCAGCTTAGGGCTAATCTTATTTCATCACCACCACTGGATTATTTTGATGCAAATCTCAGACATCATATCATTTCATCTACAAATAGTTCAATATCTATGCAAAAGGAATCTTTAAAAAACATGATCATAATAACGTCATACACTAAAAAAATTAATAATTCCCTAATACAAGTGTCCAGGCAATGTTTAAAATTTCCCAATTTTTTTTTTTTTTTTTTTTTTTTTTTCTGTTCATTTGAATCTTGCTCTAAACAGGGTTCACACATTGCATTTGGTTGATAAGTCTCTTAATCTGTGGACCTTGTAACCTATTTGAAAACAGGTCATTTTTCCTGTATCTAGTATCCCATAGTCTGCACTTACTTGGTTACACTCCTGTAGTGTTACTTAGCGTATTCTTTTTTTCCCTTTATATTATTTTCTATAAATGGATAGATTTAGAGTTGTTCAATTCAGATGTGATATTTTTGGCAGGAATACTTCATGGTAGTATACTTCTGTCACAATGGCCCAGGATTTTGATGCACATAGAACAGCTGTGTGTGACTGGGGCTCTGGAATGGAAGTGCTTCTGGAAGTCTAACCTCACAGATGACTGAGTTGTAGGAATGTGATCCCTAAGACTGTGCTATTTTGACAGGAGTAGACACTCGGGAGCTGACCAAGAAGTTGCGGGAACAGGGGTCTCTGCTGGGGAAGCTGGTCCAGAATGGAACAGAACCTTCATCCCTGCCATTCTTGGACCCCAATGCCCGCCCCCTGGTACCAGAGGTCTCCATTAAGGTACAGAGGTAGAGTGGGAGAGTGTTGCAAGCTCTAGCACAGTAGTTATATTCTGCCCACAATTGGGGGGTGAACACAGGAGAGAATCAAAGGAGGCTTTGAAGGTAGGAGTTGGTGCAGGCATATCTTATACCCACTGAGCACAGCTGCCAACTGTTGCCCTTTATTCGTCTATTTCTCAGACTCCACGGGTATTCAATACAGGGGGTGCCCCTCGGATCCTTGCTTTGGACTGTGGCCTCAAGTATAATCAGATCCGATGCCTCTGCCAGCGTGGGGCTGAGGTCACTGTGGTACCCTGGGACCATGCACTAGACAGCCAAGGTGAGTAGCTGGGGCCTGTTCAGGGCCTCAGACAAGCAGCTTGGGTGGAAGATCTATCCCTTGGTCCAATTGCTAAAAGTCAGTAGGAGTTGCAGTGAAGAAGATAGACATTGGGACTTAACACTCTCATGGGCTGGGGGGGCTGCAGGTGTGTCTCCTGTAATTGAAATACTGATTTTGATGTCATCTTTTCTGCCCACTCCAGAGTATGAGGGTCTCTTCTTAAGTAATGGGCCTGGTGACCCTGCCTCCTATCCCAGTGTCGTATCCACACTGAGCCGTGTTTTATCTGAGCCTAATCCCCGACCTGTCTTTGGGATCTGCCTGGGACACCAGCTATTGGCCTTAGCCATTGGGGCCAAGACTTACAAGATGAGGTGGGACTTGTGGGGAGCAGAAGGGGCCCATACTTGTGGCATGAGGGGTGGGGTGTCTCAGGAATGAGAAGAGAGTTGGTGTTTATTCGTGTTGAAATAGGAGCGGGGGGGTTGCAGGTGAGGTGGCTCCCACCTGTAATCCCAGCACTTTGGGAGGCCAAGGTGGGCGGATCACTGGAGGTCAGGAGTTCGAGACCAGCCTGGCCAACATGGTGAAACTCTGTCTCTACTAAAAATACAAAAGTTGGCCAGCCATGGTGGCGTGCGCCTGTAATCCCAGCTACTCCAGAGGCTGAGGCAGGAGAATCGCTTGAACCTGGGAGGTGGAGGTTGCAGTGAGCGGAGATCGTGCCATTGCCCTCCAGCCCGGGAAACAGAGGGAGACTCCGTCTCAAAAAAAAAAAAAAAACAAAAAGGAAACAGGAGTGAGGCTACTGAGAACAGGAGATCGGTGAGAGCTGGGGTAGGTTCAGTAGTGAAGAGAGGGTGAGCAGGGCCTGTGACTCGGCATGCTTCTACCTCCAGATATGGGAACCGAGGCCATAACCAGCCCTGCTTGTTGGTGGGCTCTGGGCGCTGCTTTCTGACATCCCAGAACCATGGGTTTGCTGTGGAGACAGACTCACTGCCAGCAGACTGGGCTCCTCTCTTCACCAACGCCAATGATGGTTCCAATGAAGGCATTGTGCACAACAGCTTGCCTTTCTTCAGGTGAGCCTGGTTGACTGGGTCTGTGAAAATTTGAAGCCCTGTGGGCCTTGATGATGGAAAAGTAAAGCACGGCAGTGGATCCGAGTCCCCTGTCCCACTACCCACCTCGAGGCTGCCAGTGTCATGCCAGGGACCATGATGGTTTTCATGATGCAATCTCTTCAATAGTGTCCAGTTTCACCCAGAGCACCAAGCTGGCCCTTCAGATATGGAACTGCTTTTCGATATCTTTCTGGAAACTGTGAAAGAGGCCACAGCTGGGAACCCTGGGGGCCAGACAGGTAAGATCCTGAGTAGAACTGGGTTGTGGACCTAAGAACAGGGTTGGCTCCAGGATGGGCATAAGGTGGACATGCCCTGGGCAACTCCTAGATGTCTAGGAGGTTAAGGGTATTGGGGATGGGTGGCAACCAACCCAAGATACCGTTTAAGCTTCTGTTGAAAGGAACTCCAGGGTCCTGGGTTCTGGTCCTCCCTCTGCTCCTCCTGAGGTGCATAATTTGCTCTGGACTCTTCTGAAAGCGAGGGAGCTAATCCAGTTGACCTCTTGGGTCCAGCTCAGCTCTAACATTCTACGACCTTCTTTGCTTCCACAGTTAGAGAGCGGCTGACTGAGCGCCTCTGTCCCCCTGGGATTCCCACTCCCGGCTCTGGACTTCCACCACCACGAAAGGTTCTGATCCTGGGCTCAGGGGGCCTCTCCATTGGCCAAGCTGGAGAATTTGACTACTCGGGCTCTCAGGTGAGGCATGTTCCTCCCCACCCTTCTGGGCGTGTGACCCTCAAGAATGGAAAGGGTCTTAAGGAGAAGGGCTAAGGTTGCAGGGAGGAAATGAACCAGATTTGGGGAATGTAGAGAAAGATGTAGTAAGAAATAGAAGTCAATTATTAGGGGCCAAGAGTACAGGGAGGGAAAGAAGAGGAGAATGCTACTCTAAGGCTGTTTGCAATTTTGCTTCTTCAGCAGAGGCTGAGATGCCATTCTTGTCCTTTTAGGCAATTAAGGCCCTGAAGGAGGAAAACATCCAGACGTTGCTGATCAACCCCAATATTGCCACAGTGCAGACCTCCCAGGGGCTGGCCGACAAGGTCTATTTTCTTCCCATAACACCTCATTATGTAACCCAGGTATGACTGGGGCAAGGCTGGAATGAAAAGAGGACTGGGCAGGGGGGCCCAGTGGTCACTGTGGGTTATTAAACTTTGATTGCCTCTCTACCCACAAGGTTCTGATGCCTGTAACTCCCCTCTCCATCCTCAGGTGATACGTAATGAACGCCCCGATGGTGTGTTACTGACTTTTGGGGGCCAGACTGCTCTGAACTGTGGTGTGGAGCTGACCAAGGCCGGGGTGCTGGCTCGGTATGGGGTCCGGGTCCTGGGCACACCAGTGGAGACCATTGAGCTGACCGAGGATCGACGGGCCTTTGCTGCCAGAATGGCAGAGATCGGAGAGCATGTGGCCCCGAGCGAGGCAGCAAATTCTCTTGAACAGGTTGGAGGGGTGTTTGGGTAAAGGAAGAATGGTGGTGTTTTTTTTGGTAGTGTTATTTTCTTTTTTTTTTTTTTTTTTTTGAGACGGAGTTTCGCTCTTGTTGCGCAGGCTGGAGTACAGTGGCGTGATCTCGGCTCATCATAACCTCCACCTCCCAGATTCAAGCGACTCTCCTGCCTCAGCTTCCTGAGTAGCTGGGATTACTGGCATGCGCCACCATGCCCAGCTAATTTTGTATTTTTAGTAGAGACGGGGTTTCTCCATGTTGGTCAGGCTGATCTCGAACTCCTGACCTCAGGTGATCCACCCCCCCGACCCTCGGCCTCCCAAATTGCTGGGGTTACAGGCGTGAGCCACTATGCCCAGCCATGTTATTTTCTTTATATCTTTTTTTATGTGGGACAGGCACACCTTGGACAGTAGGAAATAACCTGTTTGTTCATCTCTTCCACTCATTGCAGGCCCAGGCAGCCGCTGAACGGCTGGGGTACCCTGTGCTAGTGCGTGCAGCCTTTGCCCTGGGTGGCCTGGGCTCTGGCTTTGCCTCTAACAGGGAGGAGCTCTCTGCTCTCGTGGCCCCAGCTTTTGCCCATACCAGCCAAGTGCTAGTAGACAAGTCTCTGAAGGGATGGAAGGAGATTGAGTACGAGGTGGTGAGAGACGCCTATGGCAACTGTGTCACGGTGAGTGAATGGGGGAAGGGTGGGCGTCGTGTCAGGCAGGATGAGCTTTTGGAAGAGCAGAGGCCCAGGCCAAGGTCTTTGAGAGTTGTATGTCCCTCAGACCCAGGTTAGGTGCAGCCCCAGAGGTAACAGGACCCTGGGGTGCAGCCTTCTGCCTCTCCTGACTCTGCTTGGCAGTGACCTCCATGGCACCCCCCTTCACAGGTGTGTAACATGGAGAACTTGGACCCACTGGGCATCCACACTGGTGAGTCCATAGTGGTGGCCCCTAGCCAGACACTGAATGACAGGGAGTATCAGCTCCTGAGGCAGACAGCTATCAAGGTGACCCAGCACCTGGGAATTGTTGGGGAGTGCAATGTGCAGTATGCCTTGAACCCTGAGTCTGAGCAGGTAAGCTCTAGGCCCTGGAACTGATAGTCTAGTTGTTACCCCCTCTTCTTGTATAATTTTTGGCCCTTGAGGTTGAGGTCTTTTGGGCTTACAGTCCCTGGAGTACAAGCTGGAATCTTCTTTACTAGGTTACTTTTCTCTCCTTTCTGAGACCTCTCCTAGACAGGGTCTTCTAGGCCAGTGACTTTATTCTCCTTCTTTGCAGTATTACATCATTGAAGTGAATGCCAGGCTCTCTCGCAGCTCTGCCCTGGCCAGTAAGGCCACAGGTTATCCACTGGCTTATGTGGCAGCCAAGCTAGCATTGGGCATCCCTTTGCCTGAGCTCAGGTACGAGGATGAGGGAGATATCACAGTGGGGAAGTGGGTCGGGGGCTGAGGAAAATATTGATGGGACAGGGAATATGAAAAGGACATTGGCCTGGATTTGTGGGAATGGAAAGAGCTATCCGGAAGCTCACCCTTTATGCTTCCTTCACTGTCCTTCTGGCATCCCACCTGCTGGACCCCAGGAACTCTGTGACAGGGGGTACAGCAGCCTTTGAACCCAGCGTGGATTATTGTGTGGTGAAGATTCCTCGATGGGACCTTAGCAAGTTCCTGCGAGTCAGCACAAAGATTGGGAGCTGCATGAAGAGCGTTGGTGAGACTCATGCCCTGGGCACCCCCATGGGGCCCCACCATGACCAAGAATCTTAAATGTCAAGAGTTCCCTGGCATGGCCTTTTACGTCCTATGGGAGCAGGTGCTTGAGACATTTCAAACTAAGATTATAGTCCTTGTCAGGAGTTGGGGAGGCATCTGGAAATCTGTGTTGGAATACAGAATCTCTGGGATAGGTGCAAGCCATCAGACTATCTCATCTCATTTTTGCAGTATCTCCTCCTCTGGCACTTTGTGCTTTGGTCACTAAATGACCTTTTTTTTTAGTATGATGTTTACATCAGAGCAGGGCATCATAAACCTTTTTGGTAACAAGGAAATTTATTAGTGAATGATGAATGGCCGTAACGTTACCCAGCAGTGGCAGAGCATGTTAGAATTGAGTTAGTATGTTTCTTTGTGGTATCCCTTTAGTTGCCGAAGACCGTCCTCTAACACATTTCAACCAAAACAAAAATATACGTGTACCAGACACAGCGCCACCAGCCTGATGGATAAGAGCATTTTGTGGTGCTCCAGATTTCCATTTAGAGCAGTAGTGGCCTTTAAACAAGTAAGTCTAAGCTCAGATATTATTTCAGAATTTTTAGAAATTCTGCAAGACTGCCAATTTTTTCCTTCTGGAGATGAATCTCTGTTATATGAAAATTAGAATAAACATGGGAATGAAGCCATAATTAAATTGTGGCAAAAAGAAGTGGATTGAAAATAGGCCAATGAAAGATTGGTTCCTAGATGAGACATTTAATTGTTTTACATCTGTTCAAGTATTCTTGGAATGTGGTCTTCTTTGGTAACTTTTTGTAACTTTTATTATACAAGTAAGAAACATGAATCATGGAAAACGAGGAAAGATAGTTTAACCAAAGAACAGTAGTCACCTGTAATCTTGCCTTACAGAGATTGATTAATTCGACCGTGTATCTGCGACTGCATAATTCAGCCGTGTATCTACGACTGCATACATTTCTAGGCATATGTGTATGCATGTATTAGGCTTCTCCTTTTTTAACAAATCTCAAAATAAAAAGTCTTACAACCACAGTTACAAAGAAATTGAACAAAATCAGTCACACTACTGTTAACATCGTAGTGTTTTTAAAACTTTTTTAAAGAAATGTAAATGTTAGGATTGTAAATAGAAAAATACACTTGGTAAGAAATACTTAAGCCCCTAGAGTAAATAGTCAGAGGAGATGAACAACACTTTACAGAAGAAGAAATCAATAAGCAAACCTAGAGAAAAGACGGTTCCTCTCATTAGTAAATAGAAATCTAGTTAAATGAGACTCTGTTTATGCCCACTTCTTAGAAGGTTGCTTAAACTTTGTATTATGAAGCACAGACTTCTATAAAGTTATTCGTACTCATCAAGGGCTATAAAATTTGTGTTACCTATTGCCTCTACATATCTGGAAATTTATCCTAAGGAGATTATCCAAAACAGAAAACATCATATCCAGTCCAGGCACGGTGGTTGTAATTAATCCCAGCACTTTGGAAAGCTCAGGTGGGAGGATCGCTTGAGCCCACGAGTTCAAGGTTGCAGTGAGCTGTGATTGTACCACTGCATTCCAGTCTGGGTGCCAGGCTAAGACCCTGTCTTTTTTGTTTGTTTGTTTGTTTGAGACGGATTTTCATTCTTGTTGCCCAGGCTGGAGTGCAATGGTGTGATCTCGGCTCACCACAATCTCTGCCTCCTGGGTTCAAGTGATTCTCCTGTCTCAGCCTCCAGAGTAACTGGGATTACAGGCATGTGCCATCACGCCTGGCTAATTTTGTATTTTAATAGAGACAGGGTTTCTCCCTGTTGGTCAGGCTGGTCTTGAACGCCCGTGCTCAGGTGATCCACCCACCTTTGGCCTCCCAAAGTGCTGGGATTACAGGCCACTGTGCCTGGCCGAGACCCTGTCTCTTTTTTCTTTTCTTTTTTTTTTTTCTTTTTTTTTTTTTTTGAGGCAGAGTCTTCCTCTGTCGCCAGGCTGGAGTGCAGTGGTGCTATCTCGGCTCACTGCAACCTCTGCCTCCCAGGTTCAAGCGATTCACCTGCCTCAGCCTCCTGAGTAGCTGGGACTACAGGCGCGCACAACCACGCCCAGCTAATTTTTGTATTTTTAGTAGAGACGGGGGTTTCATCATACTGCTTAGGATGGTCTCGATCTCTTAACCTCGTGATCCGCCTGCCTCGGCCTCCCAAAGTGCTGGGATTACAGGCATGAGTCACCATGCCCGGCCGACCCTGTCTCGTTAAAAAAGAAAGAAAACATCACAGCCTAACTTATAATTATGAAAACTTTTTTTTTTAATACGGAGTTTTATTCTGTCACCCAGGGTGGAGTGCAATGGTGTGACTTAGCTCACTGCAGCTTGGATCTTCTAGGCTTAAGTAATCTCCCACCCCATCCTTCTGAGGAGTGAGACTACAGGTGTACACCACCACACCTTGCTAATTTTTTTTTTTAATTATTATTTGTAGAGAGGGAGGTCTCACTATGTTGTGCCGGCTGGTCTCAATCTGCCTTAGGTGATCCTTCTGCCTCAGCCTTCCAAAGTGTTGGATTACAGGTGAGAGCCACCAGGACTGCCTAATTGTAAACACTTAAAAGCGAAATGGGCCGGGCGCGGTGGCTCATGCCTGTAATCCCAGCACATTGGGAGGGTGAGGTGGGCATATCATGAGGTCAGGAGTTTGAGACTAGCCTGGCCAATATGGTGAAACCCCATCTCTAGAAAATATACAAAAATTAGCTAGGCATGGTGGCACGCACCTGTAGTCCCAGCTACTCAGGAGGCTGAGGCAGGAGAATCGCTTGACCTCAGGAAGCAGAGGTTGCAGTGAGCTGAGATTGCACCACTGACTCCAGCCTGGGCAACACAGTGAGACTACGTCTCAGAAAAAAAAAAAAAAAAAAAGCTAAATGTCCTTCAGTTAGTAGTTAAATTATGGCAGATCATACAAGAATTAAGTTAGTTGGTTGGGCGCAGTGGCACACGCCTGTAATCCCAGCACTTTGGGAGGCCGAGGCAGGTGGATCACCTGAGGTTGGGAGTTCGAGACCAGCCTGGCCAACATGGTGAAACCCCGTCTCTACTAAAAATACAAAAATTACCCAGGCATGGTGGCAGGTGCCTGTAATCCCAGCTACTTGGGAGGCTGAGGCAGGAGAATCACTTGAACCCAGGAGGCACAGGTTACACTGAGCTGAGATCATGCCATTGCAGTCCAGCGTGGGTGATGAGAGAAACTCCGTCTCAAGAAAGAATTAAGTTGGTGTTGATGAGGCCATGTGGCAATGTGGGAAAATGTATGATGAGGAAAAAACACAGGATGGAAATTATATGTATGCTGTGATGATATGTAAAACATACCTATGAAGGGCCCGGCACGGTGGCTCACGCCTGTAACCCCAGCACTTTGGGAGGCCGAGGCGGGTGGATCACGGGGTCAGGAGTTTGAGACCAGCTTGGCCAACATGGTGAAATCCCGTCTCTAATTAGCCAGACATGGTGACACGCACCTGTAATCACAGCTACTCAGGAGGCTGAGGCAGGAGAATCTCTTGAACCCAGGAAGCAGAGGTTGCAGTGAGTCGAGACCGTGCCATTGCATTCCAGCCTGGGCAACAAGAGCGAAAGTCCATCTAAAAAAAAAAAACCTATGAACCTATGAAGAAAAGTCCAGAAAGAGAAACTCTAAAATGATTGTTGTAAATGTGATTTGCTCTGCATGGATGAGTAGTAAGGATCATCTTCCTATTATCTACACTTTTTTAAAAAGTTTTAAAGAATTCCAGTTGGTGTTATGATTATGTGAATAAATCAAACCCAATAACTGGACAGCCATCAGTGGTTTGGGCCACTGTGATAAACTTCCAGTATCCAGTGTATGGGGATATATTCCAGTATCCCCATGCCCGTTTTAGGCATATTGATTCCATATTCATCAATAAGCACAAAGCCTGAGCTTATCCATGAAAATAGCAGGGAAAAGAGCTATAAGTTAAGATTTCTTTTTGTTTGTTTGTTTGTTTTGTTTTGTTTGAGACGGAGTCTCGCTTTGTTCCCCGGGCTGGAGTGCAATGGTGTGATCGCTGCTCACTGCAAGCTCCACCTCCCGGGTTCACGCCATTTTCCTGCCTCAGCCTCTGGAGTAGCTGGGGCTACAGGCGCCCGCCACCACTCCCGGCTAATTTTTTTGTATTTTTAGTAGAGACGGGGTTTCACCATGTTAGCCAGGATGGTCTCGATCTCCTGACCTCGTGATCCTTCCGCCTCAGCCTCCCAAAGTGCTGGGATTACAGGCGTGAGCCACTGCGCCCGGCCATTAAGATTTCTTAGTTGTGAAACACCATGAATCCCACCATCATGTGACTTGCCTTGAGAATCTCCCAGAGTCTTGACTATAAACCATAAGCATTATGGGCAGTGCCTTCTTCCCACCCCTTCCACCTCCACACCTTCATTCCTTCCATTCTGTTCTTCCAGGTGAAGTCATGGGCATTGGGCGTTCATTTGAGGAGGCCTTCCAGAAGGCCCTGCGCATGGTGGATGAGAACTGTGTGGGCTTTGATCACACAGTGAAACCAGTCAGCGATATGGTAAGTAGCTCCCCTCCCCTGGCAATACCCCTAAAATAGACCCTGCTTCTCATCGCCCCCAGACCATGAGCTTGTTACCAGTAACACTAGCAGCAGTCATCATTGGACATTTGCTTTGTTTCCACTTTGCTGAGAATTTTGAGATGTCTCATTAGCACGCAAGGGTGTATTACTAGACTTGTTTTTACAGATGAGGAAACTGAGACATAGGTTATAGAAATTACTCAAAGCCACATAGCCAATGAGAGGTAGACCCAGGATTGGTATCCAGGTTTTTGCAGTTACACAGCCTGTGCTCTGGTGTACAGTTTCCCCTTCCTGAGACAAGAGCAGCTACTTACGCTCAGGCTTTTAGATGGGCTGGCAGTAGCTTCCGTCTGTCTACCCCCTTTCTATCAGGAGTTGGAGACTCCAACAGATAAGCGGATTTTTGTGGTGGCAGCTGCTTTGTGGGCTGGTTATTCAGTGGACCGCCTGTATGAGCTCACACGCATCGACCGCTGGTTCCTGCACCGAATGAAGCGTATCATCGCACATGCCCAGCTGCTAGAACAACACCGTGGACAGCCTTTGCCGCCAGACCTGCTGCAACAGGCCAAGTGTCTTGGCTTCTCAGACAAACAGATTGCCCTTGCAGTTCTGAGGTCAGAGGTGGCAATGAGAGCTTCCGGCTGGGAAATGTGGGGCAGAACCTTTGTATCAGTGAGGGACCCTTGGGAGGGAGGAAGGAGAGTGTGGGAGAGCTTTAGAGGCTTCTGACCTTGGTTCCAAGGATATTTCCTCTCATCTGTGCCCTGGGGTCTCAACCCTCTATCAGTCTGTACCCTACTCTCTGGGCCTGTGTTTCAGACCCTTTTTCTATTTTAGCACAGAGCTGGCTGTTCGCAAGCTGCGTCAGGAACTGGGGATCTGTCCAGCAGTGAAACAGATTGACACAGTTGCAGCTGAGTGGCCAGCCCAGACAAATTACCTATACCTAACGTATTGGGGCACCACCCATGACCTCACCTTTCGAACACCTCATGTCCTAGTCCTTGGCTCTGGCGTCTACCGTATTGGCTCTAGCGTTGAATTTGACTGGTGTGCTGTAGGCTGCATCCAGCAGCTCCGAAAGGTCAGAGAGTTCATTTTCTTTCCACTTTCCTTGCTATTCTGTTCATCTCTAGCAATTGCTTGGCACTAATCCTGGCATTTCCTATTAATTGCCGTCCCTTACTTTGGTCATAGAGCTTTGGGGTGGGGGTCCTTTTAGGCCATCTCTCATGCCCCACACGGTATATGAATCTCTTCCCCAACACTTTGTACCTCCTTCCCTCCCAAGGCAGGGGTCCTGTACAGCTCTTTCAGAGGAAGCTGTGCTGGCAGTCTCTGAAGTAGGGGCTTTGGCTTAGTTTCTCCACGATTTTCTCCACGATTTTCCTCCCACCTGACTGCTAAGTACCCTTCCCCTCCCTCTTGCAGATGGGATATAAGACCATCATGGTGAACTATAACCCAGAGACAGTCAGCACCGACTATGACATGTGTGATCGACTCTACTTTGATGAGATCTCTTTTGAGGTGAGGGAGATGGAGGCTTCCTGGTAGCTTGAGTGGCCAGGGTCGAGTAGAACAGCTGGCTGACCTAAGATTCTTTGAAACTTGGTGGCGGCTGAGGGAAGCAGTGAGCAGGAAGGCTCAGATTCCTGCCCTCTTTTGCTGCCACCACTTGTTTCTCCCCCTGCAACGTAGGTGGTGATGGACATCTATGAGCTCGAGAACCCTGAAGGTGTGATCCTATCCATGGGTGGACAGCTGCCCAACAACATGGCCATGGCGTTGCATCGGCAGCAGTGCCGGGTGCTGGGCACCTCCCCTGAAGCCATTGACTCGGCTGAGAACCGTTTCAAGTTTTCCCGGCTCCTTGACACCATTGGTATCAGCCAGCCTCAGTGGAGGGAGCTCAGTGACCTCGAGGTGGGCTGGGACCTGGTGGGTTACCCGGAGGCTGGATGATGCTTGGGGGAAAGTGTGAACAACTCAGCTAAGCTCCCTGCCTCCTGTAGTCTGCTCGCCAATTCTGCCAGACCGTGGGGTACCCCTGTGTGGTGCGCCCCTCCTATGTGCTGAGCGGTGCTGCTATGAATGTGGCCTACACGGATGGAGACCTGGAGCGCTTCCTGAGCAGCGCAGCAGCCGTCTCCAAAGAGCATCCCGTGGTCATCTCCAAGTTCATCCAGGAGGCTAAGGTGGGAGGCTGCAGACAGTGAAGTCTCTGAGGGCATGCTGCCAGCCCTGGAGGAGACTTCCTTCTCTGGTCCAGCAGAATCATAGGCACCAGGGCTGGGAACAGTGGGCTATGTGGGGCTCGTTAAAGGAAGAGACAATCCTAGAGTAAGTGAGAGAAGAAAGTGGCCCTATGTCCCACTGTCTGTGTCCCCCCGCTAGGAGATTGACGTGGATGCCGTGGCCTCTGATGGTGTGGTGGCAGCCATCGCCATCTCTGAGCATGTGGAGAATGCAGGTGTGCATTCAGGTGATGCGACGCTGGTGACCCCCCCACAAGATATCACTGCCAAAACCCTGGAGCGGATCAAAGCCATTGTGCATGCTGTGGGCCAGGAGCTACAGGTCACAGGACCCTTCAATCTGCAGCTCATTGCCAAGGTAATAAGGCTAAAGGAAAGAACTAAAGGGCCACAGCTCTTGCATGTTCTGTGCTGGCCACAGTGCCATGAAGCCCTGCACTGTCTCCTGCCTTCATCCAAGTAGGCAGGGAAGCTGGAGGGAAAGGGCTGTAGCTAGAGCTCATGGTGTTGGGGCTTATGACAGTCAGTGACCCTGAACCCTGCTCAGTCTGATCCCCCAGAGCTGAGGACGGAGAGGAAGAGTCTAGGCCTATAGATAGTGTCAGCAAGGCCAACCTGCAGAAGGCCTGACCAGTCTTCTCTGCCCCAGGATGACCAGCTGAAAGTTATTGAATGCAACGTACGTGTCTCTCGCTCCTTCCCCTTCGTTTCCAAGACACTGGGTGTGGACCTAGTAGCCTTGGCCACGCGGGTCATCATGGGGGAAGAAGTGGAACCTGTGGGGCTAATGACTGGTTCTGGAGTCGTGGGAGTAAAGGTAAGGAATATCGAAACCCTTGGGGTTAGCAGAAAAATAGCGGGAGAGAGTTCACTCACCACACAGAGTTGTCAGTATGTAAACCAGGCACTGACTGCAAGGCATTGCCGGATCGTGGGGGTAATGAGGTGGTCATTGTCCCTTAAGAGCTTACTTTATGGTAATGGGAGGGAAGAGAAGTTGGATCCCCAAAAAAGCTTTGGTATAGAACAGTCCGTGGTAAAACTACATATTCGACCTGTAAACAGAATGCTGCAGGAGTTCAAGAGACAGGAGGTGCTGCTTCCAAAAGGGGTGATCTGGGAAGGCTTGAGCGAAGGGGTGCTATTTGAATTGAGTTTTGAAGGATGGTTAAGGTTTTTTATTTGCAAGGGCACATCCTAAGCAGAAGCTGAGGGATGACCCCAAGTACGTTTGGAAAGCAGGAGGGCACACAGAGAGGGCAGGCTGACCCTGCCATTCAGATGGGATCAAGCACAGGGTACTGTGTCCGTCTCTGCTGGTGAGGGAGGAGGTCCTCTCACACCTTGGCCCTCTCTCTTCCCTCCCGCCCCTTTAGGTGCCTCAGTTCTCCTTCTCCCGCTTGGCGGGTGCTGACGTGGTGTTGGGTGTGGAAATGACCAGTACTGGGGAGGTGGCCGGCTTTGGGGAGAGCCGCTGTGAGGCATACCTCAAGGCCATGCTAAGCACTGGCTTTAAGATCCCCAAGAAGAATATCCTGCTGACCATTGGCAGCTATAAGGTATCAGAATCCAGGAGGGCTTCCCGAGGGCCGTGGCTCCCTGGGCCAGGGCTGACCTTGAAATGGAAGACAGGAAGAAAACAATTTCATCCTTCTGTTTGGTTTCAGAACAAAAGCGAGCTGCTCCCAACTGTGCGGCTACTGGAGAGCCTGGGCTACAGCCTCTATGCCAGTCTCGGCACAGCTGACTTCTACACTGAGCATGGCGTCAAGGTGCAGGAACTCTGGCAACCTACCCCACTGCTGCCCTTCCCCAAGGGGGTGAAAATACTGCACCAAAGAATTATCTGGGCTGGGCACGGTGGCATATACCTGTAGTCCCAGATACTCAGGAGGCTAAGGCAGGAGAATCTCTTGAGCCCAGGAGGTAGAGGCTGCAGTGAGCTGCGAGTGTGCAGTGAGTGCACCACTGCACTCCAGCTTGGGAAACAGTGAGATGCTGTCTCAAAAAAAAAAAAAACAAAGAATTATCTCCTATTCCCCTGCTTTTATTATTACCATTATACTAGTAAGCTATATTCCATGCAGAAAGCAGAATACACAGGAAGCAAAGAGAAAAGTCTCTTAAAATCTCTGTACCACTGTTCTGATATTTTTCCTTCCAGGATTTTCTCTGTGTACATGTGTGTGAGCTCATACTGCACCTAGTCCTTGGTAACCCATCTTACTTAGTGTAGATATCTTTCCTGCCAAGAAATACACTTTGCCAGTATCAAATAGAGGCAGCCCTCAGTGCCCACCCTATGGGTCCTCAGTCTCCTCATCATGGGCTCCTGGGCCAGCTCCTCTCCCTTAAGGCTAGCCTTCCTGACCGCTGCCAGACAGCTTGGCCCTGACCTTGACTCCGGGTTGGCAGGTAACAGCTGTGGACTGGCACTTTGAGGAGGCTGTGGATGGTGAGTGCCCACCACAGCGGAGCATCCTGGAGCAGCTAGCTGAGAAAAACTTTGAGCTGGTGATTAACCTGTCAATGCGTGGAGCTGGGGGCCGGCGTCTCTCTTCCTTTGTCACCAAGGGCTACCGCACCCGACGCTTGGCCGCTGACTTCTCCGTGCCCCTAATCATCGATATCAAGTGCACCAAACTCTTTGTGGAGGTAACTGAGACCCATGTGCTGGGAGGGAGACTGCCAGTGTTGATGGGAAGAAGAAAGAGGGAGGAGTGAGTATGGAACAGCCATGCTAGTAATAAAGCTTTGTGGCTACAGAGGGAGAGATGGTGGGTATAGAGTGTGCAGAGCCTGGTTTATGGGAAAACCACATCTCTCCCTACAACTCCCAGGATCACCCTTCCCTTAAAGCTGACTGCTTTCCACTTGCAGGCCCTAGGCCAGATCGGGCCAGCCCCTCCTTTGAAGGTGCATGTTGACTGTATGACCTCCCAAAAGCTTGTGCGACTGCCGGGTAAGTCTTTGGGGAGAACTTGGCTTCTGAACACTGGCAGCCCCTGGCATAGAGACCTGCAGTGTGGTGAAGGATGGCTGGGGGGCCCACTCTTTGTCCTGGACTGCACAGACTGTGAAGACCCCAGAATGTTTCTCACTCTTTCATTCCTTAATCCACAGTGTCCACAGTGGCCTTGTCTGAGGAATTTTTTTTTTTTTTTTTTTTTTGAGACAGAGTCTTACTCCATCGCCCAGGTTGGAGTGCAGTGGTGTGTGATATCGGCTCACTGCAACCTCCGCCTCCCAGGTTCAAGCGATTTTCCTGCCTCAGCCTCCCAAGTAGCTGGGATTACAGGTGTGTGCTACCACACCAGGCTAATTTTTGTGTTTTTAGTAGAGACGGGGTTTCACCATGTTGGTCAGGTTGGTCTCGAACTCCTGATCTCAGGTGATCTGCCCACCTCGGCCTCCCAAAGTGCTAGGATTACAGGCGTGAGCCACCATGTCCAGCTCACCCTTCCTATTTCTGAATCTTCCTGTAATCTTGCTGCTTCCATTTTCTCCCAGGATTGATTGATGTCCATGTGCACCTGCGGGAACCAGGTGGGACACATAAGGAGGACTTTGCTTCAGGCACAGCCGCTGCCCTGGCTGGGGGTATCACCATGGTGTGTGCCATGCCTAATACCCGGCCCCCCATCATTGACGCCCCTGCTCTGGCCCTGGCCCAGAAGGTGAGCCACTGCACTCTTCCTGGTATTGGAGACCCATATGCCCCTACCAGCCACCCTTGCTTCCCTGAGCCCTTTTCCTTCTGCCCCGCCCTATGGGCCCAGGCCACTGGTGCCAGGCTAGCCTGTGTGGGCATGGGTGCCAGTGAGCCTTACCTCTGTGTATCCTCTCCAGCTGGCAGAGGCTGGCGCCCGGTGCGACTTTGCGCTATTCCTTGGGGCCTCGTCTGAAAATGCAGGAACCTTGGGCACCGTGGCCGGGTCTGCAGCCGGGCTGAAGCTTTACCTCAATGAGACCTTCTCTGAGCTGCGGCTGGACAGCGTGGTCCAGTGGATGGAGGTAGGGAGTGTGCATGTGGCAGGAGGCCACCACCCAGTGTCTCCTGGCTTGTGGGCCCCTGCCTAAGTGGGCTGGTAGCAGTGAGGATTCAGGGGAGCTCCTGGGGACTCTGGGCTCTGATGAGCACAGTCAGAGATTCTGCACACTCCTTCATCAGTTCTTTCTGCTCCCAGCATTTCGAGACATGGCCCTCCCACCTCCCCATTGTGGCTCACGCAGAGCAGCAAACCGTGGCTGCTGTCCTCATGGTGGCTCAGCTCACTCAGCGCTCAGTGCACATATGTCACGTGGCACGGAAGGAGGAGGTAAGAGTACACCTGAGATCCTGCTGTCCCTGTTGCTTTCCCAGTAACACCAAAGGTCAGGGTAGTCCTTAGGGGCAGGAGACAGCAGGAGGAGAGTCTGGAGACAGCAGGAGGAGGGTCTCGAGCCAGCACCCTTGCAGGTCTACATCATCATTTTTTGAGCAGGGATGTTGGCCATTGGGACTTTGTGTAGGGCAAGGCATATGGGTGGTGCCTCTTCTGGATCTTCCCATTGTTCCCCAGATCCTGCTAATTAAAGCTGCAAAGGCACGGGGCTTGCCAGTGACCTGCGAGGTGGCTCCCCACCACCTGTTCCTAAGCCATGATGACCTGGAGCGCCTGGGGCCTGGGAAGGGGGAGGTCCGGCCTGAGCTTGGCTCCCGCCAGGATGTGGAAGCCCTGTGGGAGAACATGGCTGTCATCGACTGCTTTGCCTCAGACCATGGTGAGAGAATCCAGCATGTACCTCCTCTGCCCAGTGGGGCTTGTGGGACAGCCCTAGCAAGAAAATGGGAAGCAGGCCAGGCCTCAGGACTCTACTAGGACAGGGTCTTGATCCGTATGGGACCCTAGCCTCTAGGGTACCTGGTCTGTGATAGGTGCCTGATAAATACTTGTTGAAAGAATGAATGAGCCAGTGAGTAGAACTGCAAGTGAAAGAATACATGGGTAAAAGTGTGGGCTCCAGAAGATGGCAGCAGTCCTGTTGCCCTTGTTTCTAGTTCCCAGAAAAAATGAGCATTGGGAGTGGTAGTGAGCATAAGGAGGTTGTTGGAAGTGCAGTCCTGGGGTGTGAGTGACTTCCTAGACATGGAGGTGATTGGTCCTGAGGGTAATGGCTTTCTTTCTCCCAGCTCCCCATACCTTGGAGGAGAAGTGTGGGTCCAGGCCCCCACCTGGGTTCCCAGGGTTAGAGACCATGCTGCCACTACTCCTGACGGCTGTAAGCGAGGGCCGGCTCAGCCTGGACGACCTGCTGCAGCGATTGCACCACAATCCTCGGCGCATCTTTCACCTGCCCCCGCAGGAGGACACCTATGTGGAGGTGTGGGGATGAGGCCCAGAGCAGGAGGGGGGCTCTCCAGCCCTAGGATATGTTCTCTGGGGATCCTTTCCCTAGCATAACCCATGTCCTCTGGGCAGGTGGATCTGGAGCATGAGTGGACAATTCCCAGCCACATGCCCTTCTCCAAGGCCCACTGGACACCTTTTGAAGGGCAGAAAGTGAAGGGCACCGTCCGCCGTGTGGTCCTGCGAGGGGAGGTTGCCTATATCGATGGGCAGGTACGCAAGTAGCCCCTGCCTGATCTCAGTAGTGCCCTCTTCTGCACCACGTTCATTTCTTCCCTTCCCAGCACATCTACACTGTCCCACTATGTGCACCACTGCCCTGGACCAGGGGTTGGGGGCACAGCTCCCCCAAGGTGCTTTTTGTCCTTGCTGACATCTACCCCTTTAGGACCTGAGTTCTCTCTGCTCCCTCCTGAGTGCCCTGCCTTCTGCCTGCAGGTTCTGGTACCCCCGGGCTATGGACAGGATGTACGGAAGTGGCCACAGGGGGCTGTTCCTCAGCTCCCACCCTCAGCCCCTGCCACTAGTGAGATGACCACGGTATCCACACTACTGGGCTAGGGGGCTGGGAGGTGTTAGTCTCAGGGCAGGATGAACAGCTTGAACATTTTCATTGGTGGTTCAGGAACAATTGGGGTTTTCTTGAGGGACTGAATTTGAAGTGGGGTTGGGTCAATTATTTTTTTAAAATGCTGGGCCAGGCCAGATGTGGTGGCTCACACTTGTAATCCCAGCACTTTGGGAGGCCAAGGCAGGCGGATCATCTGAGGTCAGGAGTTTAAGACCAGCCTAGCCAACATGGTGAAACCCCATCTCTACTAAAAATAAAAAAATTAGCCAGGCGTGGTGGTGCACATCTGTAATCCCAGCTACTTGGGAGGCTGAGGCAGGAGAATTGCTTGAACCCAGAAGGTCACGCCACTGCACTCCAGCCTGAGCGACAGAACGAGACTCCGTCTCAAAAGAAAAAAAAAAAAACAACTCTGGGCCAACGTTATCCCTCCAGACACCTGAAAGACCCCGCCGTGGCATCCCAGGGCTTCCTGATGGCCGCTTCCATCTGCCGCCCCGAATCCATCGAGCCTCCGACCCAGGTTTGCCAGGTAAGAGTGGGGTTCCTGTGACTCAGAGACTGTGTAGGGACAGGATCCACTTCTTCCCAGTGCCTCGCCTTTCTCTACTTACATGTCCTCCTCTCCATCCCTTTATCCTCGTCTGATCTGCCGTGCCATCCTTTGCCTAAACAAGTCTCCCCGGTGTGAGTAGACATCTCACAGCTTCTCACATGCCCTTTTTTGTTGTGGGCAGCTGTGTTCCTCCGCCCAGGAGCTGGGATCCCACGGGGCAGCAGAGCGTGGGGTAAATCCAGGTTGTTGGTTGGTGTGAGTCTGGCCGTTCCTCTTGCCTAGGATGCCTTTGCCAACTGGGAGAGCCCCGGGAGGGCACCACTGCTCCCATACAACACAGCCCCATGGGAAGCCACCTGTCTGTCCCCAGAGCTGCTGCAGTCCCCTGCCCTCCCCTAACCTGCTATATTACTGTGTTGTGAATTGGTTTAACATATACACTGTGATTCAGAGTTCCTGGGAATATGGGGTTTCTTTCCAAACCTCAGCCATAAATGTATATCTGTCCTCTTGTCCTGTTTGCAGCTGAGGAGCCAAAGGAGAAGTCCTCTCGGAAGGTAGCCGAGCCAGGTGAGACTCCACCCTGACACACACTCACCTCGGGGACCTCTGATCTGGCCTTGGTAGGAGGAACCCTCTGACCAGCCTTTTCTGCCCCATCCCTCACTGCAGAGCTGATGGGAACCCCTGATGGCACCTGCTACCCTCCACCACCAGTACCGAGACAGGCATCTCCCCAGAACCTGGGGACCCCTGGCTTGCTGCACCCCCAGACCTCACCCCTGCTGCACTCATTAGTGGGCCAACATATCCTGTCCGTCCAGCAGTTCACCAAGGATCAGGTGCCTGGGGCAGGGAGGATGGGACCACCCAGAGCTTTGAGGATTTGGAAAGCTGGGGCTAGGACCTTTCTAGCTAACTTGGGCTCTTTCTTAGATGTCTCACCTGTTCAATGTGGCACACACACTGCGTATGATGGTGCAGAAGGAGCGGAGCCTCGACATCCTGAAGGTCAGGATCAGGGCCGGGGGTAGGGTCCAGGCCATCGCCTGCCCTTGGGCCGCATCAGCGCAGGGCCGCGCAGTGGTCAGAGTGGGTCTTCCTCCCCCTGCCATCCCGTCCCCTTATGCTAGTCCATCCCTCTGCTGCTGTAGATCTTCCCCCACGTTTTCCCTCCCCAAAGCAGGATTTAGCTGGCTGGGGAGGCCCTGAGCATGAGACCATCGCCCCACTAGTGGGGTCTTCTGGTCTGGGCTGCTGCAATCATGGGAGAGAGCTAGGGTGTGTCCTCCTTTCCCAGCTCGTTCAGACACTTAATGATGGGTGGTTTTCTGGAGGCAGAGCCTTTAGCTCAGAGTGACACCAGTGGTGGAAACGTCAAGGCTCTGACAGGTCACAGGGGAGGTTTGGGTGCAGAAGGGTCCTCACAGCACCCCTCAAGTGTCAGTTGGGGTGGTGGTGCCTAGCTGGGGTTTCCCCAGGGTGGACACGCATACGTACACCTTCCATCTTGCTCTTTCCCTAGGGGAAGGTCATGGCCTCCATGTTCTATGAAGTGAGCACACGGACCAGCAGCTCCTTTGCAGCAGCCATGGCCCGGCTGGGAGGTGCTGTGCTCAGCTTCTCGGAAGCCACATCGTCCGTCCAGAAGGGCGAATCCCTGGCTGACTCCGTGCAGACCATGAGCTGCTATGCCGACGTCGTCGTGCTCCGGCACCCCCAGCCTGGAGCAGTGGAGGTGAGGCCAGCCTGGGTACTGAGATGGGGTTAAGAAGGCTGGACCCAGGGGCATGAGAACCCTTCTGCCCACGTTTTCTGTGTTTTGGGCCAGATGAGTGAGGGGACCCCAGAAGAGGGGGACTGGCAGTTGGGGGGCCTCTGAGCTGCAAAAGACAGGATTTTCCCCTTTTTTCCAGCTGGCCGCCAAGCACTGCCGGAGGCCAGTGATCAATGCTGGGGATGGGGTCGGAGAGCACCCCACCCAGGCCCTGCTGGACATCTTCACCATCCGTGAGGAGCTGGGAACTGTCAATGGCATGACGGTGAGGGTGGTGGCAGGGTTTGGATCCCTGCCAGGGGACGATCTAGAGAGGGAGGCAGGAAGTGGTTACCCCGGTACAGGACAGCTGCATCAAGGAGGCCTTCATTCTGCTCCAGAGGCTTTTAAAAGCTTGGAAATGATGTCGGGGGGCACTCAGTCTGGGATCCCTGTGGTGACTGGATTCCTCTCCTAGATCACGATGGTGGGTGACCTGAAGCACGGACGCACAGTACATTCCCTGGCCTGCCTGCTCACCCAGTATCGTGTCAGCCTGCGCTACGTGGCACCTCCCAGCCTGCGCATGCCACCCACTGTGCGGGCCTTCGTGGCCTCCCGCGGCACCAAGCAGGTGAGACCCTCACAGCCCTGCCTGGAAGCCATGGAGATGTGGGTTGGGCAGTCAGAGCCCAGCGCTGCATCCACCATGGCTCTCCTCACCCTCCAGGAGGAATTCGAGAGCATTGAGGAGGCGCTGCCTGACACTGATGTGCTCTACATGACTCGAATCCAGAAGGAACGATTTGGCTCTACCCAGGAGTACGAAGCTGTGAGTGCTGGGCTTGAGGAAGAAGCCAGGGCTGCTGCCGTAGGGCATCAGATATGAGGACAGAAAGGCTGGGCTGAGGGCTGGGTCAGAGCTGTTAAACTTCACATCTGTCAATTGCCATAGCTGCATGTGGGTGTGGAGGGGACCCCAGTGGAGCCCAGACTTGTGTCCTCTGTAGCCACTCCTACCCCAAGGCACTAATGGGGACCCCATCTGCTTTGCAGTGCTTTGGTCAGTTCATCCTCACTCCCCACATCATGACCCGGGCCAAGAAGAAGATGGTGGTGATGCACCCGATGCCCCGTGTCAACGAGATAAGGTGGTGCAGCATCAGAGTCAGAGACTGCCTCGGGGCTGGTGGACGGGAGGAGACTTAGTCCTGGACAAGCCATCCATGGGCTGCACGATAACACTTCCTTTTTTTTTTTTTTTTTTTTTGCAGCGTGGAAGTGGACTCGGATCCCCGCGCAGCCTACTTCCGCCAGGCTGAGAACGGCATGTACATCCGCATGGCTCTGTTAGCCACCGTGCTGGGCCGTTTCTAGGGCCTGGCTTCCTCAGCCTCTTCTCTTTAGGCCCAGCTGCTGGGCAAGGAATTCCAGTGCCTCCTACGGGGGCAGCACACTTAGATATTCCTGGACATCCAGATAGCTCACATGTGCTGACCACACTTCAGGCTCTGGACTGGAGCTCTCTGGCATGGGGGTGGGGCCTCAGATGCTGGGGCCCAGTCTGCCCCATCTTCATTCCTGCACCTTAAACCTGTACAGTCATTTTTCTACTGACTTAATAAACAGCCGAGCTGTCCCTTGATGCTGAGTGTAGTAGAACAGAGCTTTCTTTTAGAAAATTGAGCAGATTCCCAAATTATAAGAGCAGCCTCACCAGGCAGGGCTCTGGCTAGGGCTGCGTGCCCACACTCGGCATTTTCACACTCGTGACTCTTTGGGACTCGGCAGGAGCGTGTTAA'"
            ],
            "application/vnd.google.colaboratory.intrinsic+json": {
              "type": "string"
            }
          },
          "metadata": {},
          "execution_count": 63
        }
      ]
    },
    {
      "cell_type": "code",
      "source": [
        "# lst_gene = df['gene'] \n",
        "seq_gene = Seq(df['gene'][0]) # создаём из нашей строки последовательность\n",
        "# seq_rec = SeqRecord(Seq(seq_gene), id=str(df['geneId']), name=df['geneSymbol'],)\n",
        "#     # description=fasta_string_name) # запись последовательности с дополнительной аннотацией, включая идентификатор, имя и описание.\n",
        "# seq_rec\n",
        "\n",
        "seq_gene"
      ],
      "metadata": {
        "id": "hoIbQyEyxCXh",
        "colab": {
          "base_uri": "https://localhost:8080/"
        },
        "outputId": "863ac6c9-ceda-463a-8099-e933588ea8b5"
      },
      "execution_count": null,
      "outputs": [
        {
          "output_type": "execute_result",
          "data": {
            "text/plain": [
              "Seq('GTCTCTGCTGCTGCCGCCAAGCGCGCCCGAGGCTCCTACGCTGCCGCGCCCGGC...TAA')"
            ]
          },
          "metadata": {},
          "execution_count": 64
        }
      ]
    },
    {
      "cell_type": "code",
      "source": [],
      "metadata": {
        "id": "5Usbe_5LJwDW"
      },
      "execution_count": null,
      "outputs": []
    },
    {
      "cell_type": "code",
      "source": [
        "# SeqIO.write(lst_gene, 'lst_gene.fna', 'fasta')"
      ],
      "metadata": {
        "id": "TIsXLpwsAf4o"
      },
      "execution_count": null,
      "outputs": []
    },
    {
      "cell_type": "code",
      "source": [
        "# fasta_string = 'ACCTGTGGCTGCTTGCTTGCTTGGGCT'\n",
        "# Seq(fasta_string) \n",
        "\n",
        "# rec = SeqRecord(\n",
        "#     Seq(fasta_string),\n",
        "#     id='',\n",
        "#     name='',\n",
        "#     description=fasta_string_name)\n",
        "\n",
        "# rec = SeqIO.parse(fasta_string, \"fasta\")\n",
        "\n",
        "# print (rec[0])"
      ],
      "metadata": {
        "id": "ssHB5XRDCV0A"
      },
      "execution_count": null,
      "outputs": []
    },
    {
      "cell_type": "markdown",
      "source": [
        "Это последовательность на смысловой цепи ДНК. Необходимо посмотреть её на матричной цепи. Для этого нам нужна комплиментраная последовательность. Также необходимо учитывать направление цепи ДНК. В данном случае, оно положительное, но проверим, иначе нам потребуется обратнокомплиментарная последовательность."
      ],
      "metadata": {
        "id": "KdNSYLmIDpay"
      }
    },
    {
      "cell_type": "markdown",
      "source": [
        "Если знак плюс, то последовательность на смысловой цепи ДНК. И нам нужно просто перевести её в комлиментарную. \n",
        "Если знак минус, то последовательность на матричной (транкрибируемой) цепи."
      ],
      "metadata": {
        "id": "PJMqC8-6Ydf_"
      }
    },
    {
      "cell_type": "code",
      "source": [
        "def wright_way_compliment(seq_gene, strand):\n",
        "  # if strand == 'plus':\n",
        "  #   seq_gene = seq_gene.complement()\n",
        "  # else:\n",
        "  #   seq_gene = seq_gene.reverse_complement()\n",
        "  \n",
        "  seq_gene = seq_gene.complement() if strand == 'plus' else seq_gene.reverse_complement().complement()\n",
        "\n",
        "  return seq_gene"
      ],
      "metadata": {
        "id": "7rQZzh-cN8SQ"
      },
      "execution_count": null,
      "outputs": []
    },
    {
      "cell_type": "code",
      "source": [
        "df['strand'][0]"
      ],
      "metadata": {
        "id": "Wl6TR40WOoEv"
      },
      "execution_count": null,
      "outputs": []
    },
    {
      "cell_type": "code",
      "source": [
        "wright_way_compliment(seq_gene, 'minus')"
      ],
      "metadata": {
        "colab": {
          "base_uri": "https://localhost:8080/"
        },
        "id": "v-IymjtFOPeH",
        "outputId": "57fc28ed-246f-4efb-df1c-92d0f2ff9af1"
      },
      "execution_count": null,
      "outputs": [
        {
          "output_type": "execute_result",
          "data": {
            "text/plain": [
              "Seq('TTAACACGCTCCTGCCGAGTCCCAAAGAGTCACGAGTGTGAAAATGCCGAGTGT...GAC')"
            ]
          },
          "metadata": {},
          "execution_count": 82
        }
      ]
    },
    {
      "cell_type": "code",
      "source": [
        "#Nucleotide sequences and (reverse) complements\n",
        "\n"
      ],
      "metadata": {
        "colab": {
          "base_uri": "https://localhost:8080/"
        },
        "id": "w9Ib4PhOBHfh",
        "outputId": "f366f7ba-4171-4f88-f433-c594cbe7f84b"
      },
      "execution_count": null,
      "outputs": [
        {
          "output_type": "execute_result",
          "data": {
            "text/plain": [
              "Seq('CAGAGACGACGACGGCGGTTCGCGCGGGCTCCGAGGATGCGACGGCGCGGGCCG...ATT')"
            ]
          },
          "metadata": {},
          "execution_count": 65
        }
      ]
    },
    {
      "cell_type": "code",
      "source": [
        "# my_dna = Seq(\"AGTACACTGGT\")\n",
        "# print(my_dna)\n",
        "# # print(my_dna.complement())\n",
        "# print(my_dna.reverse_complement().complement())\n",
        "\n",
        "# # my_dna_rev = Seq(\"TGGTCACATGTA\")"
      ],
      "metadata": {
        "id": "P1toyKaqSTb0"
      },
      "execution_count": null,
      "outputs": []
    },
    {
      "cell_type": "markdown",
      "source": [
        "Теперь можем произвести транскрибцию, т.е. переведём последовательность ДНК в РНК."
      ],
      "metadata": {
        "id": "D5Nenbf0Db8Q"
      }
    },
    {
      "cell_type": "code",
      "source": [
        "m_rna = seq_gene.transcribe()\n",
        "m_rna"
      ],
      "metadata": {
        "id": "GSYs8dBgByuC",
        "colab": {
          "base_uri": "https://localhost:8080/"
        },
        "outputId": "86a55f35-dc5a-4338-f886-14cd51007124"
      },
      "execution_count": null,
      "outputs": [
        {
          "output_type": "execute_result",
          "data": {
            "text/plain": [
              "Seq('GUCUCUGCUGCUGCCGCCAAGCGCGCCCGAGGCUCCUACGCUGCCGCGCCCGGC...UAA')"
            ]
          },
          "metadata": {},
          "execution_count": 125
        }
      ]
    },
    {
      "cell_type": "markdown",
      "source": [
        "Теперь произведем трансляцию РНК в белок. Требуется найти первой вхождение 'AUG' в последовательность."
      ],
      "metadata": {
        "id": "U-NizempvY3n"
      }
    },
    {
      "cell_type": "code",
      "source": [
        "m_rna_start = str(m_rna).partition('AUG')\n",
        "m_rna_start_translation = ''.join(m_rna_start[1::])\n",
        "print(m_rna_start_translation)\n",
        "print(len(m_rna_start_translation))"
      ],
      "metadata": {
        "colab": {
          "base_uri": "https://localhost:8080/"
        },
        "id": "6Lz66kCnyau-",
        "outputId": "387fef48-5338-467a-cbf7-7208abf607c3"
      },
      "execution_count": null,
      "outputs": [
        {
          "output_type": "stream",
          "name": "stdout",
          "text": [
            "AUGGCGGCCCUAGUGUUGGAGGACGGGUCGGUCCUGCGGGGCCAGCCCUUUGGGGCCGCCGUGUCGACUGCCGGGGAAGUGGGUAAGCAAGCCCGGUUAGGCUGCAGACCUUAUCCCACUCUGUGAUGCGCCUCUCCUCCCAACCUUCCCCGUCCAGACCCCGCCAUUUUCCCGCCAGCGUACCCCCUUCCCCCAUUCGGUGCCCAUGGGCCCCAGCGCCAUAAACCCCUCGCGACCAAGGCAGCCUCCACUGGGGCGUGCUCAUCGCGCGGGGAGUGUUCCGAAGGGUGCCCUACCGGAGCCCAGCCCUGCUUCUUUCUUGCAGUGUUUCAAACCGGCAUGGUCGGCUACCCCGAGGCCCUCACUGAUCCCUCCUACAAGGCACAGAUCUUAGUGCUCACCUAUCCUCUGAUCGGCAACUAUGGCAUCCCCCCAGAUGAAAUGGAUGAGUUCGGUCUCUGCAAGGUAGCCACACCCAGUGCUUUCUCUACAUUCCUUUUCAAGUCAGUAAUUGUUAACUAUUAGUGAAGUAGGAGACGUUGACACCCUGCUGGGCAUCCUGCAGAAAACAUACCCACUGAAGUAGUAAAGUCAAGGACUAAGAUCACUAGUAACUGUAGUUAGGGGUUGUUAAGUGCCUUGGGAGGCACAGAGUGUUGGAGGCCUCAGGAAAAAGCUACCGCCUUUGUUAAGGGCAUCAAGGCUCCAGGUAUAGCUGAAAGCAUUCUGUAUGUAGUGAAGGCAUGGAUCAAGGAAAAGUAAAAGAGGUGUAAGGGAACAGCCUUGUCCAACUUGUUAGGCAUGCAGAAGUCAGGAGAAAAAAGCCUGCAGAUAAGUUAAAUCCGGUGGGCAUGGAGGGACCUGAAGCCAAAGCAGAGUCAGCUUAGUUUGGUAAAGGAUCCAUUGAAGGUUUUUUUUUAGCAGCAGAGUCAGAUGGGAGCAGUGCUUUUUAGGACUACAUAAAUUAGUGGAAAGAGACUGGAAACUAGGGUCACAUACUUCUCUGUGACAGUGAGUGCCAGUUUACCUACAAAACCAGUGACAUUAUCUUCUAGACCUACUGACAUGGCCUCGUCUGAUUCUCUGCUUUUCAGUUGUGUUCUUACCUCUAGGUGAGAAAACUGAGUUUCUUCCUACAGUGAGGUUUCCCCUAUUCCUUCACCUCUGAAAUUUGGAAACUAAGUUGCCCUCUGACAGUUCAAGCAUUAAAAAAAACCCAACAUAUAGUAAUUAAGGUAAUAGAGGAAGUCAAUCUGGCCUAGAGUAGUAUCUCUCAAAAUUUGUUUGGCCUCACUGCAGGUGUAAGCCUUUAAUUCUUAAUUUGCCUUCCCAGCCACCCUGACGCUGGGGAGAGUGAGCUCCGGAUAAAGGACGUACAUGUUGUUCUUCCUGGAAAAGAAUUUCUAGGUUCAUCACAAACCUACAAAUACACUGCAUUCUAGUUGAUAGUGAAUUCUUGUGAAUUUGGUUAACCUUUGUCAGUCAUCACCUUUGUCAACUCUAGACACACUGACUAAAUUGAGUUUAUAAAACUACAAAAUUGAGGCCUGAUUAGGAUCAGGGUGGGAAAGGCCUCUUGGAGCCACUCGCACAUAUAAAUGGAUUACUCCACCUGGCCAGGGAGGGUUCUGCCAAACUAUCCUUCAGAUCCCUGGACAGUCUCAGAAUGCAGGUUCCUUAAACUGUUCAUCACCCAGCUGAAUGCAGUUUAAAUAUGCUGAUCCCUCCCACAUAAACUUUCUGUUUCUAUGUAGCUAUUAAACGCUUAUCUAUUGAGUAACAAGUUUAUGGUUUUUGUUUUUUUUUUGGGGACAAGGUCUCACUUUGUCACCCAGGCUGGAGUGCAGUGGCAUAAUCAUGGCUCACUUGCAGCCUCUGCCACCUGAGCUCAAGUAGUCCUCCCACCUCAACCCCCCAAGUAGCUGGGACUACAGGCACCUGCCGCCAUGCCUGGCUACUUUUUUUGUAUUUUUUGUAGAGACCGGGUAUUGUCACAUUGCCCAGGCUUGUAUGUUAUCUUUUUUUAUUUAAUUUUUUUUUAUUUUUAUUUUGCUUUGAGGUAGAGUUUCUUUCUUGUUGCUCAGGUUGGAGUGCAAUGGGCAACCUUGGCUCACUGCAACCUCCGCCUCCCGGGUUCAAGCUAUUCUCCCACCUCAGCCUCCCGAGUAGCUGGGAUUACAGGCAUGGGCUACCAUUCCCAGCUAAUUUUGUAUUUUUAGUAGAGACAGGGUUUCUCCAUGUUGGUCAGGCUGGUUUUGAACUCCCGAUCACAGGUGAUCUGCCCACCUCGGCCUCCCAAAGCGCUGGGAUUACAGGCGUGAGCCACCGCGCCUGGCCUUUUCUUUUUUAAAUAAUCCCAAAUGAAGUUUGGGAGGCAUGCUUAGUAUUGUGCCCUGAACCUUUGUUUUUUAUUUGGUAAUGGGGUAUUUUGUACCUCCCUAUCUUACUCAGUUUUUAAUCACACUCUAUAAUUAAUAUUUAUAUGGGUGUUACCUUGUUUUCUAGCUCCCUAAGUCAGAAAUAAACAUCAUGAAGACAGGAACCUCAUCUUUUUUUGCUCAUUGCUCUUUUCUCAGCAUCUUUUGCAAUGCCUGCACCUCAAUAAAUGUCUGACUGACACCAUGUGCCUUGCUCUUGAGUUCUCUGUUUCGUGACAAAGACACAAAUACAUAUUCAUCAUAUGACGUAAAUAGCAAGAGAGGAAAUAAAGUAUUAAAACAGCUCUAAGAUGGAGGCACAAGCUGUAUUGGGUGAGUGGGAGGGGCUUCACAGAGAAAGGAUUUGUGAUUUCAGUUUUAGAUAAAGGAAGAAAGAGGCGGGGCGCGGUAGCUCAUGACUUGUAAUCCCAGCACUUUGGAAGGCUGAGGUGGGGGGAUCGCUUGAGCCCAGGAAGUUUGAGAGCAGCCUGGCAACAUGGUGAGACGCUGUCACUACAAAAAAUUCAAAAAAUUAGCCAGGUGUGAUGAUCCACACCUGUGGUCCCAACUACUCAGGAGUCUGAGGUGGGAGAAUCACUUGAGCCCAGGAGAUUGAGGCUGUAGUGAACCGUGUAUUUGUGCCACUGUACUCUGCACUCCAGCCUGGAUAACAGCAAGACCCUGUCUCAAAAAAAAAAAAAAGGAAUGGCUAGGUGCGAUGGCUCACUCCUGUAAUCCCAGCACUUUGGGAGGCUGAGGUGGGCAGAUCACAAGGUCAGGAGAUCUGAGACCAUCCUGGCUAACAUGGUGAAACCCCGUCUCUACUAAAAAUACAAAAAAUUAGCCGGGUGUGGUGGCGGGCGCCUGUAGUCCCAGCUACUCGGGAGGCUAAAGCAAGAGAAUUGCUUGAAUCCGGGAGGCAGAGGUUGCAGUGAGCUUAGAUGUCGCCACUGCAUUGCAGCCUGGGUGACAGAGUGAGACUCUGUCUCAAAAAAAAUAAAUAAUAAAUAAAUAAAAAGGAAAAUGUCAUUUUCAGUGAUCAUCGGGGCACCCUGGGCCUGUGGGUUGUGUUUCGUAUAGGAGAGAGCGUUGUUGGUAAAUGGAAAUACCUAUGCAAAAGCACCAAAAGUUUGGUAUAUUGAAGGCCAUUCAAUGUGGCUGAAUAUAGGGUCUGUGGCCACACAAUCGGGAAAAUGCUGCAAAGAAAUAACUUGGCCUGAGGCUUCUCACAAUCUCUUUCCAUCUACAGUGGUUUGAAUCCUCGGGCAUCCACGUAGCAGCACUGGUAGUGGGAGAGUGCUGUCCUACUCCCAGCCACUGGAGUGCCACCCGCACCCUGCAUGAGUGGCUGCAGCAGCAUGGCAUCCCUGGCUUGCAAGGUAUGGUGGCAAGCAGGGGCAUAUUUGGGCAGAGCACAGCAUGCCUGGAUGGAAAGAAUCAAGGUUUCUGUAAUCUGCUGGGACCUGACUCUAAGAUUGUGAUAGUUGGAAGGUUUAGAUUGGAGUUGGGCUGGGAGAAAGAAUUGAACUAUCACUCAGAAAGAAAAUUUCCAACACAGGAAGGAACUCCCACCUUCCAUAAUCAUCAGCUUAGGGCUAAUCUUAUUUCAUCACCACCACUGGAUUAUUUUGAUGCAAAUCUCAGACAUCAUAUCAUUUCAUCUACAAAUAGUUCAAUAUCUAUGCAAAAGGAAUCUUUAAAAAACAUGAUCAUAAUAACGUCAUACACUAAAAAAAUUAAUAAUUCCCUAAUACAAGUGUCCAGGCAAUGUUUAAAAUUUCCCAAUUUUUUUUUUUUUUUUUUUUUUUUUUUCUGUUCAUUUGAAUCUUGCUCUAAACAGGGUUCACACAUUGCAUUUGGUUGAUAAGUCUCUUAAUCUGUGGACCUUGUAACCUAUUUGAAAACAGGUCAUUUUUCCUGUAUCUAGUAUCCCAUAGUCUGCACUUACUUGGUUACACUCCUGUAGUGUUACUUAGCGUAUUCUUUUUUUCCCUUUAUAUUAUUUUCUAUAAAUGGAUAGAUUUAGAGUUGUUCAAUUCAGAUGUGAUAUUUUUGGCAGGAAUACUUCAUGGUAGUAUACUUCUGUCACAAUGGCCCAGGAUUUUGAUGCACAUAGAACAGCUGUGUGUGACUGGGGCUCUGGAAUGGAAGUGCUUCUGGAAGUCUAACCUCACAGAUGACUGAGUUGUAGGAAUGUGAUCCCUAAGACUGUGCUAUUUUGACAGGAGUAGACACUCGGGAGCUGACCAAGAAGUUGCGGGAACAGGGGUCUCUGCUGGGGAAGCUGGUCCAGAAUGGAACAGAACCUUCAUCCCUGCCAUUCUUGGACCCCAAUGCCCGCCCCCUGGUACCAGAGGUCUCCAUUAAGGUACAGAGGUAGAGUGGGAGAGUGUUGCAAGCUCUAGCACAGUAGUUAUAUUCUGCCCACAAUUGGGGGGUGAACACAGGAGAGAAUCAAAGGAGGCUUUGAAGGUAGGAGUUGGUGCAGGCAUAUCUUAUACCCACUGAGCACAGCUGCCAACUGUUGCCCUUUAUUCGUCUAUUUCUCAGACUCCACGGGUAUUCAAUACAGGGGGUGCCCCUCGGAUCCUUGCUUUGGACUGUGGCCUCAAGUAUAAUCAGAUCCGAUGCCUCUGCCAGCGUGGGGCUGAGGUCACUGUGGUACCCUGGGACCAUGCACUAGACAGCCAAGGUGAGUAGCUGGGGCCUGUUCAGGGCCUCAGACAAGCAGCUUGGGUGGAAGAUCUAUCCCUUGGUCCAAUUGCUAAAAGUCAGUAGGAGUUGCAGUGAAGAAGAUAGACAUUGGGACUUAACACUCUCAUGGGCUGGGGGGGCUGCAGGUGUGUCUCCUGUAAUUGAAAUACUGAUUUUGAUGUCAUCUUUUCUGCCCACUCCAGAGUAUGAGGGUCUCUUCUUAAGUAAUGGGCCUGGUGACCCUGCCUCCUAUCCCAGUGUCGUAUCCACACUGAGCCGUGUUUUAUCUGAGCCUAAUCCCCGACCUGUCUUUGGGAUCUGCCUGGGACACCAGCUAUUGGCCUUAGCCAUUGGGGCCAAGACUUACAAGAUGAGGUGGGACUUGUGGGGAGCAGAAGGGGCCCAUACUUGUGGCAUGAGGGGUGGGGUGUCUCAGGAAUGAGAAGAGAGUUGGUGUUUAUUCGUGUUGAAAUAGGAGCGGGGGGGUUGCAGGUGAGGUGGCUCCCACCUGUAAUCCCAGCACUUUGGGAGGCCAAGGUGGGCGGAUCACUGGAGGUCAGGAGUUCGAGACCAGCCUGGCCAACAUGGUGAAACUCUGUCUCUACUAAAAAUACAAAAGUUGGCCAGCCAUGGUGGCGUGCGCCUGUAAUCCCAGCUACUCCAGAGGCUGAGGCAGGAGAAUCGCUUGAACCUGGGAGGUGGAGGUUGCAGUGAGCGGAGAUCGUGCCAUUGCCCUCCAGCCCGGGAAACAGAGGGAGACUCCGUCUCAAAAAAAAAAAAAAAACAAAAAGGAAACAGGAGUGAGGCUACUGAGAACAGGAGAUCGGUGAGAGCUGGGGUAGGUUCAGUAGUGAAGAGAGGGUGAGCAGGGCCUGUGACUCGGCAUGCUUCUACCUCCAGAUAUGGGAACCGAGGCCAUAACCAGCCCUGCUUGUUGGUGGGCUCUGGGCGCUGCUUUCUGACAUCCCAGAACCAUGGGUUUGCUGUGGAGACAGACUCACUGCCAGCAGACUGGGCUCCUCUCUUCACCAACGCCAAUGAUGGUUCCAAUGAAGGCAUUGUGCACAACAGCUUGCCUUUCUUCAGGUGAGCCUGGUUGACUGGGUCUGUGAAAAUUUGAAGCCCUGUGGGCCUUGAUGAUGGAAAAGUAAAGCACGGCAGUGGAUCCGAGUCCCCUGUCCCACUACCCACCUCGAGGCUGCCAGUGUCAUGCCAGGGACCAUGAUGGUUUUCAUGAUGCAAUCUCUUCAAUAGUGUCCAGUUUCACCCAGAGCACCAAGCUGGCCCUUCAGAUAUGGAACUGCUUUUCGAUAUCUUUCUGGAAACUGUGAAAGAGGCCACAGCUGGGAACCCUGGGGGCCAGACAGGUAAGAUCCUGAGUAGAACUGGGUUGUGGACCUAAGAACAGGGUUGGCUCCAGGAUGGGCAUAAGGUGGACAUGCCCUGGGCAACUCCUAGAUGUCUAGGAGGUUAAGGGUAUUGGGGAUGGGUGGCAACCAACCCAAGAUACCGUUUAAGCUUCUGUUGAAAGGAACUCCAGGGUCCUGGGUUCUGGUCCUCCCUCUGCUCCUCCUGAGGUGCAUAAUUUGCUCUGGACUCUUCUGAAAGCGAGGGAGCUAAUCCAGUUGACCUCUUGGGUCCAGCUCAGCUCUAACAUUCUACGACCUUCUUUGCUUCCACAGUUAGAGAGCGGCUGACUGAGCGCCUCUGUCCCCCUGGGAUUCCCACUCCCGGCUCUGGACUUCCACCACCACGAAAGGUUCUGAUCCUGGGCUCAGGGGGCCUCUCCAUUGGCCAAGCUGGAGAAUUUGACUACUCGGGCUCUCAGGUGAGGCAUGUUCCUCCCCACCCUUCUGGGCGUGUGACCCUCAAGAAUGGAAAGGGUCUUAAGGAGAAGGGCUAAGGUUGCAGGGAGGAAAUGAACCAGAUUUGGGGAAUGUAGAGAAAGAUGUAGUAAGAAAUAGAAGUCAAUUAUUAGGGGCCAAGAGUACAGGGAGGGAAAGAAGAGGAGAAUGCUACUCUAAGGCUGUUUGCAAUUUUGCUUCUUCAGCAGAGGCUGAGAUGCCAUUCUUGUCCUUUUAGGCAAUUAAGGCCCUGAAGGAGGAAAACAUCCAGACGUUGCUGAUCAACCCCAAUAUUGCCACAGUGCAGACCUCCCAGGGGCUGGCCGACAAGGUCUAUUUUCUUCCCAUAACACCUCAUUAUGUAACCCAGGUAUGACUGGGGCAAGGCUGGAAUGAAAAGAGGACUGGGCAGGGGGGCCCAGUGGUCACUGUGGGUUAUUAAACUUUGAUUGCCUCUCUACCCACAAGGUUCUGAUGCCUGUAACUCCCCUCUCCAUCCUCAGGUGAUACGUAAUGAACGCCCCGAUGGUGUGUUACUGACUUUUGGGGGCCAGACUGCUCUGAACUGUGGUGUGGAGCUGACCAAGGCCGGGGUGCUGGCUCGGUAUGGGGUCCGGGUCCUGGGCACACCAGUGGAGACCAUUGAGCUGACCGAGGAUCGACGGGCCUUUGCUGCCAGAAUGGCAGAGAUCGGAGAGCAUGUGGCCCCGAGCGAGGCAGCAAAUUCUCUUGAACAGGUUGGAGGGGUGUUUGGGUAAAGGAAGAAUGGUGGUGUUUUUUUUGGUAGUGUUAUUUUCUUUUUUUUUUUUUUUUUUUUGAGACGGAGUUUCGCUCUUGUUGCGCAGGCUGGAGUACAGUGGCGUGAUCUCGGCUCAUCAUAACCUCCACCUCCCAGAUUCAAGCGACUCUCCUGCCUCAGCUUCCUGAGUAGCUGGGAUUACUGGCAUGCGCCACCAUGCCCAGCUAAUUUUGUAUUUUUAGUAGAGACGGGGUUUCUCCAUGUUGGUCAGGCUGAUCUCGAACUCCUGACCUCAGGUGAUCCACCCCCCCGACCCUCGGCCUCCCAAAUUGCUGGGGUUACAGGCGUGAGCCACUAUGCCCAGCCAUGUUAUUUUCUUUAUAUCUUUUUUUAUGUGGGACAGGCACACCUUGGACAGUAGGAAAUAACCUGUUUGUUCAUCUCUUCCACUCAUUGCAGGCCCAGGCAGCCGCUGAACGGCUGGGGUACCCUGUGCUAGUGCGUGCAGCCUUUGCCCUGGGUGGCCUGGGCUCUGGCUUUGCCUCUAACAGGGAGGAGCUCUCUGCUCUCGUGGCCCCAGCUUUUGCCCAUACCAGCCAAGUGCUAGUAGACAAGUCUCUGAAGGGAUGGAAGGAGAUUGAGUACGAGGUGGUGAGAGACGCCUAUGGCAACUGUGUCACGGUGAGUGAAUGGGGGAAGGGUGGGCGUCGUGUCAGGCAGGAUGAGCUUUUGGAAGAGCAGAGGCCCAGGCCAAGGUCUUUGAGAGUUGUAUGUCCCUCAGACCCAGGUUAGGUGCAGCCCCAGAGGUAACAGGACCCUGGGGUGCAGCCUUCUGCCUCUCCUGACUCUGCUUGGCAGUGACCUCCAUGGCACCCCCCUUCACAGGUGUGUAACAUGGAGAACUUGGACCCACUGGGCAUCCACACUGGUGAGUCCAUAGUGGUGGCCCCUAGCCAGACACUGAAUGACAGGGAGUAUCAGCUCCUGAGGCAGACAGCUAUCAAGGUGACCCAGCACCUGGGAAUUGUUGGGGAGUGCAAUGUGCAGUAUGCCUUGAACCCUGAGUCUGAGCAGGUAAGCUCUAGGCCCUGGAACUGAUAGUCUAGUUGUUACCCCCUCUUCUUGUAUAAUUUUUGGCCCUUGAGGUUGAGGUCUUUUGGGCUUACAGUCCCUGGAGUACAAGCUGGAAUCUUCUUUACUAGGUUACUUUUCUCUCCUUUCUGAGACCUCUCCUAGACAGGGUCUUCUAGGCCAGUGACUUUAUUCUCCUUCUUUGCAGUAUUACAUCAUUGAAGUGAAUGCCAGGCUCUCUCGCAGCUCUGCCCUGGCCAGUAAGGCCACAGGUUAUCCACUGGCUUAUGUGGCAGCCAAGCUAGCAUUGGGCAUCCCUUUGCCUGAGCUCAGGUACGAGGAUGAGGGAGAUAUCACAGUGGGGAAGUGGGUCGGGGGCUGAGGAAAAUAUUGAUGGGACAGGGAAUAUGAAAAGGACAUUGGCCUGGAUUUGUGGGAAUGGAAAGAGCUAUCCGGAAGCUCACCCUUUAUGCUUCCUUCACUGUCCUUCUGGCAUCCCACCUGCUGGACCCCAGGAACUCUGUGACAGGGGGUACAGCAGCCUUUGAACCCAGCGUGGAUUAUUGUGUGGUGAAGAUUCCUCGAUGGGACCUUAGCAAGUUCCUGCGAGUCAGCACAAAGAUUGGGAGCUGCAUGAAGAGCGUUGGUGAGACUCAUGCCCUGGGCACCCCCAUGGGGCCCCACCAUGACCAAGAAUCUUAAAUGUCAAGAGUUCCCUGGCAUGGCCUUUUACGUCCUAUGGGAGCAGGUGCUUGAGACAUUUCAAACUAAGAUUAUAGUCCUUGUCAGGAGUUGGGGAGGCAUCUGGAAAUCUGUGUUGGAAUACAGAAUCUCUGGGAUAGGUGCAAGCCAUCAGACUAUCUCAUCUCAUUUUUGCAGUAUCUCCUCCUCUGGCACUUUGUGCUUUGGUCACUAAAUGACCUUUUUUUUUAGUAUGAUGUUUACAUCAGAGCAGGGCAUCAUAAACCUUUUUGGUAACAAGGAAAUUUAUUAGUGAAUGAUGAAUGGCCGUAACGUUACCCAGCAGUGGCAGAGCAUGUUAGAAUUGAGUUAGUAUGUUUCUUUGUGGUAUCCCUUUAGUUGCCGAAGACCGUCCUCUAACACAUUUCAACCAAAACAAAAAUAUACGUGUACCAGACACAGCGCCACCAGCCUGAUGGAUAAGAGCAUUUUGUGGUGCUCCAGAUUUCCAUUUAGAGCAGUAGUGGCCUUUAAACAAGUAAGUCUAAGCUCAGAUAUUAUUUCAGAAUUUUUAGAAAUUCUGCAAGACUGCCAAUUUUUUCCUUCUGGAGAUGAAUCUCUGUUAUAUGAAAAUUAGAAUAAACAUGGGAAUGAAGCCAUAAUUAAAUUGUGGCAAAAAGAAGUGGAUUGAAAAUAGGCCAAUGAAAGAUUGGUUCCUAGAUGAGACAUUUAAUUGUUUUACAUCUGUUCAAGUAUUCUUGGAAUGUGGUCUUCUUUGGUAACUUUUUGUAACUUUUAUUAUACAAGUAAGAAACAUGAAUCAUGGAAAACGAGGAAAGAUAGUUUAACCAAAGAACAGUAGUCACCUGUAAUCUUGCCUUACAGAGAUUGAUUAAUUCGACCGUGUAUCUGCGACUGCAUAAUUCAGCCGUGUAUCUACGACUGCAUACAUUUCUAGGCAUAUGUGUAUGCAUGUAUUAGGCUUCUCCUUUUUUAACAAAUCUCAAAAUAAAAAGUCUUACAACCACAGUUACAAAGAAAUUGAACAAAAUCAGUCACACUACUGUUAACAUCGUAGUGUUUUUAAAACUUUUUUAAAGAAAUGUAAAUGUUAGGAUUGUAAAUAGAAAAAUACACUUGGUAAGAAAUACUUAAGCCCCUAGAGUAAAUAGUCAGAGGAGAUGAACAACACUUUACAGAAGAAGAAAUCAAUAAGCAAACCUAGAGAAAAGACGGUUCCUCUCAUUAGUAAAUAGAAAUCUAGUUAAAUGAGACUCUGUUUAUGCCCACUUCUUAGAAGGUUGCUUAAACUUUGUAUUAUGAAGCACAGACUUCUAUAAAGUUAUUCGUACUCAUCAAGGGCUAUAAAAUUUGUGUUACCUAUUGCCUCUACAUAUCUGGAAAUUUAUCCUAAGGAGAUUAUCCAAAACAGAAAACAUCAUAUCCAGUCCAGGCACGGUGGUUGUAAUUAAUCCCAGCACUUUGGAAAGCUCAGGUGGGAGGAUCGCUUGAGCCCACGAGUUCAAGGUUGCAGUGAGCUGUGAUUGUACCACUGCAUUCCAGUCUGGGUGCCAGGCUAAGACCCUGUCUUUUUUGUUUGUUUGUUUGUUUGAGACGGAUUUUCAUUCUUGUUGCCCAGGCUGGAGUGCAAUGGUGUGAUCUCGGCUCACCACAAUCUCUGCCUCCUGGGUUCAAGUGAUUCUCCUGUCUCAGCCUCCAGAGUAACUGGGAUUACAGGCAUGUGCCAUCACGCCUGGCUAAUUUUGUAUUUUAAUAGAGACAGGGUUUCUCCCUGUUGGUCAGGCUGGUCUUGAACGCCCGUGCUCAGGUGAUCCACCCACCUUUGGCCUCCCAAAGUGCUGGGAUUACAGGCCACUGUGCCUGGCCGAGACCCUGUCUCUUUUUUCUUUUCUUUUUUUUUUUUCUUUUUUUUUUUUUUUGAGGCAGAGUCUUCCUCUGUCGCCAGGCUGGAGUGCAGUGGUGCUAUCUCGGCUCACUGCAACCUCUGCCUCCCAGGUUCAAGCGAUUCACCUGCCUCAGCCUCCUGAGUAGCUGGGACUACAGGCGCGCACAACCACGCCCAGCUAAUUUUUGUAUUUUUAGUAGAGACGGGGGUUUCAUCAUACUGCUUAGGAUGGUCUCGAUCUCUUAACCUCGUGAUCCGCCUGCCUCGGCCUCCCAAAGUGCUGGGAUUACAGGCAUGAGUCACCAUGCCCGGCCGACCCUGUCUCGUUAAAAAAGAAAGAAAACAUCACAGCCUAACUUAUAAUUAUGAAAACUUUUUUUUUUAAUACGGAGUUUUAUUCUGUCACCCAGGGUGGAGUGCAAUGGUGUGACUUAGCUCACUGCAGCUUGGAUCUUCUAGGCUUAAGUAAUCUCCCACCCCAUCCUUCUGAGGAGUGAGACUACAGGUGUACACCACCACACCUUGCUAAUUUUUUUUUUUAAUUAUUAUUUGUAGAGAGGGAGGUCUCACUAUGUUGUGCCGGCUGGUCUCAAUCUGCCUUAGGUGAUCCUUCUGCCUCAGCCUUCCAAAGUGUUGGAUUACAGGUGAGAGCCACCAGGACUGCCUAAUUGUAAACACUUAAAAGCGAAAUGGGCCGGGCGCGGUGGCUCAUGCCUGUAAUCCCAGCACAUUGGGAGGGUGAGGUGGGCAUAUCAUGAGGUCAGGAGUUUGAGACUAGCCUGGCCAAUAUGGUGAAACCCCAUCUCUAGAAAAUAUACAAAAAUUAGCUAGGCAUGGUGGCACGCACCUGUAGUCCCAGCUACUCAGGAGGCUGAGGCAGGAGAAUCGCUUGACCUCAGGAAGCAGAGGUUGCAGUGAGCUGAGAUUGCACCACUGACUCCAGCCUGGGCAACACAGUGAGACUACGUCUCAGAAAAAAAAAAAAAAAAAAAGCUAAAUGUCCUUCAGUUAGUAGUUAAAUUAUGGCAGAUCAUACAAGAAUUAAGUUAGUUGGUUGGGCGCAGUGGCACACGCCUGUAAUCCCAGCACUUUGGGAGGCCGAGGCAGGUGGAUCACCUGAGGUUGGGAGUUCGAGACCAGCCUGGCCAACAUGGUGAAACCCCGUCUCUACUAAAAAUACAAAAAUUACCCAGGCAUGGUGGCAGGUGCCUGUAAUCCCAGCUACUUGGGAGGCUGAGGCAGGAGAAUCACUUGAACCCAGGAGGCACAGGUUACACUGAGCUGAGAUCAUGCCAUUGCAGUCCAGCGUGGGUGAUGAGAGAAACUCCGUCUCAAGAAAGAAUUAAGUUGGUGUUGAUGAGGCCAUGUGGCAAUGUGGGAAAAUGUAUGAUGAGGAAAAAACACAGGAUGGAAAUUAUAUGUAUGCUGUGAUGAUAUGUAAAACAUACCUAUGAAGGGCCCGGCACGGUGGCUCACGCCUGUAACCCCAGCACUUUGGGAGGCCGAGGCGGGUGGAUCACGGGGUCAGGAGUUUGAGACCAGCUUGGCCAACAUGGUGAAAUCCCGUCUCUAAUUAGCCAGACAUGGUGACACGCACCUGUAAUCACAGCUACUCAGGAGGCUGAGGCAGGAGAAUCUCUUGAACCCAGGAAGCAGAGGUUGCAGUGAGUCGAGACCGUGCCAUUGCAUUCCAGCCUGGGCAACAAGAGCGAAAGUCCAUCUAAAAAAAAAAAACCUAUGAACCUAUGAAGAAAAGUCCAGAAAGAGAAACUCUAAAAUGAUUGUUGUAAAUGUGAUUUGCUCUGCAUGGAUGAGUAGUAAGGAUCAUCUUCCUAUUAUCUACACUUUUUUAAAAAGUUUUAAAGAAUUCCAGUUGGUGUUAUGAUUAUGUGAAUAAAUCAAACCCAAUAACUGGACAGCCAUCAGUGGUUUGGGCCACUGUGAUAAACUUCCAGUAUCCAGUGUAUGGGGAUAUAUUCCAGUAUCCCCAUGCCCGUUUUAGGCAUAUUGAUUCCAUAUUCAUCAAUAAGCACAAAGCCUGAGCUUAUCCAUGAAAAUAGCAGGGAAAAGAGCUAUAAGUUAAGAUUUCUUUUUGUUUGUUUGUUUGUUUUGUUUUGUUUGAGACGGAGUCUCGCUUUGUUCCCCGGGCUGGAGUGCAAUGGUGUGAUCGCUGCUCACUGCAAGCUCCACCUCCCGGGUUCACGCCAUUUUCCUGCCUCAGCCUCUGGAGUAGCUGGGGCUACAGGCGCCCGCCACCACUCCCGGCUAAUUUUUUUGUAUUUUUAGUAGAGACGGGGUUUCACCAUGUUAGCCAGGAUGGUCUCGAUCUCCUGACCUCGUGAUCCUUCCGCCUCAGCCUCCCAAAGUGCUGGGAUUACAGGCGUGAGCCACUGCGCCCGGCCAUUAAGAUUUCUUAGUUGUGAAACACCAUGAAUCCCACCAUCAUGUGACUUGCCUUGAGAAUCUCCCAGAGUCUUGACUAUAAACCAUAAGCAUUAUGGGCAGUGCCUUCUUCCCACCCCUUCCACCUCCACACCUUCAUUCCUUCCAUUCUGUUCUUCCAGGUGAAGUCAUGGGCAUUGGGCGUUCAUUUGAGGAGGCCUUCCAGAAGGCCCUGCGCAUGGUGGAUGAGAACUGUGUGGGCUUUGAUCACACAGUGAAACCAGUCAGCGAUAUGGUAAGUAGCUCCCCUCCCCUGGCAAUACCCCUAAAAUAGACCCUGCUUCUCAUCGCCCCCAGACCAUGAGCUUGUUACCAGUAACACUAGCAGCAGUCAUCAUUGGACAUUUGCUUUGUUUCCACUUUGCUGAGAAUUUUGAGAUGUCUCAUUAGCACGCAAGGGUGUAUUACUAGACUUGUUUUUACAGAUGAGGAAACUGAGACAUAGGUUAUAGAAAUUACUCAAAGCCACAUAGCCAAUGAGAGGUAGACCCAGGAUUGGUAUCCAGGUUUUUGCAGUUACACAGCCUGUGCUCUGGUGUACAGUUUCCCCUUCCUGAGACAAGAGCAGCUACUUACGCUCAGGCUUUUAGAUGGGCUGGCAGUAGCUUCCGUCUGUCUACCCCCUUUCUAUCAGGAGUUGGAGACUCCAACAGAUAAGCGGAUUUUUGUGGUGGCAGCUGCUUUGUGGGCUGGUUAUUCAGUGGACCGCCUGUAUGAGCUCACACGCAUCGACCGCUGGUUCCUGCACCGAAUGAAGCGUAUCAUCGCACAUGCCCAGCUGCUAGAACAACACCGUGGACAGCCUUUGCCGCCAGACCUGCUGCAACAGGCCAAGUGUCUUGGCUUCUCAGACAAACAGAUUGCCCUUGCAGUUCUGAGGUCAGAGGUGGCAAUGAGAGCUUCCGGCUGGGAAAUGUGGGGCAGAACCUUUGUAUCAGUGAGGGACCCUUGGGAGGGAGGAAGGAGAGUGUGGGAGAGCUUUAGAGGCUUCUGACCUUGGUUCCAAGGAUAUUUCCUCUCAUCUGUGCCCUGGGGUCUCAACCCUCUAUCAGUCUGUACCCUACUCUCUGGGCCUGUGUUUCAGACCCUUUUUCUAUUUUAGCACAGAGCUGGCUGUUCGCAAGCUGCGUCAGGAACUGGGGAUCUGUCCAGCAGUGAAACAGAUUGACACAGUUGCAGCUGAGUGGCCAGCCCAGACAAAUUACCUAUACCUAACGUAUUGGGGCACCACCCAUGACCUCACCUUUCGAACACCUCAUGUCCUAGUCCUUGGCUCUGGCGUCUACCGUAUUGGCUCUAGCGUUGAAUUUGACUGGUGUGCUGUAGGCUGCAUCCAGCAGCUCCGAAAGGUCAGAGAGUUCAUUUUCUUUCCACUUUCCUUGCUAUUCUGUUCAUCUCUAGCAAUUGCUUGGCACUAAUCCUGGCAUUUCCUAUUAAUUGCCGUCCCUUACUUUGGUCAUAGAGCUUUGGGGUGGGGGUCCUUUUAGGCCAUCUCUCAUGCCCCACACGGUAUAUGAAUCUCUUCCCCAACACUUUGUACCUCCUUCCCUCCCAAGGCAGGGGUCCUGUACAGCUCUUUCAGAGGAAGCUGUGCUGGCAGUCUCUGAAGUAGGGGCUUUGGCUUAGUUUCUCCACGAUUUUCUCCACGAUUUUCCUCCCACCUGACUGCUAAGUACCCUUCCCCUCCCUCUUGCAGAUGGGAUAUAAGACCAUCAUGGUGAACUAUAACCCAGAGACAGUCAGCACCGACUAUGACAUGUGUGAUCGACUCUACUUUGAUGAGAUCUCUUUUGAGGUGAGGGAGAUGGAGGCUUCCUGGUAGCUUGAGUGGCCAGGGUCGAGUAGAACAGCUGGCUGACCUAAGAUUCUUUGAAACUUGGUGGCGGCUGAGGGAAGCAGUGAGCAGGAAGGCUCAGAUUCCUGCCCUCUUUUGCUGCCACCACUUGUUUCUCCCCCUGCAACGUAGGUGGUGAUGGACAUCUAUGAGCUCGAGAACCCUGAAGGUGUGAUCCUAUCCAUGGGUGGACAGCUGCCCAACAACAUGGCCAUGGCGUUGCAUCGGCAGCAGUGCCGGGUGCUGGGCACCUCCCCUGAAGCCAUUGACUCGGCUGAGAACCGUUUCAAGUUUUCCCGGCUCCUUGACACCAUUGGUAUCAGCCAGCCUCAGUGGAGGGAGCUCAGUGACCUCGAGGUGGGCUGGGACCUGGUGGGUUACCCGGAGGCUGGAUGAUGCUUGGGGGAAAGUGUGAACAACUCAGCUAAGCUCCCUGCCUCCUGUAGUCUGCUCGCCAAUUCUGCCAGACCGUGGGGUACCCCUGUGUGGUGCGCCCCUCCUAUGUGCUGAGCGGUGCUGCUAUGAAUGUGGCCUACACGGAUGGAGACCUGGAGCGCUUCCUGAGCAGCGCAGCAGCCGUCUCCAAAGAGCAUCCCGUGGUCAUCUCCAAGUUCAUCCAGGAGGCUAAGGUGGGAGGCUGCAGACAGUGAAGUCUCUGAGGGCAUGCUGCCAGCCCUGGAGGAGACUUCCUUCUCUGGUCCAGCAGAAUCAUAGGCACCAGGGCUGGGAACAGUGGGCUAUGUGGGGCUCGUUAAAGGAAGAGACAAUCCUAGAGUAAGUGAGAGAAGAAAGUGGCCCUAUGUCCCACUGUCUGUGUCCCCCCGCUAGGAGAUUGACGUGGAUGCCGUGGCCUCUGAUGGUGUGGUGGCAGCCAUCGCCAUCUCUGAGCAUGUGGAGAAUGCAGGUGUGCAUUCAGGUGAUGCGACGCUGGUGACCCCCCCACAAGAUAUCACUGCCAAAACCCUGGAGCGGAUCAAAGCCAUUGUGCAUGCUGUGGGCCAGGAGCUACAGGUCACAGGACCCUUCAAUCUGCAGCUCAUUGCCAAGGUAAUAAGGCUAAAGGAAAGAACUAAAGGGCCACAGCUCUUGCAUGUUCUGUGCUGGCCACAGUGCCAUGAAGCCCUGCACUGUCUCCUGCCUUCAUCCAAGUAGGCAGGGAAGCUGGAGGGAAAGGGCUGUAGCUAGAGCUCAUGGUGUUGGGGCUUAUGACAGUCAGUGACCCUGAACCCUGCUCAGUCUGAUCCCCCAGAGCUGAGGACGGAGAGGAAGAGUCUAGGCCUAUAGAUAGUGUCAGCAAGGCCAACCUGCAGAAGGCCUGACCAGUCUUCUCUGCCCCAGGAUGACCAGCUGAAAGUUAUUGAAUGCAACGUACGUGUCUCUCGCUCCUUCCCCUUCGUUUCCAAGACACUGGGUGUGGACCUAGUAGCCUUGGCCACGCGGGUCAUCAUGGGGGAAGAAGUGGAACCUGUGGGGCUAAUGACUGGUUCUGGAGUCGUGGGAGUAAAGGUAAGGAAUAUCGAAACCCUUGGGGUUAGCAGAAAAAUAGCGGGAGAGAGUUCACUCACCACACAGAGUUGUCAGUAUGUAAACCAGGCACUGACUGCAAGGCAUUGCCGGAUCGUGGGGGUAAUGAGGUGGUCAUUGUCCCUUAAGAGCUUACUUUAUGGUAAUGGGAGGGAAGAGAAGUUGGAUCCCCAAAAAAGCUUUGGUAUAGAACAGUCCGUGGUAAAACUACAUAUUCGACCUGUAAACAGAAUGCUGCAGGAGUUCAAGAGACAGGAGGUGCUGCUUCCAAAAGGGGUGAUCUGGGAAGGCUUGAGCGAAGGGGUGCUAUUUGAAUUGAGUUUUGAAGGAUGGUUAAGGUUUUUUAUUUGCAAGGGCACAUCCUAAGCAGAAGCUGAGGGAUGACCCCAAGUACGUUUGGAAAGCAGGAGGGCACACAGAGAGGGCAGGCUGACCCUGCCAUUCAGAUGGGAUCAAGCACAGGGUACUGUGUCCGUCUCUGCUGGUGAGGGAGGAGGUCCUCUCACACCUUGGCCCUCUCUCUUCCCUCCCGCCCCUUUAGGUGCCUCAGUUCUCCUUCUCCCGCUUGGCGGGUGCUGACGUGGUGUUGGGUGUGGAAAUGACCAGUACUGGGGAGGUGGCCGGCUUUGGGGAGAGCCGCUGUGAGGCAUACCUCAAGGCCAUGCUAAGCACUGGCUUUAAGAUCCCCAAGAAGAAUAUCCUGCUGACCAUUGGCAGCUAUAAGGUAUCAGAAUCCAGGAGGGCUUCCCGAGGGCCGUGGCUCCCUGGGCCAGGGCUGACCUUGAAAUGGAAGACAGGAAGAAAACAAUUUCAUCCUUCUGUUUGGUUUCAGAACAAAAGCGAGCUGCUCCCAACUGUGCGGCUACUGGAGAGCCUGGGCUACAGCCUCUAUGCCAGUCUCGGCACAGCUGACUUCUACACUGAGCAUGGCGUCAAGGUGCAGGAACUCUGGCAACCUACCCCACUGCUGCCCUUCCCCAAGGGGGUGAAAAUACUGCACCAAAGAAUUAUCUGGGCUGGGCACGGUGGCAUAUACCUGUAGUCCCAGAUACUCAGGAGGCUAAGGCAGGAGAAUCUCUUGAGCCCAGGAGGUAGAGGCUGCAGUGAGCUGCGAGUGUGCAGUGAGUGCACCACUGCACUCCAGCUUGGGAAACAGUGAGAUGCUGUCUCAAAAAAAAAAAAAACAAAGAAUUAUCUCCUAUUCCCCUGCUUUUAUUAUUACCAUUAUACUAGUAAGCUAUAUUCCAUGCAGAAAGCAGAAUACACAGGAAGCAAAGAGAAAAGUCUCUUAAAAUCUCUGUACCACUGUUCUGAUAUUUUUCCUUCCAGGAUUUUCUCUGUGUACAUGUGUGUGAGCUCAUACUGCACCUAGUCCUUGGUAACCCAUCUUACUUAGUGUAGAUAUCUUUCCUGCCAAGAAAUACACUUUGCCAGUAUCAAAUAGAGGCAGCCCUCAGUGCCCACCCUAUGGGUCCUCAGUCUCCUCAUCAUGGGCUCCUGGGCCAGCUCCUCUCCCUUAAGGCUAGCCUUCCUGACCGCUGCCAGACAGCUUGGCCCUGACCUUGACUCCGGGUUGGCAGGUAACAGCUGUGGACUGGCACUUUGAGGAGGCUGUGGAUGGUGAGUGCCCACCACAGCGGAGCAUCCUGGAGCAGCUAGCUGAGAAAAACUUUGAGCUGGUGAUUAACCUGUCAAUGCGUGGAGCUGGGGGCCGGCGUCUCUCUUCCUUUGUCACCAAGGGCUACCGCACCCGACGCUUGGCCGCUGACUUCUCCGUGCCCCUAAUCAUCGAUAUCAAGUGCACCAAACUCUUUGUGGAGGUAACUGAGACCCAUGUGCUGGGAGGGAGACUGCCAGUGUUGAUGGGAAGAAGAAAGAGGGAGGAGUGAGUAUGGAACAGCCAUGCUAGUAAUAAAGCUUUGUGGCUACAGAGGGAGAGAUGGUGGGUAUAGAGUGUGCAGAGCCUGGUUUAUGGGAAAACCACAUCUCUCCCUACAACUCCCAGGAUCACCCUUCCCUUAAAGCUGACUGCUUUCCACUUGCAGGCCCUAGGCCAGAUCGGGCCAGCCCCUCCUUUGAAGGUGCAUGUUGACUGUAUGACCUCCCAAAAGCUUGUGCGACUGCCGGGUAAGUCUUUGGGGAGAACUUGGCUUCUGAACACUGGCAGCCCCUGGCAUAGAGACCUGCAGUGUGGUGAAGGAUGGCUGGGGGGCCCACUCUUUGUCCUGGACUGCACAGACUGUGAAGACCCCAGAAUGUUUCUCACUCUUUCAUUCCUUAAUCCACAGUGUCCACAGUGGCCUUGUCUGAGGAAUUUUUUUUUUUUUUUUUUUUUUGAGACAGAGUCUUACUCCAUCGCCCAGGUUGGAGUGCAGUGGUGUGUGAUAUCGGCUCACUGCAACCUCCGCCUCCCAGGUUCAAGCGAUUUUCCUGCCUCAGCCUCCCAAGUAGCUGGGAUUACAGGUGUGUGCUACCACACCAGGCUAAUUUUUGUGUUUUUAGUAGAGACGGGGUUUCACCAUGUUGGUCAGGUUGGUCUCGAACUCCUGAUCUCAGGUGAUCUGCCCACCUCGGCCUCCCAAAGUGCUAGGAUUACAGGCGUGAGCCACCAUGUCCAGCUCACCCUUCCUAUUUCUGAAUCUUCCUGUAAUCUUGCUGCUUCCAUUUUCUCCCAGGAUUGAUUGAUGUCCAUGUGCACCUGCGGGAACCAGGUGGGACACAUAAGGAGGACUUUGCUUCAGGCACAGCCGCUGCCCUGGCUGGGGGUAUCACCAUGGUGUGUGCCAUGCCUAAUACCCGGCCCCCCAUCAUUGACGCCCCUGCUCUGGCCCUGGCCCAGAAGGUGAGCCACUGCACUCUUCCUGGUAUUGGAGACCCAUAUGCCCCUACCAGCCACCCUUGCUUCCCUGAGCCCUUUUCCUUCUGCCCCGCCCUAUGGGCCCAGGCCACUGGUGCCAGGCUAGCCUGUGUGGGCAUGGGUGCCAGUGAGCCUUACCUCUGUGUAUCCUCUCCAGCUGGCAGAGGCUGGCGCCCGGUGCGACUUUGCGCUAUUCCUUGGGGCCUCGUCUGAAAAUGCAGGAACCUUGGGCACCGUGGCCGGGUCUGCAGCCGGGCUGAAGCUUUACCUCAAUGAGACCUUCUCUGAGCUGCGGCUGGACAGCGUGGUCCAGUGGAUGGAGGUAGGGAGUGUGCAUGUGGCAGGAGGCCACCACCCAGUGUCUCCUGGCUUGUGGGCCCCUGCCUAAGUGGGCUGGUAGCAGUGAGGAUUCAGGGGAGCUCCUGGGGACUCUGGGCUCUGAUGAGCACAGUCAGAGAUUCUGCACACUCCUUCAUCAGUUCUUUCUGCUCCCAGCAUUUCGAGACAUGGCCCUCCCACCUCCCCAUUGUGGCUCACGCAGAGCAGCAAACCGUGGCUGCUGUCCUCAUGGUGGCUCAGCUCACUCAGCGCUCAGUGCACAUAUGUCACGUGGCACGGAAGGAGGAGGUAAGAGUACACCUGAGAUCCUGCUGUCCCUGUUGCUUUCCCAGUAACACCAAAGGUCAGGGUAGUCCUUAGGGGCAGGAGACAGCAGGAGGAGAGUCUGGAGACAGCAGGAGGAGGGUCUCGAGCCAGCACCCUUGCAGGUCUACAUCAUCAUUUUUUGAGCAGGGAUGUUGGCCAUUGGGACUUUGUGUAGGGCAAGGCAUAUGGGUGGUGCCUCUUCUGGAUCUUCCCAUUGUUCCCCAGAUCCUGCUAAUUAAAGCUGCAAAGGCACGGGGCUUGCCAGUGACCUGCGAGGUGGCUCCCCACCACCUGUUCCUAAGCCAUGAUGACCUGGAGCGCCUGGGGCCUGGGAAGGGGGAGGUCCGGCCUGAGCUUGGCUCCCGCCAGGAUGUGGAAGCCCUGUGGGAGAACAUGGCUGUCAUCGACUGCUUUGCCUCAGACCAUGGUGAGAGAAUCCAGCAUGUACCUCCUCUGCCCAGUGGGGCUUGUGGGACAGCCCUAGCAAGAAAAUGGGAAGCAGGCCAGGCCUCAGGACUCUACUAGGACAGGGUCUUGAUCCGUAUGGGACCCUAGCCUCUAGGGUACCUGGUCUGUGAUAGGUGCCUGAUAAAUACUUGUUGAAAGAAUGAAUGAGCCAGUGAGUAGAACUGCAAGUGAAAGAAUACAUGGGUAAAAGUGUGGGCUCCAGAAGAUGGCAGCAGUCCUGUUGCCCUUGUUUCUAGUUCCCAGAAAAAAUGAGCAUUGGGAGUGGUAGUGAGCAUAAGGAGGUUGUUGGAAGUGCAGUCCUGGGGUGUGAGUGACUUCCUAGACAUGGAGGUGAUUGGUCCUGAGGGUAAUGGCUUUCUUUCUCCCAGCUCCCCAUACCUUGGAGGAGAAGUGUGGGUCCAGGCCCCCACCUGGGUUCCCAGGGUUAGAGACCAUGCUGCCACUACUCCUGACGGCUGUAAGCGAGGGCCGGCUCAGCCUGGACGACCUGCUGCAGCGAUUGCACCACAAUCCUCGGCGCAUCUUUCACCUGCCCCCGCAGGAGGACACCUAUGUGGAGGUGUGGGGAUGAGGCCCAGAGCAGGAGGGGGGCUCUCCAGCCCUAGGAUAUGUUCUCUGGGGAUCCUUUCCCUAGCAUAACCCAUGUCCUCUGGGCAGGUGGAUCUGGAGCAUGAGUGGACAAUUCCCAGCCACAUGCCCUUCUCCAAGGCCCACUGGACACCUUUUGAAGGGCAGAAAGUGAAGGGCACCGUCCGCCGUGUGGUCCUGCGAGGGGAGGUUGCCUAUAUCGAUGGGCAGGUACGCAAGUAGCCCCUGCCUGAUCUCAGUAGUGCCCUCUUCUGCACCACGUUCAUUUCUUCCCUUCCCAGCACAUCUACACUGUCCCACUAUGUGCACCACUGCCCUGGACCAGGGGUUGGGGGCACAGCUCCCCCAAGGUGCUUUUUGUCCUUGCUGACAUCUACCCCUUUAGGACCUGAGUUCUCUCUGCUCCCUCCUGAGUGCCCUGCCUUCUGCCUGCAGGUUCUGGUACCCCCGGGCUAUGGACAGGAUGUACGGAAGUGGCCACAGGGGGCUGUUCCUCAGCUCCCACCCUCAGCCCCUGCCACUAGUGAGAUGACCACGGUAUCCACACUACUGGGCUAGGGGGCUGGGAGGUGUUAGUCUCAGGGCAGGAUGAACAGCUUGAACAUUUUCAUUGGUGGUUCAGGAACAAUUGGGGUUUUCUUGAGGGACUGAAUUUGAAGUGGGGUUGGGUCAAUUAUUUUUUUAAAAUGCUGGGCCAGGCCAGAUGUGGUGGCUCACACUUGUAAUCCCAGCACUUUGGGAGGCCAAGGCAGGCGGAUCAUCUGAGGUCAGGAGUUUAAGACCAGCCUAGCCAACAUGGUGAAACCCCAUCUCUACUAAAAAUAAAAAAAUUAGCCAGGCGUGGUGGUGCACAUCUGUAAUCCCAGCUACUUGGGAGGCUGAGGCAGGAGAAUUGCUUGAACCCAGAAGGUCACGCCACUGCACUCCAGCCUGAGCGACAGAACGAGACUCCGUCUCAAAAGAAAAAAAAAAAAACAACUCUGGGCCAACGUUAUCCCUCCAGACACCUGAAAGACCCCGCCGUGGCAUCCCAGGGCUUCCUGAUGGCCGCUUCCAUCUGCCGCCCCGAAUCCAUCGAGCCUCCGACCCAGGUUUGCCAGGUAAGAGUGGGGUUCCUGUGACUCAGAGACUGUGUAGGGACAGGAUCCACUUCUUCCCAGUGCCUCGCCUUUCUCUACUUACAUGUCCUCCUCUCCAUCCCUUUAUCCUCGUCUGAUCUGCCGUGCCAUCCUUUGCCUAAACAAGUCUCCCCGGUGUGAGUAGACAUCUCACAGCUUCUCACAUGCCCUUUUUUGUUGUGGGCAGCUGUGUUCCUCCGCCCAGGAGCUGGGAUCCCACGGGGCAGCAGAGCGUGGGGUAAAUCCAGGUUGUUGGUUGGUGUGAGUCUGGCCGUUCCUCUUGCCUAGGAUGCCUUUGCCAACUGGGAGAGCCCCGGGAGGGCACCACUGCUCCCAUACAACACAGCCCCAUGGGAAGCCACCUGUCUGUCCCCAGAGCUGCUGCAGUCCCCUGCCCUCCCCUAACCUGCUAUAUUACUGUGUUGUGAAUUGGUUUAACAUAUACACUGUGAUUCAGAGUUCCUGGGAAUAUGGGGUUUCUUUCCAAACCUCAGCCAUAAAUGUAUAUCUGUCCUCUUGUCCUGUUUGCAGCUGAGGAGCCAAAGGAGAAGUCCUCUCGGAAGGUAGCCGAGCCAGGUGAGACUCCACCCUGACACACACUCACCUCGGGGACCUCUGAUCUGGCCUUGGUAGGAGGAACCCUCUGACCAGCCUUUUCUGCCCCAUCCCUCACUGCAGAGCUGAUGGGAACCCCUGAUGGCACCUGCUACCCUCCACCACCAGUACCGAGACAGGCAUCUCCCCAGAACCUGGGGACCCCUGGCUUGCUGCACCCCCAGACCUCACCCCUGCUGCACUCAUUAGUGGGCCAACAUAUCCUGUCCGUCCAGCAGUUCACCAAGGAUCAGGUGCCUGGGGCAGGGAGGAUGGGACCACCCAGAGCUUUGAGGAUUUGGAAAGCUGGGGCUAGGACCUUUCUAGCUAACUUGGGCUCUUUCUUAGAUGUCUCACCUGUUCAAUGUGGCACACACACUGCGUAUGAUGGUGCAGAAGGAGCGGAGCCUCGACAUCCUGAAGGUCAGGAUCAGGGCCGGGGGUAGGGUCCAGGCCAUCGCCUGCCCUUGGGCCGCAUCAGCGCAGGGCCGCGCAGUGGUCAGAGUGGGUCUUCCUCCCCCUGCCAUCCCGUCCCCUUAUGCUAGUCCAUCCCUCUGCUGCUGUAGAUCUUCCCCCACGUUUUCCCUCCCCAAAGCAGGAUUUAGCUGGCUGGGGAGGCCCUGAGCAUGAGACCAUCGCCCCACUAGUGGGGUCUUCUGGUCUGGGCUGCUGCAAUCAUGGGAGAGAGCUAGGGUGUGUCCUCCUUUCCCAGCUCGUUCAGACACUUAAUGAUGGGUGGUUUUCUGGAGGCAGAGCCUUUAGCUCAGAGUGACACCAGUGGUGGAAACGUCAAGGCUCUGACAGGUCACAGGGGAGGUUUGGGUGCAGAAGGGUCCUCACAGCACCCCUCAAGUGUCAGUUGGGGUGGUGGUGCCUAGCUGGGGUUUCCCCAGGGUGGACACGCAUACGUACACCUUCCAUCUUGCUCUUUCCCUAGGGGAAGGUCAUGGCCUCCAUGUUCUAUGAAGUGAGCACACGGACCAGCAGCUCCUUUGCAGCAGCCAUGGCCCGGCUGGGAGGUGCUGUGCUCAGCUUCUCGGAAGCCACAUCGUCCGUCCAGAAGGGCGAAUCCCUGGCUGACUCCGUGCAGACCAUGAGCUGCUAUGCCGACGUCGUCGUGCUCCGGCACCCCCAGCCUGGAGCAGUGGAGGUGAGGCCAGCCUGGGUACUGAGAUGGGGUUAAGAAGGCUGGACCCAGGGGCAUGAGAACCCUUCUGCCCACGUUUUCUGUGUUUUGGGCCAGAUGAGUGAGGGGACCCCAGAAGAGGGGGACUGGCAGUUGGGGGGCCUCUGAGCUGCAAAAGACAGGAUUUUCCCCUUUUUUCCAGCUGGCCGCCAAGCACUGCCGGAGGCCAGUGAUCAAUGCUGGGGAUGGGGUCGGAGAGCACCCCACCCAGGCCCUGCUGGACAUCUUCACCAUCCGUGAGGAGCUGGGAACUGUCAAUGGCAUGACGGUGAGGGUGGUGGCAGGGUUUGGAUCCCUGCCAGGGGACGAUCUAGAGAGGGAGGCAGGAAGUGGUUACCCCGGUACAGGACAGCUGCAUCAAGGAGGCCUUCAUUCUGCUCCAGAGGCUUUUAAAAGCUUGGAAAUGAUGUCGGGGGGCACUCAGUCUGGGAUCCCUGUGGUGACUGGAUUCCUCUCCUAGAUCACGAUGGUGGGUGACCUGAAGCACGGACGCACAGUACAUUCCCUGGCCUGCCUGCUCACCCAGUAUCGUGUCAGCCUGCGCUACGUGGCACCUCCCAGCCUGCGCAUGCCACCCACUGUGCGGGCCUUCGUGGCCUCCCGCGGCACCAAGCAGGUGAGACCCUCACAGCCCUGCCUGGAAGCCAUGGAGAUGUGGGUUGGGCAGUCAGAGCCCAGCGCUGCAUCCACCAUGGCUCUCCUCACCCUCCAGGAGGAAUUCGAGAGCAUUGAGGAGGCGCUGCCUGACACUGAUGUGCUCUACAUGACUCGAAUCCAGAAGGAACGAUUUGGCUCUACCCAGGAGUACGAAGCUGUGAGUGCUGGGCUUGAGGAAGAAGCCAGGGCUGCUGCCGUAGGGCAUCAGAUAUGAGGACAGAAAGGCUGGGCUGAGGGCUGGGUCAGAGCUGUUAAACUUCACAUCUGUCAAUUGCCAUAGCUGCAUGUGGGUGUGGAGGGGACCCCAGUGGAGCCCAGACUUGUGUCCUCUGUAGCCACUCCUACCCCAAGGCACUAAUGGGGACCCCAUCUGCUUUGCAGUGCUUUGGUCAGUUCAUCCUCACUCCCCACAUCAUGACCCGGGCCAAGAAGAAGAUGGUGGUGAUGCACCCGAUGCCCCGUGUCAACGAGAUAAGGUGGUGCAGCAUCAGAGUCAGAGACUGCCUCGGGGCUGGUGGACGGGAGGAGACUUAGUCCUGGACAAGCCAUCCAUGGGCUGCACGAUAACACUUCCUUUUUUUUUUUUUUUUUUUUUGCAGCGUGGAAGUGGACUCGGAUCCCCGCGCAGCCUACUUCCGCCAGGCUGAGAACGGCAUGUACAUCCGCAUGGCUCUGUUAGCCACCGUGCUGGGCCGUUUCUAGGGCCUGGCUUCCUCAGCCUCUUCUCUUUAGGCCCAGCUGCUGGGCAAGGAAUUCCAGUGCCUCCUACGGGGGCAGCACACUUAGAUAUUCCUGGACAUCCAGAUAGCUCACAUGUGCUGACCACACUUCAGGCUCUGGACUGGAGCUCUCUGGCAUGGGGGUGGGGCCUCAGAUGCUGGGGCCCAGUCUGCCCCAUCUUCAUUCCUGCACCUUAAACCUGUACAGUCAUUUUUCUACUGACUUAAUAAACAGCCGAGCUGUCCCUUGAUGCUGAGUGUAGUAGAACAGAGCUUUCUUUUAGAAAAUUGAGCAGAUUCCCAAAUUAUAAGAGCAGCCUCACCAGGCAGGGCUCUGGCUAGGGCUGCGUGCCCACACUCGGCAUUUUCACACUCGUGACUCUUUGGGACUCGGCAGGAGCGUGUUAA\n",
            "26392\n"
          ]
        }
      ]
    },
    {
      "cell_type": "code",
      "source": [
        "protein_x = Seq(m_rna_start_translation).translate()\n",
        "protein_x"
      ],
      "metadata": {
        "colab": {
          "base_uri": "https://localhost:8080/"
        },
        "id": "jeFmvfvb1mUS",
        "outputId": "eb4ec54b-58ca-429f-f3e5-3a836059b16d"
      },
      "execution_count": null,
      "outputs": [
        {
          "output_type": "execute_result",
          "data": {
            "text/plain": [
              "Seq('MAALVLEDGSVLRGQPFGAAVSTAGEVGKQARLGCRPYPTL*CASPPNLPRPDP...SVL')"
            ]
          },
          "metadata": {},
          "execution_count": 124
        }
      ]
    },
    {
      "cell_type": "code",
      "source": [
        "start_codon_index = str(m_rna).find('AUG')\n",
        "protein_seq_ = m_rna[start_codon_index:]\n",
        "protein_seq_"
      ],
      "metadata": {
        "colab": {
          "base_uri": "https://localhost:8080/"
        },
        "id": "pr5QI8eMzNjF",
        "outputId": "2e65ba14-8c85-43cb-f314-7f9dd3cd7283"
      },
      "execution_count": null,
      "outputs": [
        {
          "output_type": "execute_result",
          "data": {
            "text/plain": [
              "Seq('AUGGCGGCCCUAGUGUUGGAGGACGGGUCGGUCCUGCGGGGCCAGCCCUUUGGG...UAA')"
            ]
          },
          "metadata": {},
          "execution_count": 126
        }
      ]
    },
    {
      "cell_type": "code",
      "source": [
        "len(protein_seq_)"
      ],
      "metadata": {
        "colab": {
          "base_uri": "https://localhost:8080/"
        },
        "id": "oPhBCyqu1SZ6",
        "outputId": "1173f592-7149-40ef-cd63-7c24bc171df9"
      },
      "execution_count": null,
      "outputs": [
        {
          "output_type": "execute_result",
          "data": {
            "text/plain": [
              "26392"
            ]
          },
          "metadata": {},
          "execution_count": 108
        }
      ]
    },
    {
      "cell_type": "code",
      "source": [
        "protein = protein_seq_.translate()\n",
        "protein"
      ],
      "metadata": {
        "id": "izXLyY7hB1a4",
        "colab": {
          "base_uri": "https://localhost:8080/"
        },
        "outputId": "6c498b6c-406b-418b-a25a-94824f367960"
      },
      "execution_count": null,
      "outputs": [
        {
          "output_type": "execute_result",
          "data": {
            "text/plain": [
              "Seq('MAALVLEDGSVLRGQPFGAAVSTAGEVGKQARLGCRPYPTL*CASPPNLPRPDP...SVL')"
            ]
          },
          "metadata": {},
          "execution_count": 127
        }
      ]
    },
    {
      "cell_type": "code",
      "source": [
        "len(protein)"
      ],
      "metadata": {
        "colab": {
          "base_uri": "https://localhost:8080/"
        },
        "id": "CIBHcQBZv9Y0",
        "outputId": "2e0fb8ee-12ac-408a-a59f-2c19ee98aa7d"
      },
      "execution_count": null,
      "outputs": [
        {
          "output_type": "execute_result",
          "data": {
            "text/plain": [
              "8797"
            ]
          },
          "metadata": {},
          "execution_count": 107
        }
      ]
    },
    {
      "cell_type": "code",
      "source": [
        "# Добавим последовательность белка в таблицу\n",
        "df['prot.seq.example'] = str(protein)"
      ],
      "metadata": {
        "id": "NmYa_YCrwCAD"
      },
      "execution_count": null,
      "outputs": []
    },
    {
      "cell_type": "code",
      "source": [
        "df.T"
      ],
      "metadata": {
        "colab": {
          "base_uri": "https://localhost:8080/",
          "height": 426
        },
        "id": "fnKTA8hhwCyX",
        "outputId": "1312d3c6-126f-4633-c439-f2c229d5ec6f"
      },
      "execution_count": null,
      "outputs": [
        {
          "output_type": "execute_result",
          "data": {
            "text/plain": [
              "                                                                  0\n",
              "geneId                                                          790\n",
              "geneSymbol                                                      CAD\n",
              "start                                                      27217369\n",
              "end                                                        27243943\n",
              "gi_id                                                     568815596\n",
              "strand                                                         plus\n",
              "chrom_num                                                         2\n",
              "mapLoc                                                       2p23.3\n",
              "ID chromosome                                          NC_000002.12\n",
              "gene lenght                                                   26574\n",
              "gene              GTCTCTGCTGCTGCCGCCAAGCGCGCCCGAGGCTCCTACGCTGCCG...\n",
              "prot.seq.example  MAALVLEDGSVLRGQPFGAAVSTAGEVGKQARLGCRPYPTL*CASP..."
            ],
            "text/html": [
              "\n",
              "  <div id=\"df-9a549ed3-e2f2-4a3c-9edc-15b0c7eeea5e\">\n",
              "    <div class=\"colab-df-container\">\n",
              "      <div>\n",
              "<style scoped>\n",
              "    .dataframe tbody tr th:only-of-type {\n",
              "        vertical-align: middle;\n",
              "    }\n",
              "\n",
              "    .dataframe tbody tr th {\n",
              "        vertical-align: top;\n",
              "    }\n",
              "\n",
              "    .dataframe thead th {\n",
              "        text-align: right;\n",
              "    }\n",
              "</style>\n",
              "<table border=\"1\" class=\"dataframe\">\n",
              "  <thead>\n",
              "    <tr style=\"text-align: right;\">\n",
              "      <th></th>\n",
              "      <th>0</th>\n",
              "    </tr>\n",
              "  </thead>\n",
              "  <tbody>\n",
              "    <tr>\n",
              "      <th>geneId</th>\n",
              "      <td>790</td>\n",
              "    </tr>\n",
              "    <tr>\n",
              "      <th>geneSymbol</th>\n",
              "      <td>CAD</td>\n",
              "    </tr>\n",
              "    <tr>\n",
              "      <th>start</th>\n",
              "      <td>27217369</td>\n",
              "    </tr>\n",
              "    <tr>\n",
              "      <th>end</th>\n",
              "      <td>27243943</td>\n",
              "    </tr>\n",
              "    <tr>\n",
              "      <th>gi_id</th>\n",
              "      <td>568815596</td>\n",
              "    </tr>\n",
              "    <tr>\n",
              "      <th>strand</th>\n",
              "      <td>plus</td>\n",
              "    </tr>\n",
              "    <tr>\n",
              "      <th>chrom_num</th>\n",
              "      <td>2</td>\n",
              "    </tr>\n",
              "    <tr>\n",
              "      <th>mapLoc</th>\n",
              "      <td>2p23.3</td>\n",
              "    </tr>\n",
              "    <tr>\n",
              "      <th>ID chromosome</th>\n",
              "      <td>NC_000002.12</td>\n",
              "    </tr>\n",
              "    <tr>\n",
              "      <th>gene lenght</th>\n",
              "      <td>26574</td>\n",
              "    </tr>\n",
              "    <tr>\n",
              "      <th>gene</th>\n",
              "      <td>GTCTCTGCTGCTGCCGCCAAGCGCGCCCGAGGCTCCTACGCTGCCG...</td>\n",
              "    </tr>\n",
              "    <tr>\n",
              "      <th>prot.seq.example</th>\n",
              "      <td>MAALVLEDGSVLRGQPFGAAVSTAGEVGKQARLGCRPYPTL*CASP...</td>\n",
              "    </tr>\n",
              "  </tbody>\n",
              "</table>\n",
              "</div>\n",
              "      <button class=\"colab-df-convert\" onclick=\"convertToInteractive('df-9a549ed3-e2f2-4a3c-9edc-15b0c7eeea5e')\"\n",
              "              title=\"Convert this dataframe to an interactive table.\"\n",
              "              style=\"display:none;\">\n",
              "        \n",
              "  <svg xmlns=\"http://www.w3.org/2000/svg\" height=\"24px\"viewBox=\"0 0 24 24\"\n",
              "       width=\"24px\">\n",
              "    <path d=\"M0 0h24v24H0V0z\" fill=\"none\"/>\n",
              "    <path d=\"M18.56 5.44l.94 2.06.94-2.06 2.06-.94-2.06-.94-.94-2.06-.94 2.06-2.06.94zm-11 1L8.5 8.5l.94-2.06 2.06-.94-2.06-.94L8.5 2.5l-.94 2.06-2.06.94zm10 10l.94 2.06.94-2.06 2.06-.94-2.06-.94-.94-2.06-.94 2.06-2.06.94z\"/><path d=\"M17.41 7.96l-1.37-1.37c-.4-.4-.92-.59-1.43-.59-.52 0-1.04.2-1.43.59L10.3 9.45l-7.72 7.72c-.78.78-.78 2.05 0 2.83L4 21.41c.39.39.9.59 1.41.59.51 0 1.02-.2 1.41-.59l7.78-7.78 2.81-2.81c.8-.78.8-2.07 0-2.86zM5.41 20L4 18.59l7.72-7.72 1.47 1.35L5.41 20z\"/>\n",
              "  </svg>\n",
              "      </button>\n",
              "      \n",
              "  <style>\n",
              "    .colab-df-container {\n",
              "      display:flex;\n",
              "      flex-wrap:wrap;\n",
              "      gap: 12px;\n",
              "    }\n",
              "\n",
              "    .colab-df-convert {\n",
              "      background-color: #E8F0FE;\n",
              "      border: none;\n",
              "      border-radius: 50%;\n",
              "      cursor: pointer;\n",
              "      display: none;\n",
              "      fill: #1967D2;\n",
              "      height: 32px;\n",
              "      padding: 0 0 0 0;\n",
              "      width: 32px;\n",
              "    }\n",
              "\n",
              "    .colab-df-convert:hover {\n",
              "      background-color: #E2EBFA;\n",
              "      box-shadow: 0px 1px 2px rgba(60, 64, 67, 0.3), 0px 1px 3px 1px rgba(60, 64, 67, 0.15);\n",
              "      fill: #174EA6;\n",
              "    }\n",
              "\n",
              "    [theme=dark] .colab-df-convert {\n",
              "      background-color: #3B4455;\n",
              "      fill: #D2E3FC;\n",
              "    }\n",
              "\n",
              "    [theme=dark] .colab-df-convert:hover {\n",
              "      background-color: #434B5C;\n",
              "      box-shadow: 0px 1px 3px 1px rgba(0, 0, 0, 0.15);\n",
              "      filter: drop-shadow(0px 1px 2px rgba(0, 0, 0, 0.3));\n",
              "      fill: #FFFFFF;\n",
              "    }\n",
              "  </style>\n",
              "\n",
              "      <script>\n",
              "        const buttonEl =\n",
              "          document.querySelector('#df-9a549ed3-e2f2-4a3c-9edc-15b0c7eeea5e button.colab-df-convert');\n",
              "        buttonEl.style.display =\n",
              "          google.colab.kernel.accessAllowed ? 'block' : 'none';\n",
              "\n",
              "        async function convertToInteractive(key) {\n",
              "          const element = document.querySelector('#df-9a549ed3-e2f2-4a3c-9edc-15b0c7eeea5e');\n",
              "          const dataTable =\n",
              "            await google.colab.kernel.invokeFunction('convertToInteractive',\n",
              "                                                     [key], {});\n",
              "          if (!dataTable) return;\n",
              "\n",
              "          const docLinkHtml = 'Like what you see? Visit the ' +\n",
              "            '<a target=\"_blank\" href=https://colab.research.google.com/notebooks/data_table.ipynb>data table notebook</a>'\n",
              "            + ' to learn more about interactive tables.';\n",
              "          element.innerHTML = '';\n",
              "          dataTable['output_type'] = 'display_data';\n",
              "          await google.colab.output.renderOutput(dataTable, element);\n",
              "          const docLink = document.createElement('div');\n",
              "          docLink.innerHTML = docLinkHtml;\n",
              "          element.appendChild(docLink);\n",
              "        }\n",
              "      </script>\n",
              "    </div>\n",
              "  </div>\n",
              "  "
            ]
          },
          "metadata": {},
          "execution_count": 129
        }
      ]
    },
    {
      "cell_type": "markdown",
      "source": [
        "Необходимо найти количество транскриптов."
      ],
      "metadata": {
        "id": "YIvuCDiMz0vR"
      }
    },
    {
      "cell_type": "markdown",
      "source": [
        "На официальном сайте предлагается поискать раздел нуклеотидов для белка в базе gene.\n",
        "\n",
        "\n",
        "![image.png](data:image/png;base64,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)"
      ],
      "metadata": {
        "id": "XKbKIg1_0CrI"
      }
    },
    {
      "cell_type": "code",
      "source": [
        "import xml.etree.ElementTree as ET\n",
        "handle = Entrez.efetch(db=\"gene\", id=\"790\", rettype = 'xml') # получаем данные о выбранном гене (база, id, тип поиска)\n",
        "# gene_locus = ET.parse(handle).getroot().find(\"Entrezgene/Entrezgene_locus\") # парсим данные локуса, где лежит этот ген\n",
        "# region = gene_locus.find(\"Gene-commentary/Gene-commentary_seqs/Seq-loc/Seq-loc_int/Seq-interval\") # парсим регион, где лежит этот ген\n",
        "# start = int(region.find(\"Seq-interval_from\").text) + 1\n",
        "# end = int(region.find(\"Seq-interval_to\").text) + 1\n",
        "# gi_id = region.find(\"Seq-interval_id/Seq-id/Seq-id_gi\").text\n",
        "# strand = region.find(\"Seq-interval_strand/Na-strand\").get(\"value\")\n",
        "# print(start, end, gi_id, strand)"
      ],
      "metadata": {
        "colab": {
          "base_uri": "https://localhost:8080/"
        },
        "id": "-yysWOueTQoi",
        "outputId": "c5211cfa-675e-42fc-c513-4396d638dbcc"
      },
      "execution_count": null,
      "outputs": [
        {
          "output_type": "stream",
          "name": "stdout",
          "text": [
            "27217369 27243943 568815596 plus\n"
          ]
        }
      ]
    },
    {
      "cell_type": "code",
      "source": [
        "# Entrez.read(handle)"
      ],
      "metadata": {
        "id": "9xPEZ0IOTWZr"
      },
      "execution_count": null,
      "outputs": []
    },
    {
      "cell_type": "code",
      "source": [
        "handle = Entrez.esummary(db=\"gene\", id=790, rettype = 'xml')\n",
        "record = Entrez.read(handle)"
      ],
      "metadata": {
        "id": "c4NP0HkVSQvp"
      },
      "execution_count": null,
      "outputs": []
    },
    {
      "cell_type": "code",
      "source": [
        "record"
      ],
      "metadata": {
        "colab": {
          "base_uri": "https://localhost:8080/"
        },
        "id": "iT_N0jnASRny",
        "outputId": "3a5ebe49-f90c-46d7-bb97-4a89fffc087c"
      },
      "execution_count": null,
      "outputs": [
        {
          "output_type": "execute_result",
          "data": {
            "text/plain": [
              "{'DocumentSummarySet': DictElement({'DocumentSummary': [DictElement({'Name': 'CAD', 'Description': 'carbamoyl-phosphate synthetase 2, aspartate transcarbamylase, and dihydroorotase', 'Status': '0', 'CurrentID': '0', 'Chromosome': '2', 'GeneticSource': 'genomic', 'MapLocation': '2p23.3', 'OtherAliases': 'CDG1Z, DEE50, EIEE50, GATD4', 'OtherDesignations': 'CAD protein|CAD trifunctional protein|multifunctional protein CAD', 'NomenclatureSymbol': 'CAD', 'NomenclatureName': 'carbamoyl-phosphate synthetase 2, aspartate transcarbamylase, and dihydroorotase', 'NomenclatureStatus': 'Official', 'Mim': ['114010'], 'GenomicInfo': [{'ChrLoc': '2', 'ChrAccVer': 'NC_000002.12', 'ChrStart': '27217368', 'ChrStop': '27243942', 'ExonCount': '45'}], 'GeneWeight': '8014', 'Summary': 'The de novo synthesis of pyrimidine nucleotides is required for mammalian cells to proliferate. This gene encodes a trifunctional protein which is associated with the enzymatic activities of the first 3 enzymes in the 6-step pathway of pyrimidine biosynthesis: carbamoylphosphate synthetase (CPS II), aspartate transcarbamoylase, and dihydroorotase. This protein is regulated by the mitogen-activated protein kinase (MAPK) cascade, which indicates a direct link between activation of the MAPK cascade and de novo biosynthesis of pyrimidine nucleotides. Alternative splicing results in multiple transcript variants encoding different isoforms. [provided by RefSeq, Apr 2015]', 'ChrSort': '02', 'ChrStart': '27217368', 'Organism': {'ScientificName': 'Homo sapiens', 'CommonName': 'human', 'TaxID': '9606'}, 'LocationHist': [{'AnnotationRelease': 'RS_2023_03', 'AssemblyAccVer': 'GCF_000001405.40', 'ChrAccVer': 'NC_000002.12', 'ChrStart': '27217368', 'ChrStop': '27243942'}, {'AnnotationRelease': 'RS_2023_03', 'AssemblyAccVer': 'GCF_009914755.1', 'ChrAccVer': 'NC_060926.1', 'ChrStart': '27259007', 'ChrStop': '27285578'}, {'AnnotationRelease': '110', 'AssemblyAccVer': 'GCF_000001405.40', 'ChrAccVer': 'NC_000002.12', 'ChrStart': '27217368', 'ChrStop': '27243942'}, {'AnnotationRelease': '110', 'AssemblyAccVer': 'GCF_009914755.1', 'ChrAccVer': 'NC_060926.1', 'ChrStart': '27259007', 'ChrStop': '27285578'}, {'AnnotationRelease': '109.20211119', 'AssemblyAccVer': 'GCF_000001405.39', 'ChrAccVer': 'NC_000002.12', 'ChrStart': '27217368', 'ChrStop': '27243942'}, {'AnnotationRelease': '109.20210514', 'AssemblyAccVer': 'GCF_000001405.39', 'ChrAccVer': 'NC_000002.12', 'ChrStart': '27217368', 'ChrStop': '27243942'}, {'AnnotationRelease': '109.20210226', 'AssemblyAccVer': 'GCF_000001405.39', 'ChrAccVer': 'NC_000002.12', 'ChrStart': '27217368', 'ChrStop': '27243942'}, {'AnnotationRelease': '109.20201120', 'AssemblyAccVer': 'GCF_000001405.39', 'ChrAccVer': 'NC_000002.12', 'ChrStart': '27217368', 'ChrStop': '27243942'}, {'AnnotationRelease': '109.20200815', 'AssemblyAccVer': 'GCF_000001405.39', 'ChrAccVer': 'NC_000002.12', 'ChrStart': '27217368', 'ChrStop': '27243942'}, {'AnnotationRelease': '109.20200522', 'AssemblyAccVer': 'GCF_000001405.39', 'ChrAccVer': 'NC_000002.12', 'ChrStart': '27217368', 'ChrStop': '27243942'}, {'AnnotationRelease': '109.20200228', 'AssemblyAccVer': 'GCF_000001405.39', 'ChrAccVer': 'NC_000002.12', 'ChrStart': '27217368', 'ChrStop': '27243942'}, {'AnnotationRelease': '109.20191205', 'AssemblyAccVer': 'GCF_000001405.39', 'ChrAccVer': 'NC_000002.12', 'ChrStart': '27217368', 'ChrStop': '27243942'}, {'AnnotationRelease': '109.20190905', 'AssemblyAccVer': 'GCF_000001405.39', 'ChrAccVer': 'NC_000002.12', 'ChrStart': '27217368', 'ChrStop': '27243942'}, {'AnnotationRelease': '109.20190607', 'AssemblyAccVer': 'GCF_000001405.39', 'ChrAccVer': 'NC_000002.12', 'ChrStart': '27217368', 'ChrStop': '27243942'}, {'AnnotationRelease': '105.20220307', 'AssemblyAccVer': 'GCF_000001405.25', 'ChrAccVer': 'NC_000002.11', 'ChrStart': '27440236', 'ChrStop': '27466810'}, {'AnnotationRelease': '105.20201022', 'AssemblyAccVer': 'GCF_000001405.25', 'ChrAccVer': 'NC_000002.11', 'ChrStart': '27440236', 'ChrStop': '27466810'}, {'AnnotationRelease': '105', 'AssemblyAccVer': 'GCF_000001405.25', 'ChrAccVer': 'NC_000002.11', 'ChrStart': '27440257', 'ChrStop': '27466659'}, {'AnnotationRelease': '105', 'AssemblyAccVer': 'GCF_000002125.1', 'ChrAccVer': 'AC_000134.1', 'ChrStart': '27181963', 'ChrStop': '27208359'}, {'AnnotationRelease': '105', 'AssemblyAccVer': 'GCF_000306695.2', 'ChrAccVer': 'NC_018913.2', 'ChrStart': '27370162', 'ChrStop': '27396558'}]}, attributes={'uid': '790'})], 'DbBuild': 'Build230531-2035m.1'}, attributes={'status': 'OK'})}"
            ]
          },
          "metadata": {},
          "execution_count": 80
        }
      ]
    },
    {
      "cell_type": "code",
      "source": [
        "{'DocumentSummarySet': DictElement({'DocumentSummary': [DictElement({'Name': 'CAD', 'Description': 'carbamoyl-phosphate synthetase 2, aspartate transcarbamylase, and dihydroorotase', 'Status': '0', 'CurrentID': '0', 'Chromosome': '2', 'GeneticSource': 'genomic', 'MapLocation': '2p23.3', 'OtherAliases': 'CDG1Z, DEE50, EIEE50, GATD4', \n",
        "                                                                     'OtherDesignations': 'CAD protein|CAD trifunctional protein|multifunctional protein CAD', 'NomenclatureSymbol': 'CAD', 'NomenclatureName': 'carbamoyl-phosphate synthetase 2, aspartate transcarbamylase, and dihydroorotase', 'NomenclatureStatus': 'Official', 'Mim': ['114010'], \n",
        "                                                                     'GenomicInfo': [{'ChrLoc': '2', 'ChrAccVer': 'NC_000002.12', 'ChrStart': '27217368', 'ChrStop': '27243942', 'ExonCount': '45'}], 'GeneWeight': '8014',\n",
        "                                                                     'Summary': 'The de novo synthesis of pyrimidine nucleotides is required for mammalian cells to proliferate.\n",
        "                                                                      This gene encodes a trifunctional protein which is associated with the enzymatic activities of the first 3 enzymes in the 6-step pathway of pyrimidine biosynthesis:\n",
        "                                                                      carbamoylphosphate synthetase (CPS II), aspartate transcarbamoylase, and dihydroorotase. This protein is regulated by the mitogen-activated protein kinase (MAPK) cascade, which indicates a direct link between activation\n",
        "                                                                      of the MAPK cascade and de novo biosynthesis of pyrimidine nucleotides. Alternative splicing results in multiple transcript variants encoding different isoforms. [provided by RefSeq, Apr 2015]', 'ChrSort': '02', \n",
        "                                                                      'ChrStart': '27217368', 'Organism': {'ScientificName': 'Homo sapiens', 'CommonName': 'human', 'TaxID': '9606'}, 'LocationHist': [{'AnnotationRelease': 'RS_2023_03', 'AssemblyAccVer': 'GCF_000001405.40', 'ChrAccVer':\n",
        "                                                                     'NC_000002.12', 'ChrStart': '27217368', 'ChrStop': '27243942'}, {'AnnotationRelease': 'RS_2023_03', 'AssemblyAccVer': 'GCF_009914755.1', 'ChrAccVer': 'NC_060926.1', 'ChrStart': '27259007', 'ChrStop': '27285578'},\n",
        "                                                                      {'AnnotationRelease': '110', 'AssemblyAccVer': 'GCF_000001405.40', 'ChrAccVer': 'NC_000002.12', 'ChrStart': '27217368', 'ChrStop': '27243942'}, {'AnnotationRelease': '110', 'AssemblyAccVer': 'GCF_009914755.1',\n",
        "                                                                        'ChrAccVer': 'NC_060926.1', 'ChrStart': '27259007', 'ChrStop': '27285578'},\n",
        "                                                                         {'AnnotationRelease': '109.20211119', 'AssemblyAccVer': 'GCF_000001405.39', 'ChrAccVer': 'NC_000002.12', 'ChrStart': '27217368', 'ChrStop': '2724394\n",
        "                                                                         'AnnotationRelease': '109.20210514', 'AssemblyAccVer': 'GCF_000001405.39', 'ChrAccVer': 'NC_000002.12', 'ChrStart': '27217368', 'ChrStop': '27243942'},\n",
        "                                                                          {'AnnotationRelease': '109.20210226', 'AssemblyAccVer': 'GCF_000001405.39', 'ChrAccVer': 'NC_000002.12', 'ChrStart': '27217368', 'ChrStop': '27243942'}, \n",
        "                                                                           {'AnnotationRelease': '109.20201120', 'AssemblyAccVer': 'GCF_000001405.39', 'ChrAccVer': 'NC_000002.12', 'ChrStart': '27217368', 'ChrStop': '27243942'},\n",
        "                                                                            {'AnnotationRelease': '109.20200815', 'AssemblyAccVer': 'GCF_000001405.39', 'ChrAccVer': 'NC_000002.12', 'ChrStart': '27217368', 'ChrStop': '27243942'},\n",
        "                                                                             {'AnnotationRelease': '109.20200522', 'AssemblyAccVer': 'GCF_000001405.39', 'ChrAccVer': 'NC_000002.12', 'ChrStart': '27217368', 'ChrStop': '27243942'},\n",
        "                                                                    {'AnnotationRelease': '109.20200228', 'AssemblyAccVer': 'GCF_000001405.39', 'ChrAccVer': 'NC_000002.12', 'ChrStart': '27217368', 'ChrStop': '27243942'},\n",
        "                                                                     {'AnnotationRelease': '109.20191205', 'AssemblyAccVer': 'GCF_000001405.39', 'ChrAccVer': 'NC_000002.12', 'ChrStart': '27217368', 'ChrStop': '27243942'},\n",
        "                                                                      {'AnnotationRelease': '109.20190905', 'AssemblyAccVer': 'GCF_000001405.39', 'ChrAccVer': 'NC_000002.12', 'ChrStart': '27217368', 'ChrStop': '27243942'},\n",
        "                                                                       {'AnnotationRelease': '109.20190607', 'AssemblyAccVer': 'GCF_000001405.39', 'ChrAccVer': 'NC_000002.12', 'ChrStart': '27217368', 'ChrStop': '27243942'},\n",
        "                                                                        {'AnnotationRelease': '105.20220307', 'AssemblyAccVer': 'GCF_000001405.25', 'ChrAccVer': 'NC_000002.11', 'ChrStart': '27440236', 'ChrStop': '27466810'},\n",
        "                                                                         {'AnnotationRelease': '105.20201022', 'AssemblyAccVer': 'GCF_000001405.25', 'ChrAccVer': 'NC_000002.11', 'ChrStart': '27440236', 'ChrStop': '27466810'},\n",
        "                                                                          {'AnnotationRelease': '105', 'AssemblyAccVer': 'GCF_000001405.25', 'ChrAccVer': 'NC_000002.11', 'ChrStart': '27440257', 'ChrStop': '27466659'},\n",
        "                                                                           {'AnnotationRelease': '105', 'AssemblyAccVer': 'GCF_000002125.1', 'ChrAccVer': 'AC_000134.1', 'ChrStart': '27181963', 'ChrStop': '27208359'},\n",
        "                                                                            {'AnnotationRelease': '105', 'AssemblyAccVer': 'GCF_000306695.2', 'ChrAccVer': 'NC_018913.2', 'ChrStart': '27370162', 'ChrStop': '27396558'}]},\n",
        "                                                                     attributes={'uid': '790'})], \n",
        "                                    'DbBuild': 'Build230531-2035m.1'}, attributes={'status': 'OK'})}"
      ],
      "metadata": {
        "id": "gQ_v9vsCSXDR"
      },
      "execution_count": null,
      "outputs": []
    },
    {
      "cell_type": "code",
      "source": [
        "from Bio import Entrez\n",
        "Entrez.email = 'A.N.Other@example.com'\n",
        "handle = Entrez.esearch(db=\"nuccore\", term='tpo[CAD] AND human[orgn]', rettype=\"fasta\", retmode=\"text\")\n",
        "record = handle.read()"
      ],
      "metadata": {
        "id": "C1DyPMuHdZt5"
      },
      "execution_count": null,
      "outputs": []
    },
    {
      "cell_type": "code",
      "source": [
        "# Получаем список транскрипций по имени гена из базы `nuccore` \n",
        "handle = Entrez.esearch(db=\"nucleotide\", #id=790,\n",
        "                        term='CAD[Gene name] AND 790 AND Homo sapiens\"[Organism] AND RefSeq[Keyword]',\n",
        "                        # usehistory=\"y\",\n",
        "                        retmax=30)\n",
        "record = Entrez.read(handle)\n",
        "handle.close()\n",
        "record"
      ],
      "metadata": {
        "colab": {
          "base_uri": "https://localhost:8080/"
        },
        "id": "t5Bx0BwCRaty",
        "outputId": "a7c8ed30-e6cd-402f-f2a6-359cd8a57154"
      },
      "execution_count": null,
      "outputs": [
        {
          "output_type": "execute_result",
          "data": {
            "text/plain": [
              "{'Count': '9', 'RetMax': '9', 'RetStart': '0', 'IdList': ['240255695', '2462577005', '2462577003', '2217330917', '2217330915', '2194974903', '2194974693', '568815597', '568815596'], 'TranslationSet': [{'From': 'Homo sapiens', 'To': '\"Homo sapiens\"[Organism] OR Homo sapiens[All Fields]'}], 'TranslationStack': [{'Term': 'CAD[Gene name]', 'Field': 'Gene name', 'Count': '32556', 'Explode': 'N'}, {'Term': '790[All Fields]', 'Field': 'All Fields', 'Count': '262240', 'Explode': 'N'}, 'AND', {'Term': '\"Homo sapiens\"[Organism]', 'Field': 'Organism', 'Count': '28444712', 'Explode': 'Y'}, {'Term': 'Homo sapiens[All Fields]', 'Field': 'All Fields', 'Count': '60699394', 'Explode': 'N'}, 'OR', 'GROUP', {'Term': 'Organism[All Fields]', 'Field': 'All Fields', 'Count': '24014000', 'Explode': 'N'}, 'AND', 'GROUP', 'AND', {'Term': 'RefSeq[Keyword]', 'Field': 'Keyword', 'Count': '96019288', 'Explode': 'N'}, 'AND'], 'QueryTranslation': 'CAD[Gene name] AND 790[All Fields] AND ((\"Homo sapiens\"[Organism] OR Homo sapiens[All Fields]) AND Organism[All Fields]) AND RefSeq[Keyword]', 'WarningList': {'QuotedPhraseNotFound': [], 'OutputMessage': ['Unmatched double quote ignored.'], 'PhraseIgnored': []}}"
            ]
          },
          "metadata": {},
          "execution_count": 100
        }
      ]
    },
    {
      "cell_type": "code",
      "source": [
        "transcript_id_list = record['IdList']\n",
        "transcript_id_list"
      ],
      "metadata": {
        "colab": {
          "base_uri": "https://localhost:8080/"
        },
        "id": "svzlN92fUdNo",
        "outputId": "d4a1e42d-68b8-4202-bf8d-4abf4f92d3d0"
      },
      "execution_count": null,
      "outputs": [
        {
          "output_type": "execute_result",
          "data": {
            "text/plain": [
              "['240255695', '2462577005', '2462577003', '2217330917', '2217330915', '2194974903', '2194974693', '568815597', '568815596']"
            ]
          },
          "metadata": {},
          "execution_count": 101
        }
      ]
    },
    {
      "cell_type": "code",
      "source": [
        "handle = Entrez.efetch(db=\"nuccore\",\n",
        "                           id=2462577003,\n",
        "                           rettype = 'gb',\n",
        "                           retmode = 'text')\n",
        "info = SeqIO.read(handle, 'gb')\n",
        "info"
      ],
      "metadata": {
        "colab": {
          "base_uri": "https://localhost:8080/"
        },
        "id": "AuHeNYNrU8cD",
        "outputId": "3afaed62-3db4-4059-f23b-38addbfedeae"
      },
      "execution_count": null,
      "outputs": [
        {
          "output_type": "execute_result",
          "data": {
            "text/plain": [
              "SeqRecord(seq=Seq('AGTCTCTGCTGCTGCCGCCAAGCGCGCCCGAGGCTCCTACGCTGCCGCGCCCGG...TAA'), id='XM_054343840.1', name='XM_054343840', description='PREDICTED: Homo sapiens carbamoyl-phosphate synthetase 2, aspartate transcarbamylase, and dihydroorotase (CAD), transcript variant X1, mRNA', dbxrefs=['BioProject:PRJNA807723'])"
            ]
          },
          "metadata": {},
          "execution_count": 109
        }
      ]
    },
    {
      "cell_type": "code",
      "source": [
        "handle = Entrez.esearch(\n",
        "  db=\"nuccore\", term=\"Human[Orgn] AND CAD[Gene name]\", \n",
        "  idtype=\"acc\"\n",
        "  )\n",
        "record = Entrez.read(handle)\n",
        "record[\"IdList\"]"
      ],
      "metadata": {
        "colab": {
          "base_uri": "https://localhost:8080/"
        },
        "id": "yKlPXgEtnA55",
        "outputId": "0dde1cf6-9f2c-4c52-db59-abb99a302b2d"
      },
      "execution_count": 140,
      "outputs": [
        {
          "output_type": "execute_result",
          "data": {
            "text/plain": [
              "['NM_001258406.2', 'NG_046726.2', 'XM_054343841.1', 'XM_054343840.1', 'XM_054374915.1', 'XM_054334795.1', 'XM_054334794.1', 'XR_008485943.1', 'XM_054334793.1', 'XM_054334792.1', 'XR_008485942.1', 'XR_008485941.1', 'XM_006712101.4', 'XM_047445803.1', 'XM_047430581.1', 'XM_011540865.3', 'XM_017000500.2', 'XR_946565.2', 'XM_017000499.2', 'XM_017000498.3']"
            ]
          },
          "metadata": {},
          "execution_count": 140
        }
      ]
    },
    {
      "cell_type": "code",
      "source": [
        "# from Bio import Entrez\n",
        "# Entrez.email = \"A.N.Other@example.com\"  # Always tell NCBI who you are\n",
        "# handle = Entrez.efetch(db=\"nucleotide\", term=\"CAD[Gene]\", rettype=\"gb\", retmode=\"text\")\n",
        "# print(handle.read())"
      ],
      "metadata": {
        "id": "6OKv086Kf6D7"
      },
      "execution_count": null,
      "outputs": []
    },
    {
      "cell_type": "code",
      "source": [
        "def get_transcriptions_info(transcript_id_list):\n",
        "  transcript_info = []\n",
        "  for i in transcript_id_list:\n",
        "    handle = Entrez.efetch(db=\"nuccore\",\n",
        "                           id=i,\n",
        "                           rettype = 'gb',\n",
        "                           retmode = 'text')\n",
        "    info = SeqIO.read(handle, 'gb')\n",
        "    if str(info.name).find('NC') and str(info.name).find('NG'):\n",
        "      transcript_info.append({'id':info.id, 'name':info.name})\n",
        "    # print(info.name)\n",
        "    # print(info.seq)\n",
        "  return transcript_info"
      ],
      "metadata": {
        "id": "IL9HSLlkUi64"
      },
      "execution_count": null,
      "outputs": []
    },
    {
      "cell_type": "code",
      "source": [
        "transcriptions_list = get_transcriptions_info(transcript_id_list)"
      ],
      "metadata": {
        "id": "JTdVlIsvUlbw"
      },
      "execution_count": null,
      "outputs": []
    },
    {
      "cell_type": "code",
      "source": [
        "for transcript in transcriptions_list:\n",
        "  print(transcript)"
      ],
      "metadata": {
        "colab": {
          "base_uri": "https://localhost:8080/"
        },
        "id": "1acOzYkUUovQ",
        "outputId": "866bcb5f-f2cd-4230-fa3d-07f97c5ff9fe"
      },
      "execution_count": null,
      "outputs": [
        {
          "output_type": "stream",
          "name": "stdout",
          "text": [
            "{'id': 'XM_054343841.1', 'name': 'XM_054343841'}\n",
            "{'id': 'XM_054343840.1', 'name': 'XM_054343840'}\n",
            "{'id': 'XM_006712101.4', 'name': 'XM_006712101'}\n",
            "{'id': 'XM_047445803.1', 'name': 'XM_047445803'}\n"
          ]
        }
      ]
    },
    {
      "cell_type": "code",
      "source": [
        "record"
      ],
      "metadata": {
        "id": "wCZNYdp_d5Ki",
        "outputId": "dffe6b40-2876-46a2-82fe-82a4535ff19e",
        "colab": {
          "base_uri": "https://localhost:8080/"
        }
      },
      "execution_count": null,
      "outputs": [
        {
          "output_type": "execute_result",
          "data": {
            "text/plain": [
              "b'<?xml version=\"1.0\" encoding=\"UTF-8\" ?>\\n<!DOCTYPE eSearchResult PUBLIC \"-//NLM//DTD esearch 20060628//EN\" \"https://eutils.ncbi.nlm.nih.gov/eutils/dtd/20060628/esearch.dtd\">\\n<eSearchResult><Count>267</Count><RetMax>20</RetMax><RetStart>0</RetStart><IdList>\\n<Id>1677501090</Id>\\n<Id>341865614</Id>\\n<Id>1732746132</Id>\\n<Id>183074517</Id>\\n<Id>1890295337</Id>\\n<Id>1889465113</Id>\\n<Id>1889426982</Id>\\n<Id>1696246601</Id>\\n<Id>253735811</Id>\\n<Id>253735749</Id>\\n<Id>237858802</Id>\\n<Id>2462592187</Id>\\n<Id>2462576596</Id>\\n<Id>2462576594</Id>\\n<Id>2462576592</Id>\\n<Id>2462576590</Id>\\n<Id>2462576588</Id>\\n<Id>2462576586</Id>\\n<Id>2462576584</Id>\\n<Id>2462576582</Id>\\n</IdList><TranslationSet><Translation>     <From>human[orgn]</From>     <To>\"Homo sapiens\"[Organism]</To>    </Translation></TranslationSet><TranslationStack>   <TermSet>    <Term>tpo[All Fields]</Term>    <Field>All Fields</Field>    <Count>2737</Count>    <Explode>N</Explode>   </TermSet>   <TermSet>    <Term>\"Homo sapiens\"[Organism]</Term>    <Field>Organism</Field>    <Count>28444712</Count>    <Explode>Y</Explode>   </TermSet>   <OP>AND</OP>  </TranslationStack><QueryTranslation>tpo[All Fields] AND \"Homo sapiens\"[Organism]</QueryTranslation><ErrorList><FieldNotFound>CAD</FieldNotFound></ErrorList></eSearchResult>\\n'"
            ]
          },
          "metadata": {},
          "execution_count": 43
        }
      ]
    },
    {
      "cell_type": "code",
      "source": [
        "a = [1677501090, 341865614, 1732746132, 183074517, 1890295337, 1889465113, 1889426982, 1696246601, 253735811, 253735749, 237858802, 2462592187, 2462576596, 2462576594, \n",
        "2462576592, 2462576590, 2462576588, 2462576586, 2462576584, 2462576582]"
      ],
      "metadata": {
        "id": "lITcSq_I5148"
      },
      "execution_count": null,
      "outputs": []
    },
    {
      "cell_type": "code",
      "source": [
        "len(a)"
      ],
      "metadata": {
        "colab": {
          "base_uri": "https://localhost:8080/"
        },
        "id": "F470Cs_j6r-z",
        "outputId": "55123a14-cd3d-4cb7-e436-e71ca3d14f69"
      },
      "execution_count": null,
      "outputs": [
        {
          "output_type": "execute_result",
          "data": {
            "text/plain": [
              "20"
            ]
          },
          "metadata": {},
          "execution_count": 45
        }
      ]
    },
    {
      "cell_type": "code",
      "source": [
        "# Получаем список транскрипций по имени гена из базы `nuccore` \n",
        "handle = Entrez.esearch(db=\"protein\", #id=790,\n",
        "                        term='CAD[Gene Name] AND \"790\"[entrezID] AND \"human\"[Organism] AND RefSeq[Keyword]', idtype=\"acc\",\n",
        "                        # usehistory=\"y\",\n",
        "                        retmax=30)\n",
        "record = Entrez.read(handle)\n",
        "handle.close()\n",
        "record"
      ],
      "metadata": {
        "colab": {
          "base_uri": "https://localhost:8080/"
        },
        "id": "0zqAszov1IIw",
        "outputId": "ef3440e7-0cfa-4441-d70e-5d699f5611a5"
      },
      "execution_count": 176,
      "outputs": [
        {
          "output_type": "execute_result",
          "data": {
            "text/plain": [
              "{'Count': '6', 'RetMax': '6', 'RetStart': '0', 'IdList': ['XP_054199816.1', 'XP_054199815.1', 'XP_047301759.1', 'XP_006712164.1', 'NP_001293008.1', 'NP_004332.2'], 'TranslationSet': [], 'TranslationStack': [{'Term': 'CAD[Gene Name]', 'Field': 'Gene Name', 'Count': '31264', 'Explode': 'N'}, {'Term': '\"790\"[All Fields]', 'Field': 'All Fields', 'Count': '1535958', 'Explode': 'N'}, 'AND', {'Term': '\"human\"[Organism]', 'Field': 'Organism', 'Count': '1899197', 'Explode': 'Y'}, 'AND', {'Term': 'RefSeq[Keyword]', 'Field': 'Keyword', 'Count': '262603938', 'Explode': 'N'}, 'AND'], 'QueryTranslation': 'CAD[Gene Name] AND \"790\"[All Fields] AND \"human\"[Organism] AND RefSeq[Keyword]', 'ErrorList': {'FieldNotFound': ['entrezID'], 'PhraseNotFound': []}}"
            ]
          },
          "metadata": {},
          "execution_count": 176
        }
      ]
    },
    {
      "cell_type": "code",
      "source": [
        "len(record['IdList'])"
      ],
      "metadata": {
        "colab": {
          "base_uri": "https://localhost:8080/"
        },
        "id": "fDrNFFET5Tqf",
        "outputId": "6f10ee62-6661-42fe-c891-52ce051b9daf"
      },
      "execution_count": 177,
      "outputs": [
        {
          "output_type": "execute_result",
          "data": {
            "text/plain": [
              "6"
            ]
          },
          "metadata": {},
          "execution_count": 177
        }
      ]
    },
    {
      "cell_type": "code",
      "source": [
        "transcript_id_list = record['IdList']\n",
        "transcript_id_list"
      ],
      "metadata": {
        "colab": {
          "base_uri": "https://localhost:8080/"
        },
        "id": "hsKSfdHQJghq",
        "outputId": "f992e927-26fb-4d83-b263-6e6ab0c373d1"
      },
      "execution_count": null,
      "outputs": [
        {
          "output_type": "execute_result",
          "data": {
            "text/plain": [
              "['1653960876', '2302519871', '2462577005', '2462577003', '2462537864', '2462505449', '2462505447', '2462505446', '2462505444', '2462505442', '2462505441', '2462505440', '2217330917', '2217330915', '2217294955', '2217264611', '2217264610', '2217264609', '2217264608', '2217264607', '2217264606', '2217264605', '2194974903', '2194974693', '2194973193', '568815597', '568815596', '568815585', '1890254436', '1889482617']"
            ]
          },
          "metadata": {},
          "execution_count": 54
        }
      ]
    },
    {
      "cell_type": "code",
      "source": [
        "def get_transcriptions_info(transcript_id_list):\n",
        "  transcript_info = []\n",
        "  for i in transcript_id_list:\n",
        "    handle = Entrez.efetch(db=\"nuccore\",\n",
        "                           id=i,\n",
        "                           rettype = 'gb',\n",
        "                           retmode = 'text')\n",
        "    info = SeqIO.read(handle, 'gb')\n",
        "    if str(info.name).find('NC') and str(info.name).find('NG'):\n",
        "      transcript_info.append({'id':info.id, 'name':info.name})\n",
        "    # print(info.name)\n",
        "    # print(info.seq)\n",
        "  return transcript_info"
      ],
      "metadata": {
        "id": "fBL4BxVYJmCi"
      },
      "execution_count": null,
      "outputs": []
    },
    {
      "cell_type": "code",
      "source": [
        "transcriptions_list = get_transcriptions_info(transcript_id_list)"
      ],
      "metadata": {
        "id": "-SNjcA7WJpw6"
      },
      "execution_count": null,
      "outputs": []
    },
    {
      "cell_type": "code",
      "source": [
        "for transcript in transcriptions_list:\n",
        "  print(transcript)\n",
        "  # print('=' * 200)"
      ],
      "metadata": {
        "colab": {
          "base_uri": "https://localhost:8080/"
        },
        "id": "osrQ1ejLJs21",
        "outputId": "a01e74fa-134b-4bfc-ae22-3a74b079c2ec"
      },
      "execution_count": null,
      "outputs": [
        {
          "output_type": "stream",
          "name": "stdout",
          "text": [
            "{'id': 'NM_001258406.2', 'name': 'NM_001258406'}\n",
            "{'id': 'XM_054343841.1', 'name': 'XM_054343841'}\n",
            "{'id': 'XM_054343840.1', 'name': 'XM_054343840'}\n",
            "{'id': 'XM_054374915.1', 'name': 'XM_054374915'}\n",
            "{'id': 'XM_054334795.1', 'name': 'XM_054334795'}\n",
            "{'id': 'XM_054334794.1', 'name': 'XM_054334794'}\n",
            "{'id': 'XR_008485943.1', 'name': 'XR_008485943'}\n",
            "{'id': 'XM_054334793.1', 'name': 'XM_054334793'}\n",
            "{'id': 'XM_054334792.1', 'name': 'XM_054334792'}\n",
            "{'id': 'XR_008485942.1', 'name': 'XR_008485942'}\n",
            "{'id': 'XR_008485941.1', 'name': 'XR_008485941'}\n",
            "{'id': 'XM_006712101.4', 'name': 'XM_006712101'}\n",
            "{'id': 'XM_047445803.1', 'name': 'XM_047445803'}\n",
            "{'id': 'XM_047430581.1', 'name': 'XM_047430581'}\n",
            "{'id': 'XM_011540865.3', 'name': 'XM_011540865'}\n",
            "{'id': 'XM_017000500.2', 'name': 'XM_017000500'}\n",
            "{'id': 'XR_946565.2', 'name': 'XR_946565'}\n",
            "{'id': 'XM_017000499.2', 'name': 'XM_017000499'}\n",
            "{'id': 'XM_017000498.3', 'name': 'XM_017000498'}\n",
            "{'id': 'XR_002959574.2', 'name': 'XR_002959574'}\n",
            "{'id': 'XR_946563.3', 'name': 'XR_946563'}\n",
            "{'id': 'NM_001282669.2', 'name': 'NM_001282669'}\n",
            "{'id': 'NM_001306079.2', 'name': 'NM_001306079'}\n"
          ]
        }
      ]
    },
    {
      "cell_type": "code",
      "source": [
        "XR_946565.2"
      ],
      "metadata": {
        "id": "Mv64Hm1XKL27"
      },
      "execution_count": null,
      "outputs": []
    },
    {
      "cell_type": "markdown",
      "source": [
        "## Для другого."
      ],
      "metadata": {
        "id": "VGryYexQJcPT"
      }
    },
    {
      "cell_type": "code",
      "source": [
        "# Получаем список транскрипций по имени гена из базы `nuccore`\n",
        "handle = Entrez.esearch(db=\"nuccore\",\n",
        "                        term='FGFR2[Gene Name] AND \"homo sampiens\"[Organism] AND RefSeq[Keyword]',\n",
        "                        # usehistory=\"y\",\n",
        "                        retmax=30)\n",
        "record = Entrez.read(handle)\n",
        "handle.close()\n",
        "record"
      ],
      "metadata": {
        "colab": {
          "base_uri": "https://localhost:8080/"
        },
        "id": "ozRbmZTg1Wlk",
        "outputId": "8b7ee313-7261-495d-dce3-002487c14725"
      },
      "execution_count": null,
      "outputs": [
        {
          "output_type": "execute_result",
          "data": {
            "text/plain": [
              "{'Count': '38', 'RetMax': '30', 'RetStart': '0', 'IdList': ['2324154561', '1890284386', '1889443442', '1677539445', '1677531698', '394025691', '222144232', '222144230', '2462517776', '2462517774', '2462517772', '2462517770', '2462517768', '2462517766', '2462517764', '2462517762', '2462517760', '2462517758', '2462517756', '2217276108', '2217276107', '2217276106', '2217276105', '2217276104', '2217276103', '2217276102', '2217276101', '2217276100', '2217276099', '2217276098'], 'TranslationSet': [], 'TranslationStack': [{'Term': 'FGFR2[Gene Name]', 'Field': 'Gene Name', 'Count': '4955', 'Explode': 'N'}, {'Term': '\"homo sampiens\"[Organism]', 'Field': 'Organism', 'Count': '28444712', 'Explode': 'Y'}, 'AND', {'Term': 'RefSeq[Keyword]', 'Field': 'Keyword', 'Count': '96019288', 'Explode': 'N'}, 'AND'], 'QueryTranslation': 'FGFR2[Gene Name] AND \"homo sampiens\"[Organism] AND RefSeq[Keyword]'}"
            ]
          },
          "metadata": {},
          "execution_count": 46
        }
      ]
    },
    {
      "cell_type": "code",
      "source": [
        "len(record['IdList'])"
      ],
      "metadata": {
        "colab": {
          "base_uri": "https://localhost:8080/"
        },
        "id": "D92_7S0-1nLn",
        "outputId": "0848ef33-a60b-4550-cb94-685daf152f41"
      },
      "execution_count": null,
      "outputs": [
        {
          "output_type": "execute_result",
          "data": {
            "text/plain": [
              "30"
            ]
          },
          "metadata": {},
          "execution_count": 47
        }
      ]
    },
    {
      "cell_type": "code",
      "source": [
        "transcript_id_list = record['IdList']\n",
        "transcript_id_list"
      ],
      "metadata": {
        "colab": {
          "base_uri": "https://localhost:8080/"
        },
        "id": "1E9AIZ5u9kuS",
        "outputId": "5e36d00d-b286-4f4f-fcdf-710d581bd856"
      },
      "execution_count": null,
      "outputs": [
        {
          "output_type": "execute_result",
          "data": {
            "text/plain": [
              "['2324154561', '1890284386', '1889443442', '1677539445', '1677531698', '394025691', '222144232', '222144230', '2462517776', '2462517774', '2462517772', '2462517770', '2462517768', '2462517766', '2462517764', '2462517762', '2462517760', '2462517758', '2462517756', '2217276108', '2217276107', '2217276106', '2217276105', '2217276104', '2217276103', '2217276102', '2217276101', '2217276100', '2217276099', '2217276098']"
            ]
          },
          "metadata": {},
          "execution_count": 48
        }
      ]
    },
    {
      "cell_type": "code",
      "source": [
        "# Выгрузим информацию обо всех транскрипциях гена из `transcript_id_list` \n",
        "def get_transcriptions_info(transcript_id_list):\n",
        "  transcript_info = []\n",
        "  for i in transcript_id_list:\n",
        "    handle = Entrez.efetch(db=\"nuccore\",\n",
        "                           id=i,\n",
        "                           rettype = 'gb',\n",
        "                           retmode = 'text')\n",
        "    info = SeqIO.read(handle, 'gb')\n",
        "    if str(info.name).find('NC') and str(info.name).find('NG'):\n",
        "      transcript_info.append({'id':info.id, 'name':info.name})\n",
        "    # print(info.name)\n",
        "    # print(info.seq)\n",
        "  return transcript_info"
      ],
      "metadata": {
        "id": "-4zLUfLn9pow"
      },
      "execution_count": null,
      "outputs": []
    },
    {
      "cell_type": "code",
      "source": [
        "transcriptions_list = get_transcriptions_info(transcript_id_list)"
      ],
      "metadata": {
        "id": "Pkg5E20P9xWt"
      },
      "execution_count": null,
      "outputs": []
    },
    {
      "cell_type": "code",
      "source": [
        "for transcript in transcriptions_list:\n",
        "  print(transcript)\n",
        "  # print('=' * 200)"
      ],
      "metadata": {
        "colab": {
          "base_uri": "https://localhost:8080/"
        },
        "id": "bWJwwbM79yp4",
        "outputId": "4d5a998f-6598-4dff-91f3-298d9798a969"
      },
      "execution_count": null,
      "outputs": [
        {
          "output_type": "stream",
          "name": "stdout",
          "text": [
            "{'id': 'NM_022970.4', 'name': 'NM_022970'}\n",
            "{'id': 'NM_001320654.2', 'name': 'NM_001320654'}\n",
            "{'id': 'NM_001144916.2', 'name': 'NM_001144916'}\n",
            "{'id': 'NM_001144918.2', 'name': 'NM_001144918'}\n",
            "{'id': 'NM_001144917.2', 'name': 'NM_001144917'}\n",
            "{'id': 'NM_023029.2', 'name': 'NM_023029'}\n",
            "{'id': 'NM_001144914.1', 'name': 'NM_001144914'}\n",
            "{'id': 'NM_001144913.1', 'name': 'NM_001144913'}\n",
            "{'id': 'XM_054365174.1', 'name': 'XM_054365174'}\n",
            "{'id': 'XM_054365173.1', 'name': 'XM_054365173'}\n",
            "{'id': 'XM_054365172.1', 'name': 'XM_054365172'}\n",
            "{'id': 'XM_054365171.1', 'name': 'XM_054365171'}\n",
            "{'id': 'XM_054365170.1', 'name': 'XM_054365170'}\n",
            "{'id': 'XM_054365169.1', 'name': 'XM_054365169'}\n",
            "{'id': 'XM_054365168.1', 'name': 'XM_054365168'}\n",
            "{'id': 'XM_054365167.1', 'name': 'XM_054365167'}\n",
            "{'id': 'XM_054365166.1', 'name': 'XM_054365166'}\n",
            "{'id': 'XM_054365165.1', 'name': 'XM_054365165'}\n",
            "{'id': 'XM_054365164.1', 'name': 'XM_054365164'}\n",
            "{'id': 'XM_017015925.3', 'name': 'XM_017015925'}\n",
            "{'id': 'XM_017015924.3', 'name': 'XM_017015924'}\n",
            "{'id': 'XM_024447891.2', 'name': 'XM_024447891'}\n",
            "{'id': 'XM_024447889.2', 'name': 'XM_024447889'}\n",
            "{'id': 'XM_024447888.2', 'name': 'XM_024447888'}\n",
            "{'id': 'XM_024447887.2', 'name': 'XM_024447887'}\n",
            "{'id': 'XM_024447890.2', 'name': 'XM_024447890'}\n",
            "{'id': 'XM_017015921.3', 'name': 'XM_017015921'}\n",
            "{'id': 'XM_017015920.3', 'name': 'XM_017015920'}\n",
            "{'id': 'XM_006717710.5', 'name': 'XM_006717710'}\n",
            "{'id': 'XM_006717708.4', 'name': 'XM_006717708'}\n"
          ]
        }
      ]
    },
    {
      "cell_type": "markdown",
      "source": [
        "## ещё"
      ],
      "metadata": {
        "id": "TkbPLYPrQDuU"
      }
    },
    {
      "cell_type": "code",
      "source": [
        "item = 'ATK1'\n",
        "animal = 'Homo sapien' \n",
        "search_string = item+\"[Gene] AND \"+animal+\"[Organism] AND mRNA[Filter] AND RefSeq[Filter]\""
      ],
      "metadata": {
        "id": "wozBHKX4QFcD"
      },
      "execution_count": null,
      "outputs": []
    },
    {
      "cell_type": "code",
      "source": [
        "handle = Entrez.esearch(db=\"nucleotide\", term=search_string)\n",
        "record = Entrez.read(handle)\n",
        "ids = record['IdList']"
      ],
      "metadata": {
        "id": "_dDJ6gjoQI8_"
      },
      "execution_count": null,
      "outputs": []
    },
    {
      "cell_type": "code",
      "source": [
        "ids"
      ],
      "metadata": {
        "colab": {
          "base_uri": "https://localhost:8080/"
        },
        "id": "8jmgOeR3QTND",
        "outputId": "4f741ee5-85f3-4347-8983-a6858ee6ed83"
      },
      "execution_count": null,
      "outputs": [
        {
          "output_type": "execute_result",
          "data": {
            "text/plain": [
              "[]"
            ]
          },
          "metadata": {},
          "execution_count": 67
        }
      ]
    },
    {
      "cell_type": "code",
      "source": [
        "seq_id = ids[0] #you must implement an if to deal with <0 or >1 cases\n",
        "handle = Entrez.efetch(db=\"nucleotide\", id=seq_id, rettype=\"fasta\", retmode=\"text\")\n",
        "record = handle.read()"
      ],
      "metadata": {
        "colab": {
          "base_uri": "https://localhost:8080/",
          "height": 200
        },
        "id": "LlPvZ56uQQRs",
        "outputId": "97b7fe72-aa63-4700-a216-ddc0dd4b92eb"
      },
      "execution_count": null,
      "outputs": [
        {
          "output_type": "error",
          "ename": "IndexError",
          "evalue": "ignored",
          "traceback": [
            "\u001b[0;31m---------------------------------------------------------------------------\u001b[0m",
            "\u001b[0;31mIndexError\u001b[0m                                Traceback (most recent call last)",
            "\u001b[0;32m<ipython-input-65-f73825a75945>\u001b[0m in \u001b[0;36m<cell line: 1>\u001b[0;34m()\u001b[0m\n\u001b[0;32m----> 1\u001b[0;31m \u001b[0mseq_id\u001b[0m \u001b[0;34m=\u001b[0m \u001b[0mids\u001b[0m\u001b[0;34m[\u001b[0m\u001b[0;36m0\u001b[0m\u001b[0;34m]\u001b[0m \u001b[0;31m#you must implement an if to deal with <0 or >1 cases\u001b[0m\u001b[0;34m\u001b[0m\u001b[0;34m\u001b[0m\u001b[0m\n\u001b[0m\u001b[1;32m      2\u001b[0m \u001b[0mhandle\u001b[0m \u001b[0;34m=\u001b[0m \u001b[0mEntrez\u001b[0m\u001b[0;34m.\u001b[0m\u001b[0mefetch\u001b[0m\u001b[0;34m(\u001b[0m\u001b[0mdb\u001b[0m\u001b[0;34m=\u001b[0m\u001b[0;34m\"nucleotide\"\u001b[0m\u001b[0;34m,\u001b[0m \u001b[0mid\u001b[0m\u001b[0;34m=\u001b[0m\u001b[0mseq_id\u001b[0m\u001b[0;34m,\u001b[0m \u001b[0mrettype\u001b[0m\u001b[0;34m=\u001b[0m\u001b[0;34m\"fasta\"\u001b[0m\u001b[0;34m,\u001b[0m \u001b[0mretmode\u001b[0m\u001b[0;34m=\u001b[0m\u001b[0;34m\"text\"\u001b[0m\u001b[0;34m)\u001b[0m\u001b[0;34m\u001b[0m\u001b[0;34m\u001b[0m\u001b[0m\n\u001b[1;32m      3\u001b[0m \u001b[0mrecord\u001b[0m \u001b[0;34m=\u001b[0m \u001b[0mhandle\u001b[0m\u001b[0;34m.\u001b[0m\u001b[0mread\u001b[0m\u001b[0;34m(\u001b[0m\u001b[0;34m)\u001b[0m\u001b[0;34m\u001b[0m\u001b[0;34m\u001b[0m\u001b[0m\n",
            "\u001b[0;31mIndexError\u001b[0m: list index out of range"
          ]
        }
      ]
    }
  ]
}