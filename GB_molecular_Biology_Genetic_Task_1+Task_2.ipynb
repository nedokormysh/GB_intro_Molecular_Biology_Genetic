{
  "nbformat": 4,
  "nbformat_minor": 0,
  "metadata": {
    "colab": {
      "provenance": [],
      "include_colab_link": true
    },
    "kernelspec": {
      "name": "python3",
      "display_name": "Python 3"
    },
    "language_info": {
      "name": "python"
    }
  },
  "cells": [
    {
      "cell_type": "markdown",
      "metadata": {
        "id": "view-in-github",
        "colab_type": "text"
      },
      "source": [
        "<a href=\"https://colab.research.google.com/github/nedokormysh/GB_intro_Molecular_Biology_Genetic/blob/lesson2/GB_molecular_Biology_Genetic_Task_1%2BTask_2.ipynb\" target=\"_parent\"><img src=\"https://colab.research.google.com/assets/colab-badge.svg\" alt=\"Open In Colab\"/></a>"
      ]
    },
    {
      "cell_type": "markdown",
      "source": [
        "# Урок 1. База данных NCBI\n",
        "Скачайте файл curated_gene_disease_associations.tsv.gz на ПК. В этом файле содержится список генов и ассоциированных с ними болезней. Что требуется сделать:\n",
        "- Выберите любое из заболеваний, которое есть в списке.\n",
        "- В отдельную таблицу извлеките все гены, которые связаны с избранным заболеванием.\n",
        "- Для одного из генов извлеките отдельно информацию о 2–3 характеристиках на выбор, а также добавьте вырезанную по координатам последовательность гена.\n",
        "\n",
        "Пример выполнения — в файле Task1.ipynb. Сделанное практическое задание предоставляется в формате .ipynb.\n",
        "\n",
        "Файл ipynb. для скачивания https://colab.research.google.com/drive/1gpyi5Kdw8xEJccm1Xzsjq95JF_V7fLAC"
      ],
      "metadata": {
        "id": "bZd5zuN4p6j1"
      }
    },
    {
      "cell_type": "code",
      "execution_count": 149,
      "metadata": {
        "colab": {
          "base_uri": "https://localhost:8080/"
        },
        "id": "vWiIyicIxw7m",
        "outputId": "15d61633-7f11-4325-8ec9-3d612fdb5ebf"
      },
      "outputs": [
        {
          "output_type": "stream",
          "name": "stdout",
          "text": [
            "Looking in indexes: https://pypi.org/simple, https://us-python.pkg.dev/colab-wheels/public/simple/\n",
            "Requirement already satisfied: biopython in /usr/local/lib/python3.10/dist-packages (1.81)\n",
            "Requirement already satisfied: numpy in /usr/local/lib/python3.10/dist-packages (from biopython) (1.22.4)\n"
          ]
        }
      ],
      "source": [
        "try:\n",
        "    import google.colab\n",
        "    # Running on Google Colab, so install Biopython first\n",
        "    !pip install biopython\n",
        "except ImportError:\n",
        "    pass\n"
      ]
    },
    {
      "cell_type": "code",
      "source": [
        "from Bio import Entrez\n",
        "from Bio import SeqIO\n",
        "Entrez.email = \"nedokormysh@live.com\"\n",
        "import pandas as pd\n",
        "import xml.etree.ElementTree as ET"
      ],
      "metadata": {
        "id": "XZ63CTvQyqdD"
      },
      "execution_count": 150,
      "outputs": []
    },
    {
      "cell_type": "code",
      "source": [
        "# dis = pd.read_table('/content/curated_gene_disease_associations.tsv')\n",
        "dis = pd.read_table('https://github.com/nedokormysh/GB_intro_Molecular_Biology_Genetic/raw/lesson1/curated_gene_disease_associations_june_4_2020.tsv.gz')\n",
        "dis = dis[['geneId',\t'geneSymbol',\t'DSI',\t'DPI',\t'diseaseId',\t'diseaseName',\t'diseaseType',\t'diseaseClass']]\n",
        "dis.head()"
      ],
      "metadata": {
        "colab": {
          "base_uri": "https://localhost:8080/",
          "height": 206
        },
        "id": "XRIWN0Bqy5jX",
        "outputId": "50931bd7-13a9-4d2a-93df-c4eb5257535f"
      },
      "execution_count": 151,
      "outputs": [
        {
          "output_type": "execute_result",
          "data": {
            "text/plain": [
              "   geneId geneSymbol    DSI    DPI diseaseId               diseaseName  \\\n",
              "0       1       A1BG  0.700  0.538  C0019209              Hepatomegaly   \n",
              "1       1       A1BG  0.700  0.538  C0036341             Schizophrenia   \n",
              "2       2        A2M  0.529  0.769  C0002395       Alzheimer's Disease   \n",
              "3       2        A2M  0.529  0.769  C0007102  Malignant tumor of colon   \n",
              "4       2        A2M  0.529  0.769  C0009375         Colonic Neoplasms   \n",
              "\n",
              "  diseaseType diseaseClass  \n",
              "0   phenotype      C23;C06  \n",
              "1     disease          F03  \n",
              "2     disease      C10;F03  \n",
              "3     disease      C06;C04  \n",
              "4       group      C06;C04  "
            ],
            "text/html": [
              "\n",
              "  <div id=\"df-7d31fcd6-a530-4fe9-98a3-2b2f77a75aa0\">\n",
              "    <div class=\"colab-df-container\">\n",
              "      <div>\n",
              "<style scoped>\n",
              "    .dataframe tbody tr th:only-of-type {\n",
              "        vertical-align: middle;\n",
              "    }\n",
              "\n",
              "    .dataframe tbody tr th {\n",
              "        vertical-align: top;\n",
              "    }\n",
              "\n",
              "    .dataframe thead th {\n",
              "        text-align: right;\n",
              "    }\n",
              "</style>\n",
              "<table border=\"1\" class=\"dataframe\">\n",
              "  <thead>\n",
              "    <tr style=\"text-align: right;\">\n",
              "      <th></th>\n",
              "      <th>geneId</th>\n",
              "      <th>geneSymbol</th>\n",
              "      <th>DSI</th>\n",
              "      <th>DPI</th>\n",
              "      <th>diseaseId</th>\n",
              "      <th>diseaseName</th>\n",
              "      <th>diseaseType</th>\n",
              "      <th>diseaseClass</th>\n",
              "    </tr>\n",
              "  </thead>\n",
              "  <tbody>\n",
              "    <tr>\n",
              "      <th>0</th>\n",
              "      <td>1</td>\n",
              "      <td>A1BG</td>\n",
              "      <td>0.700</td>\n",
              "      <td>0.538</td>\n",
              "      <td>C0019209</td>\n",
              "      <td>Hepatomegaly</td>\n",
              "      <td>phenotype</td>\n",
              "      <td>C23;C06</td>\n",
              "    </tr>\n",
              "    <tr>\n",
              "      <th>1</th>\n",
              "      <td>1</td>\n",
              "      <td>A1BG</td>\n",
              "      <td>0.700</td>\n",
              "      <td>0.538</td>\n",
              "      <td>C0036341</td>\n",
              "      <td>Schizophrenia</td>\n",
              "      <td>disease</td>\n",
              "      <td>F03</td>\n",
              "    </tr>\n",
              "    <tr>\n",
              "      <th>2</th>\n",
              "      <td>2</td>\n",
              "      <td>A2M</td>\n",
              "      <td>0.529</td>\n",
              "      <td>0.769</td>\n",
              "      <td>C0002395</td>\n",
              "      <td>Alzheimer's Disease</td>\n",
              "      <td>disease</td>\n",
              "      <td>C10;F03</td>\n",
              "    </tr>\n",
              "    <tr>\n",
              "      <th>3</th>\n",
              "      <td>2</td>\n",
              "      <td>A2M</td>\n",
              "      <td>0.529</td>\n",
              "      <td>0.769</td>\n",
              "      <td>C0007102</td>\n",
              "      <td>Malignant tumor of colon</td>\n",
              "      <td>disease</td>\n",
              "      <td>C06;C04</td>\n",
              "    </tr>\n",
              "    <tr>\n",
              "      <th>4</th>\n",
              "      <td>2</td>\n",
              "      <td>A2M</td>\n",
              "      <td>0.529</td>\n",
              "      <td>0.769</td>\n",
              "      <td>C0009375</td>\n",
              "      <td>Colonic Neoplasms</td>\n",
              "      <td>group</td>\n",
              "      <td>C06;C04</td>\n",
              "    </tr>\n",
              "  </tbody>\n",
              "</table>\n",
              "</div>\n",
              "      <button class=\"colab-df-convert\" onclick=\"convertToInteractive('df-7d31fcd6-a530-4fe9-98a3-2b2f77a75aa0')\"\n",
              "              title=\"Convert this dataframe to an interactive table.\"\n",
              "              style=\"display:none;\">\n",
              "        \n",
              "  <svg xmlns=\"http://www.w3.org/2000/svg\" height=\"24px\"viewBox=\"0 0 24 24\"\n",
              "       width=\"24px\">\n",
              "    <path d=\"M0 0h24v24H0V0z\" fill=\"none\"/>\n",
              "    <path d=\"M18.56 5.44l.94 2.06.94-2.06 2.06-.94-2.06-.94-.94-2.06-.94 2.06-2.06.94zm-11 1L8.5 8.5l.94-2.06 2.06-.94-2.06-.94L8.5 2.5l-.94 2.06-2.06.94zm10 10l.94 2.06.94-2.06 2.06-.94-2.06-.94-.94-2.06-.94 2.06-2.06.94z\"/><path d=\"M17.41 7.96l-1.37-1.37c-.4-.4-.92-.59-1.43-.59-.52 0-1.04.2-1.43.59L10.3 9.45l-7.72 7.72c-.78.78-.78 2.05 0 2.83L4 21.41c.39.39.9.59 1.41.59.51 0 1.02-.2 1.41-.59l7.78-7.78 2.81-2.81c.8-.78.8-2.07 0-2.86zM5.41 20L4 18.59l7.72-7.72 1.47 1.35L5.41 20z\"/>\n",
              "  </svg>\n",
              "      </button>\n",
              "      \n",
              "  <style>\n",
              "    .colab-df-container {\n",
              "      display:flex;\n",
              "      flex-wrap:wrap;\n",
              "      gap: 12px;\n",
              "    }\n",
              "\n",
              "    .colab-df-convert {\n",
              "      background-color: #E8F0FE;\n",
              "      border: none;\n",
              "      border-radius: 50%;\n",
              "      cursor: pointer;\n",
              "      display: none;\n",
              "      fill: #1967D2;\n",
              "      height: 32px;\n",
              "      padding: 0 0 0 0;\n",
              "      width: 32px;\n",
              "    }\n",
              "\n",
              "    .colab-df-convert:hover {\n",
              "      background-color: #E2EBFA;\n",
              "      box-shadow: 0px 1px 2px rgba(60, 64, 67, 0.3), 0px 1px 3px 1px rgba(60, 64, 67, 0.15);\n",
              "      fill: #174EA6;\n",
              "    }\n",
              "\n",
              "    [theme=dark] .colab-df-convert {\n",
              "      background-color: #3B4455;\n",
              "      fill: #D2E3FC;\n",
              "    }\n",
              "\n",
              "    [theme=dark] .colab-df-convert:hover {\n",
              "      background-color: #434B5C;\n",
              "      box-shadow: 0px 1px 3px 1px rgba(0, 0, 0, 0.15);\n",
              "      filter: drop-shadow(0px 1px 2px rgba(0, 0, 0, 0.3));\n",
              "      fill: #FFFFFF;\n",
              "    }\n",
              "  </style>\n",
              "\n",
              "      <script>\n",
              "        const buttonEl =\n",
              "          document.querySelector('#df-7d31fcd6-a530-4fe9-98a3-2b2f77a75aa0 button.colab-df-convert');\n",
              "        buttonEl.style.display =\n",
              "          google.colab.kernel.accessAllowed ? 'block' : 'none';\n",
              "\n",
              "        async function convertToInteractive(key) {\n",
              "          const element = document.querySelector('#df-7d31fcd6-a530-4fe9-98a3-2b2f77a75aa0');\n",
              "          const dataTable =\n",
              "            await google.colab.kernel.invokeFunction('convertToInteractive',\n",
              "                                                     [key], {});\n",
              "          if (!dataTable) return;\n",
              "\n",
              "          const docLinkHtml = 'Like what you see? Visit the ' +\n",
              "            '<a target=\"_blank\" href=https://colab.research.google.com/notebooks/data_table.ipynb>data table notebook</a>'\n",
              "            + ' to learn more about interactive tables.';\n",
              "          element.innerHTML = '';\n",
              "          dataTable['output_type'] = 'display_data';\n",
              "          await google.colab.output.renderOutput(dataTable, element);\n",
              "          const docLink = document.createElement('div');\n",
              "          docLink.innerHTML = docLinkHtml;\n",
              "          element.appendChild(docLink);\n",
              "        }\n",
              "      </script>\n",
              "    </div>\n",
              "  </div>\n",
              "  "
            ]
          },
          "metadata": {},
          "execution_count": 151
        }
      ]
    },
    {
      "cell_type": "markdown",
      "source": [
        "## Для одного гена"
      ],
      "metadata": {
        "id": "9w_buZSK3IPm"
      }
    },
    {
      "cell_type": "markdown",
      "source": [
        "\n",
        "- Выберите любое из заболеваний, которое есть в списке.\n",
        "- В отдельную таблицу извлеките все гены, которые связаны с избранным заболеванием."
      ],
      "metadata": {
        "id": "8uwEpjJKp-TG"
      }
    },
    {
      "cell_type": "code",
      "source": [
        "thalassemia_minor_db = dis.loc[dis['diseaseName'] == 'Thalassemia Minor']\n",
        "thalassemia_minor_db"
      ],
      "metadata": {
        "colab": {
          "base_uri": "https://localhost:8080/",
          "height": 425
        },
        "id": "FSCwaOrY0YIv",
        "outputId": "fa80755b-a2bb-4eb5-a6be-f4dacddd8ebd"
      },
      "execution_count": 152,
      "outputs": [
        {
          "output_type": "execute_result",
          "data": {
            "text/plain": [
              "          geneId geneSymbol    DSI    DPI diseaseId        diseaseName  \\\n",
              "7019         790        CAD  0.482  0.846  C0085578  Thalassemia Minor   \n",
              "14533       1723      DHODH  0.576  0.769  C0085578  Thalassemia Minor   \n",
              "16962       2056        EPO  0.381  0.885  C0085578  Thalassemia Minor   \n",
              "23735       3040       HBA2  0.512  0.808  C0085578  Thalassemia Minor   \n",
              "23764       3043        HBB  0.494  0.808  C0085578  Thalassemia Minor   \n",
              "31216       3934       LCN2  0.405  0.885  C0085578  Thalassemia Minor   \n",
              "51923       7036       TFR2  0.585  0.615  C0085578  Thalassemia Minor   \n",
              "51958       7037       TFRC  0.437  0.885  C0085578  Thalassemia Minor   \n",
              "55035       7372       UMPS  0.584  0.615  C0085578  Thalassemia Minor   \n",
              "59037       8912    CACNA1H  0.628  0.423  C0085578  Thalassemia Minor   \n",
              "73364      57817       HAMP  0.433  0.846  C0085578  Thalassemia Minor   \n",
              "84036  109580095    HBB-LCR  0.743  0.115  C0085578  Thalassemia Minor   \n",
              "\n",
              "      diseaseType diseaseClass  \n",
              "7019      disease      C16;C15  \n",
              "14533     disease      C16;C15  \n",
              "16962     disease      C16;C15  \n",
              "23735     disease      C16;C15  \n",
              "23764     disease      C16;C15  \n",
              "31216     disease      C16;C15  \n",
              "51923     disease      C16;C15  \n",
              "51958     disease      C16;C15  \n",
              "55035     disease      C16;C15  \n",
              "59037     disease      C16;C15  \n",
              "73364     disease      C16;C15  \n",
              "84036     disease      C16;C15  "
            ],
            "text/html": [
              "\n",
              "  <div id=\"df-c37f5c95-0319-447e-8a95-1472aba6b340\">\n",
              "    <div class=\"colab-df-container\">\n",
              "      <div>\n",
              "<style scoped>\n",
              "    .dataframe tbody tr th:only-of-type {\n",
              "        vertical-align: middle;\n",
              "    }\n",
              "\n",
              "    .dataframe tbody tr th {\n",
              "        vertical-align: top;\n",
              "    }\n",
              "\n",
              "    .dataframe thead th {\n",
              "        text-align: right;\n",
              "    }\n",
              "</style>\n",
              "<table border=\"1\" class=\"dataframe\">\n",
              "  <thead>\n",
              "    <tr style=\"text-align: right;\">\n",
              "      <th></th>\n",
              "      <th>geneId</th>\n",
              "      <th>geneSymbol</th>\n",
              "      <th>DSI</th>\n",
              "      <th>DPI</th>\n",
              "      <th>diseaseId</th>\n",
              "      <th>diseaseName</th>\n",
              "      <th>diseaseType</th>\n",
              "      <th>diseaseClass</th>\n",
              "    </tr>\n",
              "  </thead>\n",
              "  <tbody>\n",
              "    <tr>\n",
              "      <th>7019</th>\n",
              "      <td>790</td>\n",
              "      <td>CAD</td>\n",
              "      <td>0.482</td>\n",
              "      <td>0.846</td>\n",
              "      <td>C0085578</td>\n",
              "      <td>Thalassemia Minor</td>\n",
              "      <td>disease</td>\n",
              "      <td>C16;C15</td>\n",
              "    </tr>\n",
              "    <tr>\n",
              "      <th>14533</th>\n",
              "      <td>1723</td>\n",
              "      <td>DHODH</td>\n",
              "      <td>0.576</td>\n",
              "      <td>0.769</td>\n",
              "      <td>C0085578</td>\n",
              "      <td>Thalassemia Minor</td>\n",
              "      <td>disease</td>\n",
              "      <td>C16;C15</td>\n",
              "    </tr>\n",
              "    <tr>\n",
              "      <th>16962</th>\n",
              "      <td>2056</td>\n",
              "      <td>EPO</td>\n",
              "      <td>0.381</td>\n",
              "      <td>0.885</td>\n",
              "      <td>C0085578</td>\n",
              "      <td>Thalassemia Minor</td>\n",
              "      <td>disease</td>\n",
              "      <td>C16;C15</td>\n",
              "    </tr>\n",
              "    <tr>\n",
              "      <th>23735</th>\n",
              "      <td>3040</td>\n",
              "      <td>HBA2</td>\n",
              "      <td>0.512</td>\n",
              "      <td>0.808</td>\n",
              "      <td>C0085578</td>\n",
              "      <td>Thalassemia Minor</td>\n",
              "      <td>disease</td>\n",
              "      <td>C16;C15</td>\n",
              "    </tr>\n",
              "    <tr>\n",
              "      <th>23764</th>\n",
              "      <td>3043</td>\n",
              "      <td>HBB</td>\n",
              "      <td>0.494</td>\n",
              "      <td>0.808</td>\n",
              "      <td>C0085578</td>\n",
              "      <td>Thalassemia Minor</td>\n",
              "      <td>disease</td>\n",
              "      <td>C16;C15</td>\n",
              "    </tr>\n",
              "    <tr>\n",
              "      <th>31216</th>\n",
              "      <td>3934</td>\n",
              "      <td>LCN2</td>\n",
              "      <td>0.405</td>\n",
              "      <td>0.885</td>\n",
              "      <td>C0085578</td>\n",
              "      <td>Thalassemia Minor</td>\n",
              "      <td>disease</td>\n",
              "      <td>C16;C15</td>\n",
              "    </tr>\n",
              "    <tr>\n",
              "      <th>51923</th>\n",
              "      <td>7036</td>\n",
              "      <td>TFR2</td>\n",
              "      <td>0.585</td>\n",
              "      <td>0.615</td>\n",
              "      <td>C0085578</td>\n",
              "      <td>Thalassemia Minor</td>\n",
              "      <td>disease</td>\n",
              "      <td>C16;C15</td>\n",
              "    </tr>\n",
              "    <tr>\n",
              "      <th>51958</th>\n",
              "      <td>7037</td>\n",
              "      <td>TFRC</td>\n",
              "      <td>0.437</td>\n",
              "      <td>0.885</td>\n",
              "      <td>C0085578</td>\n",
              "      <td>Thalassemia Minor</td>\n",
              "      <td>disease</td>\n",
              "      <td>C16;C15</td>\n",
              "    </tr>\n",
              "    <tr>\n",
              "      <th>55035</th>\n",
              "      <td>7372</td>\n",
              "      <td>UMPS</td>\n",
              "      <td>0.584</td>\n",
              "      <td>0.615</td>\n",
              "      <td>C0085578</td>\n",
              "      <td>Thalassemia Minor</td>\n",
              "      <td>disease</td>\n",
              "      <td>C16;C15</td>\n",
              "    </tr>\n",
              "    <tr>\n",
              "      <th>59037</th>\n",
              "      <td>8912</td>\n",
              "      <td>CACNA1H</td>\n",
              "      <td>0.628</td>\n",
              "      <td>0.423</td>\n",
              "      <td>C0085578</td>\n",
              "      <td>Thalassemia Minor</td>\n",
              "      <td>disease</td>\n",
              "      <td>C16;C15</td>\n",
              "    </tr>\n",
              "    <tr>\n",
              "      <th>73364</th>\n",
              "      <td>57817</td>\n",
              "      <td>HAMP</td>\n",
              "      <td>0.433</td>\n",
              "      <td>0.846</td>\n",
              "      <td>C0085578</td>\n",
              "      <td>Thalassemia Minor</td>\n",
              "      <td>disease</td>\n",
              "      <td>C16;C15</td>\n",
              "    </tr>\n",
              "    <tr>\n",
              "      <th>84036</th>\n",
              "      <td>109580095</td>\n",
              "      <td>HBB-LCR</td>\n",
              "      <td>0.743</td>\n",
              "      <td>0.115</td>\n",
              "      <td>C0085578</td>\n",
              "      <td>Thalassemia Minor</td>\n",
              "      <td>disease</td>\n",
              "      <td>C16;C15</td>\n",
              "    </tr>\n",
              "  </tbody>\n",
              "</table>\n",
              "</div>\n",
              "      <button class=\"colab-df-convert\" onclick=\"convertToInteractive('df-c37f5c95-0319-447e-8a95-1472aba6b340')\"\n",
              "              title=\"Convert this dataframe to an interactive table.\"\n",
              "              style=\"display:none;\">\n",
              "        \n",
              "  <svg xmlns=\"http://www.w3.org/2000/svg\" height=\"24px\"viewBox=\"0 0 24 24\"\n",
              "       width=\"24px\">\n",
              "    <path d=\"M0 0h24v24H0V0z\" fill=\"none\"/>\n",
              "    <path d=\"M18.56 5.44l.94 2.06.94-2.06 2.06-.94-2.06-.94-.94-2.06-.94 2.06-2.06.94zm-11 1L8.5 8.5l.94-2.06 2.06-.94-2.06-.94L8.5 2.5l-.94 2.06-2.06.94zm10 10l.94 2.06.94-2.06 2.06-.94-2.06-.94-.94-2.06-.94 2.06-2.06.94z\"/><path d=\"M17.41 7.96l-1.37-1.37c-.4-.4-.92-.59-1.43-.59-.52 0-1.04.2-1.43.59L10.3 9.45l-7.72 7.72c-.78.78-.78 2.05 0 2.83L4 21.41c.39.39.9.59 1.41.59.51 0 1.02-.2 1.41-.59l7.78-7.78 2.81-2.81c.8-.78.8-2.07 0-2.86zM5.41 20L4 18.59l7.72-7.72 1.47 1.35L5.41 20z\"/>\n",
              "  </svg>\n",
              "      </button>\n",
              "      \n",
              "  <style>\n",
              "    .colab-df-container {\n",
              "      display:flex;\n",
              "      flex-wrap:wrap;\n",
              "      gap: 12px;\n",
              "    }\n",
              "\n",
              "    .colab-df-convert {\n",
              "      background-color: #E8F0FE;\n",
              "      border: none;\n",
              "      border-radius: 50%;\n",
              "      cursor: pointer;\n",
              "      display: none;\n",
              "      fill: #1967D2;\n",
              "      height: 32px;\n",
              "      padding: 0 0 0 0;\n",
              "      width: 32px;\n",
              "    }\n",
              "\n",
              "    .colab-df-convert:hover {\n",
              "      background-color: #E2EBFA;\n",
              "      box-shadow: 0px 1px 2px rgba(60, 64, 67, 0.3), 0px 1px 3px 1px rgba(60, 64, 67, 0.15);\n",
              "      fill: #174EA6;\n",
              "    }\n",
              "\n",
              "    [theme=dark] .colab-df-convert {\n",
              "      background-color: #3B4455;\n",
              "      fill: #D2E3FC;\n",
              "    }\n",
              "\n",
              "    [theme=dark] .colab-df-convert:hover {\n",
              "      background-color: #434B5C;\n",
              "      box-shadow: 0px 1px 3px 1px rgba(0, 0, 0, 0.15);\n",
              "      filter: drop-shadow(0px 1px 2px rgba(0, 0, 0, 0.3));\n",
              "      fill: #FFFFFF;\n",
              "    }\n",
              "  </style>\n",
              "\n",
              "      <script>\n",
              "        const buttonEl =\n",
              "          document.querySelector('#df-c37f5c95-0319-447e-8a95-1472aba6b340 button.colab-df-convert');\n",
              "        buttonEl.style.display =\n",
              "          google.colab.kernel.accessAllowed ? 'block' : 'none';\n",
              "\n",
              "        async function convertToInteractive(key) {\n",
              "          const element = document.querySelector('#df-c37f5c95-0319-447e-8a95-1472aba6b340');\n",
              "          const dataTable =\n",
              "            await google.colab.kernel.invokeFunction('convertToInteractive',\n",
              "                                                     [key], {});\n",
              "          if (!dataTable) return;\n",
              "\n",
              "          const docLinkHtml = 'Like what you see? Visit the ' +\n",
              "            '<a target=\"_blank\" href=https://colab.research.google.com/notebooks/data_table.ipynb>data table notebook</a>'\n",
              "            + ' to learn more about interactive tables.';\n",
              "          element.innerHTML = '';\n",
              "          dataTable['output_type'] = 'display_data';\n",
              "          await google.colab.output.renderOutput(dataTable, element);\n",
              "          const docLink = document.createElement('div');\n",
              "          docLink.innerHTML = docLinkHtml;\n",
              "          element.appendChild(docLink);\n",
              "        }\n",
              "      </script>\n",
              "    </div>\n",
              "  </div>\n",
              "  "
            ]
          },
          "metadata": {},
          "execution_count": 152
        }
      ]
    },
    {
      "cell_type": "code",
      "source": [
        "gene_id_lst = thalassemia_minor_db['geneId'].tolist()\n",
        "gene_id_lst"
      ],
      "metadata": {
        "colab": {
          "base_uri": "https://localhost:8080/"
        },
        "id": "LjFEpWnufFKI",
        "outputId": "4e79803c-0829-42e7-da6b-da33bf53b50a"
      },
      "execution_count": 153,
      "outputs": [
        {
          "output_type": "execute_result",
          "data": {
            "text/plain": [
              "[790, 1723, 2056, 3040, 3043, 3934, 7036, 7037, 7372, 8912, 57817, 109580095]"
            ]
          },
          "metadata": {},
          "execution_count": 153
        }
      ]
    },
    {
      "cell_type": "markdown",
      "source": [
        "\n",
        "\n",
        "Талассемия – это генетическая болезнь крови, при которой, из-за мутации генов, образовывается недостаточное количество гемоглобина в организме и происходит деформация эритроцитов."
      ],
      "metadata": {
        "id": "v66ETXLhYFgQ"
      }
    },
    {
      "cell_type": "markdown",
      "source": [
        "Болезнь выбрал наугад. В видео сказано, что непонятно как выбрать id гена, если не заходить на сайт. Но вроде как id гена из графы id совпадает с кодом в базе данных Entrez.\n",
        "\n",
        "Например, взял ген CAD."
      ],
      "metadata": {
        "id": "AhFUPE_laj3o"
      }
    },
    {
      "cell_type": "code",
      "source": [
        "dis.loc[7019]"
      ],
      "metadata": {
        "colab": {
          "base_uri": "https://localhost:8080/"
        },
        "id": "82oxRRQgbAzL",
        "outputId": "4c96dd5a-dd76-48c1-f113-b9dc281f553b"
      },
      "execution_count": 154,
      "outputs": [
        {
          "output_type": "execute_result",
          "data": {
            "text/plain": [
              "geneId                        790\n",
              "geneSymbol                    CAD\n",
              "DSI                         0.482\n",
              "DPI                         0.846\n",
              "diseaseId                C0085578\n",
              "diseaseName     Thalassemia Minor\n",
              "diseaseType               disease\n",
              "diseaseClass              C16;C15\n",
              "Name: 7019, dtype: object"
            ]
          },
          "metadata": {},
          "execution_count": 154
        }
      ]
    },
    {
      "cell_type": "markdown",
      "source": [
        "![image.png](data:image/png;base64,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)"
      ],
      "metadata": {
        "id": "V--PbK3HbOqq"
      }
    },
    {
      "cell_type": "markdown",
      "source": [
        "\n",
        "- Для одного из генов извлеките отдельно информацию о 2–3 характеристиках на выбор, а также добавьте вырезанную по координатам последовательность гена."
      ],
      "metadata": {
        "id": "mZ6zWA48qNus"
      }
    },
    {
      "cell_type": "code",
      "source": [
        "handle = Entrez.efetch(db=\"gene\", id=\"790\", rettype = 'xml') # получаем данные о выбранном гене (база, id, тип поиска)\n",
        "gene_locus = ET.parse(handle).getroot().find(\"Entrezgene/Entrezgene_locus\") # парсим данные локуса, где лежит этот ген\n",
        "region = gene_locus.find(\"Gene-commentary/Gene-commentary_seqs/Seq-loc/Seq-loc_int/Seq-interval\") # парсим регион, где лежит этот ген\n",
        "start = int(region.find(\"Seq-interval_from\").text)# + 1\n",
        "end = int(region.find(\"Seq-interval_to\").text) + 1\n",
        "gi_id = region.find(\"Seq-interval_id/Seq-id/Seq-id_gi\").text\n",
        "strand = region.find(\"Seq-interval_strand/Na-strand\").get(\"value\")\n",
        "print(start, end, gi_id, strand)"
      ],
      "metadata": {
        "id": "WFR9Rin_1oQs",
        "colab": {
          "base_uri": "https://localhost:8080/"
        },
        "outputId": "6a26dc36-8d23-4fc9-9af8-e30f6bf05e2f"
      },
      "execution_count": 155,
      "outputs": [
        {
          "output_type": "stream",
          "name": "stdout",
          "text": [
            "27217368 27243943 568815596 plus\n"
          ]
        }
      ]
    },
    {
      "cell_type": "markdown",
      "source": [
        "ещё одна проверка, что ген id совпадает"
      ],
      "metadata": {
        "id": "dq8zHw-VqnZV"
      }
    },
    {
      "cell_type": "code",
      "source": [
        "handle = Entrez.esummary(db=\"gene\", id=790, rettype = 'xml')\n",
        "record = Entrez.read(handle)\n",
        "record['DocumentSummarySet']['DocumentSummary'][0]['Name']"
      ],
      "metadata": {
        "colab": {
          "base_uri": "https://localhost:8080/",
          "height": 36
        },
        "id": "7OKEV7_pnB4X",
        "outputId": "0428a02c-07ef-4ae2-a19e-bfa696c4f80a"
      },
      "execution_count": 156,
      "outputs": [
        {
          "output_type": "execute_result",
          "data": {
            "text/plain": [
              "'CAD'"
            ],
            "application/vnd.google.colaboratory.intrinsic+json": {
              "type": "string"
            }
          },
          "metadata": {},
          "execution_count": 156
        }
      ]
    },
    {
      "cell_type": "code",
      "source": [
        "id_chrom = record['DocumentSummarySet']['DocumentSummary'][0]['GenomicInfo'][0]['ChrAccVer']\n",
        "id_chrom"
      ],
      "metadata": {
        "id": "GGffVSVR3k4T",
        "colab": {
          "base_uri": "https://localhost:8080/",
          "height": 36
        },
        "outputId": "b9e6c54c-e594-4a7d-f9a3-4ccc47768ad0"
      },
      "execution_count": 157,
      "outputs": [
        {
          "output_type": "execute_result",
          "data": {
            "text/plain": [
              "'NC_000002.12'"
            ],
            "application/vnd.google.colaboratory.intrinsic+json": {
              "type": "string"
            }
          },
          "metadata": {},
          "execution_count": 157
        }
      ]
    },
    {
      "cell_type": "code",
      "source": [
        "#Выгрузить с NCBI нуклеотидную последовательность X хромосомы, для этого узнать ID хромосомы - NC_000023.11\n",
        "handle = Entrez.efetch(db=\"nucleotide\",\n",
        "                       id=id_chrom, \n",
        "                       rettype = 'fasta',\n",
        "                       retmode = 'text')\n",
        "#загружаем\n",
        "chromosome = SeqIO.read(handle, 'fasta')"
      ],
      "metadata": {
        "id": "nllovvKL3oGR"
      },
      "execution_count": 158,
      "outputs": []
    },
    {
      "cell_type": "code",
      "source": [
        "len(chromosome.seq)"
      ],
      "metadata": {
        "colab": {
          "base_uri": "https://localhost:8080/"
        },
        "id": "TZs5I9Sg-N3Q",
        "outputId": "a18da986-453f-4041-c8c6-626bc9da703c"
      },
      "execution_count": 159,
      "outputs": [
        {
          "output_type": "execute_result",
          "data": {
            "text/plain": [
              "242193529"
            ]
          },
          "metadata": {},
          "execution_count": 159
        }
      ]
    },
    {
      "cell_type": "code",
      "source": [
        "chromosome.seq[start:end]"
      ],
      "metadata": {
        "colab": {
          "base_uri": "https://localhost:8080/"
        },
        "id": "RLf7BbbE-YDj",
        "outputId": "69bc3cf4-f3b1-42f0-edbd-771bdb98d948"
      },
      "execution_count": 160,
      "outputs": [
        {
          "output_type": "execute_result",
          "data": {
            "text/plain": [
              "Seq('AGTCTCTGCTGCTGCCGCCAAGCGCGCCCGAGGCTCCTACGCTGCCGCGCCCGG...TAA')"
            ]
          },
          "metadata": {},
          "execution_count": 160
        }
      ]
    },
    {
      "cell_type": "code",
      "source": [
        "#а та ли это хромосома?\n",
        "chromosome.description"
      ],
      "metadata": {
        "colab": {
          "base_uri": "https://localhost:8080/",
          "height": 36
        },
        "id": "R10LyQNK326X",
        "outputId": "23429aac-3cb7-460b-989a-9ac1b448aa67"
      },
      "execution_count": 161,
      "outputs": [
        {
          "output_type": "execute_result",
          "data": {
            "text/plain": [
              "'NC_000002.12 Homo sapiens chromosome 2, GRCh38.p14 Primary Assembly'"
            ],
            "application/vnd.google.colaboratory.intrinsic+json": {
              "type": "string"
            }
          },
          "metadata": {},
          "execution_count": 161
        }
      ]
    },
    {
      "cell_type": "code",
      "source": [
        "#вырезаем из хромосомы ген, для этого узнаем локацию нужного гена. Для CAD это 27217369..27243943\n",
        "geneCAD = chromosome.seq[start:end]\n",
        "print(geneCAD)\n",
        "len(geneCAD)"
      ],
      "metadata": {
        "colab": {
          "base_uri": "https://localhost:8080/"
        },
        "id": "uI6Gm7np4E25",
        "outputId": "f25270a7-cbf3-4911-9b0b-b5ca904e228c"
      },
      "execution_count": 162,
      "outputs": [
        {
          "output_type": "stream",
          "name": "stdout",
          "text": [
            "AGTCTCTGCTGCTGCCGCCAAGCGCGCCCGAGGCTCCTACGCTGCCGCGCCCGGCTTCTCTCCAGCGCCCCGCGCCGTTAGCCACGTGGACCGACTCCGGCGCGCCGTCCTCACGTGGTTCCAGTGGAGTTTGCAGTCCTTCCCGCTTCTCCGTACTCGCCCCCGCCTCTGAGCTCCCTTCCCATGGCGGCCCTAGTGTTGGAGGACGGGTCGGTCCTGCGGGGCCAGCCCTTTGGGGCCGCCGTGTCGACTGCCGGGGAAGTGGGTAAGCAAGCCCGGTTAGGCTGCAGACCTTATCCCACTCTGTGATGCGCCTCTCCTCCCAACCTTCCCCGTCCAGACCCCGCCATTTTCCCGCCAGCGTACCCCCTTCCCCCATTCGGTGCCCATGGGCCCCAGCGCCATAAACCCCTCGCGACCAAGGCAGCCTCCACTGGGGCGTGCTCATCGCGCGGGGAGTGTTCCGAAGGGTGCCCTACCGGAGCCCAGCCCTGCTTCTTTCTTGCAGTGTTTCAAACCGGCATGGTCGGCTACCCCGAGGCCCTCACTGATCCCTCCTACAAGGCACAGATCTTAGTGCTCACCTATCCTCTGATCGGCAACTATGGCATCCCCCCAGATGAAATGGATGAGTTCGGTCTCTGCAAGGTAGCCACACCCAGTGCTTTCTCTACATTCCTTTTCAAGTCAGTAATTGTTAACTATTAGTGAAGTAGGAGACGTTGACACCCTGCTGGGCATCCTGCAGAAAACATACCCACTGAAGTAGTAAAGTCAAGGACTAAGATCACTAGTAACTGTAGTTAGGGGTTGTTAAGTGCCTTGGGAGGCACAGAGTGTTGGAGGCCTCAGGAAAAAGCTACCGCCTTTGTTAAGGGCATCAAGGCTCCAGGTATAGCTGAAAGCATTCTGTATGTAGTGAAGGCATGGATCAAGGAAAAGTAAAAGAGGTGTAAGGGAACAGCCTTGTCCAACTTGTTAGGCATGCAGAAGTCAGGAGAAAAAAGCCTGCAGATAAGTTAAATCCGGTGGGCATGGAGGGACCTGAAGCCAAAGCAGAGTCAGCTTAGTTTGGTAAAGGATCCATTGAAGGTTTTTTTTTAGCAGCAGAGTCAGATGGGAGCAGTGCTTTTTAGGACTACATAAATTAGTGGAAAGAGACTGGAAACTAGGGTCACATACTTCTCTGTGACAGTGAGTGCCAGTTTACCTACAAAACCAGTGACATTATCTTCTAGACCTACTGACATGGCCTCGTCTGATTCTCTGCTTTTCAGTTGTGTTCTTACCTCTAGGTGAGAAAACTGAGTTTCTTCCTACAGTGAGGTTTCCCCTATTCCTTCACCTCTGAAATTTGGAAACTAAGTTGCCCTCTGACAGTTCAAGCATTAAAAAAAACCCAACATATAGTAATTAAGGTAATAGAGGAAGTCAATCTGGCCTAGAGTAGTATCTCTCAAAATTTGTTTGGCCTCACTGCAGGTGTAAGCCTTTAATTCTTAATTTGCCTTCCCAGCCACCCTGACGCTGGGGAGAGTGAGCTCCGGATAAAGGACGTACATGTTGTTCTTCCTGGAAAAGAATTTCTAGGTTCATCACAAACCTACAAATACACTGCATTCTAGTTGATAGTGAATTCTTGTGAATTTGGTTAACCTTTGTCAGTCATCACCTTTGTCAACTCTAGACACACTGACTAAATTGAGTTTATAAAACTACAAAATTGAGGCCTGATTAGGATCAGGGTGGGAAAGGCCTCTTGGAGCCACTCGCACATATAAATGGATTACTCCACCTGGCCAGGGAGGGTTCTGCCAAACTATCCTTCAGATCCCTGGACAGTCTCAGAATGCAGGTTCCTTAAACTGTTCATCACCCAGCTGAATGCAGTTTAAATATGCTGATCCCTCCCACATAAACTTTCTGTTTCTATGTAGCTATTAAACGCTTATCTATTGAGTAACAAGTTTATGGTTTTTGTTTTTTTTTTGGGGACAAGGTCTCACTTTGTCACCCAGGCTGGAGTGCAGTGGCATAATCATGGCTCACTTGCAGCCTCTGCCACCTGAGCTCAAGTAGTCCTCCCACCTCAACCCCCCAAGTAGCTGGGACTACAGGCACCTGCCGCCATGCCTGGCTACTTTTTTTGTATTTTTTGTAGAGACCGGGTATTGTCACATTGCCCAGGCTTGTATGTTATCTTTTTTTATTTAATTTTTTTTTATTTTTATTTTGCTTTGAGGTAGAGTTTCTTTCTTGTTGCTCAGGTTGGAGTGCAATGGGCAACCTTGGCTCACTGCAACCTCCGCCTCCCGGGTTCAAGCTATTCTCCCACCTCAGCCTCCCGAGTAGCTGGGATTACAGGCATGGGCTACCATTCCCAGCTAATTTTGTATTTTTAGTAGAGACAGGGTTTCTCCATGTTGGTCAGGCTGGTTTTGAACTCCCGATCACAGGTGATCTGCCCACCTCGGCCTCCCAAAGCGCTGGGATTACAGGCGTGAGCCACCGCGCCTGGCCTTTTCTTTTTTAAATAATCCCAAATGAAGTTTGGGAGGCATGCTTAGTATTGTGCCCTGAACCTTTGTTTTTTATTTGGTAATGGGGTATTTTGTACCTCCCTATCTTACTCAGTTTTTAATCACACTCTATAATTAATATTTATATGGGTGTTACCTTGTTTTCTAGCTCCCTAAGTCAGAAATAAACATCATGAAGACAGGAACCTCATCTTTTTTTGCTCATTGCTCTTTTCTCAGCATCTTTTGCAATGCCTGCACCTCAATAAATGTCTGACTGACACCATGTGCCTTGCTCTTGAGTTCTCTGTTTCGTGACAAAGACACAAATACATATTCATCATATGACGTAAATAGCAAGAGAGGAAATAAAGTATTAAAACAGCTCTAAGATGGAGGCACAAGCTGTATTGGGTGAGTGGGAGGGGCTTCACAGAGAAAGGATTTGTGATTTCAGTTTTAGATAAAGGAAGAAAGAGGCGGGGCGCGGTAGCTCATGACTTGTAATCCCAGCACTTTGGAAGGCTGAGGTGGGGGGATCGCTTGAGCCCAGGAAGTTTGAGAGCAGCCTGGCAACATGGTGAGACGCTGTCACTACAAAAAATTCAAAAAATTAGCCAGGTGTGATGATCCACACCTGTGGTCCCAACTACTCAGGAGTCTGAGGTGGGAGAATCACTTGAGCCCAGGAGATTGAGGCTGTAGTGAACCGTGTATTTGTGCCACTGTACTCTGCACTCCAGCCTGGATAACAGCAAGACCCTGTCTCAAAAAAAAAAAAAAGGAATGGCTAGGTGCGATGGCTCACTCCTGTAATCCCAGCACTTTGGGAGGCTGAGGTGGGCAGATCACAAGGTCAGGAGATCTGAGACCATCCTGGCTAACATGGTGAAACCCCGTCTCTACTAAAAATACAAAAAATTAGCCGGGTGTGGTGGCGGGCGCCTGTAGTCCCAGCTACTCGGGAGGCTAAAGCAAGAGAATTGCTTGAATCCGGGAGGCAGAGGTTGCAGTGAGCTTAGATGTCGCCACTGCATTGCAGCCTGGGTGACAGAGTGAGACTCTGTCTCAAAAAAAATAAATAATAAATAAATAAAAAGGAAAATGTCATTTTCAGTGATCATCGGGGCACCCTGGGCCTGTGGGTTGTGTTTCGTATAGGAGAGAGCGTTGTTGGTAAATGGAAATACCTATGCAAAAGCACCAAAAGTTTGGTATATTGAAGGCCATTCAATGTGGCTGAATATAGGGTCTGTGGCCACACAATCGGGAAAATGCTGCAAAGAAATAACTTGGCCTGAGGCTTCTCACAATCTCTTTCCATCTACAGTGGTTTGAATCCTCGGGCATCCACGTAGCAGCACTGGTAGTGGGAGAGTGCTGTCCTACTCCCAGCCACTGGAGTGCCACCCGCACCCTGCATGAGTGGCTGCAGCAGCATGGCATCCCTGGCTTGCAAGGTATGGTGGCAAGCAGGGGCATATTTGGGCAGAGCACAGCATGCCTGGATGGAAAGAATCAAGGTTTCTGTAATCTGCTGGGACCTGACTCTAAGATTGTGATAGTTGGAAGGTTTAGATTGGAGTTGGGCTGGGAGAAAGAATTGAACTATCACTCAGAAAGAAAATTTCCAACACAGGAAGGAACTCCCACCTTCCATAATCATCAGCTTAGGGCTAATCTTATTTCATCACCACCACTGGATTATTTTGATGCAAATCTCAGACATCATATCATTTCATCTACAAATAGTTCAATATCTATGCAAAAGGAATCTTTAAAAAACATGATCATAATAACGTCATACACTAAAAAAATTAATAATTCCCTAATACAAGTGTCCAGGCAATGTTTAAAATTTCCCAATTTTTTTTTTTTTTTTTTTTTTTTTTTCTGTTCATTTGAATCTTGCTCTAAACAGGGTTCACACATTGCATTTGGTTGATAAGTCTCTTAATCTGTGGACCTTGTAACCTATTTGAAAACAGGTCATTTTTCCTGTATCTAGTATCCCATAGTCTGCACTTACTTGGTTACACTCCTGTAGTGTTACTTAGCGTATTCTTTTTTTCCCTTTATATTATTTTCTATAAATGGATAGATTTAGAGTTGTTCAATTCAGATGTGATATTTTTGGCAGGAATACTTCATGGTAGTATACTTCTGTCACAATGGCCCAGGATTTTGATGCACATAGAACAGCTGTGTGTGACTGGGGCTCTGGAATGGAAGTGCTTCTGGAAGTCTAACCTCACAGATGACTGAGTTGTAGGAATGTGATCCCTAAGACTGTGCTATTTTGACAGGAGTAGACACTCGGGAGCTGACCAAGAAGTTGCGGGAACAGGGGTCTCTGCTGGGGAAGCTGGTCCAGAATGGAACAGAACCTTCATCCCTGCCATTCTTGGACCCCAATGCCCGCCCCCTGGTACCAGAGGTCTCCATTAAGGTACAGAGGTAGAGTGGGAGAGTGTTGCAAGCTCTAGCACAGTAGTTATATTCTGCCCACAATTGGGGGGTGAACACAGGAGAGAATCAAAGGAGGCTTTGAAGGTAGGAGTTGGTGCAGGCATATCTTATACCCACTGAGCACAGCTGCCAACTGTTGCCCTTTATTCGTCTATTTCTCAGACTCCACGGGTATTCAATACAGGGGGTGCCCCTCGGATCCTTGCTTTGGACTGTGGCCTCAAGTATAATCAGATCCGATGCCTCTGCCAGCGTGGGGCTGAGGTCACTGTGGTACCCTGGGACCATGCACTAGACAGCCAAGGTGAGTAGCTGGGGCCTGTTCAGGGCCTCAGACAAGCAGCTTGGGTGGAAGATCTATCCCTTGGTCCAATTGCTAAAAGTCAGTAGGAGTTGCAGTGAAGAAGATAGACATTGGGACTTAACACTCTCATGGGCTGGGGGGGCTGCAGGTGTGTCTCCTGTAATTGAAATACTGATTTTGATGTCATCTTTTCTGCCCACTCCAGAGTATGAGGGTCTCTTCTTAAGTAATGGGCCTGGTGACCCTGCCTCCTATCCCAGTGTCGTATCCACACTGAGCCGTGTTTTATCTGAGCCTAATCCCCGACCTGTCTTTGGGATCTGCCTGGGACACCAGCTATTGGCCTTAGCCATTGGGGCCAAGACTTACAAGATGAGGTGGGACTTGTGGGGAGCAGAAGGGGCCCATACTTGTGGCATGAGGGGTGGGGTGTCTCAGGAATGAGAAGAGAGTTGGTGTTTATTCGTGTTGAAATAGGAGCGGGGGGGTTGCAGGTGAGGTGGCTCCCACCTGTAATCCCAGCACTTTGGGAGGCCAAGGTGGGCGGATCACTGGAGGTCAGGAGTTCGAGACCAGCCTGGCCAACATGGTGAAACTCTGTCTCTACTAAAAATACAAAAGTTGGCCAGCCATGGTGGCGTGCGCCTGTAATCCCAGCTACTCCAGAGGCTGAGGCAGGAGAATCGCTTGAACCTGGGAGGTGGAGGTTGCAGTGAGCGGAGATCGTGCCATTGCCCTCCAGCCCGGGAAACAGAGGGAGACTCCGTCTCAAAAAAAAAAAAAAAACAAAAAGGAAACAGGAGTGAGGCTACTGAGAACAGGAGATCGGTGAGAGCTGGGGTAGGTTCAGTAGTGAAGAGAGGGTGAGCAGGGCCTGTGACTCGGCATGCTTCTACCTCCAGATATGGGAACCGAGGCCATAACCAGCCCTGCTTGTTGGTGGGCTCTGGGCGCTGCTTTCTGACATCCCAGAACCATGGGTTTGCTGTGGAGACAGACTCACTGCCAGCAGACTGGGCTCCTCTCTTCACCAACGCCAATGATGGTTCCAATGAAGGCATTGTGCACAACAGCTTGCCTTTCTTCAGGTGAGCCTGGTTGACTGGGTCTGTGAAAATTTGAAGCCCTGTGGGCCTTGATGATGGAAAAGTAAAGCACGGCAGTGGATCCGAGTCCCCTGTCCCACTACCCACCTCGAGGCTGCCAGTGTCATGCCAGGGACCATGATGGTTTTCATGATGCAATCTCTTCAATAGTGTCCAGTTTCACCCAGAGCACCAAGCTGGCCCTTCAGATATGGAACTGCTTTTCGATATCTTTCTGGAAACTGTGAAAGAGGCCACAGCTGGGAACCCTGGGGGCCAGACAGGTAAGATCCTGAGTAGAACTGGGTTGTGGACCTAAGAACAGGGTTGGCTCCAGGATGGGCATAAGGTGGACATGCCCTGGGCAACTCCTAGATGTCTAGGAGGTTAAGGGTATTGGGGATGGGTGGCAACCAACCCAAGATACCGTTTAAGCTTCTGTTGAAAGGAACTCCAGGGTCCTGGGTTCTGGTCCTCCCTCTGCTCCTCCTGAGGTGCATAATTTGCTCTGGACTCTTCTGAAAGCGAGGGAGCTAATCCAGTTGACCTCTTGGGTCCAGCTCAGCTCTAACATTCTACGACCTTCTTTGCTTCCACAGTTAGAGAGCGGCTGACTGAGCGCCTCTGTCCCCCTGGGATTCCCACTCCCGGCTCTGGACTTCCACCACCACGAAAGGTTCTGATCCTGGGCTCAGGGGGCCTCTCCATTGGCCAAGCTGGAGAATTTGACTACTCGGGCTCTCAGGTGAGGCATGTTCCTCCCCACCCTTCTGGGCGTGTGACCCTCAAGAATGGAAAGGGTCTTAAGGAGAAGGGCTAAGGTTGCAGGGAGGAAATGAACCAGATTTGGGGAATGTAGAGAAAGATGTAGTAAGAAATAGAAGTCAATTATTAGGGGCCAAGAGTACAGGGAGGGAAAGAAGAGGAGAATGCTACTCTAAGGCTGTTTGCAATTTTGCTTCTTCAGCAGAGGCTGAGATGCCATTCTTGTCCTTTTAGGCAATTAAGGCCCTGAAGGAGGAAAACATCCAGACGTTGCTGATCAACCCCAATATTGCCACAGTGCAGACCTCCCAGGGGCTGGCCGACAAGGTCTATTTTCTTCCCATAACACCTCATTATGTAACCCAGGTATGACTGGGGCAAGGCTGGAATGAAAAGAGGACTGGGCAGGGGGGCCCAGTGGTCACTGTGGGTTATTAAACTTTGATTGCCTCTCTACCCACAAGGTTCTGATGCCTGTAACTCCCCTCTCCATCCTCAGGTGATACGTAATGAACGCCCCGATGGTGTGTTACTGACTTTTGGGGGCCAGACTGCTCTGAACTGTGGTGTGGAGCTGACCAAGGCCGGGGTGCTGGCTCGGTATGGGGTCCGGGTCCTGGGCACACCAGTGGAGACCATTGAGCTGACCGAGGATCGACGGGCCTTTGCTGCCAGAATGGCAGAGATCGGAGAGCATGTGGCCCCGAGCGAGGCAGCAAATTCTCTTGAACAGGTTGGAGGGGTGTTTGGGTAAAGGAAGAATGGTGGTGTTTTTTTTGGTAGTGTTATTTTCTTTTTTTTTTTTTTTTTTTTGAGACGGAGTTTCGCTCTTGTTGCGCAGGCTGGAGTACAGTGGCGTGATCTCGGCTCATCATAACCTCCACCTCCCAGATTCAAGCGACTCTCCTGCCTCAGCTTCCTGAGTAGCTGGGATTACTGGCATGCGCCACCATGCCCAGCTAATTTTGTATTTTTAGTAGAGACGGGGTTTCTCCATGTTGGTCAGGCTGATCTCGAACTCCTGACCTCAGGTGATCCACCCCCCCGACCCTCGGCCTCCCAAATTGCTGGGGTTACAGGCGTGAGCCACTATGCCCAGCCATGTTATTTTCTTTATATCTTTTTTTATGTGGGACAGGCACACCTTGGACAGTAGGAAATAACCTGTTTGTTCATCTCTTCCACTCATTGCAGGCCCAGGCAGCCGCTGAACGGCTGGGGTACCCTGTGCTAGTGCGTGCAGCCTTTGCCCTGGGTGGCCTGGGCTCTGGCTTTGCCTCTAACAGGGAGGAGCTCTCTGCTCTCGTGGCCCCAGCTTTTGCCCATACCAGCCAAGTGCTAGTAGACAAGTCTCTGAAGGGATGGAAGGAGATTGAGTACGAGGTGGTGAGAGACGCCTATGGCAACTGTGTCACGGTGAGTGAATGGGGGAAGGGTGGGCGTCGTGTCAGGCAGGATGAGCTTTTGGAAGAGCAGAGGCCCAGGCCAAGGTCTTTGAGAGTTGTATGTCCCTCAGACCCAGGTTAGGTGCAGCCCCAGAGGTAACAGGACCCTGGGGTGCAGCCTTCTGCCTCTCCTGACTCTGCTTGGCAGTGACCTCCATGGCACCCCCCTTCACAGGTGTGTAACATGGAGAACTTGGACCCACTGGGCATCCACACTGGTGAGTCCATAGTGGTGGCCCCTAGCCAGACACTGAATGACAGGGAGTATCAGCTCCTGAGGCAGACAGCTATCAAGGTGACCCAGCACCTGGGAATTGTTGGGGAGTGCAATGTGCAGTATGCCTTGAACCCTGAGTCTGAGCAGGTAAGCTCTAGGCCCTGGAACTGATAGTCTAGTTGTTACCCCCTCTTCTTGTATAATTTTTGGCCCTTGAGGTTGAGGTCTTTTGGGCTTACAGTCCCTGGAGTACAAGCTGGAATCTTCTTTACTAGGTTACTTTTCTCTCCTTTCTGAGACCTCTCCTAGACAGGGTCTTCTAGGCCAGTGACTTTATTCTCCTTCTTTGCAGTATTACATCATTGAAGTGAATGCCAGGCTCTCTCGCAGCTCTGCCCTGGCCAGTAAGGCCACAGGTTATCCACTGGCTTATGTGGCAGCCAAGCTAGCATTGGGCATCCCTTTGCCTGAGCTCAGGTACGAGGATGAGGGAGATATCACAGTGGGGAAGTGGGTCGGGGGCTGAGGAAAATATTGATGGGACAGGGAATATGAAAAGGACATTGGCCTGGATTTGTGGGAATGGAAAGAGCTATCCGGAAGCTCACCCTTTATGCTTCCTTCACTGTCCTTCTGGCATCCCACCTGCTGGACCCCAGGAACTCTGTGACAGGGGGTACAGCAGCCTTTGAACCCAGCGTGGATTATTGTGTGGTGAAGATTCCTCGATGGGACCTTAGCAAGTTCCTGCGAGTCAGCACAAAGATTGGGAGCTGCATGAAGAGCGTTGGTGAGACTCATGCCCTGGGCACCCCCATGGGGCCCCACCATGACCAAGAATCTTAAATGTCAAGAGTTCCCTGGCATGGCCTTTTACGTCCTATGGGAGCAGGTGCTTGAGACATTTCAAACTAAGATTATAGTCCTTGTCAGGAGTTGGGGAGGCATCTGGAAATCTGTGTTGGAATACAGAATCTCTGGGATAGGTGCAAGCCATCAGACTATCTCATCTCATTTTTGCAGTATCTCCTCCTCTGGCACTTTGTGCTTTGGTCACTAAATGACCTTTTTTTTTAGTATGATGTTTACATCAGAGCAGGGCATCATAAACCTTTTTGGTAACAAGGAAATTTATTAGTGAATGATGAATGGCCGTAACGTTACCCAGCAGTGGCAGAGCATGTTAGAATTGAGTTAGTATGTTTCTTTGTGGTATCCCTTTAGTTGCCGAAGACCGTCCTCTAACACATTTCAACCAAAACAAAAATATACGTGTACCAGACACAGCGCCACCAGCCTGATGGATAAGAGCATTTTGTGGTGCTCCAGATTTCCATTTAGAGCAGTAGTGGCCTTTAAACAAGTAAGTCTAAGCTCAGATATTATTTCAGAATTTTTAGAAATTCTGCAAGACTGCCAATTTTTTCCTTCTGGAGATGAATCTCTGTTATATGAAAATTAGAATAAACATGGGAATGAAGCCATAATTAAATTGTGGCAAAAAGAAGTGGATTGAAAATAGGCCAATGAAAGATTGGTTCCTAGATGAGACATTTAATTGTTTTACATCTGTTCAAGTATTCTTGGAATGTGGTCTTCTTTGGTAACTTTTTGTAACTTTTATTATACAAGTAAGAAACATGAATCATGGAAAACGAGGAAAGATAGTTTAACCAAAGAACAGTAGTCACCTGTAATCTTGCCTTACAGAGATTGATTAATTCGACCGTGTATCTGCGACTGCATAATTCAGCCGTGTATCTACGACTGCATACATTTCTAGGCATATGTGTATGCATGTATTAGGCTTCTCCTTTTTTAACAAATCTCAAAATAAAAAGTCTTACAACCACAGTTACAAAGAAATTGAACAAAATCAGTCACACTACTGTTAACATCGTAGTGTTTTTAAAACTTTTTTAAAGAAATGTAAATGTTAGGATTGTAAATAGAAAAATACACTTGGTAAGAAATACTTAAGCCCCTAGAGTAAATAGTCAGAGGAGATGAACAACACTTTACAGAAGAAGAAATCAATAAGCAAACCTAGAGAAAAGACGGTTCCTCTCATTAGTAAATAGAAATCTAGTTAAATGAGACTCTGTTTATGCCCACTTCTTAGAAGGTTGCTTAAACTTTGTATTATGAAGCACAGACTTCTATAAAGTTATTCGTACTCATCAAGGGCTATAAAATTTGTGTTACCTATTGCCTCTACATATCTGGAAATTTATCCTAAGGAGATTATCCAAAACAGAAAACATCATATCCAGTCCAGGCACGGTGGTTGTAATTAATCCCAGCACTTTGGAAAGCTCAGGTGGGAGGATCGCTTGAGCCCACGAGTTCAAGGTTGCAGTGAGCTGTGATTGTACCACTGCATTCCAGTCTGGGTGCCAGGCTAAGACCCTGTCTTTTTTGTTTGTTTGTTTGTTTGAGACGGATTTTCATTCTTGTTGCCCAGGCTGGAGTGCAATGGTGTGATCTCGGCTCACCACAATCTCTGCCTCCTGGGTTCAAGTGATTCTCCTGTCTCAGCCTCCAGAGTAACTGGGATTACAGGCATGTGCCATCACGCCTGGCTAATTTTGTATTTTAATAGAGACAGGGTTTCTCCCTGTTGGTCAGGCTGGTCTTGAACGCCCGTGCTCAGGTGATCCACCCACCTTTGGCCTCCCAAAGTGCTGGGATTACAGGCCACTGTGCCTGGCCGAGACCCTGTCTCTTTTTTCTTTTCTTTTTTTTTTTTCTTTTTTTTTTTTTTTGAGGCAGAGTCTTCCTCTGTCGCCAGGCTGGAGTGCAGTGGTGCTATCTCGGCTCACTGCAACCTCTGCCTCCCAGGTTCAAGCGATTCACCTGCCTCAGCCTCCTGAGTAGCTGGGACTACAGGCGCGCACAACCACGCCCAGCTAATTTTTGTATTTTTAGTAGAGACGGGGGTTTCATCATACTGCTTAGGATGGTCTCGATCTCTTAACCTCGTGATCCGCCTGCCTCGGCCTCCCAAAGTGCTGGGATTACAGGCATGAGTCACCATGCCCGGCCGACCCTGTCTCGTTAAAAAAGAAAGAAAACATCACAGCCTAACTTATAATTATGAAAACTTTTTTTTTTAATACGGAGTTTTATTCTGTCACCCAGGGTGGAGTGCAATGGTGTGACTTAGCTCACTGCAGCTTGGATCTTCTAGGCTTAAGTAATCTCCCACCCCATCCTTCTGAGGAGTGAGACTACAGGTGTACACCACCACACCTTGCTAATTTTTTTTTTTAATTATTATTTGTAGAGAGGGAGGTCTCACTATGTTGTGCCGGCTGGTCTCAATCTGCCTTAGGTGATCCTTCTGCCTCAGCCTTCCAAAGTGTTGGATTACAGGTGAGAGCCACCAGGACTGCCTAATTGTAAACACTTAAAAGCGAAATGGGCCGGGCGCGGTGGCTCATGCCTGTAATCCCAGCACATTGGGAGGGTGAGGTGGGCATATCATGAGGTCAGGAGTTTGAGACTAGCCTGGCCAATATGGTGAAACCCCATCTCTAGAAAATATACAAAAATTAGCTAGGCATGGTGGCACGCACCTGTAGTCCCAGCTACTCAGGAGGCTGAGGCAGGAGAATCGCTTGACCTCAGGAAGCAGAGGTTGCAGTGAGCTGAGATTGCACCACTGACTCCAGCCTGGGCAACACAGTGAGACTACGTCTCAGAAAAAAAAAAAAAAAAAAAGCTAAATGTCCTTCAGTTAGTAGTTAAATTATGGCAGATCATACAAGAATTAAGTTAGTTGGTTGGGCGCAGTGGCACACGCCTGTAATCCCAGCACTTTGGGAGGCCGAGGCAGGTGGATCACCTGAGGTTGGGAGTTCGAGACCAGCCTGGCCAACATGGTGAAACCCCGTCTCTACTAAAAATACAAAAATTACCCAGGCATGGTGGCAGGTGCCTGTAATCCCAGCTACTTGGGAGGCTGAGGCAGGAGAATCACTTGAACCCAGGAGGCACAGGTTACACTGAGCTGAGATCATGCCATTGCAGTCCAGCGTGGGTGATGAGAGAAACTCCGTCTCAAGAAAGAATTAAGTTGGTGTTGATGAGGCCATGTGGCAATGTGGGAAAATGTATGATGAGGAAAAAACACAGGATGGAAATTATATGTATGCTGTGATGATATGTAAAACATACCTATGAAGGGCCCGGCACGGTGGCTCACGCCTGTAACCCCAGCACTTTGGGAGGCCGAGGCGGGTGGATCACGGGGTCAGGAGTTTGAGACCAGCTTGGCCAACATGGTGAAATCCCGTCTCTAATTAGCCAGACATGGTGACACGCACCTGTAATCACAGCTACTCAGGAGGCTGAGGCAGGAGAATCTCTTGAACCCAGGAAGCAGAGGTTGCAGTGAGTCGAGACCGTGCCATTGCATTCCAGCCTGGGCAACAAGAGCGAAAGTCCATCTAAAAAAAAAAAACCTATGAACCTATGAAGAAAAGTCCAGAAAGAGAAACTCTAAAATGATTGTTGTAAATGTGATTTGCTCTGCATGGATGAGTAGTAAGGATCATCTTCCTATTATCTACACTTTTTTAAAAAGTTTTAAAGAATTCCAGTTGGTGTTATGATTATGTGAATAAATCAAACCCAATAACTGGACAGCCATCAGTGGTTTGGGCCACTGTGATAAACTTCCAGTATCCAGTGTATGGGGATATATTCCAGTATCCCCATGCCCGTTTTAGGCATATTGATTCCATATTCATCAATAAGCACAAAGCCTGAGCTTATCCATGAAAATAGCAGGGAAAAGAGCTATAAGTTAAGATTTCTTTTTGTTTGTTTGTTTGTTTTGTTTTGTTTGAGACGGAGTCTCGCTTTGTTCCCCGGGCTGGAGTGCAATGGTGTGATCGCTGCTCACTGCAAGCTCCACCTCCCGGGTTCACGCCATTTTCCTGCCTCAGCCTCTGGAGTAGCTGGGGCTACAGGCGCCCGCCACCACTCCCGGCTAATTTTTTTGTATTTTTAGTAGAGACGGGGTTTCACCATGTTAGCCAGGATGGTCTCGATCTCCTGACCTCGTGATCCTTCCGCCTCAGCCTCCCAAAGTGCTGGGATTACAGGCGTGAGCCACTGCGCCCGGCCATTAAGATTTCTTAGTTGTGAAACACCATGAATCCCACCATCATGTGACTTGCCTTGAGAATCTCCCAGAGTCTTGACTATAAACCATAAGCATTATGGGCAGTGCCTTCTTCCCACCCCTTCCACCTCCACACCTTCATTCCTTCCATTCTGTTCTTCCAGGTGAAGTCATGGGCATTGGGCGTTCATTTGAGGAGGCCTTCCAGAAGGCCCTGCGCATGGTGGATGAGAACTGTGTGGGCTTTGATCACACAGTGAAACCAGTCAGCGATATGGTAAGTAGCTCCCCTCCCCTGGCAATACCCCTAAAATAGACCCTGCTTCTCATCGCCCCCAGACCATGAGCTTGTTACCAGTAACACTAGCAGCAGTCATCATTGGACATTTGCTTTGTTTCCACTTTGCTGAGAATTTTGAGATGTCTCATTAGCACGCAAGGGTGTATTACTAGACTTGTTTTTACAGATGAGGAAACTGAGACATAGGTTATAGAAATTACTCAAAGCCACATAGCCAATGAGAGGTAGACCCAGGATTGGTATCCAGGTTTTTGCAGTTACACAGCCTGTGCTCTGGTGTACAGTTTCCCCTTCCTGAGACAAGAGCAGCTACTTACGCTCAGGCTTTTAGATGGGCTGGCAGTAGCTTCCGTCTGTCTACCCCCTTTCTATCAGGAGTTGGAGACTCCAACAGATAAGCGGATTTTTGTGGTGGCAGCTGCTTTGTGGGCTGGTTATTCAGTGGACCGCCTGTATGAGCTCACACGCATCGACCGCTGGTTCCTGCACCGAATGAAGCGTATCATCGCACATGCCCAGCTGCTAGAACAACACCGTGGACAGCCTTTGCCGCCAGACCTGCTGCAACAGGCCAAGTGTCTTGGCTTCTCAGACAAACAGATTGCCCTTGCAGTTCTGAGGTCAGAGGTGGCAATGAGAGCTTCCGGCTGGGAAATGTGGGGCAGAACCTTTGTATCAGTGAGGGACCCTTGGGAGGGAGGAAGGAGAGTGTGGGAGAGCTTTAGAGGCTTCTGACCTTGGTTCCAAGGATATTTCCTCTCATCTGTGCCCTGGGGTCTCAACCCTCTATCAGTCTGTACCCTACTCTCTGGGCCTGTGTTTCAGACCCTTTTTCTATTTTAGCACAGAGCTGGCTGTTCGCAAGCTGCGTCAGGAACTGGGGATCTGTCCAGCAGTGAAACAGATTGACACAGTTGCAGCTGAGTGGCCAGCCCAGACAAATTACCTATACCTAACGTATTGGGGCACCACCCATGACCTCACCTTTCGAACACCTCATGTCCTAGTCCTTGGCTCTGGCGTCTACCGTATTGGCTCTAGCGTTGAATTTGACTGGTGTGCTGTAGGCTGCATCCAGCAGCTCCGAAAGGTCAGAGAGTTCATTTTCTTTCCACTTTCCTTGCTATTCTGTTCATCTCTAGCAATTGCTTGGCACTAATCCTGGCATTTCCTATTAATTGCCGTCCCTTACTTTGGTCATAGAGCTTTGGGGTGGGGGTCCTTTTAGGCCATCTCTCATGCCCCACACGGTATATGAATCTCTTCCCCAACACTTTGTACCTCCTTCCCTCCCAAGGCAGGGGTCCTGTACAGCTCTTTCAGAGGAAGCTGTGCTGGCAGTCTCTGAAGTAGGGGCTTTGGCTTAGTTTCTCCACGATTTTCTCCACGATTTTCCTCCCACCTGACTGCTAAGTACCCTTCCCCTCCCTCTTGCAGATGGGATATAAGACCATCATGGTGAACTATAACCCAGAGACAGTCAGCACCGACTATGACATGTGTGATCGACTCTACTTTGATGAGATCTCTTTTGAGGTGAGGGAGATGGAGGCTTCCTGGTAGCTTGAGTGGCCAGGGTCGAGTAGAACAGCTGGCTGACCTAAGATTCTTTGAAACTTGGTGGCGGCTGAGGGAAGCAGTGAGCAGGAAGGCTCAGATTCCTGCCCTCTTTTGCTGCCACCACTTGTTTCTCCCCCTGCAACGTAGGTGGTGATGGACATCTATGAGCTCGAGAACCCTGAAGGTGTGATCCTATCCATGGGTGGACAGCTGCCCAACAACATGGCCATGGCGTTGCATCGGCAGCAGTGCCGGGTGCTGGGCACCTCCCCTGAAGCCATTGACTCGGCTGAGAACCGTTTCAAGTTTTCCCGGCTCCTTGACACCATTGGTATCAGCCAGCCTCAGTGGAGGGAGCTCAGTGACCTCGAGGTGGGCTGGGACCTGGTGGGTTACCCGGAGGCTGGATGATGCTTGGGGGAAAGTGTGAACAACTCAGCTAAGCTCCCTGCCTCCTGTAGTCTGCTCGCCAATTCTGCCAGACCGTGGGGTACCCCTGTGTGGTGCGCCCCTCCTATGTGCTGAGCGGTGCTGCTATGAATGTGGCCTACACGGATGGAGACCTGGAGCGCTTCCTGAGCAGCGCAGCAGCCGTCTCCAAAGAGCATCCCGTGGTCATCTCCAAGTTCATCCAGGAGGCTAAGGTGGGAGGCTGCAGACAGTGAAGTCTCTGAGGGCATGCTGCCAGCCCTGGAGGAGACTTCCTTCTCTGGTCCAGCAGAATCATAGGCACCAGGGCTGGGAACAGTGGGCTATGTGGGGCTCGTTAAAGGAAGAGACAATCCTAGAGTAAGTGAGAGAAGAAAGTGGCCCTATGTCCCACTGTCTGTGTCCCCCCGCTAGGAGATTGACGTGGATGCCGTGGCCTCTGATGGTGTGGTGGCAGCCATCGCCATCTCTGAGCATGTGGAGAATGCAGGTGTGCATTCAGGTGATGCGACGCTGGTGACCCCCCCACAAGATATCACTGCCAAAACCCTGGAGCGGATCAAAGCCATTGTGCATGCTGTGGGCCAGGAGCTACAGGTCACAGGACCCTTCAATCTGCAGCTCATTGCCAAGGTAATAAGGCTAAAGGAAAGAACTAAAGGGCCACAGCTCTTGCATGTTCTGTGCTGGCCACAGTGCCATGAAGCCCTGCACTGTCTCCTGCCTTCATCCAAGTAGGCAGGGAAGCTGGAGGGAAAGGGCTGTAGCTAGAGCTCATGGTGTTGGGGCTTATGACAGTCAGTGACCCTGAACCCTGCTCAGTCTGATCCCCCAGAGCTGAGGACGGAGAGGAAGAGTCTAGGCCTATAGATAGTGTCAGCAAGGCCAACCTGCAGAAGGCCTGACCAGTCTTCTCTGCCCCAGGATGACCAGCTGAAAGTTATTGAATGCAACGTACGTGTCTCTCGCTCCTTCCCCTTCGTTTCCAAGACACTGGGTGTGGACCTAGTAGCCTTGGCCACGCGGGTCATCATGGGGGAAGAAGTGGAACCTGTGGGGCTAATGACTGGTTCTGGAGTCGTGGGAGTAAAGGTAAGGAATATCGAAACCCTTGGGGTTAGCAGAAAAATAGCGGGAGAGAGTTCACTCACCACACAGAGTTGTCAGTATGTAAACCAGGCACTGACTGCAAGGCATTGCCGGATCGTGGGGGTAATGAGGTGGTCATTGTCCCTTAAGAGCTTACTTTATGGTAATGGGAGGGAAGAGAAGTTGGATCCCCAAAAAAGCTTTGGTATAGAACAGTCCGTGGTAAAACTACATATTCGACCTGTAAACAGAATGCTGCAGGAGTTCAAGAGACAGGAGGTGCTGCTTCCAAAAGGGGTGATCTGGGAAGGCTTGAGCGAAGGGGTGCTATTTGAATTGAGTTTTGAAGGATGGTTAAGGTTTTTTATTTGCAAGGGCACATCCTAAGCAGAAGCTGAGGGATGACCCCAAGTACGTTTGGAAAGCAGGAGGGCACACAGAGAGGGCAGGCTGACCCTGCCATTCAGATGGGATCAAGCACAGGGTACTGTGTCCGTCTCTGCTGGTGAGGGAGGAGGTCCTCTCACACCTTGGCCCTCTCTCTTCCCTCCCGCCCCTTTAGGTGCCTCAGTTCTCCTTCTCCCGCTTGGCGGGTGCTGACGTGGTGTTGGGTGTGGAAATGACCAGTACTGGGGAGGTGGCCGGCTTTGGGGAGAGCCGCTGTGAGGCATACCTCAAGGCCATGCTAAGCACTGGCTTTAAGATCCCCAAGAAGAATATCCTGCTGACCATTGGCAGCTATAAGGTATCAGAATCCAGGAGGGCTTCCCGAGGGCCGTGGCTCCCTGGGCCAGGGCTGACCTTGAAATGGAAGACAGGAAGAAAACAATTTCATCCTTCTGTTTGGTTTCAGAACAAAAGCGAGCTGCTCCCAACTGTGCGGCTACTGGAGAGCCTGGGCTACAGCCTCTATGCCAGTCTCGGCACAGCTGACTTCTACACTGAGCATGGCGTCAAGGTGCAGGAACTCTGGCAACCTACCCCACTGCTGCCCTTCCCCAAGGGGGTGAAAATACTGCACCAAAGAATTATCTGGGCTGGGCACGGTGGCATATACCTGTAGTCCCAGATACTCAGGAGGCTAAGGCAGGAGAATCTCTTGAGCCCAGGAGGTAGAGGCTGCAGTGAGCTGCGAGTGTGCAGTGAGTGCACCACTGCACTCCAGCTTGGGAAACAGTGAGATGCTGTCTCAAAAAAAAAAAAAACAAAGAATTATCTCCTATTCCCCTGCTTTTATTATTACCATTATACTAGTAAGCTATATTCCATGCAGAAAGCAGAATACACAGGAAGCAAAGAGAAAAGTCTCTTAAAATCTCTGTACCACTGTTCTGATATTTTTCCTTCCAGGATTTTCTCTGTGTACATGTGTGTGAGCTCATACTGCACCTAGTCCTTGGTAACCCATCTTACTTAGTGTAGATATCTTTCCTGCCAAGAAATACACTTTGCCAGTATCAAATAGAGGCAGCCCTCAGTGCCCACCCTATGGGTCCTCAGTCTCCTCATCATGGGCTCCTGGGCCAGCTCCTCTCCCTTAAGGCTAGCCTTCCTGACCGCTGCCAGACAGCTTGGCCCTGACCTTGACTCCGGGTTGGCAGGTAACAGCTGTGGACTGGCACTTTGAGGAGGCTGTGGATGGTGAGTGCCCACCACAGCGGAGCATCCTGGAGCAGCTAGCTGAGAAAAACTTTGAGCTGGTGATTAACCTGTCAATGCGTGGAGCTGGGGGCCGGCGTCTCTCTTCCTTTGTCACCAAGGGCTACCGCACCCGACGCTTGGCCGCTGACTTCTCCGTGCCCCTAATCATCGATATCAAGTGCACCAAACTCTTTGTGGAGGTAACTGAGACCCATGTGCTGGGAGGGAGACTGCCAGTGTTGATGGGAAGAAGAAAGAGGGAGGAGTGAGTATGGAACAGCCATGCTAGTAATAAAGCTTTGTGGCTACAGAGGGAGAGATGGTGGGTATAGAGTGTGCAGAGCCTGGTTTATGGGAAAACCACATCTCTCCCTACAACTCCCAGGATCACCCTTCCCTTAAAGCTGACTGCTTTCCACTTGCAGGCCCTAGGCCAGATCGGGCCAGCCCCTCCTTTGAAGGTGCATGTTGACTGTATGACCTCCCAAAAGCTTGTGCGACTGCCGGGTAAGTCTTTGGGGAGAACTTGGCTTCTGAACACTGGCAGCCCCTGGCATAGAGACCTGCAGTGTGGTGAAGGATGGCTGGGGGGCCCACTCTTTGTCCTGGACTGCACAGACTGTGAAGACCCCAGAATGTTTCTCACTCTTTCATTCCTTAATCCACAGTGTCCACAGTGGCCTTGTCTGAGGAATTTTTTTTTTTTTTTTTTTTTTGAGACAGAGTCTTACTCCATCGCCCAGGTTGGAGTGCAGTGGTGTGTGATATCGGCTCACTGCAACCTCCGCCTCCCAGGTTCAAGCGATTTTCCTGCCTCAGCCTCCCAAGTAGCTGGGATTACAGGTGTGTGCTACCACACCAGGCTAATTTTTGTGTTTTTAGTAGAGACGGGGTTTCACCATGTTGGTCAGGTTGGTCTCGAACTCCTGATCTCAGGTGATCTGCCCACCTCGGCCTCCCAAAGTGCTAGGATTACAGGCGTGAGCCACCATGTCCAGCTCACCCTTCCTATTTCTGAATCTTCCTGTAATCTTGCTGCTTCCATTTTCTCCCAGGATTGATTGATGTCCATGTGCACCTGCGGGAACCAGGTGGGACACATAAGGAGGACTTTGCTTCAGGCACAGCCGCTGCCCTGGCTGGGGGTATCACCATGGTGTGTGCCATGCCTAATACCCGGCCCCCCATCATTGACGCCCCTGCTCTGGCCCTGGCCCAGAAGGTGAGCCACTGCACTCTTCCTGGTATTGGAGACCCATATGCCCCTACCAGCCACCCTTGCTTCCCTGAGCCCTTTTCCTTCTGCCCCGCCCTATGGGCCCAGGCCACTGGTGCCAGGCTAGCCTGTGTGGGCATGGGTGCCAGTGAGCCTTACCTCTGTGTATCCTCTCCAGCTGGCAGAGGCTGGCGCCCGGTGCGACTTTGCGCTATTCCTTGGGGCCTCGTCTGAAAATGCAGGAACCTTGGGCACCGTGGCCGGGTCTGCAGCCGGGCTGAAGCTTTACCTCAATGAGACCTTCTCTGAGCTGCGGCTGGACAGCGTGGTCCAGTGGATGGAGGTAGGGAGTGTGCATGTGGCAGGAGGCCACCACCCAGTGTCTCCTGGCTTGTGGGCCCCTGCCTAAGTGGGCTGGTAGCAGTGAGGATTCAGGGGAGCTCCTGGGGACTCTGGGCTCTGATGAGCACAGTCAGAGATTCTGCACACTCCTTCATCAGTTCTTTCTGCTCCCAGCATTTCGAGACATGGCCCTCCCACCTCCCCATTGTGGCTCACGCAGAGCAGCAAACCGTGGCTGCTGTCCTCATGGTGGCTCAGCTCACTCAGCGCTCAGTGCACATATGTCACGTGGCACGGAAGGAGGAGGTAAGAGTACACCTGAGATCCTGCTGTCCCTGTTGCTTTCCCAGTAACACCAAAGGTCAGGGTAGTCCTTAGGGGCAGGAGACAGCAGGAGGAGAGTCTGGAGACAGCAGGAGGAGGGTCTCGAGCCAGCACCCTTGCAGGTCTACATCATCATTTTTTGAGCAGGGATGTTGGCCATTGGGACTTTGTGTAGGGCAAGGCATATGGGTGGTGCCTCTTCTGGATCTTCCCATTGTTCCCCAGATCCTGCTAATTAAAGCTGCAAAGGCACGGGGCTTGCCAGTGACCTGCGAGGTGGCTCCCCACCACCTGTTCCTAAGCCATGATGACCTGGAGCGCCTGGGGCCTGGGAAGGGGGAGGTCCGGCCTGAGCTTGGCTCCCGCCAGGATGTGGAAGCCCTGTGGGAGAACATGGCTGTCATCGACTGCTTTGCCTCAGACCATGGTGAGAGAATCCAGCATGTACCTCCTCTGCCCAGTGGGGCTTGTGGGACAGCCCTAGCAAGAAAATGGGAAGCAGGCCAGGCCTCAGGACTCTACTAGGACAGGGTCTTGATCCGTATGGGACCCTAGCCTCTAGGGTACCTGGTCTGTGATAGGTGCCTGATAAATACTTGTTGAAAGAATGAATGAGCCAGTGAGTAGAACTGCAAGTGAAAGAATACATGGGTAAAAGTGTGGGCTCCAGAAGATGGCAGCAGTCCTGTTGCCCTTGTTTCTAGTTCCCAGAAAAAATGAGCATTGGGAGTGGTAGTGAGCATAAGGAGGTTGTTGGAAGTGCAGTCCTGGGGTGTGAGTGACTTCCTAGACATGGAGGTGATTGGTCCTGAGGGTAATGGCTTTCTTTCTCCCAGCTCCCCATACCTTGGAGGAGAAGTGTGGGTCCAGGCCCCCACCTGGGTTCCCAGGGTTAGAGACCATGCTGCCACTACTCCTGACGGCTGTAAGCGAGGGCCGGCTCAGCCTGGACGACCTGCTGCAGCGATTGCACCACAATCCTCGGCGCATCTTTCACCTGCCCCCGCAGGAGGACACCTATGTGGAGGTGTGGGGATGAGGCCCAGAGCAGGAGGGGGGCTCTCCAGCCCTAGGATATGTTCTCTGGGGATCCTTTCCCTAGCATAACCCATGTCCTCTGGGCAGGTGGATCTGGAGCATGAGTGGACAATTCCCAGCCACATGCCCTTCTCCAAGGCCCACTGGACACCTTTTGAAGGGCAGAAAGTGAAGGGCACCGTCCGCCGTGTGGTCCTGCGAGGGGAGGTTGCCTATATCGATGGGCAGGTACGCAAGTAGCCCCTGCCTGATCTCAGTAGTGCCCTCTTCTGCACCACGTTCATTTCTTCCCTTCCCAGCACATCTACACTGTCCCACTATGTGCACCACTGCCCTGGACCAGGGGTTGGGGGCACAGCTCCCCCAAGGTGCTTTTTGTCCTTGCTGACATCTACCCCTTTAGGACCTGAGTTCTCTCTGCTCCCTCCTGAGTGCCCTGCCTTCTGCCTGCAGGTTCTGGTACCCCCGGGCTATGGACAGGATGTACGGAAGTGGCCACAGGGGGCTGTTCCTCAGCTCCCACCCTCAGCCCCTGCCACTAGTGAGATGACCACGGTATCCACACTACTGGGCTAGGGGGCTGGGAGGTGTTAGTCTCAGGGCAGGATGAACAGCTTGAACATTTTCATTGGTGGTTCAGGAACAATTGGGGTTTTCTTGAGGGACTGAATTTGAAGTGGGGTTGGGTCAATTATTTTTTTAAAATGCTGGGCCAGGCCAGATGTGGTGGCTCACACTTGTAATCCCAGCACTTTGGGAGGCCAAGGCAGGCGGATCATCTGAGGTCAGGAGTTTAAGACCAGCCTAGCCAACATGGTGAAACCCCATCTCTACTAAAAATAAAAAAATTAGCCAGGCGTGGTGGTGCACATCTGTAATCCCAGCTACTTGGGAGGCTGAGGCAGGAGAATTGCTTGAACCCAGAAGGTCACGCCACTGCACTCCAGCCTGAGCGACAGAACGAGACTCCGTCTCAAAAGAAAAAAAAAAAAACAACTCTGGGCCAACGTTATCCCTCCAGACACCTGAAAGACCCCGCCGTGGCATCCCAGGGCTTCCTGATGGCCGCTTCCATCTGCCGCCCCGAATCCATCGAGCCTCCGACCCAGGTTTGCCAGGTAAGAGTGGGGTTCCTGTGACTCAGAGACTGTGTAGGGACAGGATCCACTTCTTCCCAGTGCCTCGCCTTTCTCTACTTACATGTCCTCCTCTCCATCCCTTTATCCTCGTCTGATCTGCCGTGCCATCCTTTGCCTAAACAAGTCTCCCCGGTGTGAGTAGACATCTCACAGCTTCTCACATGCCCTTTTTTGTTGTGGGCAGCTGTGTTCCTCCGCCCAGGAGCTGGGATCCCACGGGGCAGCAGAGCGTGGGGTAAATCCAGGTTGTTGGTTGGTGTGAGTCTGGCCGTTCCTCTTGCCTAGGATGCCTTTGCCAACTGGGAGAGCCCCGGGAGGGCACCACTGCTCCCATACAACACAGCCCCATGGGAAGCCACCTGTCTGTCCCCAGAGCTGCTGCAGTCCCCTGCCCTCCCCTAACCTGCTATATTACTGTGTTGTGAATTGGTTTAACATATACACTGTGATTCAGAGTTCCTGGGAATATGGGGTTTCTTTCCAAACCTCAGCCATAAATGTATATCTGTCCTCTTGTCCTGTTTGCAGCTGAGGAGCCAAAGGAGAAGTCCTCTCGGAAGGTAGCCGAGCCAGGTGAGACTCCACCCTGACACACACTCACCTCGGGGACCTCTGATCTGGCCTTGGTAGGAGGAACCCTCTGACCAGCCTTTTCTGCCCCATCCCTCACTGCAGAGCTGATGGGAACCCCTGATGGCACCTGCTACCCTCCACCACCAGTACCGAGACAGGCATCTCCCCAGAACCTGGGGACCCCTGGCTTGCTGCACCCCCAGACCTCACCCCTGCTGCACTCATTAGTGGGCCAACATATCCTGTCCGTCCAGCAGTTCACCAAGGATCAGGTGCCTGGGGCAGGGAGGATGGGACCACCCAGAGCTTTGAGGATTTGGAAAGCTGGGGCTAGGACCTTTCTAGCTAACTTGGGCTCTTTCTTAGATGTCTCACCTGTTCAATGTGGCACACACACTGCGTATGATGGTGCAGAAGGAGCGGAGCCTCGACATCCTGAAGGTCAGGATCAGGGCCGGGGGTAGGGTCCAGGCCATCGCCTGCCCTTGGGCCGCATCAGCGCAGGGCCGCGCAGTGGTCAGAGTGGGTCTTCCTCCCCCTGCCATCCCGTCCCCTTATGCTAGTCCATCCCTCTGCTGCTGTAGATCTTCCCCCACGTTTTCCCTCCCCAAAGCAGGATTTAGCTGGCTGGGGAGGCCCTGAGCATGAGACCATCGCCCCACTAGTGGGGTCTTCTGGTCTGGGCTGCTGCAATCATGGGAGAGAGCTAGGGTGTGTCCTCCTTTCCCAGCTCGTTCAGACACTTAATGATGGGTGGTTTTCTGGAGGCAGAGCCTTTAGCTCAGAGTGACACCAGTGGTGGAAACGTCAAGGCTCTGACAGGTCACAGGGGAGGTTTGGGTGCAGAAGGGTCCTCACAGCACCCCTCAAGTGTCAGTTGGGGTGGTGGTGCCTAGCTGGGGTTTCCCCAGGGTGGACACGCATACGTACACCTTCCATCTTGCTCTTTCCCTAGGGGAAGGTCATGGCCTCCATGTTCTATGAAGTGAGCACACGGACCAGCAGCTCCTTTGCAGCAGCCATGGCCCGGCTGGGAGGTGCTGTGCTCAGCTTCTCGGAAGCCACATCGTCCGTCCAGAAGGGCGAATCCCTGGCTGACTCCGTGCAGACCATGAGCTGCTATGCCGACGTCGTCGTGCTCCGGCACCCCCAGCCTGGAGCAGTGGAGGTGAGGCCAGCCTGGGTACTGAGATGGGGTTAAGAAGGCTGGACCCAGGGGCATGAGAACCCTTCTGCCCACGTTTTCTGTGTTTTGGGCCAGATGAGTGAGGGGACCCCAGAAGAGGGGGACTGGCAGTTGGGGGGCCTCTGAGCTGCAAAAGACAGGATTTTCCCCTTTTTTCCAGCTGGCCGCCAAGCACTGCCGGAGGCCAGTGATCAATGCTGGGGATGGGGTCGGAGAGCACCCCACCCAGGCCCTGCTGGACATCTTCACCATCCGTGAGGAGCTGGGAACTGTCAATGGCATGACGGTGAGGGTGGTGGCAGGGTTTGGATCCCTGCCAGGGGACGATCTAGAGAGGGAGGCAGGAAGTGGTTACCCCGGTACAGGACAGCTGCATCAAGGAGGCCTTCATTCTGCTCCAGAGGCTTTTAAAAGCTTGGAAATGATGTCGGGGGGCACTCAGTCTGGGATCCCTGTGGTGACTGGATTCCTCTCCTAGATCACGATGGTGGGTGACCTGAAGCACGGACGCACAGTACATTCCCTGGCCTGCCTGCTCACCCAGTATCGTGTCAGCCTGCGCTACGTGGCACCTCCCAGCCTGCGCATGCCACCCACTGTGCGGGCCTTCGTGGCCTCCCGCGGCACCAAGCAGGTGAGACCCTCACAGCCCTGCCTGGAAGCCATGGAGATGTGGGTTGGGCAGTCAGAGCCCAGCGCTGCATCCACCATGGCTCTCCTCACCCTCCAGGAGGAATTCGAGAGCATTGAGGAGGCGCTGCCTGACACTGATGTGCTCTACATGACTCGAATCCAGAAGGAACGATTTGGCTCTACCCAGGAGTACGAAGCTGTGAGTGCTGGGCTTGAGGAAGAAGCCAGGGCTGCTGCCGTAGGGCATCAGATATGAGGACAGAAAGGCTGGGCTGAGGGCTGGGTCAGAGCTGTTAAACTTCACATCTGTCAATTGCCATAGCTGCATGTGGGTGTGGAGGGGACCCCAGTGGAGCCCAGACTTGTGTCCTCTGTAGCCACTCCTACCCCAAGGCACTAATGGGGACCCCATCTGCTTTGCAGTGCTTTGGTCAGTTCATCCTCACTCCCCACATCATGACCCGGGCCAAGAAGAAGATGGTGGTGATGCACCCGATGCCCCGTGTCAACGAGATAAGGTGGTGCAGCATCAGAGTCAGAGACTGCCTCGGGGCTGGTGGACGGGAGGAGACTTAGTCCTGGACAAGCCATCCATGGGCTGCACGATAACACTTCCTTTTTTTTTTTTTTTTTTTTTGCAGCGTGGAAGTGGACTCGGATCCCCGCGCAGCCTACTTCCGCCAGGCTGAGAACGGCATGTACATCCGCATGGCTCTGTTAGCCACCGTGCTGGGCCGTTTCTAGGGCCTGGCTTCCTCAGCCTCTTCTCTTTAGGCCCAGCTGCTGGGCAAGGAATTCCAGTGCCTCCTACGGGGGCAGCACACTTAGATATTCCTGGACATCCAGATAGCTCACATGTGCTGACCACACTTCAGGCTCTGGACTGGAGCTCTCTGGCATGGGGGTGGGGCCTCAGATGCTGGGGCCCAGTCTGCCCCATCTTCATTCCTGCACCTTAAACCTGTACAGTCATTTTTCTACTGACTTAATAAACAGCCGAGCTGTCCCTTGATGCTGAGTGTAGTAGAACAGAGCTTTCTTTTAGAAAATTGAGCAGATTCCCAAATTATAAGAGCAGCCTCACCAGGCAGGGCTCTGGCTAGGGCTGCGTGCCCACACTCGGCATTTTCACACTCGTGACTCTTTGGGACTCGGCAGGAGCGTGTTAA\n"
          ]
        },
        {
          "output_type": "execute_result",
          "data": {
            "text/plain": [
              "26575"
            ]
          },
          "metadata": {},
          "execution_count": 162
        }
      ]
    },
    {
      "cell_type": "markdown",
      "source": [
        "## Для всех генов из таблицы"
      ],
      "metadata": {
        "id": "EWm7E1Jql3az"
      }
    },
    {
      "cell_type": "code",
      "source": [
        "gene_info = thalassemia_minor_db[['geneId',\t'geneSymbol']]\n",
        "gene_info"
      ],
      "metadata": {
        "colab": {
          "base_uri": "https://localhost:8080/",
          "height": 425
        },
        "id": "taUgxvdvpo4T",
        "outputId": "009f9147-4b92-489e-f33d-0aacdfc23daf"
      },
      "execution_count": 163,
      "outputs": [
        {
          "output_type": "execute_result",
          "data": {
            "text/plain": [
              "          geneId geneSymbol\n",
              "7019         790        CAD\n",
              "14533       1723      DHODH\n",
              "16962       2056        EPO\n",
              "23735       3040       HBA2\n",
              "23764       3043        HBB\n",
              "31216       3934       LCN2\n",
              "51923       7036       TFR2\n",
              "51958       7037       TFRC\n",
              "55035       7372       UMPS\n",
              "59037       8912    CACNA1H\n",
              "73364      57817       HAMP\n",
              "84036  109580095    HBB-LCR"
            ],
            "text/html": [
              "\n",
              "  <div id=\"df-e91e8964-7625-472d-8bcc-d24f14795f4a\">\n",
              "    <div class=\"colab-df-container\">\n",
              "      <div>\n",
              "<style scoped>\n",
              "    .dataframe tbody tr th:only-of-type {\n",
              "        vertical-align: middle;\n",
              "    }\n",
              "\n",
              "    .dataframe tbody tr th {\n",
              "        vertical-align: top;\n",
              "    }\n",
              "\n",
              "    .dataframe thead th {\n",
              "        text-align: right;\n",
              "    }\n",
              "</style>\n",
              "<table border=\"1\" class=\"dataframe\">\n",
              "  <thead>\n",
              "    <tr style=\"text-align: right;\">\n",
              "      <th></th>\n",
              "      <th>geneId</th>\n",
              "      <th>geneSymbol</th>\n",
              "    </tr>\n",
              "  </thead>\n",
              "  <tbody>\n",
              "    <tr>\n",
              "      <th>7019</th>\n",
              "      <td>790</td>\n",
              "      <td>CAD</td>\n",
              "    </tr>\n",
              "    <tr>\n",
              "      <th>14533</th>\n",
              "      <td>1723</td>\n",
              "      <td>DHODH</td>\n",
              "    </tr>\n",
              "    <tr>\n",
              "      <th>16962</th>\n",
              "      <td>2056</td>\n",
              "      <td>EPO</td>\n",
              "    </tr>\n",
              "    <tr>\n",
              "      <th>23735</th>\n",
              "      <td>3040</td>\n",
              "      <td>HBA2</td>\n",
              "    </tr>\n",
              "    <tr>\n",
              "      <th>23764</th>\n",
              "      <td>3043</td>\n",
              "      <td>HBB</td>\n",
              "    </tr>\n",
              "    <tr>\n",
              "      <th>31216</th>\n",
              "      <td>3934</td>\n",
              "      <td>LCN2</td>\n",
              "    </tr>\n",
              "    <tr>\n",
              "      <th>51923</th>\n",
              "      <td>7036</td>\n",
              "      <td>TFR2</td>\n",
              "    </tr>\n",
              "    <tr>\n",
              "      <th>51958</th>\n",
              "      <td>7037</td>\n",
              "      <td>TFRC</td>\n",
              "    </tr>\n",
              "    <tr>\n",
              "      <th>55035</th>\n",
              "      <td>7372</td>\n",
              "      <td>UMPS</td>\n",
              "    </tr>\n",
              "    <tr>\n",
              "      <th>59037</th>\n",
              "      <td>8912</td>\n",
              "      <td>CACNA1H</td>\n",
              "    </tr>\n",
              "    <tr>\n",
              "      <th>73364</th>\n",
              "      <td>57817</td>\n",
              "      <td>HAMP</td>\n",
              "    </tr>\n",
              "    <tr>\n",
              "      <th>84036</th>\n",
              "      <td>109580095</td>\n",
              "      <td>HBB-LCR</td>\n",
              "    </tr>\n",
              "  </tbody>\n",
              "</table>\n",
              "</div>\n",
              "      <button class=\"colab-df-convert\" onclick=\"convertToInteractive('df-e91e8964-7625-472d-8bcc-d24f14795f4a')\"\n",
              "              title=\"Convert this dataframe to an interactive table.\"\n",
              "              style=\"display:none;\">\n",
              "        \n",
              "  <svg xmlns=\"http://www.w3.org/2000/svg\" height=\"24px\"viewBox=\"0 0 24 24\"\n",
              "       width=\"24px\">\n",
              "    <path d=\"M0 0h24v24H0V0z\" fill=\"none\"/>\n",
              "    <path d=\"M18.56 5.44l.94 2.06.94-2.06 2.06-.94-2.06-.94-.94-2.06-.94 2.06-2.06.94zm-11 1L8.5 8.5l.94-2.06 2.06-.94-2.06-.94L8.5 2.5l-.94 2.06-2.06.94zm10 10l.94 2.06.94-2.06 2.06-.94-2.06-.94-.94-2.06-.94 2.06-2.06.94z\"/><path d=\"M17.41 7.96l-1.37-1.37c-.4-.4-.92-.59-1.43-.59-.52 0-1.04.2-1.43.59L10.3 9.45l-7.72 7.72c-.78.78-.78 2.05 0 2.83L4 21.41c.39.39.9.59 1.41.59.51 0 1.02-.2 1.41-.59l7.78-7.78 2.81-2.81c.8-.78.8-2.07 0-2.86zM5.41 20L4 18.59l7.72-7.72 1.47 1.35L5.41 20z\"/>\n",
              "  </svg>\n",
              "      </button>\n",
              "      \n",
              "  <style>\n",
              "    .colab-df-container {\n",
              "      display:flex;\n",
              "      flex-wrap:wrap;\n",
              "      gap: 12px;\n",
              "    }\n",
              "\n",
              "    .colab-df-convert {\n",
              "      background-color: #E8F0FE;\n",
              "      border: none;\n",
              "      border-radius: 50%;\n",
              "      cursor: pointer;\n",
              "      display: none;\n",
              "      fill: #1967D2;\n",
              "      height: 32px;\n",
              "      padding: 0 0 0 0;\n",
              "      width: 32px;\n",
              "    }\n",
              "\n",
              "    .colab-df-convert:hover {\n",
              "      background-color: #E2EBFA;\n",
              "      box-shadow: 0px 1px 2px rgba(60, 64, 67, 0.3), 0px 1px 3px 1px rgba(60, 64, 67, 0.15);\n",
              "      fill: #174EA6;\n",
              "    }\n",
              "\n",
              "    [theme=dark] .colab-df-convert {\n",
              "      background-color: #3B4455;\n",
              "      fill: #D2E3FC;\n",
              "    }\n",
              "\n",
              "    [theme=dark] .colab-df-convert:hover {\n",
              "      background-color: #434B5C;\n",
              "      box-shadow: 0px 1px 3px 1px rgba(0, 0, 0, 0.15);\n",
              "      filter: drop-shadow(0px 1px 2px rgba(0, 0, 0, 0.3));\n",
              "      fill: #FFFFFF;\n",
              "    }\n",
              "  </style>\n",
              "\n",
              "      <script>\n",
              "        const buttonEl =\n",
              "          document.querySelector('#df-e91e8964-7625-472d-8bcc-d24f14795f4a button.colab-df-convert');\n",
              "        buttonEl.style.display =\n",
              "          google.colab.kernel.accessAllowed ? 'block' : 'none';\n",
              "\n",
              "        async function convertToInteractive(key) {\n",
              "          const element = document.querySelector('#df-e91e8964-7625-472d-8bcc-d24f14795f4a');\n",
              "          const dataTable =\n",
              "            await google.colab.kernel.invokeFunction('convertToInteractive',\n",
              "                                                     [key], {});\n",
              "          if (!dataTable) return;\n",
              "\n",
              "          const docLinkHtml = 'Like what you see? Visit the ' +\n",
              "            '<a target=\"_blank\" href=https://colab.research.google.com/notebooks/data_table.ipynb>data table notebook</a>'\n",
              "            + ' to learn more about interactive tables.';\n",
              "          element.innerHTML = '';\n",
              "          dataTable['output_type'] = 'display_data';\n",
              "          await google.colab.output.renderOutput(dataTable, element);\n",
              "          const docLink = document.createElement('div');\n",
              "          docLink.innerHTML = docLinkHtml;\n",
              "          element.appendChild(docLink);\n",
              "        }\n",
              "      </script>\n",
              "    </div>\n",
              "  </div>\n",
              "  "
            ]
          },
          "metadata": {},
          "execution_count": 163
        }
      ]
    },
    {
      "cell_type": "code",
      "source": [
        "def get_gene_info(row):\n",
        "    gene_id = row['geneId']\n",
        "    handle = Entrez.efetch(db=\"gene\", id=gene_id, rettype = 'xml')\n",
        "    gene_locus = ET.parse(handle).getroot().find(\"Entrezgene/Entrezgene_locus\")\n",
        "    region = gene_locus.find(\"Gene-commentary/Gene-commentary_seqs/Seq-loc/Seq-loc_int/Seq-interval\")\n",
        "    start = int(region.find(\"Seq-interval_from\").text) #+ 1\n",
        "    end = int(region.find(\"Seq-interval_to\").text) + 1\n",
        "    gi_id = region.find(\"Seq-interval_id/Seq-id/Seq-id_gi\").text\n",
        "    strand = region.find(\"Seq-interval_strand/Na-strand\").get(\"value\")\n",
        "\n",
        "\n",
        "    handle = Entrez.esummary(db=\"gene\", id=gene_id, rettype = 'xml')\n",
        "    record = Entrez.read(handle)\n",
        "    chrom_num = record['DocumentSummarySet']['DocumentSummary'][0]['Chromosome']\n",
        "    mapLoc = record['DocumentSummarySet']['DocumentSummary'][0]['MapLocation']\n",
        "    ID_chr = record['DocumentSummarySet']['DocumentSummary'][0]['GenomicInfo'][0]['ChrAccVer']\n",
        "\n",
        "    handle = Entrez.efetch(db=\"nucleotide\",\n",
        "                       id=ID_chr, \n",
        "                       rettype = 'fasta',\n",
        "                       retmode = 'text')\n",
        "    \n",
        "    chromosome = SeqIO.read(handle, 'fasta')\n",
        "    gene = chromosome.seq[start: end]\n",
        "   \n",
        "    row['start'], row['end'], row['gi_id'], row['strand'], row['chrom_num'],\\\n",
        "    row['mapLoc'], row['ID chromosome'], row['gene lenght'], row['gene'] = start, end, gi_id, strand, chrom_num, mapLoc, ID_chr, len(gene), gene\n",
        "\n",
        "    return row"
      ],
      "metadata": {
        "id": "llerpSRil8Pw"
      },
      "execution_count": 164,
      "outputs": []
    },
    {
      "cell_type": "markdown",
      "source": [
        "Найдём информацию для каждого гена и добавим эту информацию в таблицу."
      ],
      "metadata": {
        "id": "SW8Gt0pVr0om"
      }
    },
    {
      "cell_type": "code",
      "source": [
        "gene_info = gene_info.apply(get_gene_info, axis=1)\n",
        "gene_info"
      ],
      "metadata": {
        "colab": {
          "base_uri": "https://localhost:8080/",
          "height": 425
        },
        "id": "QXWS6tYXrYk-",
        "outputId": "750271b0-0553-4899-b6e6-9be664733c9e"
      },
      "execution_count": 165,
      "outputs": [
        {
          "output_type": "execute_result",
          "data": {
            "text/plain": [
              "          geneId geneSymbol      start        end      gi_id strand chrom_num  \\\n",
              "7019         790        CAD   27217368   27243943  568815596   plus         2   \n",
              "14533       1723      DHODH   72008743   72027659  568815582   plus        16   \n",
              "16962       2056        EPO  100720467  100723700  568815591   plus         7   \n",
              "23735       3040       HBA2     172875     173710  568815582   plus        16   \n",
              "23764       3043        HBB    5225463    5227071  568815587  minus        11   \n",
              "31216       3934       LCN2  128149452  128153453  568815589   plus         9   \n",
              "51923       7036       TFR2  100620419  100641552  568815591  minus         7   \n",
              "51958       7037       TFRC  196049283  196082090  568815595  minus         3   \n",
              "55035       7372       UMPS  124730451  124749273  568815595   plus         3   \n",
              "59037       8912    CACNA1H    1153105    1221768  568815582   plus        16   \n",
              "73364      57817       HAMP   35282527   35285143  568815579   plus        19   \n",
              "84036  109580095    HBB-LCR    5269924    5304186  568815587   plus        11   \n",
              "\n",
              "         mapLoc ID chromosome  gene lenght  \\\n",
              "7019     2p23.3  NC_000002.12        26575   \n",
              "14533   16q22.2  NC_000016.10        18916   \n",
              "16962    7q22.1  NC_000007.14         3233   \n",
              "23735   16p13.3  NC_000016.10          835   \n",
              "23764   11p15.4  NC_000011.10         1608   \n",
              "31216   9q34.11  NC_000009.12         4001   \n",
              "51923    7q22.1  NC_000007.14        21133   \n",
              "51958      3q29  NC_000003.12        32807   \n",
              "55035    3q21.2  NC_000003.12        18822   \n",
              "59037   16p13.3  NC_000016.10        68663   \n",
              "73364  19q13.12  NC_000019.10         2616   \n",
              "84036   11p15.4  NC_000011.10        34262   \n",
              "\n",
              "                                                    gene  \n",
              "7019   (A, G, T, C, T, C, T, G, C, T, G, C, T, G, C, ...  \n",
              "14533  (G, G, G, C, T, T, A, A, T, G, A, C, G, G, A, ...  \n",
              "16962  (C, C, T, T, T, C, C, C, A, G, A, T, A, G, C, ...  \n",
              "23735  (A, C, T, C, T, T, C, T, G, G, T, C, C, C, C, ...  \n",
              "23764  (T, T, G, C, A, A, T, G, A, A, A, A, T, A, A, ...  \n",
              "31216  (A, C, T, C, G, C, C, A, C, C, T, C, C, T, C, ...  \n",
              "51923  (T, T, A, T, T, G, A, T, A, T, C, A, G, G, T, ...  \n",
              "51958  (T, C, A, G, T, G, T, T, T, A, A, G, T, A, T, ...  \n",
              "55035  (C, A, A, A, C, A, G, G, C, A, G, C, G, C, G, ...  \n",
              "59037  (A, G, C, C, C, G, A, A, G, T, T, T, C, C, T, ...  \n",
              "73364  (A, C, C, A, G, A, G, C, A, A, G, C, T, C, A, ...  \n",
              "84036  (C, T, G, T, G, T, C, G, G, A, A, G, C, A, G, ...  "
            ],
            "text/html": [
              "\n",
              "  <div id=\"df-1cd35bb1-bc01-4161-80e0-15fba7464fe0\">\n",
              "    <div class=\"colab-df-container\">\n",
              "      <div>\n",
              "<style scoped>\n",
              "    .dataframe tbody tr th:only-of-type {\n",
              "        vertical-align: middle;\n",
              "    }\n",
              "\n",
              "    .dataframe tbody tr th {\n",
              "        vertical-align: top;\n",
              "    }\n",
              "\n",
              "    .dataframe thead th {\n",
              "        text-align: right;\n",
              "    }\n",
              "</style>\n",
              "<table border=\"1\" class=\"dataframe\">\n",
              "  <thead>\n",
              "    <tr style=\"text-align: right;\">\n",
              "      <th></th>\n",
              "      <th>geneId</th>\n",
              "      <th>geneSymbol</th>\n",
              "      <th>start</th>\n",
              "      <th>end</th>\n",
              "      <th>gi_id</th>\n",
              "      <th>strand</th>\n",
              "      <th>chrom_num</th>\n",
              "      <th>mapLoc</th>\n",
              "      <th>ID chromosome</th>\n",
              "      <th>gene lenght</th>\n",
              "      <th>gene</th>\n",
              "    </tr>\n",
              "  </thead>\n",
              "  <tbody>\n",
              "    <tr>\n",
              "      <th>7019</th>\n",
              "      <td>790</td>\n",
              "      <td>CAD</td>\n",
              "      <td>27217368</td>\n",
              "      <td>27243943</td>\n",
              "      <td>568815596</td>\n",
              "      <td>plus</td>\n",
              "      <td>2</td>\n",
              "      <td>2p23.3</td>\n",
              "      <td>NC_000002.12</td>\n",
              "      <td>26575</td>\n",
              "      <td>(A, G, T, C, T, C, T, G, C, T, G, C, T, G, C, ...</td>\n",
              "    </tr>\n",
              "    <tr>\n",
              "      <th>14533</th>\n",
              "      <td>1723</td>\n",
              "      <td>DHODH</td>\n",
              "      <td>72008743</td>\n",
              "      <td>72027659</td>\n",
              "      <td>568815582</td>\n",
              "      <td>plus</td>\n",
              "      <td>16</td>\n",
              "      <td>16q22.2</td>\n",
              "      <td>NC_000016.10</td>\n",
              "      <td>18916</td>\n",
              "      <td>(G, G, G, C, T, T, A, A, T, G, A, C, G, G, A, ...</td>\n",
              "    </tr>\n",
              "    <tr>\n",
              "      <th>16962</th>\n",
              "      <td>2056</td>\n",
              "      <td>EPO</td>\n",
              "      <td>100720467</td>\n",
              "      <td>100723700</td>\n",
              "      <td>568815591</td>\n",
              "      <td>plus</td>\n",
              "      <td>7</td>\n",
              "      <td>7q22.1</td>\n",
              "      <td>NC_000007.14</td>\n",
              "      <td>3233</td>\n",
              "      <td>(C, C, T, T, T, C, C, C, A, G, A, T, A, G, C, ...</td>\n",
              "    </tr>\n",
              "    <tr>\n",
              "      <th>23735</th>\n",
              "      <td>3040</td>\n",
              "      <td>HBA2</td>\n",
              "      <td>172875</td>\n",
              "      <td>173710</td>\n",
              "      <td>568815582</td>\n",
              "      <td>plus</td>\n",
              "      <td>16</td>\n",
              "      <td>16p13.3</td>\n",
              "      <td>NC_000016.10</td>\n",
              "      <td>835</td>\n",
              "      <td>(A, C, T, C, T, T, C, T, G, G, T, C, C, C, C, ...</td>\n",
              "    </tr>\n",
              "    <tr>\n",
              "      <th>23764</th>\n",
              "      <td>3043</td>\n",
              "      <td>HBB</td>\n",
              "      <td>5225463</td>\n",
              "      <td>5227071</td>\n",
              "      <td>568815587</td>\n",
              "      <td>minus</td>\n",
              "      <td>11</td>\n",
              "      <td>11p15.4</td>\n",
              "      <td>NC_000011.10</td>\n",
              "      <td>1608</td>\n",
              "      <td>(T, T, G, C, A, A, T, G, A, A, A, A, T, A, A, ...</td>\n",
              "    </tr>\n",
              "    <tr>\n",
              "      <th>31216</th>\n",
              "      <td>3934</td>\n",
              "      <td>LCN2</td>\n",
              "      <td>128149452</td>\n",
              "      <td>128153453</td>\n",
              "      <td>568815589</td>\n",
              "      <td>plus</td>\n",
              "      <td>9</td>\n",
              "      <td>9q34.11</td>\n",
              "      <td>NC_000009.12</td>\n",
              "      <td>4001</td>\n",
              "      <td>(A, C, T, C, G, C, C, A, C, C, T, C, C, T, C, ...</td>\n",
              "    </tr>\n",
              "    <tr>\n",
              "      <th>51923</th>\n",
              "      <td>7036</td>\n",
              "      <td>TFR2</td>\n",
              "      <td>100620419</td>\n",
              "      <td>100641552</td>\n",
              "      <td>568815591</td>\n",
              "      <td>minus</td>\n",
              "      <td>7</td>\n",
              "      <td>7q22.1</td>\n",
              "      <td>NC_000007.14</td>\n",
              "      <td>21133</td>\n",
              "      <td>(T, T, A, T, T, G, A, T, A, T, C, A, G, G, T, ...</td>\n",
              "    </tr>\n",
              "    <tr>\n",
              "      <th>51958</th>\n",
              "      <td>7037</td>\n",
              "      <td>TFRC</td>\n",
              "      <td>196049283</td>\n",
              "      <td>196082090</td>\n",
              "      <td>568815595</td>\n",
              "      <td>minus</td>\n",
              "      <td>3</td>\n",
              "      <td>3q29</td>\n",
              "      <td>NC_000003.12</td>\n",
              "      <td>32807</td>\n",
              "      <td>(T, C, A, G, T, G, T, T, T, A, A, G, T, A, T, ...</td>\n",
              "    </tr>\n",
              "    <tr>\n",
              "      <th>55035</th>\n",
              "      <td>7372</td>\n",
              "      <td>UMPS</td>\n",
              "      <td>124730451</td>\n",
              "      <td>124749273</td>\n",
              "      <td>568815595</td>\n",
              "      <td>plus</td>\n",
              "      <td>3</td>\n",
              "      <td>3q21.2</td>\n",
              "      <td>NC_000003.12</td>\n",
              "      <td>18822</td>\n",
              "      <td>(C, A, A, A, C, A, G, G, C, A, G, C, G, C, G, ...</td>\n",
              "    </tr>\n",
              "    <tr>\n",
              "      <th>59037</th>\n",
              "      <td>8912</td>\n",
              "      <td>CACNA1H</td>\n",
              "      <td>1153105</td>\n",
              "      <td>1221768</td>\n",
              "      <td>568815582</td>\n",
              "      <td>plus</td>\n",
              "      <td>16</td>\n",
              "      <td>16p13.3</td>\n",
              "      <td>NC_000016.10</td>\n",
              "      <td>68663</td>\n",
              "      <td>(A, G, C, C, C, G, A, A, G, T, T, T, C, C, T, ...</td>\n",
              "    </tr>\n",
              "    <tr>\n",
              "      <th>73364</th>\n",
              "      <td>57817</td>\n",
              "      <td>HAMP</td>\n",
              "      <td>35282527</td>\n",
              "      <td>35285143</td>\n",
              "      <td>568815579</td>\n",
              "      <td>plus</td>\n",
              "      <td>19</td>\n",
              "      <td>19q13.12</td>\n",
              "      <td>NC_000019.10</td>\n",
              "      <td>2616</td>\n",
              "      <td>(A, C, C, A, G, A, G, C, A, A, G, C, T, C, A, ...</td>\n",
              "    </tr>\n",
              "    <tr>\n",
              "      <th>84036</th>\n",
              "      <td>109580095</td>\n",
              "      <td>HBB-LCR</td>\n",
              "      <td>5269924</td>\n",
              "      <td>5304186</td>\n",
              "      <td>568815587</td>\n",
              "      <td>plus</td>\n",
              "      <td>11</td>\n",
              "      <td>11p15.4</td>\n",
              "      <td>NC_000011.10</td>\n",
              "      <td>34262</td>\n",
              "      <td>(C, T, G, T, G, T, C, G, G, A, A, G, C, A, G, ...</td>\n",
              "    </tr>\n",
              "  </tbody>\n",
              "</table>\n",
              "</div>\n",
              "      <button class=\"colab-df-convert\" onclick=\"convertToInteractive('df-1cd35bb1-bc01-4161-80e0-15fba7464fe0')\"\n",
              "              title=\"Convert this dataframe to an interactive table.\"\n",
              "              style=\"display:none;\">\n",
              "        \n",
              "  <svg xmlns=\"http://www.w3.org/2000/svg\" height=\"24px\"viewBox=\"0 0 24 24\"\n",
              "       width=\"24px\">\n",
              "    <path d=\"M0 0h24v24H0V0z\" fill=\"none\"/>\n",
              "    <path d=\"M18.56 5.44l.94 2.06.94-2.06 2.06-.94-2.06-.94-.94-2.06-.94 2.06-2.06.94zm-11 1L8.5 8.5l.94-2.06 2.06-.94-2.06-.94L8.5 2.5l-.94 2.06-2.06.94zm10 10l.94 2.06.94-2.06 2.06-.94-2.06-.94-.94-2.06-.94 2.06-2.06.94z\"/><path d=\"M17.41 7.96l-1.37-1.37c-.4-.4-.92-.59-1.43-.59-.52 0-1.04.2-1.43.59L10.3 9.45l-7.72 7.72c-.78.78-.78 2.05 0 2.83L4 21.41c.39.39.9.59 1.41.59.51 0 1.02-.2 1.41-.59l7.78-7.78 2.81-2.81c.8-.78.8-2.07 0-2.86zM5.41 20L4 18.59l7.72-7.72 1.47 1.35L5.41 20z\"/>\n",
              "  </svg>\n",
              "      </button>\n",
              "      \n",
              "  <style>\n",
              "    .colab-df-container {\n",
              "      display:flex;\n",
              "      flex-wrap:wrap;\n",
              "      gap: 12px;\n",
              "    }\n",
              "\n",
              "    .colab-df-convert {\n",
              "      background-color: #E8F0FE;\n",
              "      border: none;\n",
              "      border-radius: 50%;\n",
              "      cursor: pointer;\n",
              "      display: none;\n",
              "      fill: #1967D2;\n",
              "      height: 32px;\n",
              "      padding: 0 0 0 0;\n",
              "      width: 32px;\n",
              "    }\n",
              "\n",
              "    .colab-df-convert:hover {\n",
              "      background-color: #E2EBFA;\n",
              "      box-shadow: 0px 1px 2px rgba(60, 64, 67, 0.3), 0px 1px 3px 1px rgba(60, 64, 67, 0.15);\n",
              "      fill: #174EA6;\n",
              "    }\n",
              "\n",
              "    [theme=dark] .colab-df-convert {\n",
              "      background-color: #3B4455;\n",
              "      fill: #D2E3FC;\n",
              "    }\n",
              "\n",
              "    [theme=dark] .colab-df-convert:hover {\n",
              "      background-color: #434B5C;\n",
              "      box-shadow: 0px 1px 3px 1px rgba(0, 0, 0, 0.15);\n",
              "      filter: drop-shadow(0px 1px 2px rgba(0, 0, 0, 0.3));\n",
              "      fill: #FFFFFF;\n",
              "    }\n",
              "  </style>\n",
              "\n",
              "      <script>\n",
              "        const buttonEl =\n",
              "          document.querySelector('#df-1cd35bb1-bc01-4161-80e0-15fba7464fe0 button.colab-df-convert');\n",
              "        buttonEl.style.display =\n",
              "          google.colab.kernel.accessAllowed ? 'block' : 'none';\n",
              "\n",
              "        async function convertToInteractive(key) {\n",
              "          const element = document.querySelector('#df-1cd35bb1-bc01-4161-80e0-15fba7464fe0');\n",
              "          const dataTable =\n",
              "            await google.colab.kernel.invokeFunction('convertToInteractive',\n",
              "                                                     [key], {});\n",
              "          if (!dataTable) return;\n",
              "\n",
              "          const docLinkHtml = 'Like what you see? Visit the ' +\n",
              "            '<a target=\"_blank\" href=https://colab.research.google.com/notebooks/data_table.ipynb>data table notebook</a>'\n",
              "            + ' to learn more about interactive tables.';\n",
              "          element.innerHTML = '';\n",
              "          dataTable['output_type'] = 'display_data';\n",
              "          await google.colab.output.renderOutput(dataTable, element);\n",
              "          const docLink = document.createElement('div');\n",
              "          docLink.innerHTML = docLinkHtml;\n",
              "          element.appendChild(docLink);\n",
              "        }\n",
              "      </script>\n",
              "    </div>\n",
              "  </div>\n",
              "  "
            ]
          },
          "metadata": {},
          "execution_count": 165
        }
      ]
    },
    {
      "cell_type": "code",
      "source": [
        "gene_info.to_csv('gene_info_corrected.csv', index=False)"
      ],
      "metadata": {
        "id": "DdBnyncT7f8b"
      },
      "execution_count": 166,
      "outputs": []
    },
    {
      "cell_type": "code",
      "source": [
        "df = pd.read_csv('/content/gene_info_corrected.csv')\n",
        "df.head()"
      ],
      "metadata": {
        "colab": {
          "base_uri": "https://localhost:8080/",
          "height": 206
        },
        "id": "UjEJTzUk7qBK",
        "outputId": "7cc19e8f-92cf-41f3-b6f2-367b48eccb84"
      },
      "execution_count": 167,
      "outputs": [
        {
          "output_type": "execute_result",
          "data": {
            "text/plain": [
              "   geneId geneSymbol      start        end      gi_id strand  chrom_num  \\\n",
              "0     790        CAD   27217368   27243943  568815596   plus          2   \n",
              "1    1723      DHODH   72008743   72027659  568815582   plus         16   \n",
              "2    2056        EPO  100720467  100723700  568815591   plus          7   \n",
              "3    3040       HBA2     172875     173710  568815582   plus         16   \n",
              "4    3043        HBB    5225463    5227071  568815587  minus         11   \n",
              "\n",
              "    mapLoc ID chromosome  gene lenght  \\\n",
              "0   2p23.3  NC_000002.12        26575   \n",
              "1  16q22.2  NC_000016.10        18916   \n",
              "2   7q22.1  NC_000007.14         3233   \n",
              "3  16p13.3  NC_000016.10          835   \n",
              "4  11p15.4  NC_000011.10         1608   \n",
              "\n",
              "                                                gene  \n",
              "0  AGTCTCTGCTGCTGCCGCCAAGCGCGCCCGAGGCTCCTACGCTGCC...  \n",
              "1  GGGCTTAATGACGGAAGGAGCATGGCGTGGAGACACCTGAAAGTGA...  \n",
              "2  CCTTTCCCAGATAGCACGCTCCGCCAGTCCCAAGGGTGCGCAACCG...  \n",
              "3  ACTCTTCTGGTCCCCACAGACTCAGAGAGAACCCACCATGGTGCTG...  \n",
              "4  TTGCAATGAAAATAAATGTTTTTTATTAGGCAGAATCCAGATGCTC...  "
            ],
            "text/html": [
              "\n",
              "  <div id=\"df-a4688198-4d4c-4a7a-939b-c8d28f95e8ad\">\n",
              "    <div class=\"colab-df-container\">\n",
              "      <div>\n",
              "<style scoped>\n",
              "    .dataframe tbody tr th:only-of-type {\n",
              "        vertical-align: middle;\n",
              "    }\n",
              "\n",
              "    .dataframe tbody tr th {\n",
              "        vertical-align: top;\n",
              "    }\n",
              "\n",
              "    .dataframe thead th {\n",
              "        text-align: right;\n",
              "    }\n",
              "</style>\n",
              "<table border=\"1\" class=\"dataframe\">\n",
              "  <thead>\n",
              "    <tr style=\"text-align: right;\">\n",
              "      <th></th>\n",
              "      <th>geneId</th>\n",
              "      <th>geneSymbol</th>\n",
              "      <th>start</th>\n",
              "      <th>end</th>\n",
              "      <th>gi_id</th>\n",
              "      <th>strand</th>\n",
              "      <th>chrom_num</th>\n",
              "      <th>mapLoc</th>\n",
              "      <th>ID chromosome</th>\n",
              "      <th>gene lenght</th>\n",
              "      <th>gene</th>\n",
              "    </tr>\n",
              "  </thead>\n",
              "  <tbody>\n",
              "    <tr>\n",
              "      <th>0</th>\n",
              "      <td>790</td>\n",
              "      <td>CAD</td>\n",
              "      <td>27217368</td>\n",
              "      <td>27243943</td>\n",
              "      <td>568815596</td>\n",
              "      <td>plus</td>\n",
              "      <td>2</td>\n",
              "      <td>2p23.3</td>\n",
              "      <td>NC_000002.12</td>\n",
              "      <td>26575</td>\n",
              "      <td>AGTCTCTGCTGCTGCCGCCAAGCGCGCCCGAGGCTCCTACGCTGCC...</td>\n",
              "    </tr>\n",
              "    <tr>\n",
              "      <th>1</th>\n",
              "      <td>1723</td>\n",
              "      <td>DHODH</td>\n",
              "      <td>72008743</td>\n",
              "      <td>72027659</td>\n",
              "      <td>568815582</td>\n",
              "      <td>plus</td>\n",
              "      <td>16</td>\n",
              "      <td>16q22.2</td>\n",
              "      <td>NC_000016.10</td>\n",
              "      <td>18916</td>\n",
              "      <td>GGGCTTAATGACGGAAGGAGCATGGCGTGGAGACACCTGAAAGTGA...</td>\n",
              "    </tr>\n",
              "    <tr>\n",
              "      <th>2</th>\n",
              "      <td>2056</td>\n",
              "      <td>EPO</td>\n",
              "      <td>100720467</td>\n",
              "      <td>100723700</td>\n",
              "      <td>568815591</td>\n",
              "      <td>plus</td>\n",
              "      <td>7</td>\n",
              "      <td>7q22.1</td>\n",
              "      <td>NC_000007.14</td>\n",
              "      <td>3233</td>\n",
              "      <td>CCTTTCCCAGATAGCACGCTCCGCCAGTCCCAAGGGTGCGCAACCG...</td>\n",
              "    </tr>\n",
              "    <tr>\n",
              "      <th>3</th>\n",
              "      <td>3040</td>\n",
              "      <td>HBA2</td>\n",
              "      <td>172875</td>\n",
              "      <td>173710</td>\n",
              "      <td>568815582</td>\n",
              "      <td>plus</td>\n",
              "      <td>16</td>\n",
              "      <td>16p13.3</td>\n",
              "      <td>NC_000016.10</td>\n",
              "      <td>835</td>\n",
              "      <td>ACTCTTCTGGTCCCCACAGACTCAGAGAGAACCCACCATGGTGCTG...</td>\n",
              "    </tr>\n",
              "    <tr>\n",
              "      <th>4</th>\n",
              "      <td>3043</td>\n",
              "      <td>HBB</td>\n",
              "      <td>5225463</td>\n",
              "      <td>5227071</td>\n",
              "      <td>568815587</td>\n",
              "      <td>minus</td>\n",
              "      <td>11</td>\n",
              "      <td>11p15.4</td>\n",
              "      <td>NC_000011.10</td>\n",
              "      <td>1608</td>\n",
              "      <td>TTGCAATGAAAATAAATGTTTTTTATTAGGCAGAATCCAGATGCTC...</td>\n",
              "    </tr>\n",
              "  </tbody>\n",
              "</table>\n",
              "</div>\n",
              "      <button class=\"colab-df-convert\" onclick=\"convertToInteractive('df-a4688198-4d4c-4a7a-939b-c8d28f95e8ad')\"\n",
              "              title=\"Convert this dataframe to an interactive table.\"\n",
              "              style=\"display:none;\">\n",
              "        \n",
              "  <svg xmlns=\"http://www.w3.org/2000/svg\" height=\"24px\"viewBox=\"0 0 24 24\"\n",
              "       width=\"24px\">\n",
              "    <path d=\"M0 0h24v24H0V0z\" fill=\"none\"/>\n",
              "    <path d=\"M18.56 5.44l.94 2.06.94-2.06 2.06-.94-2.06-.94-.94-2.06-.94 2.06-2.06.94zm-11 1L8.5 8.5l.94-2.06 2.06-.94-2.06-.94L8.5 2.5l-.94 2.06-2.06.94zm10 10l.94 2.06.94-2.06 2.06-.94-2.06-.94-.94-2.06-.94 2.06-2.06.94z\"/><path d=\"M17.41 7.96l-1.37-1.37c-.4-.4-.92-.59-1.43-.59-.52 0-1.04.2-1.43.59L10.3 9.45l-7.72 7.72c-.78.78-.78 2.05 0 2.83L4 21.41c.39.39.9.59 1.41.59.51 0 1.02-.2 1.41-.59l7.78-7.78 2.81-2.81c.8-.78.8-2.07 0-2.86zM5.41 20L4 18.59l7.72-7.72 1.47 1.35L5.41 20z\"/>\n",
              "  </svg>\n",
              "      </button>\n",
              "      \n",
              "  <style>\n",
              "    .colab-df-container {\n",
              "      display:flex;\n",
              "      flex-wrap:wrap;\n",
              "      gap: 12px;\n",
              "    }\n",
              "\n",
              "    .colab-df-convert {\n",
              "      background-color: #E8F0FE;\n",
              "      border: none;\n",
              "      border-radius: 50%;\n",
              "      cursor: pointer;\n",
              "      display: none;\n",
              "      fill: #1967D2;\n",
              "      height: 32px;\n",
              "      padding: 0 0 0 0;\n",
              "      width: 32px;\n",
              "    }\n",
              "\n",
              "    .colab-df-convert:hover {\n",
              "      background-color: #E2EBFA;\n",
              "      box-shadow: 0px 1px 2px rgba(60, 64, 67, 0.3), 0px 1px 3px 1px rgba(60, 64, 67, 0.15);\n",
              "      fill: #174EA6;\n",
              "    }\n",
              "\n",
              "    [theme=dark] .colab-df-convert {\n",
              "      background-color: #3B4455;\n",
              "      fill: #D2E3FC;\n",
              "    }\n",
              "\n",
              "    [theme=dark] .colab-df-convert:hover {\n",
              "      background-color: #434B5C;\n",
              "      box-shadow: 0px 1px 3px 1px rgba(0, 0, 0, 0.15);\n",
              "      filter: drop-shadow(0px 1px 2px rgba(0, 0, 0, 0.3));\n",
              "      fill: #FFFFFF;\n",
              "    }\n",
              "  </style>\n",
              "\n",
              "      <script>\n",
              "        const buttonEl =\n",
              "          document.querySelector('#df-a4688198-4d4c-4a7a-939b-c8d28f95e8ad button.colab-df-convert');\n",
              "        buttonEl.style.display =\n",
              "          google.colab.kernel.accessAllowed ? 'block' : 'none';\n",
              "\n",
              "        async function convertToInteractive(key) {\n",
              "          const element = document.querySelector('#df-a4688198-4d4c-4a7a-939b-c8d28f95e8ad');\n",
              "          const dataTable =\n",
              "            await google.colab.kernel.invokeFunction('convertToInteractive',\n",
              "                                                     [key], {});\n",
              "          if (!dataTable) return;\n",
              "\n",
              "          const docLinkHtml = 'Like what you see? Visit the ' +\n",
              "            '<a target=\"_blank\" href=https://colab.research.google.com/notebooks/data_table.ipynb>data table notebook</a>'\n",
              "            + ' to learn more about interactive tables.';\n",
              "          element.innerHTML = '';\n",
              "          dataTable['output_type'] = 'display_data';\n",
              "          await google.colab.output.renderOutput(dataTable, element);\n",
              "          const docLink = document.createElement('div');\n",
              "          docLink.innerHTML = docLinkHtml;\n",
              "          element.appendChild(docLink);\n",
              "        }\n",
              "      </script>\n",
              "    </div>\n",
              "  </div>\n",
              "  "
            ]
          },
          "metadata": {},
          "execution_count": 167
        }
      ]
    },
    {
      "cell_type": "markdown",
      "source": [
        "# Урок 2. От гена до белка\n",
        "В таблицу гена, полученную по итогам практического задания первого урока, добавьте следующую информацию: аминокислотную последовательность, количество транскриптов, количество аминокислот для самой длинной изоформы белка.\n",
        "\n",
        "Сделанное практическое задание предоставляется в формате .ipynb.\n",
        "\n",
        "https://colab.research.google.com/drive/1YF3b8bJ-3-Wjso2KOtvmj-QB2UhEZNJQ"
      ],
      "metadata": {
        "id": "-w9MO3O0_P61"
      }
    },
    {
      "cell_type": "code",
      "source": [
        "df = df.iloc[[0]]\n",
        "df.T"
      ],
      "metadata": {
        "colab": {
          "base_uri": "https://localhost:8080/",
          "height": 394
        },
        "id": "VNWyHlw4_PEN",
        "outputId": "6ac8c9e8-1b71-4ad3-9eef-1b6427c57385"
      },
      "execution_count": 168,
      "outputs": [
        {
          "output_type": "execute_result",
          "data": {
            "text/plain": [
              "                                                               0\n",
              "geneId                                                       790\n",
              "geneSymbol                                                   CAD\n",
              "start                                                   27217368\n",
              "end                                                     27243943\n",
              "gi_id                                                  568815596\n",
              "strand                                                      plus\n",
              "chrom_num                                                      2\n",
              "mapLoc                                                    2p23.3\n",
              "ID chromosome                                       NC_000002.12\n",
              "gene lenght                                                26575\n",
              "gene           AGTCTCTGCTGCTGCCGCCAAGCGCGCCCGAGGCTCCTACGCTGCC..."
            ],
            "text/html": [
              "\n",
              "  <div id=\"df-af2ccf0a-6044-443d-af86-e4aea4691d5e\">\n",
              "    <div class=\"colab-df-container\">\n",
              "      <div>\n",
              "<style scoped>\n",
              "    .dataframe tbody tr th:only-of-type {\n",
              "        vertical-align: middle;\n",
              "    }\n",
              "\n",
              "    .dataframe tbody tr th {\n",
              "        vertical-align: top;\n",
              "    }\n",
              "\n",
              "    .dataframe thead th {\n",
              "        text-align: right;\n",
              "    }\n",
              "</style>\n",
              "<table border=\"1\" class=\"dataframe\">\n",
              "  <thead>\n",
              "    <tr style=\"text-align: right;\">\n",
              "      <th></th>\n",
              "      <th>0</th>\n",
              "    </tr>\n",
              "  </thead>\n",
              "  <tbody>\n",
              "    <tr>\n",
              "      <th>geneId</th>\n",
              "      <td>790</td>\n",
              "    </tr>\n",
              "    <tr>\n",
              "      <th>geneSymbol</th>\n",
              "      <td>CAD</td>\n",
              "    </tr>\n",
              "    <tr>\n",
              "      <th>start</th>\n",
              "      <td>27217368</td>\n",
              "    </tr>\n",
              "    <tr>\n",
              "      <th>end</th>\n",
              "      <td>27243943</td>\n",
              "    </tr>\n",
              "    <tr>\n",
              "      <th>gi_id</th>\n",
              "      <td>568815596</td>\n",
              "    </tr>\n",
              "    <tr>\n",
              "      <th>strand</th>\n",
              "      <td>plus</td>\n",
              "    </tr>\n",
              "    <tr>\n",
              "      <th>chrom_num</th>\n",
              "      <td>2</td>\n",
              "    </tr>\n",
              "    <tr>\n",
              "      <th>mapLoc</th>\n",
              "      <td>2p23.3</td>\n",
              "    </tr>\n",
              "    <tr>\n",
              "      <th>ID chromosome</th>\n",
              "      <td>NC_000002.12</td>\n",
              "    </tr>\n",
              "    <tr>\n",
              "      <th>gene lenght</th>\n",
              "      <td>26575</td>\n",
              "    </tr>\n",
              "    <tr>\n",
              "      <th>gene</th>\n",
              "      <td>AGTCTCTGCTGCTGCCGCCAAGCGCGCCCGAGGCTCCTACGCTGCC...</td>\n",
              "    </tr>\n",
              "  </tbody>\n",
              "</table>\n",
              "</div>\n",
              "      <button class=\"colab-df-convert\" onclick=\"convertToInteractive('df-af2ccf0a-6044-443d-af86-e4aea4691d5e')\"\n",
              "              title=\"Convert this dataframe to an interactive table.\"\n",
              "              style=\"display:none;\">\n",
              "        \n",
              "  <svg xmlns=\"http://www.w3.org/2000/svg\" height=\"24px\"viewBox=\"0 0 24 24\"\n",
              "       width=\"24px\">\n",
              "    <path d=\"M0 0h24v24H0V0z\" fill=\"none\"/>\n",
              "    <path d=\"M18.56 5.44l.94 2.06.94-2.06 2.06-.94-2.06-.94-.94-2.06-.94 2.06-2.06.94zm-11 1L8.5 8.5l.94-2.06 2.06-.94-2.06-.94L8.5 2.5l-.94 2.06-2.06.94zm10 10l.94 2.06.94-2.06 2.06-.94-2.06-.94-.94-2.06-.94 2.06-2.06.94z\"/><path d=\"M17.41 7.96l-1.37-1.37c-.4-.4-.92-.59-1.43-.59-.52 0-1.04.2-1.43.59L10.3 9.45l-7.72 7.72c-.78.78-.78 2.05 0 2.83L4 21.41c.39.39.9.59 1.41.59.51 0 1.02-.2 1.41-.59l7.78-7.78 2.81-2.81c.8-.78.8-2.07 0-2.86zM5.41 20L4 18.59l7.72-7.72 1.47 1.35L5.41 20z\"/>\n",
              "  </svg>\n",
              "      </button>\n",
              "      \n",
              "  <style>\n",
              "    .colab-df-container {\n",
              "      display:flex;\n",
              "      flex-wrap:wrap;\n",
              "      gap: 12px;\n",
              "    }\n",
              "\n",
              "    .colab-df-convert {\n",
              "      background-color: #E8F0FE;\n",
              "      border: none;\n",
              "      border-radius: 50%;\n",
              "      cursor: pointer;\n",
              "      display: none;\n",
              "      fill: #1967D2;\n",
              "      height: 32px;\n",
              "      padding: 0 0 0 0;\n",
              "      width: 32px;\n",
              "    }\n",
              "\n",
              "    .colab-df-convert:hover {\n",
              "      background-color: #E2EBFA;\n",
              "      box-shadow: 0px 1px 2px rgba(60, 64, 67, 0.3), 0px 1px 3px 1px rgba(60, 64, 67, 0.15);\n",
              "      fill: #174EA6;\n",
              "    }\n",
              "\n",
              "    [theme=dark] .colab-df-convert {\n",
              "      background-color: #3B4455;\n",
              "      fill: #D2E3FC;\n",
              "    }\n",
              "\n",
              "    [theme=dark] .colab-df-convert:hover {\n",
              "      background-color: #434B5C;\n",
              "      box-shadow: 0px 1px 3px 1px rgba(0, 0, 0, 0.15);\n",
              "      filter: drop-shadow(0px 1px 2px rgba(0, 0, 0, 0.3));\n",
              "      fill: #FFFFFF;\n",
              "    }\n",
              "  </style>\n",
              "\n",
              "      <script>\n",
              "        const buttonEl =\n",
              "          document.querySelector('#df-af2ccf0a-6044-443d-af86-e4aea4691d5e button.colab-df-convert');\n",
              "        buttonEl.style.display =\n",
              "          google.colab.kernel.accessAllowed ? 'block' : 'none';\n",
              "\n",
              "        async function convertToInteractive(key) {\n",
              "          const element = document.querySelector('#df-af2ccf0a-6044-443d-af86-e4aea4691d5e');\n",
              "          const dataTable =\n",
              "            await google.colab.kernel.invokeFunction('convertToInteractive',\n",
              "                                                     [key], {});\n",
              "          if (!dataTable) return;\n",
              "\n",
              "          const docLinkHtml = 'Like what you see? Visit the ' +\n",
              "            '<a target=\"_blank\" href=https://colab.research.google.com/notebooks/data_table.ipynb>data table notebook</a>'\n",
              "            + ' to learn more about interactive tables.';\n",
              "          element.innerHTML = '';\n",
              "          dataTable['output_type'] = 'display_data';\n",
              "          await google.colab.output.renderOutput(dataTable, element);\n",
              "          const docLink = document.createElement('div');\n",
              "          docLink.innerHTML = docLinkHtml;\n",
              "          element.appendChild(docLink);\n",
              "        }\n",
              "      </script>\n",
              "    </div>\n",
              "  </div>\n",
              "  "
            ]
          },
          "metadata": {},
          "execution_count": 168
        }
      ]
    },
    {
      "cell_type": "code",
      "source": [
        "import pandas as pd\n",
        "from Bio import Entrez\n",
        "from Bio import SeqIO\n",
        "from Bio.Seq import MutableSeq\n",
        "from Bio.Seq import Seq\n",
        "from Bio.SeqRecord import SeqRecord"
      ],
      "metadata": {
        "id": "LkUfDnBP_cLs"
      },
      "execution_count": 169,
      "outputs": []
    },
    {
      "cell_type": "code",
      "source": [
        "seq_gene = Seq(df['gene'][0])\n",
        "seq_gene"
      ],
      "metadata": {
        "colab": {
          "base_uri": "https://localhost:8080/"
        },
        "id": "E-C6fdgL_ZSV",
        "outputId": "20a22843-b05f-4e99-86ff-bacc9eeaa4d4"
      },
      "execution_count": 170,
      "outputs": [
        {
          "output_type": "execute_result",
          "data": {
            "text/plain": [
              "Seq('AGTCTCTGCTGCTGCCGCCAAGCGCGCCCGAGGCTCCTACGCTGCCGCGCCCGG...TAA')"
            ]
          },
          "metadata": {},
          "execution_count": 170
        }
      ]
    },
    {
      "cell_type": "markdown",
      "source": [
        "Это последовательность на смысловой цепи ДНК. Необходимо посмотреть её на матричной цепи. Для этого нам нужна комплиментраная последовательность. Также необходимо учитывать направление цепи ДНК. В данном случае, оно положительное, но создадим функцию проверки на направление."
      ],
      "metadata": {
        "id": "tHTDRsOy_gf7"
      }
    },
    {
      "cell_type": "code",
      "source": [
        "def wright_way_compliment(seq_gene, strand):\n",
        "  \n",
        "  return seq_gene.complement() if strand == 'plus' else seq_gene.reverse_complement().complement()   "
      ],
      "metadata": {
        "id": "h9INrGuB_iVK"
      },
      "execution_count": 171,
      "outputs": []
    },
    {
      "cell_type": "code",
      "source": [
        "seq_gene_compl = wright_way_compliment(seq_gene, df['strand'][0])\n",
        "seq_gene_compl"
      ],
      "metadata": {
        "colab": {
          "base_uri": "https://localhost:8080/"
        },
        "id": "zFAH9iLo_k3I",
        "outputId": "b05d466d-1622-4552-8c34-b48190a08e64"
      },
      "execution_count": 172,
      "outputs": [
        {
          "output_type": "execute_result",
          "data": {
            "text/plain": [
              "Seq('TCAGAGACGACGACGGCGGTTCGCGCGGGCTCCGAGGATGCGACGGCGCGGGCC...ATT')"
            ]
          },
          "metadata": {},
          "execution_count": 172
        }
      ]
    },
    {
      "cell_type": "markdown",
      "source": [
        "Теперь можем произвести транскрибцию, т.е. переведём последовательность ДНК в РНК."
      ],
      "metadata": {
        "id": "vsMuBcMg_jEd"
      }
    },
    {
      "cell_type": "code",
      "source": [
        "m_rna = seq_gene_compl.transcribe()\n",
        "m_rna"
      ],
      "metadata": {
        "colab": {
          "base_uri": "https://localhost:8080/"
        },
        "id": "axaSOA-v_460",
        "outputId": "8a5dab12-c76c-4973-ca95-034dc6841ca8"
      },
      "execution_count": 173,
      "outputs": [
        {
          "output_type": "execute_result",
          "data": {
            "text/plain": [
              "Seq('UCAGAGACGACGACGGCGGUUCGCGCGGGCUCCGAGGAUGCGACGGCGCGGGCC...AUU')"
            ]
          },
          "metadata": {},
          "execution_count": 173
        }
      ]
    },
    {
      "cell_type": "markdown",
      "source": [
        "Теперь произведем трансляцию РНК в белок. Требуется найти первое вхождение 'AUG' в последовательность."
      ],
      "metadata": {
        "id": "u_IOqOtl_8CD"
      }
    },
    {
      "cell_type": "code",
      "source": [
        "start_codon_index = str(m_rna).find('AUG')\n",
        "protein_seq_ = m_rna[start_codon_index:]\n",
        "protein_seq_"
      ],
      "metadata": {
        "colab": {
          "base_uri": "https://localhost:8080/"
        },
        "id": "o9r-_r2b_7wT",
        "outputId": "0e6c5929-2ee5-4131-f01f-54b1ff215349"
      },
      "execution_count": 174,
      "outputs": [
        {
          "output_type": "execute_result",
          "data": {
            "text/plain": [
              "Seq('AUGCGACGGCGCGGGCCGAAGAGAGGUCGCGGGGCGCGGCAAUCGGUGCACCUG...AUU')"
            ]
          },
          "metadata": {},
          "execution_count": 174
        }
      ]
    },
    {
      "cell_type": "code",
      "source": [
        "len(protein_seq_)"
      ],
      "metadata": {
        "colab": {
          "base_uri": "https://localhost:8080/"
        },
        "id": "cmsHfepGAAnT",
        "outputId": "daa74b76-e169-416b-8351-fa59f7692b80"
      },
      "execution_count": 175,
      "outputs": [
        {
          "output_type": "execute_result",
          "data": {
            "text/plain": [
              "26538"
            ]
          },
          "metadata": {},
          "execution_count": 175
        }
      ]
    },
    {
      "cell_type": "code",
      "source": [
        "protein_seq_.find('UGA')"
      ],
      "metadata": {
        "colab": {
          "base_uri": "https://localhost:8080/"
        },
        "id": "uv8kTyXmAsFi",
        "outputId": "87ef039c-e58e-433a-dcf0-27b401da5ca3"
      },
      "execution_count": 176,
      "outputs": [
        {
          "output_type": "execute_result",
          "data": {
            "text/plain": [
              "56"
            ]
          },
          "metadata": {},
          "execution_count": 176
        }
      ]
    },
    {
      "cell_type": "code",
      "source": [
        "str(protein_seq_[:117])"
      ],
      "metadata": {
        "colab": {
          "base_uri": "https://localhost:8080/",
          "height": 36
        },
        "id": "qRRLYBOTAZBi",
        "outputId": "27208913-3210-4fff-ee1f-28d1b3aa013b"
      },
      "execution_count": 177,
      "outputs": [
        {
          "output_type": "execute_result",
          "data": {
            "text/plain": [
              "'AUGCGACGGCGCGGGCCGAAGAGAGGUCGCGGGGCGCGGCAAUCGGUGCACCUGGCUGAGGCCGCGCGGCAGGAGUGCACCAAGGUCACCUCAAACGUCAGGAAGGGCGAAGAGGCA'"
            ],
            "application/vnd.google.colaboratory.intrinsic+json": {
              "type": "string"
            }
          },
          "metadata": {},
          "execution_count": 177
        }
      ]
    },
    {
      "cell_type": "code",
      "source": [
        "protein_seq_[:117]"
      ],
      "metadata": {
        "colab": {
          "base_uri": "https://localhost:8080/"
        },
        "id": "x7w4D_fMBKyp",
        "outputId": "df5fe30a-143c-4c32-8452-719ff2b6bdff"
      },
      "execution_count": 187,
      "outputs": [
        {
          "output_type": "execute_result",
          "data": {
            "text/plain": [
              "Seq('AUGCGACGGCGCGGGCCGAAGAGAGGUCGCGGGGCGCGGCAAUCGGUGCACCUG...GCA')"
            ]
          },
          "metadata": {},
          "execution_count": 187
        }
      ]
    },
    {
      "cell_type": "code",
      "source": [
        "def seq_tr(seq):\n",
        "  \n",
        "  triplet = ''\n",
        "  triplets = []\n",
        "  i = 0\n",
        "\n",
        "  for f in range(len(seq)):\n",
        "    triplet += seq[f]\n",
        "    if len(triplet) == 3:\n",
        "        i+=1\n",
        "        triplets.append((triplet , i, Seq(triplet).translate()))\n",
        "        triplet = ''\n",
        "  \n",
        "  print(triplets)"
      ],
      "metadata": {
        "id": "oPVeaTaACNSy"
      },
      "execution_count": 183,
      "outputs": []
    },
    {
      "cell_type": "code",
      "source": [
        "seq_tr(protein_seq_[:120])"
      ],
      "metadata": {
        "colab": {
          "base_uri": "https://localhost:8080/"
        },
        "id": "VEgxffqlDTBg",
        "outputId": "f3d34960-9c68-4ab2-e172-f29f272e9f09"
      },
      "execution_count": 189,
      "outputs": [
        {
          "output_type": "stream",
          "name": "stdout",
          "text": [
            "[('AUG', 1, Seq('M')), ('CGA', 2, Seq('R')), ('CGG', 3, Seq('R')), ('CGC', 4, Seq('R')), ('GGG', 5, Seq('G')), ('CCG', 6, Seq('P')), ('AAG', 7, Seq('K')), ('AGA', 8, Seq('R')), ('GGU', 9, Seq('G')), ('CGC', 10, Seq('R')), ('GGG', 11, Seq('G')), ('GCG', 12, Seq('A')), ('CGG', 13, Seq('R')), ('CAA', 14, Seq('Q')), ('UCG', 15, Seq('S')), ('GUG', 16, Seq('V')), ('CAC', 17, Seq('H')), ('CUG', 18, Seq('L')), ('GCU', 19, Seq('A')), ('GAG', 20, Seq('E')), ('GCC', 21, Seq('A')), ('GCG', 22, Seq('A')), ('CGG', 23, Seq('R')), ('CAG', 24, Seq('Q')), ('GAG', 25, Seq('E')), ('UGC', 26, Seq('C')), ('ACC', 27, Seq('T')), ('AAG', 28, Seq('K')), ('GUC', 29, Seq('V')), ('ACC', 30, Seq('T')), ('UCA', 31, Seq('S')), ('AAC', 32, Seq('N')), ('GUC', 33, Seq('V')), ('AGG', 34, Seq('R')), ('AAG', 35, Seq('K')), ('GGC', 36, Seq('G')), ('GAA', 37, Seq('E')), ('GAG', 38, Seq('E')), ('GCA', 39, Seq('A')), ('UGA', 40, Seq('*'))]\n"
          ]
        }
      ]
    },
    {
      "cell_type": "code",
      "source": [
        "protein = protein_seq_.translate()\n",
        "protein"
      ],
      "metadata": {
        "colab": {
          "base_uri": "https://localhost:8080/"
        },
        "id": "HT0HR5GjACvE",
        "outputId": "af3aa1ad-269a-4e90-e780-66edeb59a582"
      },
      "execution_count": 42,
      "outputs": [
        {
          "output_type": "execute_result",
          "data": {
            "text/plain": [
              "Seq('MRRRGPKRGRGARQSVHLAEAARQECTKVTSNVRKGEEA*AGAETRGKGTAGIT...RTI')"
            ]
          },
          "metadata": {},
          "execution_count": 42
        }
      ]
    },
    {
      "cell_type": "code",
      "source": [
        "protein.find('*')"
      ],
      "metadata": {
        "colab": {
          "base_uri": "https://localhost:8080/"
        },
        "id": "3kK-Eg_yAERr",
        "outputId": "f789a88e-4dd5-4d84-b38b-0ab3a6c01a8d"
      },
      "execution_count": 190,
      "outputs": [
        {
          "output_type": "execute_result",
          "data": {
            "text/plain": [
              "39"
            ]
          },
          "metadata": {},
          "execution_count": 190
        }
      ]
    },
    {
      "cell_type": "code",
      "source": [
        "protein[:39]"
      ],
      "metadata": {
        "colab": {
          "base_uri": "https://localhost:8080/"
        },
        "id": "AFq9DAD-e35u",
        "outputId": "6bf212bc-ed63-485e-9e0a-aa5add860bc2"
      },
      "execution_count": 192,
      "outputs": [
        {
          "output_type": "execute_result",
          "data": {
            "text/plain": [
              "Seq('MRRRGPKRGRGARQSVHLAEAARQECTKVTSNVRKGEEA')"
            ]
          },
          "metadata": {},
          "execution_count": 192
        }
      ]
    },
    {
      "cell_type": "code",
      "source": [
        "# Добавим последовательность белка в таблицу\n",
        "df['prot.seq.example'] = str(protein[:39])"
      ],
      "metadata": {
        "id": "J-fbfef1fGuW"
      },
      "execution_count": 193,
      "outputs": []
    },
    {
      "cell_type": "markdown",
      "source": [
        "Необходимо найти количество транскриптов. На сайте имеем 6 транскриптов."
      ],
      "metadata": {
        "id": "VNq8WyXbfQI9"
      }
    },
    {
      "cell_type": "markdown",
      "source": [
        "![image.png](data:image/png;base64,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)"
      ],
      "metadata": {
        "id": "dNp6MdlsfQsG"
      }
    },
    {
      "cell_type": "markdown",
      "source": [
        "Но поиск по разделу nucleotide и nuccore выдаёт ещё 5 лишних последовательности."
      ],
      "metadata": {
        "id": "DEW3GoFifUp-"
      }
    },
    {
      "cell_type": "code",
      "source": [
        "handle = Entrez.esearch(db=\"nucleotide\", term='CAD[Gene Name] AND \"790\"[entrezID] AND \"human\"[Organism] AND RefSeq[Keyword]', idtype=\"acc\")\n",
        "record = Entrez.read(handle)\n",
        "handle.close()\n",
        "record['IdList'], len(record['IdList'])"
      ],
      "metadata": {
        "colab": {
          "base_uri": "https://localhost:8080/"
        },
        "id": "8xcKg8e6fYDU",
        "outputId": "2ceaef58-f2ee-4319-a164-3ea71c599bf1"
      },
      "execution_count": 195,
      "outputs": [
        {
          "output_type": "execute_result",
          "data": {
            "text/plain": [
              "(['XM_054343841.1', 'XM_054343840.1', 'XM_006712101.4', 'XM_047445803.1', 'NC_060925.1', 'NC_060926.1', 'NC_000001.11', 'NC_000002.12', 'NM_001306079.2', 'NM_004341.5', 'NG_046394.1'],\n",
              " 11)"
            ]
          },
          "metadata": {},
          "execution_count": 195
        }
      ]
    },
    {
      "cell_type": "markdown",
      "source": [
        "Поиск по протеинам выдаёт 6 нужных нам комбинаций."
      ],
      "metadata": {
        "id": "MvegeKzAfbm8"
      }
    },
    {
      "cell_type": "code",
      "source": [
        "# Получаем список белков по имени гена из базы `protein` \n",
        "handle = Entrez.esearch(db=\"protein\", term='CAD[Gene Name] AND \"790\"[entrezID] AND \"human\"[Organism] AND RefSeq[Keyword]', idtype=\"acc\"\n",
        "                        )\n",
        "record = Entrez.read(handle)\n",
        "handle.close()\n",
        "record"
      ],
      "metadata": {
        "colab": {
          "base_uri": "https://localhost:8080/"
        },
        "id": "82TcJSoyfcKl",
        "outputId": "177176ba-1b89-4bc9-b6a7-c47aec1bdf75"
      },
      "execution_count": 196,
      "outputs": [
        {
          "output_type": "execute_result",
          "data": {
            "text/plain": [
              "{'Count': '6', 'RetMax': '6', 'RetStart': '0', 'IdList': ['XP_054199816.1', 'XP_054199815.1', 'XP_047301759.1', 'XP_006712164.1', 'NP_001293008.1', 'NP_004332.2'], 'TranslationSet': [], 'TranslationStack': [{'Term': 'CAD[Gene Name]', 'Field': 'Gene Name', 'Count': '31325', 'Explode': 'N'}, {'Term': '\"790\"[All Fields]', 'Field': 'All Fields', 'Count': '1535972', 'Explode': 'N'}, 'AND', {'Term': '\"human\"[Organism]', 'Field': 'Organism', 'Count': '1900094', 'Explode': 'Y'}, 'AND', {'Term': 'RefSeq[Keyword]', 'Field': 'Keyword', 'Count': '262559783', 'Explode': 'N'}, 'AND'], 'QueryTranslation': 'CAD[Gene Name] AND \"790\"[All Fields] AND \"human\"[Organism] AND RefSeq[Keyword]', 'ErrorList': {'FieldNotFound': ['entrezID'], 'PhraseNotFound': []}}"
            ]
          },
          "metadata": {},
          "execution_count": 196
        }
      ]
    },
    {
      "cell_type": "code",
      "source": [
        "handle = Entrez.efetch(db=\"protein\",\n",
        "                           id=2462577006,\n",
        "                           rettype = 'gb',\n",
        "                           retmode = 'text')\n",
        "info = SeqIO.read(handle, 'gb')\n",
        "info"
      ],
      "metadata": {
        "colab": {
          "base_uri": "https://localhost:8080/"
        },
        "id": "kOpUzwnrf5vs",
        "outputId": "56ad8dc9-dde6-4202-af83-c7e35daf3dc9"
      },
      "execution_count": 197,
      "outputs": [
        {
          "output_type": "execute_result",
          "data": {
            "text/plain": [
              "SeqRecord(seq=Seq('MAALVLEDGSVLRGQPFGAAVSTAGEVVFQTGMVGYPEALTDPSYKAQILVLTY...GRF'), id='XP_054199816.1', name='XP_054199816', description='CAD protein isoform X2 [Homo sapiens]', dbxrefs=['BioProject:PRJNA807723'])"
            ]
          },
          "metadata": {},
          "execution_count": 197
        }
      ]
    },
    {
      "cell_type": "markdown",
      "source": [
        "Оставим только белки с accession number, начинающиеся на NP_ (или можно было бы взять NM_ )"
      ],
      "metadata": {
        "id": "UrK_gLjAf9Yd"
      }
    },
    {
      "cell_type": "code",
      "source": [
        "transcriptions_list = [el for el in record['IdList'] if 'NP' in el]\n",
        "transcriptions_list"
      ],
      "metadata": {
        "colab": {
          "base_uri": "https://localhost:8080/"
        },
        "id": "c-V50DWwf8j0",
        "outputId": "dbf7493f-5648-4564-e1fc-60d0b55422c7"
      },
      "execution_count": 198,
      "outputs": [
        {
          "output_type": "execute_result",
          "data": {
            "text/plain": [
              "['NP_001293008.1', 'NP_004332.2']"
            ]
          },
          "metadata": {},
          "execution_count": 198
        }
      ]
    },
    {
      "cell_type": "code",
      "source": [
        "df['num_of_transcripts'] = len(transcriptions_list)"
      ],
      "metadata": {
        "id": "EjVE1DnSgURn"
      },
      "execution_count": 199,
      "outputs": []
    },
    {
      "cell_type": "markdown",
      "source": [
        "Выгрузим последовательности наших белков и найдём белок максимальной длины"
      ],
      "metadata": {
        "id": "XrOPLttKgWQM"
      }
    },
    {
      "cell_type": "code",
      "source": [
        "def max_length_protein(transcriptions_list):\n",
        "  max = 0\n",
        "  for el in transcriptions_list:\n",
        "    \n",
        "    handle = Entrez.efetch(db=\"protein\",\n",
        "                           id=el,\n",
        "                           rettype = 'gb',\n",
        "                           retmode = 'text')\n",
        "    protein = SeqIO.read(handle, 'gb')\n",
        "    if len(protein.seq) > max:\n",
        "      max_prot_id, max_prot_seq = protein.id, protein.seq\n",
        "\n",
        "  return max_prot_id, max_prot_seq"
      ],
      "metadata": {
        "id": "aADC4L9GgW8V"
      },
      "execution_count": 200,
      "outputs": []
    },
    {
      "cell_type": "code",
      "source": [
        "max_length_protein(transcriptions_list)"
      ],
      "metadata": {
        "colab": {
          "base_uri": "https://localhost:8080/"
        },
        "id": "aU60otUigaSE",
        "outputId": "b7314354-662a-4d12-facd-030be8dd9fdd"
      },
      "execution_count": 201,
      "outputs": [
        {
          "output_type": "execute_result",
          "data": {
            "text/plain": [
              "('NP_004332.2',\n",
              " Seq('MAALVLEDGSVLRGQPFGAAVSTAGEVVFQTGMVGYPEALTDPSYKAQILVLTY...GRF'))"
            ]
          },
          "metadata": {},
          "execution_count": 201
        }
      ]
    },
    {
      "cell_type": "code",
      "source": [
        "df['gr_acid_num'] = len(max_length_protein(transcriptions_list)[1])"
      ],
      "metadata": {
        "id": "hB7keUmJgcFV"
      },
      "execution_count": 202,
      "outputs": []
    },
    {
      "cell_type": "code",
      "source": [
        "df.T"
      ],
      "metadata": {
        "colab": {
          "base_uri": "https://localhost:8080/",
          "height": 488
        },
        "id": "TGnY2PCBgefj",
        "outputId": "2a531d35-36e1-4c7d-97bf-54b3c90fabec"
      },
      "execution_count": 203,
      "outputs": [
        {
          "output_type": "execute_result",
          "data": {
            "text/plain": [
              "                                                                    0\n",
              "geneId                                                            790\n",
              "geneSymbol                                                        CAD\n",
              "start                                                        27217368\n",
              "end                                                          27243943\n",
              "gi_id                                                       568815596\n",
              "strand                                                           plus\n",
              "chrom_num                                                           2\n",
              "mapLoc                                                         2p23.3\n",
              "ID chromosome                                            NC_000002.12\n",
              "gene lenght                                                     26575\n",
              "gene                AGTCTCTGCTGCTGCCGCCAAGCGCGCCCGAGGCTCCTACGCTGCC...\n",
              "prot.seq.example              MRRRGPKRGRGARQSVHLAEAARQECTKVTSNVRKGEEA\n",
              "num_of_transcripts                                                  2\n",
              "gr_acid_num                                                      2225"
            ],
            "text/html": [
              "\n",
              "  <div id=\"df-49c416ab-f9bd-4b32-a475-d8fe71c5c153\">\n",
              "    <div class=\"colab-df-container\">\n",
              "      <div>\n",
              "<style scoped>\n",
              "    .dataframe tbody tr th:only-of-type {\n",
              "        vertical-align: middle;\n",
              "    }\n",
              "\n",
              "    .dataframe tbody tr th {\n",
              "        vertical-align: top;\n",
              "    }\n",
              "\n",
              "    .dataframe thead th {\n",
              "        text-align: right;\n",
              "    }\n",
              "</style>\n",
              "<table border=\"1\" class=\"dataframe\">\n",
              "  <thead>\n",
              "    <tr style=\"text-align: right;\">\n",
              "      <th></th>\n",
              "      <th>0</th>\n",
              "    </tr>\n",
              "  </thead>\n",
              "  <tbody>\n",
              "    <tr>\n",
              "      <th>geneId</th>\n",
              "      <td>790</td>\n",
              "    </tr>\n",
              "    <tr>\n",
              "      <th>geneSymbol</th>\n",
              "      <td>CAD</td>\n",
              "    </tr>\n",
              "    <tr>\n",
              "      <th>start</th>\n",
              "      <td>27217368</td>\n",
              "    </tr>\n",
              "    <tr>\n",
              "      <th>end</th>\n",
              "      <td>27243943</td>\n",
              "    </tr>\n",
              "    <tr>\n",
              "      <th>gi_id</th>\n",
              "      <td>568815596</td>\n",
              "    </tr>\n",
              "    <tr>\n",
              "      <th>strand</th>\n",
              "      <td>plus</td>\n",
              "    </tr>\n",
              "    <tr>\n",
              "      <th>chrom_num</th>\n",
              "      <td>2</td>\n",
              "    </tr>\n",
              "    <tr>\n",
              "      <th>mapLoc</th>\n",
              "      <td>2p23.3</td>\n",
              "    </tr>\n",
              "    <tr>\n",
              "      <th>ID chromosome</th>\n",
              "      <td>NC_000002.12</td>\n",
              "    </tr>\n",
              "    <tr>\n",
              "      <th>gene lenght</th>\n",
              "      <td>26575</td>\n",
              "    </tr>\n",
              "    <tr>\n",
              "      <th>gene</th>\n",
              "      <td>AGTCTCTGCTGCTGCCGCCAAGCGCGCCCGAGGCTCCTACGCTGCC...</td>\n",
              "    </tr>\n",
              "    <tr>\n",
              "      <th>prot.seq.example</th>\n",
              "      <td>MRRRGPKRGRGARQSVHLAEAARQECTKVTSNVRKGEEA</td>\n",
              "    </tr>\n",
              "    <tr>\n",
              "      <th>num_of_transcripts</th>\n",
              "      <td>2</td>\n",
              "    </tr>\n",
              "    <tr>\n",
              "      <th>gr_acid_num</th>\n",
              "      <td>2225</td>\n",
              "    </tr>\n",
              "  </tbody>\n",
              "</table>\n",
              "</div>\n",
              "      <button class=\"colab-df-convert\" onclick=\"convertToInteractive('df-49c416ab-f9bd-4b32-a475-d8fe71c5c153')\"\n",
              "              title=\"Convert this dataframe to an interactive table.\"\n",
              "              style=\"display:none;\">\n",
              "        \n",
              "  <svg xmlns=\"http://www.w3.org/2000/svg\" height=\"24px\"viewBox=\"0 0 24 24\"\n",
              "       width=\"24px\">\n",
              "    <path d=\"M0 0h24v24H0V0z\" fill=\"none\"/>\n",
              "    <path d=\"M18.56 5.44l.94 2.06.94-2.06 2.06-.94-2.06-.94-.94-2.06-.94 2.06-2.06.94zm-11 1L8.5 8.5l.94-2.06 2.06-.94-2.06-.94L8.5 2.5l-.94 2.06-2.06.94zm10 10l.94 2.06.94-2.06 2.06-.94-2.06-.94-.94-2.06-.94 2.06-2.06.94z\"/><path d=\"M17.41 7.96l-1.37-1.37c-.4-.4-.92-.59-1.43-.59-.52 0-1.04.2-1.43.59L10.3 9.45l-7.72 7.72c-.78.78-.78 2.05 0 2.83L4 21.41c.39.39.9.59 1.41.59.51 0 1.02-.2 1.41-.59l7.78-7.78 2.81-2.81c.8-.78.8-2.07 0-2.86zM5.41 20L4 18.59l7.72-7.72 1.47 1.35L5.41 20z\"/>\n",
              "  </svg>\n",
              "      </button>\n",
              "      \n",
              "  <style>\n",
              "    .colab-df-container {\n",
              "      display:flex;\n",
              "      flex-wrap:wrap;\n",
              "      gap: 12px;\n",
              "    }\n",
              "\n",
              "    .colab-df-convert {\n",
              "      background-color: #E8F0FE;\n",
              "      border: none;\n",
              "      border-radius: 50%;\n",
              "      cursor: pointer;\n",
              "      display: none;\n",
              "      fill: #1967D2;\n",
              "      height: 32px;\n",
              "      padding: 0 0 0 0;\n",
              "      width: 32px;\n",
              "    }\n",
              "\n",
              "    .colab-df-convert:hover {\n",
              "      background-color: #E2EBFA;\n",
              "      box-shadow: 0px 1px 2px rgba(60, 64, 67, 0.3), 0px 1px 3px 1px rgba(60, 64, 67, 0.15);\n",
              "      fill: #174EA6;\n",
              "    }\n",
              "\n",
              "    [theme=dark] .colab-df-convert {\n",
              "      background-color: #3B4455;\n",
              "      fill: #D2E3FC;\n",
              "    }\n",
              "\n",
              "    [theme=dark] .colab-df-convert:hover {\n",
              "      background-color: #434B5C;\n",
              "      box-shadow: 0px 1px 3px 1px rgba(0, 0, 0, 0.15);\n",
              "      filter: drop-shadow(0px 1px 2px rgba(0, 0, 0, 0.3));\n",
              "      fill: #FFFFFF;\n",
              "    }\n",
              "  </style>\n",
              "\n",
              "      <script>\n",
              "        const buttonEl =\n",
              "          document.querySelector('#df-49c416ab-f9bd-4b32-a475-d8fe71c5c153 button.colab-df-convert');\n",
              "        buttonEl.style.display =\n",
              "          google.colab.kernel.accessAllowed ? 'block' : 'none';\n",
              "\n",
              "        async function convertToInteractive(key) {\n",
              "          const element = document.querySelector('#df-49c416ab-f9bd-4b32-a475-d8fe71c5c153');\n",
              "          const dataTable =\n",
              "            await google.colab.kernel.invokeFunction('convertToInteractive',\n",
              "                                                     [key], {});\n",
              "          if (!dataTable) return;\n",
              "\n",
              "          const docLinkHtml = 'Like what you see? Visit the ' +\n",
              "            '<a target=\"_blank\" href=https://colab.research.google.com/notebooks/data_table.ipynb>data table notebook</a>'\n",
              "            + ' to learn more about interactive tables.';\n",
              "          element.innerHTML = '';\n",
              "          dataTable['output_type'] = 'display_data';\n",
              "          await google.colab.output.renderOutput(dataTable, element);\n",
              "          const docLink = document.createElement('div');\n",
              "          docLink.innerHTML = docLinkHtml;\n",
              "          element.appendChild(docLink);\n",
              "        }\n",
              "      </script>\n",
              "    </div>\n",
              "  </div>\n",
              "  "
            ]
          },
          "metadata": {},
          "execution_count": 203
        }
      ]
    },
    {
      "cell_type": "code",
      "source": [
        "df['num_of_transcripts']=6"
      ],
      "metadata": {
        "id": "rDwj83oEhk6K"
      },
      "execution_count": 205,
      "outputs": []
    },
    {
      "cell_type": "code",
      "source": [
        "df.T"
      ],
      "metadata": {
        "colab": {
          "base_uri": "https://localhost:8080/",
          "height": 488
        },
        "id": "QSLkv45Shy2t",
        "outputId": "f5f9893b-5d52-47c5-9680-078703b4a777"
      },
      "execution_count": 206,
      "outputs": [
        {
          "output_type": "execute_result",
          "data": {
            "text/plain": [
              "                                                                    0\n",
              "geneId                                                            790\n",
              "geneSymbol                                                        CAD\n",
              "start                                                        27217368\n",
              "end                                                          27243943\n",
              "gi_id                                                       568815596\n",
              "strand                                                           plus\n",
              "chrom_num                                                           2\n",
              "mapLoc                                                         2p23.3\n",
              "ID chromosome                                            NC_000002.12\n",
              "gene lenght                                                     26575\n",
              "gene                AGTCTCTGCTGCTGCCGCCAAGCGCGCCCGAGGCTCCTACGCTGCC...\n",
              "prot.seq.example              MRRRGPKRGRGARQSVHLAEAARQECTKVTSNVRKGEEA\n",
              "num_of_transcripts                                                  6\n",
              "gr_acid_num                                                      2225"
            ],
            "text/html": [
              "\n",
              "  <div id=\"df-96c901bb-a663-43e8-be5f-69f233d9da58\">\n",
              "    <div class=\"colab-df-container\">\n",
              "      <div>\n",
              "<style scoped>\n",
              "    .dataframe tbody tr th:only-of-type {\n",
              "        vertical-align: middle;\n",
              "    }\n",
              "\n",
              "    .dataframe tbody tr th {\n",
              "        vertical-align: top;\n",
              "    }\n",
              "\n",
              "    .dataframe thead th {\n",
              "        text-align: right;\n",
              "    }\n",
              "</style>\n",
              "<table border=\"1\" class=\"dataframe\">\n",
              "  <thead>\n",
              "    <tr style=\"text-align: right;\">\n",
              "      <th></th>\n",
              "      <th>0</th>\n",
              "    </tr>\n",
              "  </thead>\n",
              "  <tbody>\n",
              "    <tr>\n",
              "      <th>geneId</th>\n",
              "      <td>790</td>\n",
              "    </tr>\n",
              "    <tr>\n",
              "      <th>geneSymbol</th>\n",
              "      <td>CAD</td>\n",
              "    </tr>\n",
              "    <tr>\n",
              "      <th>start</th>\n",
              "      <td>27217368</td>\n",
              "    </tr>\n",
              "    <tr>\n",
              "      <th>end</th>\n",
              "      <td>27243943</td>\n",
              "    </tr>\n",
              "    <tr>\n",
              "      <th>gi_id</th>\n",
              "      <td>568815596</td>\n",
              "    </tr>\n",
              "    <tr>\n",
              "      <th>strand</th>\n",
              "      <td>plus</td>\n",
              "    </tr>\n",
              "    <tr>\n",
              "      <th>chrom_num</th>\n",
              "      <td>2</td>\n",
              "    </tr>\n",
              "    <tr>\n",
              "      <th>mapLoc</th>\n",
              "      <td>2p23.3</td>\n",
              "    </tr>\n",
              "    <tr>\n",
              "      <th>ID chromosome</th>\n",
              "      <td>NC_000002.12</td>\n",
              "    </tr>\n",
              "    <tr>\n",
              "      <th>gene lenght</th>\n",
              "      <td>26575</td>\n",
              "    </tr>\n",
              "    <tr>\n",
              "      <th>gene</th>\n",
              "      <td>AGTCTCTGCTGCTGCCGCCAAGCGCGCCCGAGGCTCCTACGCTGCC...</td>\n",
              "    </tr>\n",
              "    <tr>\n",
              "      <th>prot.seq.example</th>\n",
              "      <td>MRRRGPKRGRGARQSVHLAEAARQECTKVTSNVRKGEEA</td>\n",
              "    </tr>\n",
              "    <tr>\n",
              "      <th>num_of_transcripts</th>\n",
              "      <td>6</td>\n",
              "    </tr>\n",
              "    <tr>\n",
              "      <th>gr_acid_num</th>\n",
              "      <td>2225</td>\n",
              "    </tr>\n",
              "  </tbody>\n",
              "</table>\n",
              "</div>\n",
              "      <button class=\"colab-df-convert\" onclick=\"convertToInteractive('df-96c901bb-a663-43e8-be5f-69f233d9da58')\"\n",
              "              title=\"Convert this dataframe to an interactive table.\"\n",
              "              style=\"display:none;\">\n",
              "        \n",
              "  <svg xmlns=\"http://www.w3.org/2000/svg\" height=\"24px\"viewBox=\"0 0 24 24\"\n",
              "       width=\"24px\">\n",
              "    <path d=\"M0 0h24v24H0V0z\" fill=\"none\"/>\n",
              "    <path d=\"M18.56 5.44l.94 2.06.94-2.06 2.06-.94-2.06-.94-.94-2.06-.94 2.06-2.06.94zm-11 1L8.5 8.5l.94-2.06 2.06-.94-2.06-.94L8.5 2.5l-.94 2.06-2.06.94zm10 10l.94 2.06.94-2.06 2.06-.94-2.06-.94-.94-2.06-.94 2.06-2.06.94z\"/><path d=\"M17.41 7.96l-1.37-1.37c-.4-.4-.92-.59-1.43-.59-.52 0-1.04.2-1.43.59L10.3 9.45l-7.72 7.72c-.78.78-.78 2.05 0 2.83L4 21.41c.39.39.9.59 1.41.59.51 0 1.02-.2 1.41-.59l7.78-7.78 2.81-2.81c.8-.78.8-2.07 0-2.86zM5.41 20L4 18.59l7.72-7.72 1.47 1.35L5.41 20z\"/>\n",
              "  </svg>\n",
              "      </button>\n",
              "      \n",
              "  <style>\n",
              "    .colab-df-container {\n",
              "      display:flex;\n",
              "      flex-wrap:wrap;\n",
              "      gap: 12px;\n",
              "    }\n",
              "\n",
              "    .colab-df-convert {\n",
              "      background-color: #E8F0FE;\n",
              "      border: none;\n",
              "      border-radius: 50%;\n",
              "      cursor: pointer;\n",
              "      display: none;\n",
              "      fill: #1967D2;\n",
              "      height: 32px;\n",
              "      padding: 0 0 0 0;\n",
              "      width: 32px;\n",
              "    }\n",
              "\n",
              "    .colab-df-convert:hover {\n",
              "      background-color: #E2EBFA;\n",
              "      box-shadow: 0px 1px 2px rgba(60, 64, 67, 0.3), 0px 1px 3px 1px rgba(60, 64, 67, 0.15);\n",
              "      fill: #174EA6;\n",
              "    }\n",
              "\n",
              "    [theme=dark] .colab-df-convert {\n",
              "      background-color: #3B4455;\n",
              "      fill: #D2E3FC;\n",
              "    }\n",
              "\n",
              "    [theme=dark] .colab-df-convert:hover {\n",
              "      background-color: #434B5C;\n",
              "      box-shadow: 0px 1px 3px 1px rgba(0, 0, 0, 0.15);\n",
              "      filter: drop-shadow(0px 1px 2px rgba(0, 0, 0, 0.3));\n",
              "      fill: #FFFFFF;\n",
              "    }\n",
              "  </style>\n",
              "\n",
              "      <script>\n",
              "        const buttonEl =\n",
              "          document.querySelector('#df-96c901bb-a663-43e8-be5f-69f233d9da58 button.colab-df-convert');\n",
              "        buttonEl.style.display =\n",
              "          google.colab.kernel.accessAllowed ? 'block' : 'none';\n",
              "\n",
              "        async function convertToInteractive(key) {\n",
              "          const element = document.querySelector('#df-96c901bb-a663-43e8-be5f-69f233d9da58');\n",
              "          const dataTable =\n",
              "            await google.colab.kernel.invokeFunction('convertToInteractive',\n",
              "                                                     [key], {});\n",
              "          if (!dataTable) return;\n",
              "\n",
              "          const docLinkHtml = 'Like what you see? Visit the ' +\n",
              "            '<a target=\"_blank\" href=https://colab.research.google.com/notebooks/data_table.ipynb>data table notebook</a>'\n",
              "            + ' to learn more about interactive tables.';\n",
              "          element.innerHTML = '';\n",
              "          dataTable['output_type'] = 'display_data';\n",
              "          await google.colab.output.renderOutput(dataTable, element);\n",
              "          const docLink = document.createElement('div');\n",
              "          docLink.innerHTML = docLinkHtml;\n",
              "          element.appendChild(docLink);\n",
              "        }\n",
              "      </script>\n",
              "    </div>\n",
              "  </div>\n",
              "  "
            ]
          },
          "metadata": {},
          "execution_count": 206
        }
      ]
    },
    {
      "cell_type": "code",
      "source": [
        "df.to_csv('df_task_2_corrected.csv')"
      ],
      "metadata": {
        "id": "lXRsrl20hdDo"
      },
      "execution_count": 207,
      "outputs": []
    }
  ]
}