{
  "nbformat": 4,
  "nbformat_minor": 0,
  "metadata": {
    "colab": {
      "provenance": [],
      "authorship_tag": "ABX9TyOAJkDxh9Ox8VQglLJVax3o",
      "include_colab_link": true
    },
    "kernelspec": {
      "name": "python3",
      "display_name": "Python 3"
    },
    "language_info": {
      "name": "python"
    }
  },
  "cells": [
    {
      "cell_type": "markdown",
      "metadata": {
        "id": "view-in-github",
        "colab_type": "text"
      },
      "source": [
        "<a href=\"https://colab.research.google.com/github/nedokormysh/GB_intro_Molecular_Biology_Genetic/blob/lesson3/GB_molecular_Biology_Genetics_Task_3_corrected.ipynb\" target=\"_parent\"><img src=\"https://colab.research.google.com/assets/colab-badge.svg\" alt=\"Open In Colab\"/></a>"
      ]
    },
    {
      "cell_type": "markdown",
      "source": [
        "# Урок 3. Мутации.\n",
        "\n",
        "В таблицу гена, полученную по итогам практического задания первого урока, добавьте следующую информацию: количество rs для избранного гена.\n",
        "\n",
        "Сделанное практическое задание предоставляется в формате .ipynb."
      ],
      "metadata": {
        "id": "MZ_qCUH42cPB"
      }
    },
    {
      "cell_type": "code",
      "source": [
        "!pip install biopython -q"
      ],
      "metadata": {
        "id": "wxJ8l5Hw4IBg",
        "colab": {
          "base_uri": "https://localhost:8080/"
        },
        "outputId": "57648bd4-5628-4104-9d4f-1e2f856e5dc4"
      },
      "execution_count": 1,
      "outputs": [
        {
          "output_type": "stream",
          "name": "stdout",
          "text": [
            "\u001b[?25l     \u001b[90m━━━━━━━━━━━━━━━━━━━━━━━━━━━━━━━━━━━━━━━━\u001b[0m \u001b[32m0.0/3.1 MB\u001b[0m \u001b[31m?\u001b[0m eta \u001b[36m-:--:--\u001b[0m\r\u001b[2K     \u001b[91m━━━━━━━━━━━━━━━━━━━━━━━━━━━━━━━━━━━━\u001b[0m\u001b[91m╸\u001b[0m\u001b[90m━━━\u001b[0m \u001b[32m2.8/3.1 MB\u001b[0m \u001b[31m85.1 MB/s\u001b[0m eta \u001b[36m0:00:01\u001b[0m\r\u001b[2K     \u001b[90m━━━━━━━━━━━━━━━━━━━━━━━━━━━━━━━━━━━━━━━━\u001b[0m \u001b[32m3.1/3.1 MB\u001b[0m \u001b[31m54.7 MB/s\u001b[0m eta \u001b[36m0:00:00\u001b[0m\n",
            "\u001b[?25h"
          ]
        }
      ]
    },
    {
      "cell_type": "code",
      "execution_count": 2,
      "metadata": {
        "id": "jaSSYoEc14YG"
      },
      "outputs": [],
      "source": [
        "import pandas as pd\n",
        "from Bio import Entrez\n",
        "from Bio import SeqIO\n",
        "from Bio.Seq import MutableSeq\n",
        "from Bio.Seq import Seq\n",
        "from Bio.SeqRecord import SeqRecord\n",
        "from Bio.Seq import MutableSeq\n",
        "import time"
      ]
    },
    {
      "cell_type": "markdown",
      "source": [
        "Загрузим таблицу полученную во втором уроке."
      ],
      "metadata": {
        "id": "_FaGFHxi4Va0"
      }
    },
    {
      "cell_type": "code",
      "source": [
        "df = pd.read_csv('https://raw.githubusercontent.com/nedokormysh/GB_intro_Molecular_Biology_Genetic/lesson2/df_task_2_corrected%20(1).csv')\n",
        "df.T"
      ],
      "metadata": {
        "colab": {
          "base_uri": "https://localhost:8080/",
          "height": 519
        },
        "id": "eHkiXxqM4ZwX",
        "outputId": "7b1e94f3-b362-4a5b-fea7-bc6d219c0128"
      },
      "execution_count": 3,
      "outputs": [
        {
          "output_type": "execute_result",
          "data": {
            "text/plain": [
              "                                                                    0\n",
              "Unnamed: 0                                                          0\n",
              "geneId                                                            790\n",
              "geneSymbol                                                        CAD\n",
              "start                                                        27217368\n",
              "end                                                          27243943\n",
              "gi_id                                                       568815596\n",
              "strand                                                           plus\n",
              "chrom_num                                                           2\n",
              "mapLoc                                                         2p23.3\n",
              "ID chromosome                                            NC_000002.12\n",
              "gene lenght                                                     26575\n",
              "gene                AGTCTCTGCTGCTGCCGCCAAGCGCGCCCGAGGCTCCTACGCTGCC...\n",
              "prot.seq.example              MRRRGPKRGRGARQSVHLAEAARQECTKVTSNVRKGEEA\n",
              "num_of_transcripts                                                  6\n",
              "gr_acid_num                                                      2225"
            ],
            "text/html": [
              "\n",
              "  <div id=\"df-60c76133-fad8-435e-a89f-1f09149380ca\">\n",
              "    <div class=\"colab-df-container\">\n",
              "      <div>\n",
              "<style scoped>\n",
              "    .dataframe tbody tr th:only-of-type {\n",
              "        vertical-align: middle;\n",
              "    }\n",
              "\n",
              "    .dataframe tbody tr th {\n",
              "        vertical-align: top;\n",
              "    }\n",
              "\n",
              "    .dataframe thead th {\n",
              "        text-align: right;\n",
              "    }\n",
              "</style>\n",
              "<table border=\"1\" class=\"dataframe\">\n",
              "  <thead>\n",
              "    <tr style=\"text-align: right;\">\n",
              "      <th></th>\n",
              "      <th>0</th>\n",
              "    </tr>\n",
              "  </thead>\n",
              "  <tbody>\n",
              "    <tr>\n",
              "      <th>Unnamed: 0</th>\n",
              "      <td>0</td>\n",
              "    </tr>\n",
              "    <tr>\n",
              "      <th>geneId</th>\n",
              "      <td>790</td>\n",
              "    </tr>\n",
              "    <tr>\n",
              "      <th>geneSymbol</th>\n",
              "      <td>CAD</td>\n",
              "    </tr>\n",
              "    <tr>\n",
              "      <th>start</th>\n",
              "      <td>27217368</td>\n",
              "    </tr>\n",
              "    <tr>\n",
              "      <th>end</th>\n",
              "      <td>27243943</td>\n",
              "    </tr>\n",
              "    <tr>\n",
              "      <th>gi_id</th>\n",
              "      <td>568815596</td>\n",
              "    </tr>\n",
              "    <tr>\n",
              "      <th>strand</th>\n",
              "      <td>plus</td>\n",
              "    </tr>\n",
              "    <tr>\n",
              "      <th>chrom_num</th>\n",
              "      <td>2</td>\n",
              "    </tr>\n",
              "    <tr>\n",
              "      <th>mapLoc</th>\n",
              "      <td>2p23.3</td>\n",
              "    </tr>\n",
              "    <tr>\n",
              "      <th>ID chromosome</th>\n",
              "      <td>NC_000002.12</td>\n",
              "    </tr>\n",
              "    <tr>\n",
              "      <th>gene lenght</th>\n",
              "      <td>26575</td>\n",
              "    </tr>\n",
              "    <tr>\n",
              "      <th>gene</th>\n",
              "      <td>AGTCTCTGCTGCTGCCGCCAAGCGCGCCCGAGGCTCCTACGCTGCC...</td>\n",
              "    </tr>\n",
              "    <tr>\n",
              "      <th>prot.seq.example</th>\n",
              "      <td>MRRRGPKRGRGARQSVHLAEAARQECTKVTSNVRKGEEA</td>\n",
              "    </tr>\n",
              "    <tr>\n",
              "      <th>num_of_transcripts</th>\n",
              "      <td>6</td>\n",
              "    </tr>\n",
              "    <tr>\n",
              "      <th>gr_acid_num</th>\n",
              "      <td>2225</td>\n",
              "    </tr>\n",
              "  </tbody>\n",
              "</table>\n",
              "</div>\n",
              "      <button class=\"colab-df-convert\" onclick=\"convertToInteractive('df-60c76133-fad8-435e-a89f-1f09149380ca')\"\n",
              "              title=\"Convert this dataframe to an interactive table.\"\n",
              "              style=\"display:none;\">\n",
              "        \n",
              "  <svg xmlns=\"http://www.w3.org/2000/svg\" height=\"24px\"viewBox=\"0 0 24 24\"\n",
              "       width=\"24px\">\n",
              "    <path d=\"M0 0h24v24H0V0z\" fill=\"none\"/>\n",
              "    <path d=\"M18.56 5.44l.94 2.06.94-2.06 2.06-.94-2.06-.94-.94-2.06-.94 2.06-2.06.94zm-11 1L8.5 8.5l.94-2.06 2.06-.94-2.06-.94L8.5 2.5l-.94 2.06-2.06.94zm10 10l.94 2.06.94-2.06 2.06-.94-2.06-.94-.94-2.06-.94 2.06-2.06.94z\"/><path d=\"M17.41 7.96l-1.37-1.37c-.4-.4-.92-.59-1.43-.59-.52 0-1.04.2-1.43.59L10.3 9.45l-7.72 7.72c-.78.78-.78 2.05 0 2.83L4 21.41c.39.39.9.59 1.41.59.51 0 1.02-.2 1.41-.59l7.78-7.78 2.81-2.81c.8-.78.8-2.07 0-2.86zM5.41 20L4 18.59l7.72-7.72 1.47 1.35L5.41 20z\"/>\n",
              "  </svg>\n",
              "      </button>\n",
              "      \n",
              "  <style>\n",
              "    .colab-df-container {\n",
              "      display:flex;\n",
              "      flex-wrap:wrap;\n",
              "      gap: 12px;\n",
              "    }\n",
              "\n",
              "    .colab-df-convert {\n",
              "      background-color: #E8F0FE;\n",
              "      border: none;\n",
              "      border-radius: 50%;\n",
              "      cursor: pointer;\n",
              "      display: none;\n",
              "      fill: #1967D2;\n",
              "      height: 32px;\n",
              "      padding: 0 0 0 0;\n",
              "      width: 32px;\n",
              "    }\n",
              "\n",
              "    .colab-df-convert:hover {\n",
              "      background-color: #E2EBFA;\n",
              "      box-shadow: 0px 1px 2px rgba(60, 64, 67, 0.3), 0px 1px 3px 1px rgba(60, 64, 67, 0.15);\n",
              "      fill: #174EA6;\n",
              "    }\n",
              "\n",
              "    [theme=dark] .colab-df-convert {\n",
              "      background-color: #3B4455;\n",
              "      fill: #D2E3FC;\n",
              "    }\n",
              "\n",
              "    [theme=dark] .colab-df-convert:hover {\n",
              "      background-color: #434B5C;\n",
              "      box-shadow: 0px 1px 3px 1px rgba(0, 0, 0, 0.15);\n",
              "      filter: drop-shadow(0px 1px 2px rgba(0, 0, 0, 0.3));\n",
              "      fill: #FFFFFF;\n",
              "    }\n",
              "  </style>\n",
              "\n",
              "      <script>\n",
              "        const buttonEl =\n",
              "          document.querySelector('#df-60c76133-fad8-435e-a89f-1f09149380ca button.colab-df-convert');\n",
              "        buttonEl.style.display =\n",
              "          google.colab.kernel.accessAllowed ? 'block' : 'none';\n",
              "\n",
              "        async function convertToInteractive(key) {\n",
              "          const element = document.querySelector('#df-60c76133-fad8-435e-a89f-1f09149380ca');\n",
              "          const dataTable =\n",
              "            await google.colab.kernel.invokeFunction('convertToInteractive',\n",
              "                                                     [key], {});\n",
              "          if (!dataTable) return;\n",
              "\n",
              "          const docLinkHtml = 'Like what you see? Visit the ' +\n",
              "            '<a target=\"_blank\" href=https://colab.research.google.com/notebooks/data_table.ipynb>data table notebook</a>'\n",
              "            + ' to learn more about interactive tables.';\n",
              "          element.innerHTML = '';\n",
              "          dataTable['output_type'] = 'display_data';\n",
              "          await google.colab.output.renderOutput(dataTable, element);\n",
              "          const docLink = document.createElement('div');\n",
              "          docLink.innerHTML = docLinkHtml;\n",
              "          element.appendChild(docLink);\n",
              "        }\n",
              "      </script>\n",
              "    </div>\n",
              "  </div>\n",
              "  "
            ]
          },
          "metadata": {},
          "execution_count": 3
        }
      ]
    },
    {
      "cell_type": "markdown",
      "source": [
        "## Нахождение количества патогенных мутаций."
      ],
      "metadata": {
        "id": "pdIrsPMnEW-5"
      }
    },
    {
      "cell_type": "code",
      "source": [
        "Entrez.email = \"dbsnp-user@nih.gov\" # provide your user email \n",
        "# RECOMMENDED: apply for API key from NCBI (https://ncbiinsights.ncbi.nlm.nih.gov/2017/11/02/new-api-keys-for-the-e-utilities/). \n",
        "# 10 queries per second with a valid API key, otherwise 3 queries per seconds are allowed for 'None'\n",
        "Entrez.api_key = None\n",
        "\n",
        "# dbSNP supported query terms (https://www.ncbi.nlm.nih.gov/snp/docs/entrez_help/) can be build and test online using web query builder (https://www.ncbi.nlm.nih.gov/snp/advanced) \n",
        "# esearch handle\n",
        "eShandle = Entrez.esearch(db=\"snp\",  # search dbSNP\n",
        "                          #complex query for missense and pathogenic variants in LPL gene with global MAF betweeen 0 and 0.01.\n",
        "                          term='CAD[All Fields] AND pathogenic[Clinical_Significance] AND missense variant[Function_Class])',\n",
        "                          #  AND (00000.0000[GLOBAL_MAF] : 00000.0100[GLOBAL_MAF])', \n",
        "                          usehistory=\"y\", #cache result on server for download in batches\n",
        "                          retmax=20 # return 20 RSID max\n",
        "                         )\n",
        "\n",
        "# get esearch result\n",
        "eSresult = Entrez.read(eShandle)"
      ],
      "metadata": {
        "id": "FGA2XY_jARos"
      },
      "execution_count": 4,
      "outputs": []
    },
    {
      "cell_type": "code",
      "source": [
        "# review results \n",
        "for k in eSresult:\n",
        "    print (k, \":\", eSresult[k])\n",
        "    \n",
        "#Output: Web environment (&WebEnv) and query key (&query_key) parameters specifying the location on the Entrez history server of the list of UIDs matching the Entrez query\n",
        "#https://www.ncbi.nlm.nih.gov/books/NBK25500/#chapter1.Storing_Search_Results"
      ],
      "metadata": {
        "colab": {
          "base_uri": "https://localhost:8080/"
        },
        "id": "AdcAd1y0AcXf",
        "outputId": "fd9cbb4e-faf8-4d23-9a0b-bac02ed0d772"
      },
      "execution_count": 5,
      "outputs": [
        {
          "output_type": "stream",
          "name": "stdout",
          "text": [
            "Count : 4\n",
            "RetMax : 4\n",
            "RetStart : 0\n",
            "QueryKey : 1\n",
            "WebEnv : MCID_6483589e913c2e2a965ad91f\n",
            "IdList : ['1475014505', '766975615', '763410987', '751610198']\n",
            "TranslationSet : []\n",
            "TranslationStack : [{'Term': 'CAD[All Fields]', 'Field': 'All Fields', 'Count': '12552', 'Explode': 'N'}, {'Term': 'pathogenic[Clinical_Significance]', 'Field': 'Clinical_Significance', 'Count': '130269', 'Explode': 'N'}, 'AND', {'Term': 'missense variant[Function_Class]', 'Field': 'Function_Class', 'Count': '10256260', 'Explode': 'N'}, 'AND']\n",
            "QueryTranslation : CAD[All Fields] AND pathogenic[Clinical_Significance] AND missense variant[Function_Class]\n"
          ]
        }
      ]
    },
    {
      "cell_type": "markdown",
      "source": [
        "У нас 4 интересующих нас мутации. Добавим их в таблицу. И посмотрим "
      ],
      "metadata": {
        "id": "XWxxCoWxEAfs"
      }
    },
    {
      "cell_type": "code",
      "source": [
        "df['rs'] = eSresult['Count']\n",
        "df.T"
      ],
      "metadata": {
        "colab": {
          "base_uri": "https://localhost:8080/",
          "height": 551
        },
        "id": "nKQV35mgEleY",
        "outputId": "5c18c080-1740-4516-c9d1-4f3a5f2a2a70"
      },
      "execution_count": 6,
      "outputs": [
        {
          "output_type": "execute_result",
          "data": {
            "text/plain": [
              "                                                                    0\n",
              "Unnamed: 0                                                          0\n",
              "geneId                                                            790\n",
              "geneSymbol                                                        CAD\n",
              "start                                                        27217368\n",
              "end                                                          27243943\n",
              "gi_id                                                       568815596\n",
              "strand                                                           plus\n",
              "chrom_num                                                           2\n",
              "mapLoc                                                         2p23.3\n",
              "ID chromosome                                            NC_000002.12\n",
              "gene lenght                                                     26575\n",
              "gene                AGTCTCTGCTGCTGCCGCCAAGCGCGCCCGAGGCTCCTACGCTGCC...\n",
              "prot.seq.example              MRRRGPKRGRGARQSVHLAEAARQECTKVTSNVRKGEEA\n",
              "num_of_transcripts                                                  6\n",
              "gr_acid_num                                                      2225\n",
              "rs                                                                  4"
            ],
            "text/html": [
              "\n",
              "  <div id=\"df-3861ff5f-6af4-4e98-998c-ca71ebe8346e\">\n",
              "    <div class=\"colab-df-container\">\n",
              "      <div>\n",
              "<style scoped>\n",
              "    .dataframe tbody tr th:only-of-type {\n",
              "        vertical-align: middle;\n",
              "    }\n",
              "\n",
              "    .dataframe tbody tr th {\n",
              "        vertical-align: top;\n",
              "    }\n",
              "\n",
              "    .dataframe thead th {\n",
              "        text-align: right;\n",
              "    }\n",
              "</style>\n",
              "<table border=\"1\" class=\"dataframe\">\n",
              "  <thead>\n",
              "    <tr style=\"text-align: right;\">\n",
              "      <th></th>\n",
              "      <th>0</th>\n",
              "    </tr>\n",
              "  </thead>\n",
              "  <tbody>\n",
              "    <tr>\n",
              "      <th>Unnamed: 0</th>\n",
              "      <td>0</td>\n",
              "    </tr>\n",
              "    <tr>\n",
              "      <th>geneId</th>\n",
              "      <td>790</td>\n",
              "    </tr>\n",
              "    <tr>\n",
              "      <th>geneSymbol</th>\n",
              "      <td>CAD</td>\n",
              "    </tr>\n",
              "    <tr>\n",
              "      <th>start</th>\n",
              "      <td>27217368</td>\n",
              "    </tr>\n",
              "    <tr>\n",
              "      <th>end</th>\n",
              "      <td>27243943</td>\n",
              "    </tr>\n",
              "    <tr>\n",
              "      <th>gi_id</th>\n",
              "      <td>568815596</td>\n",
              "    </tr>\n",
              "    <tr>\n",
              "      <th>strand</th>\n",
              "      <td>plus</td>\n",
              "    </tr>\n",
              "    <tr>\n",
              "      <th>chrom_num</th>\n",
              "      <td>2</td>\n",
              "    </tr>\n",
              "    <tr>\n",
              "      <th>mapLoc</th>\n",
              "      <td>2p23.3</td>\n",
              "    </tr>\n",
              "    <tr>\n",
              "      <th>ID chromosome</th>\n",
              "      <td>NC_000002.12</td>\n",
              "    </tr>\n",
              "    <tr>\n",
              "      <th>gene lenght</th>\n",
              "      <td>26575</td>\n",
              "    </tr>\n",
              "    <tr>\n",
              "      <th>gene</th>\n",
              "      <td>AGTCTCTGCTGCTGCCGCCAAGCGCGCCCGAGGCTCCTACGCTGCC...</td>\n",
              "    </tr>\n",
              "    <tr>\n",
              "      <th>prot.seq.example</th>\n",
              "      <td>MRRRGPKRGRGARQSVHLAEAARQECTKVTSNVRKGEEA</td>\n",
              "    </tr>\n",
              "    <tr>\n",
              "      <th>num_of_transcripts</th>\n",
              "      <td>6</td>\n",
              "    </tr>\n",
              "    <tr>\n",
              "      <th>gr_acid_num</th>\n",
              "      <td>2225</td>\n",
              "    </tr>\n",
              "    <tr>\n",
              "      <th>rs</th>\n",
              "      <td>4</td>\n",
              "    </tr>\n",
              "  </tbody>\n",
              "</table>\n",
              "</div>\n",
              "      <button class=\"colab-df-convert\" onclick=\"convertToInteractive('df-3861ff5f-6af4-4e98-998c-ca71ebe8346e')\"\n",
              "              title=\"Convert this dataframe to an interactive table.\"\n",
              "              style=\"display:none;\">\n",
              "        \n",
              "  <svg xmlns=\"http://www.w3.org/2000/svg\" height=\"24px\"viewBox=\"0 0 24 24\"\n",
              "       width=\"24px\">\n",
              "    <path d=\"M0 0h24v24H0V0z\" fill=\"none\"/>\n",
              "    <path d=\"M18.56 5.44l.94 2.06.94-2.06 2.06-.94-2.06-.94-.94-2.06-.94 2.06-2.06.94zm-11 1L8.5 8.5l.94-2.06 2.06-.94-2.06-.94L8.5 2.5l-.94 2.06-2.06.94zm10 10l.94 2.06.94-2.06 2.06-.94-2.06-.94-.94-2.06-.94 2.06-2.06.94z\"/><path d=\"M17.41 7.96l-1.37-1.37c-.4-.4-.92-.59-1.43-.59-.52 0-1.04.2-1.43.59L10.3 9.45l-7.72 7.72c-.78.78-.78 2.05 0 2.83L4 21.41c.39.39.9.59 1.41.59.51 0 1.02-.2 1.41-.59l7.78-7.78 2.81-2.81c.8-.78.8-2.07 0-2.86zM5.41 20L4 18.59l7.72-7.72 1.47 1.35L5.41 20z\"/>\n",
              "  </svg>\n",
              "      </button>\n",
              "      \n",
              "  <style>\n",
              "    .colab-df-container {\n",
              "      display:flex;\n",
              "      flex-wrap:wrap;\n",
              "      gap: 12px;\n",
              "    }\n",
              "\n",
              "    .colab-df-convert {\n",
              "      background-color: #E8F0FE;\n",
              "      border: none;\n",
              "      border-radius: 50%;\n",
              "      cursor: pointer;\n",
              "      display: none;\n",
              "      fill: #1967D2;\n",
              "      height: 32px;\n",
              "      padding: 0 0 0 0;\n",
              "      width: 32px;\n",
              "    }\n",
              "\n",
              "    .colab-df-convert:hover {\n",
              "      background-color: #E2EBFA;\n",
              "      box-shadow: 0px 1px 2px rgba(60, 64, 67, 0.3), 0px 1px 3px 1px rgba(60, 64, 67, 0.15);\n",
              "      fill: #174EA6;\n",
              "    }\n",
              "\n",
              "    [theme=dark] .colab-df-convert {\n",
              "      background-color: #3B4455;\n",
              "      fill: #D2E3FC;\n",
              "    }\n",
              "\n",
              "    [theme=dark] .colab-df-convert:hover {\n",
              "      background-color: #434B5C;\n",
              "      box-shadow: 0px 1px 3px 1px rgba(0, 0, 0, 0.15);\n",
              "      filter: drop-shadow(0px 1px 2px rgba(0, 0, 0, 0.3));\n",
              "      fill: #FFFFFF;\n",
              "    }\n",
              "  </style>\n",
              "\n",
              "      <script>\n",
              "        const buttonEl =\n",
              "          document.querySelector('#df-3861ff5f-6af4-4e98-998c-ca71ebe8346e button.colab-df-convert');\n",
              "        buttonEl.style.display =\n",
              "          google.colab.kernel.accessAllowed ? 'block' : 'none';\n",
              "\n",
              "        async function convertToInteractive(key) {\n",
              "          const element = document.querySelector('#df-3861ff5f-6af4-4e98-998c-ca71ebe8346e');\n",
              "          const dataTable =\n",
              "            await google.colab.kernel.invokeFunction('convertToInteractive',\n",
              "                                                     [key], {});\n",
              "          if (!dataTable) return;\n",
              "\n",
              "          const docLinkHtml = 'Like what you see? Visit the ' +\n",
              "            '<a target=\"_blank\" href=https://colab.research.google.com/notebooks/data_table.ipynb>data table notebook</a>'\n",
              "            + ' to learn more about interactive tables.';\n",
              "          element.innerHTML = '';\n",
              "          dataTable['output_type'] = 'display_data';\n",
              "          await google.colab.output.renderOutput(dataTable, element);\n",
              "          const docLink = document.createElement('div');\n",
              "          docLink.innerHTML = docLinkHtml;\n",
              "          element.appendChild(docLink);\n",
              "        }\n",
              "      </script>\n",
              "    </div>\n",
              "  </div>\n",
              "  "
            ]
          },
          "metadata": {},
          "execution_count": 6
        }
      ]
    },
    {
      "cell_type": "code",
      "source": [
        "df.to_csv('df_task_3_corrected.csv', index=False)"
      ],
      "metadata": {
        "id": "W5v8URtqdWwU"
      },
      "execution_count": 8,
      "outputs": []
    },
    {
      "cell_type": "code",
      "source": [
        "# get result RSIDs list 'Idlist'\n",
        "# total rs count \n",
        "rslist = (eSresult['IdList'])"
      ],
      "metadata": {
        "id": "JJDTAbYlD6qG"
      },
      "execution_count": 9,
      "outputs": []
    },
    {
      "cell_type": "code",
      "source": [
        "# retmax = 20 so print only 20 RSIDs\n",
        "# additional results can be retrieved by batches\n",
        "# download in batches example http://biopython.org/DIST/docs/tutorial/Tutorial.html#htoc139 or see below.\n",
        "for rs in rslist:\n",
        "    print(rs)"
      ],
      "metadata": {
        "colab": {
          "base_uri": "https://localhost:8080/"
        },
        "id": "_RX2fHstD_rc",
        "outputId": "08cfb84f-b88d-4574-fe9f-f911bcec567d"
      },
      "execution_count": 10,
      "outputs": [
        {
          "output_type": "stream",
          "name": "stdout",
          "text": [
            "1475014505\n",
            "766975615\n",
            "763410987\n",
            "751610198\n"
          ]
        }
      ]
    },
    {
      "cell_type": "code",
      "source": [
        "eSresult"
      ],
      "metadata": {
        "colab": {
          "base_uri": "https://localhost:8080/"
        },
        "id": "UCScwKQlFirg",
        "outputId": "baf31823-8a47-44ad-8708-df559f126856"
      },
      "execution_count": 11,
      "outputs": [
        {
          "output_type": "execute_result",
          "data": {
            "text/plain": [
              "{'Count': '4', 'RetMax': '4', 'RetStart': '0', 'QueryKey': '1', 'WebEnv': 'MCID_6483589e913c2e2a965ad91f', 'IdList': ['1475014505', '766975615', '763410987', '751610198'], 'TranslationSet': [], 'TranslationStack': [{'Term': 'CAD[All Fields]', 'Field': 'All Fields', 'Count': '12552', 'Explode': 'N'}, {'Term': 'pathogenic[Clinical_Significance]', 'Field': 'Clinical_Significance', 'Count': '130269', 'Explode': 'N'}, 'AND', {'Term': 'missense variant[Function_Class]', 'Field': 'Function_Class', 'Count': '10256260', 'Explode': 'N'}, 'AND'], 'QueryTranslation': 'CAD[All Fields] AND pathogenic[Clinical_Significance] AND missense variant[Function_Class]'}"
            ]
          },
          "metadata": {},
          "execution_count": 11
        }
      ]
    },
    {
      "cell_type": "code",
      "source": [
        "# get the WebEnv session cookie, and the QueryKey:\n",
        "\n",
        "webenv = eSresult[\"WebEnv\"]\n",
        "query_key = eSresult[\"QueryKey\"]\n",
        "total_count = int(eSresult[\"Count\"])\n",
        "query_key = eSresult[\"QueryKey\"]\n",
        "retmax =  2 # return 4 rs per batch example"
      ],
      "metadata": {
        "id": "AS-vs94DEKr1"
      },
      "execution_count": 12,
      "outputs": []
    },
    {
      "cell_type": "code",
      "source": [
        "# sample codes adopted with modifications from http://biopython.org/DIST/docs/tutorial/Tutorial.html#htoc139.\n",
        "fetch_count = 0\n",
        "for start in range(0, total_count, retmax):\n",
        "    end = min(total_count, start+retmax)\n",
        "    print(\"Going to download record %i to %i\" % (start+1, end))\n",
        "    attempt = 0\n",
        "    #fetch_count += 1\n",
        "    while (attempt < 3):\n",
        "        attempt += 1\n",
        "        try:\n",
        "            fetch_handle = Entrez.efetch(db=\"snp\",\n",
        "                                         #rettype=\"uilist\", #available types [uilist | xml (use retmode=xml))\n",
        "                                         retmode=\"xml\",\n",
        "                                        #  retmode=\"txt\",\n",
        "                                         retstart=start,\n",
        "                                         retmax=retmax,\n",
        "                                         webenv=webenv,\n",
        "                                         query_key=query_key )\n",
        "        except HTTPError as err:\n",
        "            if 500 <= err.code <= 599:\n",
        "                print(\"Received error from server %s\" % err)\n",
        "                print(\"Attempt %i of 3\" % attempt)\n",
        "                time.sleep(15)\n",
        "            else:\n",
        "                raise\n",
        "    if (fetch_handle):\n",
        "        #print(fetch_handle)            \n",
        "        data = fetch_handle.read()\n",
        "        print(data)\n",
        "        fetch_handle.close()"
      ],
      "metadata": {
        "colab": {
          "base_uri": "https://localhost:8080/"
        },
        "id": "pz8vecp8E81X",
        "outputId": "04c635e3-06bf-4fc0-9222-48eabce0722d"
      },
      "execution_count": 13,
      "outputs": [
        {
          "output_type": "stream",
          "name": "stdout",
          "text": [
            "Going to download record 1 to 2\n",
            "b'<?xml version=\"1.0\" ?>\\n<ExchangeSet xmlns:xsi=\"https://www.w3.org/2001/XMLSchema-instance\" xmlns=\"https://www.ncbi.nlm.nih.gov/SNP/docsum\" xsi:schemaLocation=\"https://www.ncbi.nlm.nih.gov/SNP/docsum ftp://ftp.ncbi.nlm.nih.gov/snp/specs/docsum_eutils.xsd\" ><DocumentSummary uid=\"1475014505\"><SNP_ID>1475014505</SNP_ID><ALLELE_ORIGIN/><GLOBAL_MAFS><MAF><STUDY>GnomAD</STUDY><FREQ>A=0.000007/1</FREQ></MAF><MAF><STUDY>TOMMO</STUDY><FREQ>T=0.00006/1</FREQ></MAF><MAF><STUDY>TOPMED</STUDY><FREQ>A=0.000004/1</FREQ></MAF><MAF><STUDY>ALFA</STUDY><FREQ>A=0./0</FREQ></MAF></GLOBAL_MAFS><GLOBAL_POPULATION/><GLOBAL_SAMPLESIZE>0</GLOBAL_SAMPLESIZE><SUSPECTED/><CLINICAL_SIGNIFICANCE>pathogenic</CLINICAL_SIGNIFICANCE><GENES><GENE_E><NAME>CAD</NAME><GENE_ID>790</GENE_ID></GENE_E></GENES><ACC>NC_000002.12</ACC><CHR>2</CHR><HANDLE>TOMMO_GENOMICS,GNOMAD,TOPMED</HANDLE><SPDI>NC_000002.12:27233314:G:A,NC_000002.12:27233314:G:T</SPDI><FXN_CLASS>coding_sequence_variant,missense_variant</FXN_CLASS><VALIDATED>by-frequency,by-alfa,by-cluster</VALIDATED><DOCSUM>HGVS=NC_000002.12:g.27233315G&gt;A,NC_000002.12:g.27233315G&gt;T,NC_000002.11:g.27456183G&gt;A,NC_000002.11:g.27456183G&gt;T,NG_046394.1:g.20926G&gt;A,NG_046394.1:g.20926G&gt;T,NM_004341.5:c.2995G&gt;A,NM_004341.5:c.2995G&gt;T,NM_004341.4:c.2995G&gt;A,NM_004341.4:c.2995G&gt;T,NM_004341.3:c.2995G&gt;A,NM_004341.3:c.2995G&gt;T,NM_001306079.2:c.2806G&gt;A,NM_001306079.2:c.2806G&gt;T,NM_001306079.1:c.2806G&gt;A,NM_001306079.1:c.2806G&gt;T,XM_006712101.4:c.2806G&gt;A,XM_006712101.4:c.2806G&gt;T,XM_006712101.3:c.2806G&gt;A,XM_006712101.3:c.2806G&gt;T,XM_006712101.2:c.2806G&gt;A,XM_006712101.2:c.2806G&gt;T,XM_006712101.1:c.2806G&gt;A,XM_006712101.1:c.2806G&gt;T,XM_047445803.1:c.2995G&gt;A,XM_047445803.1:c.2995G&gt;T,NP_004332.2:p.Val999Met,NP_004332.2:p.Val999Leu,NP_001293008.1:p.Val936Met,NP_001293008.1:p.Val936Leu,XP_006712164.1:p.Val936Met,XP_006712164.1:p.Val936Leu,XP_047301759.1:p.Val999Met,XP_047301759.1:p.Val999Leu|SEQ=[G/A/T]|LEN=1|GENE=CAD:790</DOCSUM><TAX_ID>9606</TAX_ID><ORIG_BUILD>155</ORIG_BUILD><UPD_BUILD>156</UPD_BUILD><CREATEDATE>2017/11/09 09:55</CREATEDATE><UPDATEDATE>2022/10/17 04:58</UPDATEDATE><SS>4037613773,4498327357,5150413276</SS><ALLELE>D</ALLELE><SNP_CLASS>snv</SNP_CLASS><CHRPOS>2:27233315</CHRPOS><CHRPOS_PREV_ASSM>2:27456183</CHRPOS_PREV_ASSM><TEXT/><SNP_ID_SORT>1475014505</SNP_ID_SORT><CLINICAL_SORT>1</CLINICAL_SORT><CITED_SORT/><CHRPOS_SORT>0027233315</CHRPOS_SORT><MERGED_SORT>0</MERGED_SORT></DocumentSummary>\\n<DocumentSummary uid=\"766975615\"><SNP_ID>766975615</SNP_ID><ALLELE_ORIGIN/><GLOBAL_MAFS><MAF><STUDY>ExAC</STUDY><FREQ>G=0.000008/1</FREQ></MAF></GLOBAL_MAFS><GLOBAL_POPULATION/><GLOBAL_SAMPLESIZE>0</GLOBAL_SAMPLESIZE><SUSPECTED/><CLINICAL_SIGNIFICANCE>pathogenic</CLINICAL_SIGNIFICANCE><GENES><GENE_E><NAME>CAD</NAME><GENE_ID>790</GENE_ID></GENE_E></GENES><ACC>NC_000002.12</ACC><CHR>2</CHR><HANDLE>EVA_EXAC,GNOMAD</HANDLE><SPDI>NC_000002.12:27242105:C:G,NC_000002.12:27242105:C:T</SPDI><FXN_CLASS>stop_gained,missense_variant,coding_sequence_variant</FXN_CLASS><VALIDATED>by-frequency,by-cluster</VALIDATED><DOCSUM>HGVS=NC_000002.12:g.27242106C&gt;G,NC_000002.12:g.27242106C&gt;T,NC_000002.11:g.27464974C&gt;G,NC_000002.11:g.27464974C&gt;T,NG_046394.1:g.29717C&gt;G,NG_046394.1:g.29717C&gt;T,NM_004341.5:c.6079C&gt;G,NM_004341.5:c.6079C&gt;T,NM_004341.4:c.6079C&gt;G,NM_004341.4:c.6079C&gt;T,NM_004341.3:c.6079C&gt;G,NM_004341.3:c.6079C&gt;T,NM_001306079.2:c.5890C&gt;G,NM_001306079.2:c.5890C&gt;T,NM_001306079.1:c.5890C&gt;G,NM_001306079.1:c.5890C&gt;T,XM_006712101.4:c.5941C&gt;G,XM_006712101.4:c.5941C&gt;T,XM_006712101.3:c.5941C&gt;G,XM_006712101.3:c.5941C&gt;T,XM_006712101.2:c.5941C&gt;G,XM_006712101.2:c.5941C&gt;T,XM_006712101.1:c.5941C&gt;G,XM_006712101.1:c.5941C&gt;T,XM_047445803.1:c.6130C&gt;G,XM_047445803.1:c.6130C&gt;T,NP_004332.2:p.Gln2027Glu,NP_004332.2:p.Gln2027Ter,NP_001293008.1:p.Gln1964Glu,NP_001293008.1:p.Gln1964Ter,XP_006712164.1:p.Gln1981Glu,XP_006712164.1:p.Gln1981Ter,XP_047301759.1:p.Gln2044Glu,XP_047301759.1:p.Gln2044Ter|SEQ=[C/G/T]|LEN=1|GENE=CAD:790</DOCSUM><TAX_ID>9606</TAX_ID><ORIG_BUILD>144</ORIG_BUILD><UPD_BUILD>156</UPD_BUILD><CREATEDATE>2015/04/01 22:25</CREATEDATE><UPDATEDATE>2022/10/17 04:58</UPDATEDATE><SS>1686229345,2732544023</SS><ALLELE>B</ALLELE><SNP_CLASS>snv</SNP_CLASS><CHRPOS>2:27242106</CHRPOS><CHRPOS_PREV_ASSM>2:27464974</CHRPOS_PREV_ASSM><TEXT/><SNP_ID_SORT>0766975615</SNP_ID_SORT><CLINICAL_SORT>1</CLINICAL_SORT><CITED_SORT/><CHRPOS_SORT>0027242106</CHRPOS_SORT><MERGED_SORT>0</MERGED_SORT></DocumentSummary>\\n</ExchangeSet>'\n",
            "Going to download record 3 to 4\n",
            "b'<?xml version=\"1.0\" ?>\\n<ExchangeSet xmlns:xsi=\"https://www.w3.org/2001/XMLSchema-instance\" xmlns=\"https://www.ncbi.nlm.nih.gov/SNP/docsum\" xsi:schemaLocation=\"https://www.ncbi.nlm.nih.gov/SNP/docsum ftp://ftp.ncbi.nlm.nih.gov/snp/specs/docsum_eutils.xsd\" ><DocumentSummary uid=\"763410987\"><SNP_ID>763410987</SNP_ID><ALLELE_ORIGIN/><GLOBAL_MAFS><MAF><STUDY>ExAC</STUDY><FREQ>A=0.000008/1</FREQ></MAF><MAF><STUDY>GnomAD</STUDY><FREQ>A=0.000014/2</FREQ></MAF><MAF><STUDY>GnomAD_exomes</STUDY><FREQ>A=0.000012/3</FREQ></MAF><MAF><STUDY>MGP</STUDY><FREQ>A=0.001873/1</FREQ></MAF><MAF><STUDY>TOPMED</STUDY><FREQ>A=0.000019/5</FREQ></MAF><MAF><STUDY>ALFA</STUDY><FREQ>A=0.000056/2</FREQ></MAF></GLOBAL_MAFS><GLOBAL_POPULATION/><GLOBAL_SAMPLESIZE>0</GLOBAL_SAMPLESIZE><SUSPECTED/><CLINICAL_SIGNIFICANCE>pathogenic,uncertain-significance</CLINICAL_SIGNIFICANCE><GENES><GENE_E><NAME>CAD</NAME><GENE_ID>790</GENE_ID></GENE_E></GENES><ACC>NC_000002.12</ACC><CHR>2</CHR><HANDLE>EVA_EXAC,EVA_MGP,TOPMED,GNOMAD</HANDLE><SPDI>NC_000002.12:27242097:G:A</SPDI><FXN_CLASS>missense_variant,coding_sequence_variant</FXN_CLASS><VALIDATED>by-frequency,by-alfa,by-cluster</VALIDATED><DOCSUM>HGVS=NC_000002.12:g.27242098G&gt;A,NC_000002.11:g.27464966G&gt;A,NG_046394.1:g.29709G&gt;A,NM_004341.5:c.6071G&gt;A,NM_004341.4:c.6071G&gt;A,NM_004341.3:c.6071G&gt;A,NM_001306079.2:c.5882G&gt;A,NM_001306079.1:c.5882G&gt;A,XM_006712101.4:c.5933G&gt;A,XM_006712101.3:c.5933G&gt;A,XM_006712101.2:c.5933G&gt;A,XM_006712101.1:c.5933G&gt;A,XM_047445803.1:c.6122G&gt;A,NP_004332.2:p.Arg2024Gln,NP_001293008.1:p.Arg1961Gln,XP_006712164.1:p.Arg1978Gln,XP_047301759.1:p.Arg2041Gln|SEQ=[G/A]|LEN=1|GENE=CAD:790</DOCSUM><TAX_ID>9606</TAX_ID><ORIG_BUILD>144</ORIG_BUILD><UPD_BUILD>156</UPD_BUILD><CREATEDATE>2015/04/01 22:25</CREATEDATE><UPDATEDATE>2022/10/17 04:58</UPDATEDATE><SS>1686229344,1710957387,2732544019,2746644387,2771085596,4498329457</SS><ALLELE>R</ALLELE><SNP_CLASS>snv</SNP_CLASS><CHRPOS>2:27242098</CHRPOS><CHRPOS_PREV_ASSM>2:27464966</CHRPOS_PREV_ASSM><TEXT/><SNP_ID_SORT>0763410987</SNP_ID_SORT><CLINICAL_SORT>1</CLINICAL_SORT><CITED_SORT/><CHRPOS_SORT>0027242098</CHRPOS_SORT><MERGED_SORT>0</MERGED_SORT></DocumentSummary>\\n<DocumentSummary uid=\"751610198\"><SNP_ID>751610198</SNP_ID><ALLELE_ORIGIN/><GLOBAL_MAFS><MAF><STUDY>ExAC</STUDY><FREQ>G=0.000009/1</FREQ></MAF><MAF><STUDY>GnomAD_exomes</STUDY><FREQ>G=0.000004/1</FREQ></MAF><MAF><STUDY>TOPMED</STUDY><FREQ>G=0.000004/1</FREQ></MAF><MAF><STUDY>ALFA</STUDY><FREQ>G=0./0</FREQ></MAF></GLOBAL_MAFS><GLOBAL_POPULATION/><GLOBAL_SAMPLESIZE>0</GLOBAL_SAMPLESIZE><SUSPECTED/><CLINICAL_SIGNIFICANCE>pathogenic-likely-pathogenic,pathogenic</CLINICAL_SIGNIFICANCE><GENES><GENE_E><NAME>CAD</NAME><GENE_ID>790</GENE_ID></GENE_E></GENES><ACC>NC_000002.12</ACC><CHR>2</CHR><HANDLE>HUMAN_LONGEVITY,GNOMAD,EVA_EXAC,TOPMED</HANDLE><SPDI>NC_000002.12:27217891:T:G</SPDI><FXN_CLASS>coding_sequence_variant,missense_variant</FXN_CLASS><VALIDATED>by-frequency,by-alfa,by-cluster</VALIDATED><DOCSUM>HGVS=NC_000002.12:g.27217892T&gt;G,NC_000002.11:g.27440760T&gt;G,NG_046394.1:g.5503T&gt;G,NM_004341.5:c.98T&gt;G,NM_004341.4:c.98T&gt;G,NM_004341.3:c.98T&gt;G,NM_001306079.2:c.98T&gt;G,NM_001306079.1:c.98T&gt;G,XM_006712101.4:c.98T&gt;G,XM_006712101.3:c.98T&gt;G,XM_006712101.2:c.98T&gt;G,XM_006712101.1:c.98T&gt;G,XM_047445803.1:c.98T&gt;G,NP_004332.2:p.Met33Arg,NP_001293008.1:p.Met33Arg,XP_006712164.1:p.Met33Arg,XP_047301759.1:p.Met33Arg|SEQ=[T/G]|LEN=1|GENE=CAD:790</DOCSUM><TAX_ID>9606</TAX_ID><ORIG_BUILD>144</ORIG_BUILD><UPD_BUILD>156</UPD_BUILD><CREATEDATE>2015/04/01 22:25</CREATEDATE><UPDATEDATE>2022/10/17 04:58</UPDATEDATE><SS>1686227663,2228516040,2732541597,4498323183</SS><ALLELE>K</ALLELE><SNP_CLASS>snv</SNP_CLASS><CHRPOS>2:27217892</CHRPOS><CHRPOS_PREV_ASSM>2:27440760</CHRPOS_PREV_ASSM><TEXT/><SNP_ID_SORT>0751610198</SNP_ID_SORT><CLINICAL_SORT>1</CLINICAL_SORT><CITED_SORT/><CHRPOS_SORT>0027217892</CHRPOS_SORT><MERGED_SORT>0</MERGED_SORT></DocumentSummary>\\n</ExchangeSet>'\n"
          ]
        }
      ]
    },
    {
      "cell_type": "markdown",
      "source": [
        "## Добавление мутаций в наш ген."
      ],
      "metadata": {
        "id": "ZXzT8klGEMmp"
      }
    },
    {
      "cell_type": "code",
      "source": [
        "origin_gene_seq = Seq(df['gene'][0]).complement()\n",
        "origin_gene_seq"
      ],
      "metadata": {
        "colab": {
          "base_uri": "https://localhost:8080/"
        },
        "id": "YaNTqoaHMOdH",
        "outputId": "82b7fcfb-d7ab-407e-dffb-f62f080b82ff"
      },
      "execution_count": 14,
      "outputs": [
        {
          "output_type": "execute_result",
          "data": {
            "text/plain": [
              "Seq('TCAGAGACGACGACGGCGGTTCGCGCGGGCTCCGAGGATGCGACGGCGCGGGCC...ATT')"
            ]
          },
          "metadata": {},
          "execution_count": 14
        }
      ]
    },
    {
      "cell_type": "markdown",
      "source": [
        "Найдём индекс для старт-кодона в нашей ДНК последовательности."
      ],
      "metadata": {
        "id": "dgRUz5ktLM2B"
      }
    },
    {
      "cell_type": "code",
      "source": [
        "start_codon_index = str(origin_gene_seq).find('ATG')\n",
        "start_codon_index"
      ],
      "metadata": {
        "colab": {
          "base_uri": "https://localhost:8080/"
        },
        "id": "VsjEdesPLMb4",
        "outputId": "4b35f872-8e36-4523-b701-e5128ce6675e"
      },
      "execution_count": 15,
      "outputs": [
        {
          "output_type": "execute_result",
          "data": {
            "text/plain": [
              "37"
            ]
          },
          "metadata": {},
          "execution_count": 15
        }
      ]
    },
    {
      "cell_type": "code",
      "source": [
        "origin_gene_seq[start_codon_index:]"
      ],
      "metadata": {
        "colab": {
          "base_uri": "https://localhost:8080/"
        },
        "id": "WH1KSN1pW25t",
        "outputId": "eea5e71f-bd0f-45ad-9b62-f2ef93a643b7"
      },
      "execution_count": 16,
      "outputs": [
        {
          "output_type": "execute_result",
          "data": {
            "text/plain": [
              "Seq('ATGCGACGGCGCGGGCCGAAGAGAGGTCGCGGGGCGCGGCAATCGGTGCACCTG...ATT')"
            ]
          },
          "metadata": {},
          "execution_count": 16
        }
      ]
    },
    {
      "cell_type": "code",
      "source": [
        "protein_seq_ = origin_gene_seq[start_codon_index:]\n",
        "protein_seq_"
      ],
      "metadata": {
        "colab": {
          "base_uri": "https://localhost:8080/"
        },
        "id": "beEKx12rMvtD",
        "outputId": "ac14c088-97d4-43fa-bb34-6d18803d5de2"
      },
      "execution_count": 17,
      "outputs": [
        {
          "output_type": "execute_result",
          "data": {
            "text/plain": [
              "Seq('ATGCGACGGCGCGGGCCGAAGAGAGGTCGCGGGGCGCGGCAATCGGTGCACCTG...ATT')"
            ]
          },
          "metadata": {},
          "execution_count": 17
        }
      ]
    },
    {
      "cell_type": "code",
      "source": [
        "mutable_seq = MutableSeq(protein_seq_)\n",
        "mutable_seq"
      ],
      "metadata": {
        "colab": {
          "base_uri": "https://localhost:8080/"
        },
        "id": "i4CYJkCKGT5n",
        "outputId": "949e882b-4eba-42ff-fe18-8db7030efc32"
      },
      "execution_count": 18,
      "outputs": [
        {
          "output_type": "execute_result",
          "data": {
            "text/plain": [
              "MutableSeq('ATGCGACGGCGCGGGCCGAAGAGAGGTCGCGGGGCGCGGCAATCGGTGCACCTG...ATT')"
            ]
          },
          "metadata": {},
          "execution_count": 18
        }
      ]
    },
    {
      "cell_type": "markdown",
      "source": [
        "## Nonsense"
      ],
      "metadata": {
        "id": "pFqpCPEIKNX5"
      }
    },
    {
      "cell_type": "markdown",
      "source": [
        "Поменяем какой-нибудь кодон после стартового на стоп-кодон."
      ],
      "metadata": {
        "id": "Xzzyz9VaLdyw"
      }
    },
    {
      "cell_type": "code",
      "source": [
        "stop_codon = 'UAA'"
      ],
      "metadata": {
        "id": "EiMb3o-fKLbZ"
      },
      "execution_count": 25,
      "outputs": []
    },
    {
      "cell_type": "code",
      "source": [
        "seq_ = Seq('UAA')\n",
        "seq_.transcribe().translate()"
      ],
      "metadata": {
        "colab": {
          "base_uri": "https://localhost:8080/"
        },
        "id": "eN-DLeLJUtDp",
        "outputId": "1e6ecb13-8ecb-4fc9-9ffd-051720bb3053"
      },
      "execution_count": 22,
      "outputs": [
        {
          "output_type": "execute_result",
          "data": {
            "text/plain": [
              "Seq('*')"
            ]
          },
          "metadata": {},
          "execution_count": 22
        }
      ]
    },
    {
      "cell_type": "markdown",
      "source": [
        "Рассмотрим нормальный белок."
      ],
      "metadata": {
        "id": "xOgRAp7eOHm9"
      }
    },
    {
      "cell_type": "code",
      "source": [
        "protein = protein_seq_.transcribe().translate()\n",
        "protein"
      ],
      "metadata": {
        "colab": {
          "base_uri": "https://localhost:8080/"
        },
        "id": "eraxR-IKNVIg",
        "outputId": "23b1c79d-6a7b-4aa7-f638-5e2717a44c91"
      },
      "execution_count": 23,
      "outputs": [
        {
          "output_type": "execute_result",
          "data": {
            "text/plain": [
              "Seq('MRRRGPKRGRGARQSVHLAEAARQECTKVTSNVRKGEEA*AGAETRGKGTAGIT...RTI')"
            ]
          },
          "metadata": {},
          "execution_count": 23
        }
      ]
    },
    {
      "cell_type": "code",
      "source": [
        "mutable_seq[9:12] = stop_codon\n",
        "\n",
        "nonsense_prot = mutable_seq.transcribe().translate()\n",
        "nonsense_prot"
      ],
      "metadata": {
        "colab": {
          "base_uri": "https://localhost:8080/"
        },
        "id": "RCzmYFG-KlR5",
        "outputId": "75445d42-f8dd-4f97-b9af-682b52d59b4a"
      },
      "execution_count": 26,
      "outputs": [
        {
          "output_type": "execute_result",
          "data": {
            "text/plain": [
              "MutableSeq('MRR*GPKRGRGARQSVHLAEAARQECTKVTSNVRKGEEA*AGAETRGKGTAGIT...RTI')"
            ]
          },
          "metadata": {},
          "execution_count": 26
        }
      ]
    },
    {
      "cell_type": "markdown",
      "source": [
        "На четвёртом триплете в нашем протеине появился стоп-кодон."
      ],
      "metadata": {
        "id": "KlNnQNcXTfEe"
      }
    },
    {
      "cell_type": "markdown",
      "source": [
        "##  Missense"
      ],
      "metadata": {
        "id": "QFLZwByxVLls"
      }
    },
    {
      "cell_type": "code",
      "source": [
        "mutable_seq = MutableSeq(protein_seq_)\n",
        "mutable_seq"
      ],
      "metadata": {
        "colab": {
          "base_uri": "https://localhost:8080/"
        },
        "id": "hLJ1gBX7YsJ9",
        "outputId": "97f45c9e-1348-44fd-bc40-e7815b8d9626"
      },
      "execution_count": null,
      "outputs": [
        {
          "output_type": "execute_result",
          "data": {
            "text/plain": [
              "MutableSeq('ATGCGACGGCGCGGGCCGAAGAGAGGTCGCGGGGCGCGGCAATCGGTGCACCTG...ATT')"
            ]
          },
          "metadata": {},
          "execution_count": 176
        }
      ]
    },
    {
      "cell_type": "code",
      "source": [
        "protein"
      ],
      "metadata": {
        "colab": {
          "base_uri": "https://localhost:8080/"
        },
        "id": "bGcJQPf-V_AR",
        "outputId": "015f844b-ceba-4254-f3bf-e0c5250b89c8"
      },
      "execution_count": null,
      "outputs": [
        {
          "output_type": "execute_result",
          "data": {
            "text/plain": [
              "Seq('MRRRGPKRGRGARQSVHLAEAARQECTKVTSNVRKGEEA*AGAETRGKGTAGIT...RTI')"
            ]
          },
          "metadata": {},
          "execution_count": 178
        }
      ]
    },
    {
      "cell_type": "markdown",
      "source": [
        "Заменим аминокислоту аргинин в 4-ой позиции протеина на глутамин."
      ],
      "metadata": {
        "id": "y4kJX80kXIh3"
      }
    },
    {
      "cell_type": "code",
      "source": [
        "mutable_seq[9:12] = 'CAA'\n",
        "\n",
        "\n",
        "missense_prot = mutable_seq.transcribe().translate()\n",
        "missense_prot"
      ],
      "metadata": {
        "colab": {
          "base_uri": "https://localhost:8080/"
        },
        "id": "sn9A61SbXvci",
        "outputId": "0f159d76-1593-4170-b5ad-959b5a141832"
      },
      "execution_count": null,
      "outputs": [
        {
          "output_type": "execute_result",
          "data": {
            "text/plain": [
              "MutableSeq('MRRQGPKRGRGARQSVHLAEAARQECTKVTSNVRKGEEA*AGAETRGKGTAGIT...RTI')"
            ]
          },
          "metadata": {},
          "execution_count": 185
        }
      ]
    },
    {
      "cell_type": "markdown",
      "source": [
        "Аминокислота была заменена."
      ],
      "metadata": {
        "id": "y9L184_TZoo0"
      }
    },
    {
      "cell_type": "markdown",
      "source": [
        "## Synonimic"
      ],
      "metadata": {
        "id": "DPlg9w6FZt5S"
      }
    },
    {
      "cell_type": "markdown",
      "source": [
        "![image.png](data:image/png;base64,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)"
      ],
      "metadata": {
        "id": "-O7YjCkzZ-P7"
      }
    },
    {
      "cell_type": "code",
      "source": [
        "mutable_seq = MutableSeq(protein_seq_)\n",
        "mutable_seq"
      ],
      "metadata": {
        "colab": {
          "base_uri": "https://localhost:8080/"
        },
        "id": "RxlHBaUoZ_uq",
        "outputId": "14ffc631-7fe4-47cb-d925-cac01d3d030e"
      },
      "execution_count": null,
      "outputs": [
        {
          "output_type": "execute_result",
          "data": {
            "text/plain": [
              "MutableSeq('ATGCGACGGCGCGGGCCGAAGAGAGGTCGCGGGGCGCGGCAATCGGTGCACCTG...ATT')"
            ]
          },
          "metadata": {},
          "execution_count": 186
        }
      ]
    },
    {
      "cell_type": "code",
      "source": [
        "mutable_seq[9:12]"
      ],
      "metadata": {
        "colab": {
          "base_uri": "https://localhost:8080/"
        },
        "id": "70PJkv6laVM5",
        "outputId": "8dfb4ea5-1809-47bc-8ca7-39b9a04da2f8"
      },
      "execution_count": null,
      "outputs": [
        {
          "output_type": "execute_result",
          "data": {
            "text/plain": [
              "MutableSeq('CGC')"
            ]
          },
          "metadata": {},
          "execution_count": 187
        }
      ]
    },
    {
      "cell_type": "code",
      "source": [
        "mutable_seq[9:12] = 'CGT'\n",
        "\n",
        "syn_prot = mutable_seq.transcribe().translate()\n",
        "syn_prot"
      ],
      "metadata": {
        "colab": {
          "base_uri": "https://localhost:8080/"
        },
        "id": "_BCUC7_2aZYT",
        "outputId": "7df699f6-78f8-48a7-c049-81baee840cfb"
      },
      "execution_count": null,
      "outputs": [
        {
          "output_type": "execute_result",
          "data": {
            "text/plain": [
              "MutableSeq('MRRRGPKRGRGARQSVHLAEAARQECTKVTSNVRKGEEA*AGAETRGKGTAGIT...RTI')"
            ]
          },
          "metadata": {},
          "execution_count": 188
        }
      ]
    },
    {
      "cell_type": "markdown",
      "source": [
        "Заменили последовательность на синонимичную."
      ],
      "metadata": {
        "id": "6PzTpsHLaqji"
      }
    },
    {
      "cell_type": "markdown",
      "source": [
        "## True silence"
      ],
      "metadata": {
        "id": "9_Sm0Ktda47g"
      }
    },
    {
      "cell_type": "code",
      "source": [
        "origin_gene_seq"
      ],
      "metadata": {
        "colab": {
          "base_uri": "https://localhost:8080/"
        },
        "id": "zFmS8QkHa8Hu",
        "outputId": "bec0622d-ae2b-44bb-9e86-dee087c762b9"
      },
      "execution_count": null,
      "outputs": [
        {
          "output_type": "execute_result",
          "data": {
            "text/plain": [
              "Seq('CAGAGACGACGACGGCGGTTCGCGCGGGCTCCGAGGATGCGACGGCGCGGGCCG...ATT')"
            ]
          },
          "metadata": {},
          "execution_count": 189
        }
      ]
    },
    {
      "cell_type": "code",
      "source": [
        "mutable_seq = MutableSeq(origin_gene_seq)\n",
        "mutable_seq[0: 3] = 'CGC'\n",
        "\n",
        "mutable_seq[start_codon_index:].transcribe().translate()"
      ],
      "metadata": {
        "colab": {
          "base_uri": "https://localhost:8080/"
        },
        "id": "BypaTgtecOS9",
        "outputId": "e827b493-0c28-4a82-9da8-8132170f91bd"
      },
      "execution_count": null,
      "outputs": [
        {
          "output_type": "execute_result",
          "data": {
            "text/plain": [
              "MutableSeq('MRRRGPKRGRGARQSVHLAEAARQECTKVTSNVRKGEEA*AGAETRGKGTAGIT...RTI')"
            ]
          },
          "metadata": {},
          "execution_count": 194
        }
      ]
    },
    {
      "cell_type": "code",
      "source": [
        "protein"
      ],
      "metadata": {
        "colab": {
          "base_uri": "https://localhost:8080/"
        },
        "id": "oeI0zkr1dAT-",
        "outputId": "dbf5048c-95fe-4574-c6dd-caa03d8ac3d3"
      },
      "execution_count": null,
      "outputs": [
        {
          "output_type": "execute_result",
          "data": {
            "text/plain": [
              "Seq('MRRRGPKRGRGARQSVHLAEAARQECTKVTSNVRKGEEA*AGAETRGKGTAGIT...RTI')"
            ]
          },
          "metadata": {},
          "execution_count": 195
        }
      ]
    },
    {
      "cell_type": "markdown",
      "source": [
        "Т.к. изменения произошли до старт кодона, то протеиновая последовательность аминокислот не изменилась."
      ],
      "metadata": {
        "id": "bnE41L_0dCoW"
      }
    }
  ]
}